{
  "nbformat": 4,
  "nbformat_minor": 0,
  "metadata": {
    "colab": {
      "name": "PCA.ipynb",
      "provenance": [],
      "collapsed_sections": [],
      "mount_file_id": "17PupAUxVAwxDFiCiVO1aHMDeiL6OY97t",
      "authorship_tag": "ABX9TyNqa8M0YT1RP4MXFbIozx/5",
      "include_colab_link": true
    },
    "kernelspec": {
      "name": "python3",
      "display_name": "Python 3"
    },
    "language_info": {
      "name": "python"
    }
  },
  "cells": [
    {
      "cell_type": "markdown",
      "metadata": {
        "id": "view-in-github",
        "colab_type": "text"
      },
      "source": [
        "<a href=\"https://colab.research.google.com/github/panahiparham/mlclass_proj_f2021/blob/main/Dimensionality_Reduction/PCA.ipynb\" target=\"_parent\"><img src=\"https://colab.research.google.com/assets/colab-badge.svg\" alt=\"Open In Colab\"/></a>"
      ]
    },
    {
      "cell_type": "code",
      "execution_count": 1,
      "metadata": {
        "id": "sFWyHSKT2ix4"
      },
      "outputs": [],
      "source": [
        "import numpy as np\n",
        "from sklearn.decomposition import PCA\n",
        "# from sklearn.decomposition import KernelPCA\n",
        "\n",
        "import pandas as pd\n",
        "import matplotlib.pyplot as plt"
      ]
    },
    {
      "cell_type": "markdown",
      "source": [
        "## QM9 features"
      ],
      "metadata": {
        "id": "seQtWLCGEDts"
      }
    },
    {
      "cell_type": "code",
      "source": [
        "qm9_features = np.load('/content/drive/MyDrive/Data Science @ SBU/Applied Machine Learning/project/qm9_preprocessed/qm9_features.npy')"
      ],
      "metadata": {
        "id": "nsghxBuo9vUy"
      },
      "execution_count": 2,
      "outputs": []
    },
    {
      "cell_type": "code",
      "source": [
        "qm9_features.shape"
      ],
      "metadata": {
        "colab": {
          "base_uri": "https://localhost:8080/"
        },
        "id": "ObbvJiOM-IzB",
        "outputId": "61c1d478-e33d-468b-bb68-4e849410044b"
      },
      "execution_count": 3,
      "outputs": [
        {
          "output_type": "execute_result",
          "data": {
            "text/plain": [
              "(133885, 163)"
            ]
          },
          "metadata": {},
          "execution_count": 3
        }
      ]
    },
    {
      "cell_type": "code",
      "source": [
        "pca = PCA(n_components=163)\n",
        "pca.fit(qm9_features)"
      ],
      "metadata": {
        "colab": {
          "base_uri": "https://localhost:8080/"
        },
        "id": "8oPOMAFZ-KHB",
        "outputId": "b5795448-eab5-4ae5-d48f-63f554e09a4e"
      },
      "execution_count": 4,
      "outputs": [
        {
          "output_type": "execute_result",
          "data": {
            "text/plain": [
              "PCA(n_components=163)"
            ]
          },
          "metadata": {},
          "execution_count": 4
        }
      ]
    },
    {
      "cell_type": "code",
      "source": [
        "x = np.arange(1, len(pca.explained_variance_ratio_)+1)\n",
        "y = np.cumsum(pca.explained_variance_ratio_)\n",
        "_ = plt.plot(x, y, marker='o')"
      ],
      "metadata": {
        "colab": {
          "base_uri": "https://localhost:8080/",
          "height": 265
        },
        "id": "7JkfA2TACl_D",
        "outputId": "093aa2fb-c0a6-4ef2-8a9d-0dc285028b07"
      },
      "execution_count": 5,
      "outputs": [
        {
          "output_type": "display_data",
          "data": {
            "image/png": "[encoded data removed]",
            "text/plain": [
              "<Figure size 432x288 with 1 Axes>"
            ]
          },
          "metadata": {
            "needs_background": "light"
          }
        }
      ]
    },
    {
      "cell_type": "code",
      "source": [
        "# 7 principal components contain over 50% of variability in data\n",
        "pca = PCA(n_components=0.5)\n",
        "pca.fit(qm9_features)\n",
        "print('preveserved variance ratio:', pca.explained_variance_ratio_.sum())\n",
        "qm9_features_50pca = pca.transform(qm9_features)\n",
        "\n",
        "\n",
        "print('compressed data shape:', qm9_features_50pca.shape)"
      ],
      "metadata": {
        "colab": {
          "base_uri": "https://localhost:8080/"
        },
        "id": "XKVuCwbCDr3l",
        "outputId": "0e1fff5d-a4d3-4f54-f6c1-054410fc76d1"
      },
      "execution_count": 6,
      "outputs": [
        {
          "output_type": "stream",
          "name": "stdout",
          "text": [
            "preveserved variance ratio: 0.5285992460995851\n",
            "compressed data shape: (133885, 7)\n"
          ]
        }
      ]
    },
    {
      "cell_type": "code",
      "source": [
        "# 37 principal components contain over 90% of variability in data\n",
        "pca = PCA(n_components=0.9)\n",
        "pca.fit(qm9_features)\n",
        "print('preveserved variance ratio:', pca.explained_variance_ratio_.sum())\n",
        "qm9_features_90pca = pca.transform(qm9_features)\n",
        "\n",
        "\n",
        "print('compressed data shape:', qm9_features_90pca.shape)"
      ],
      "metadata": {
        "colab": {
          "base_uri": "https://localhost:8080/"
        },
        "id": "jGm7H35sE9BM",
        "outputId": "769f3204-cb7e-4107-f0c7-55d050bc70f7"
      },
      "execution_count": 7,
      "outputs": [
        {
          "output_type": "stream",
          "name": "stdout",
          "text": [
            "preveserved variance ratio: 0.9028970964393384\n",
            "compressed data shape: (133885, 37)\n"
          ]
        }
      ]
    },
    {
      "cell_type": "code",
      "source": [
        "# 83 principal components contain over 99% of variability in data\n",
        "pca = PCA(n_components=0.99)\n",
        "pca.fit(qm9_features)\n",
        "print('preveserved variance ratio:', pca.explained_variance_ratio_.sum())\n",
        "qm9_features_99pca = pca.transform(qm9_features)\n",
        "\n",
        "\n",
        "print('compressed data shape:', qm9_features_99pca.shape)"
      ],
      "metadata": {
        "colab": {
          "base_uri": "https://localhost:8080/"
        },
        "id": "jHP_kjBBUEUw",
        "outputId": "4ce690b3-e501-4b21-92fe-108994bab66c"
      },
      "execution_count": 8,
      "outputs": [
        {
          "output_type": "stream",
          "name": "stdout",
          "text": [
            "preveserved variance ratio: 0.9900560543555306\n",
            "compressed data shape: (133885, 83)\n"
          ]
        }
      ]
    },
    {
      "cell_type": "code",
      "source": [
        "# QM9 too large for KPCA!\n",
        "\n",
        "# pca = KernelPCA(n_components=1, kernel='poly')\n",
        "# pca.fit(qm9_features)"
      ],
      "metadata": {
        "id": "-eFzrT-tIohq"
      },
      "execution_count": 9,
      "outputs": []
    },
    {
      "cell_type": "code",
      "source": [
        "# save to disk\n",
        "save_path = '/content/drive/MyDrive/Data Science @ SBU/Applied Machine Learning/project/Dimensionality Reduction/PCA_data'\n",
        "\n",
        "np.save(save_path + '/qm9_features_50pca.npy', qm9_features_50pca)\n",
        "np.save(save_path + '/qm9_features_90pca.npy', qm9_features_90pca)\n",
        "np.save(save_path + '/qm9_features_99pca.npy', qm9_features_99pca)"
      ],
      "metadata": {
        "id": "xs7VKyRSKYPF"
      },
      "execution_count": 10,
      "outputs": []
    },
    {
      "cell_type": "markdown",
      "source": [
        "Tox21 features"
      ],
      "metadata": {
        "id": "F_Dm2q5LMao3"
      }
    },
    {
      "cell_type": "code",
      "source": [
        "tox21_path = '/content/drive/MyDrive/Data Science @ SBU/Applied Machine Learning/project/tox21_preprocessed'\n",
        "tox21_features = pd.read_csv(tox21_path + '/tox21_x.csv').to_numpy()"
      ],
      "metadata": {
        "id": "YwsMwP6EMb_c"
      },
      "execution_count": 11,
      "outputs": []
    },
    {
      "cell_type": "code",
      "source": [
        "tox21_features.shape"
      ],
      "metadata": {
        "colab": {
          "base_uri": "https://localhost:8080/"
        },
        "id": "pGwP6eBPNWAM",
        "outputId": "bcf01075-723f-409c-d637-d3b85ba2d159"
      },
      "execution_count": 12,
      "outputs": [
        {
          "output_type": "execute_result",
          "data": {
            "text/plain": [
              "(7237, 190)"
            ]
          },
          "metadata": {},
          "execution_count": 12
        }
      ]
    },
    {
      "cell_type": "code",
      "source": [
        "pca = PCA(n_components=190)\n",
        "pca.fit(tox21_features)"
      ],
      "metadata": {
        "colab": {
          "base_uri": "https://localhost:8080/"
        },
        "id": "9p3-FfPNNk7M",
        "outputId": "eb8396e6-911d-40d7-9d0f-bae49e80fb98"
      },
      "execution_count": 13,
      "outputs": [
        {
          "output_type": "execute_result",
          "data": {
            "text/plain": [
              "PCA(n_components=190)"
            ]
          },
          "metadata": {},
          "execution_count": 13
        }
      ]
    },
    {
      "cell_type": "code",
      "source": [
        "x = np.arange(1, len(pca.explained_variance_ratio_)+1)\n",
        "y = np.cumsum(pca.explained_variance_ratio_)\n",
        "_ = plt.plot(x, y, marker='o')"
      ],
      "metadata": {
        "colab": {
          "base_uri": "https://localhost:8080/",
          "height": 265
        },
        "id": "8gQY1BLdOF3F",
        "outputId": "7dfc462d-7550-4448-b6d0-3dc46db8cc5e"
      },
      "execution_count": 14,
      "outputs": [
        {
          "output_type": "display_data",
          "data": {
            "image/png": "[encoded data removed]",
            "text/plain": [
              "<Figure size 432x288 with 1 Axes>"
            ]
          },
          "metadata": {
            "needs_background": "light"
          }
        }
      ]
    },
    {
      "cell_type": "code",
      "source": [
        "# 7 principal components contain over 50% of variability in data\n",
        "pca = PCA(n_components=0.5)\n",
        "pca.fit(tox21_features)\n",
        "print('preveserved variance ratio:', pca.explained_variance_ratio_.sum())\n",
        "tox21_features_50pca = pca.transform(tox21_features)\n",
        "\n",
        "\n",
        "print('compressed data shape:', tox21_features_50pca.shape)"
      ],
      "metadata": {
        "colab": {
          "base_uri": "https://localhost:8080/"
        },
        "id": "Xw7j830NOxfd",
        "outputId": "4e98e536-e32e-4bc2-8bd3-61ac09035d5c"
      },
      "execution_count": 15,
      "outputs": [
        {
          "output_type": "stream",
          "name": "stdout",
          "text": [
            "preveserved variance ratio: 0.5258448967656584\n",
            "compressed data shape: (7237, 7)\n"
          ]
        }
      ]
    },
    {
      "cell_type": "code",
      "source": [
        "# 48 principal components contain over 90% of variability in data\n",
        "pca = PCA(n_components=0.9)\n",
        "pca.fit(tox21_features)\n",
        "print('preveserved variance ratio:', pca.explained_variance_ratio_.sum())\n",
        "tox21_features_90pca = pca.transform(tox21_features)\n",
        "\n",
        "\n",
        "print('compressed data shape:', tox21_features_90pca.shape)"
      ],
      "metadata": {
        "colab": {
          "base_uri": "https://localhost:8080/"
        },
        "id": "3hFrB9bHOIKk",
        "outputId": "2047bb4a-a8fe-4f07-d571-8c1352aa4a74"
      },
      "execution_count": 16,
      "outputs": [
        {
          "output_type": "stream",
          "name": "stdout",
          "text": [
            "preveserved variance ratio: 0.9019823193149148\n",
            "compressed data shape: (7237, 48)\n"
          ]
        }
      ]
    },
    {
      "cell_type": "code",
      "source": [
        "# 119 principal components contain over 99% of variability in data\n",
        "pca = PCA(n_components=0.99)\n",
        "pca.fit(tox21_features)\n",
        "print('preveserved variance ratio:', pca.explained_variance_ratio_.sum())\n",
        "tox21_features_99pca = pca.transform(tox21_features)\n",
        "\n",
        "\n",
        "print('compressed data shape:', tox21_features_99pca.shape)"
      ],
      "metadata": {
        "colab": {
          "base_uri": "https://localhost:8080/"
        },
        "id": "pFNtRQORVa2A",
        "outputId": "50ec7e7c-b1c1-4121-d4fd-cf393b49fe3c"
      },
      "execution_count": 17,
      "outputs": [
        {
          "output_type": "stream",
          "name": "stdout",
          "text": [
            "preveserved variance ratio: 0.9900201019661304\n",
            "compressed data shape: (7237, 119)\n"
          ]
        }
      ]
    },
    {
      "cell_type": "code",
      "source": [
        "# save to disk\n",
        "save_path = '/content/drive/MyDrive/Data Science @ SBU/Applied Machine Learning/project/Dimensionality Reduction/PCA_data'\n",
        "\n",
        "np.save(save_path + '/tox21_features_50pca.npy', tox21_features_50pca)\n",
        "np.save(save_path + '/tox21_features_90pca.npy', tox21_features_90pca)\n",
        "np.save(save_path + '/tox21_features_99pca.npy', tox21_features_99pca)"
      ],
      "metadata": {
        "id": "KJAvkw6uRPCS"
      },
      "execution_count": 18,
      "outputs": []
    },
    {
      "cell_type": "markdown",
      "source": [
        "ToxCast features"
      ],
      "metadata": {
        "id": "WTj8WASDWRoS"
      }
    },
    {
      "cell_type": "code",
      "source": [
        "# TODO"
      ],
      "metadata": {
        "id": "NiIYpnxLWQnG"
      },
      "execution_count": null,
      "outputs": []
    }
  ]
}