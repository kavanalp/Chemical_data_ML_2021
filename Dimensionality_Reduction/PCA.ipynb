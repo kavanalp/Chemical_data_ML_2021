{
  "nbformat": 4,
  "nbformat_minor": 0,
  "metadata": {
    "colab": {
      "name": "PCA.ipynb",
      "provenance": [],
      "collapsed_sections": [],
      "mount_file_id": "17PupAUxVAwxDFiCiVO1aHMDeiL6OY97t",
      "authorship_tag": "ABX9TyMyAuYm/m9yUQVxf5N2Aq3q",
      "include_colab_link": true
    },
    "kernelspec": {
      "name": "python3",
      "display_name": "Python 3"
    },
    "language_info": {
      "name": "python"
    }
  },
  "cells": [
    {
      "cell_type": "markdown",
      "metadata": {
        "id": "view-in-github",
        "colab_type": "text"
      },
      "source": [
        "<a href=\"https://colab.research.google.com/github/panahiparham/mlclass_proj_f2021/blob/main/Dimensionality_Reduction/PCA.ipynb\" target=\"_parent\"><img src=\"https://colab.research.google.com/assets/colab-badge.svg\" alt=\"Open In Colab\"/></a>"
      ]
    },
    {
      "cell_type": "markdown",
      "source": [
        "Checking viability of PCA"
      ],
      "metadata": {
        "id": "6XG2G7rDaWAN"
      }
    },
    {
      "cell_type": "code",
      "execution_count": 19,
      "metadata": {
        "id": "sFWyHSKT2ix4"
      },
      "outputs": [],
      "source": [
        "import numpy as np\n",
        "from sklearn.decomposition import PCA\n",
        "# from sklearn.decomposition import KernelPCA\n",
        "\n",
        "import pandas as pd\n",
        "import matplotlib.pyplot as plt"
      ]
    },
    {
      "cell_type": "markdown",
      "source": [
        "## QM9 features"
      ],
      "metadata": {
        "id": "seQtWLCGEDts"
      }
    },
    {
      "cell_type": "code",
      "source": [
        "qm9_features = np.load('/content/drive/MyDrive/Data Science @ SBU/Applied Machine Learning/project/qm9_preprocessed/qm9_features.npy')"
      ],
      "metadata": {
        "id": "nsghxBuo9vUy"
      },
      "execution_count": 20,
      "outputs": []
    },
    {
      "cell_type": "code",
      "source": [
        "qm9_features.shape"
      ],
      "metadata": {
        "colab": {
          "base_uri": "https://localhost:8080/"
        },
        "id": "ObbvJiOM-IzB",
        "outputId": "dcf84795-d70e-44dc-d87a-0e92c6ec13f9"
      },
      "execution_count": 21,
      "outputs": [
        {
          "output_type": "execute_result",
          "data": {
            "text/plain": [
              "(133885, 163)"
            ]
          },
          "metadata": {},
          "execution_count": 21
        }
      ]
    },
    {
      "cell_type": "code",
      "source": [
        "pca = PCA(n_components=163)\n",
        "pca.fit(qm9_features)"
      ],
      "metadata": {
        "colab": {
          "base_uri": "https://localhost:8080/"
        },
        "id": "8oPOMAFZ-KHB",
        "outputId": "315f2119-9812-4831-99ba-1d818578f7e5"
      },
      "execution_count": 22,
      "outputs": [
        {
          "output_type": "execute_result",
          "data": {
            "text/plain": [
              "PCA(n_components=163)"
            ]
          },
          "metadata": {},
          "execution_count": 22
        }
      ]
    },
    {
      "cell_type": "code",
      "source": [
        "x = np.arange(1, len(pca.explained_variance_ratio_)+1)\n",
        "y = np.cumsum(pca.explained_variance_ratio_)\n",
        "_ = plt.plot(x, y, marker='o')"
      ],
      "metadata": {
        "colab": {
          "base_uri": "https://localhost:8080/",
          "height": 265
        },
        "id": "7JkfA2TACl_D",
        "outputId": "3185bbf0-a525-42f5-bbfb-181120b5b980"
      },
      "execution_count": 23,
      "outputs": [
        {
          "output_type": "display_data",
          "data": {
            "image/png": "[encoded data removed]",
            "text/plain": [
              "<Figure size 432x288 with 1 Axes>"
            ]
          },
          "metadata": {
            "needs_background": "light"
          }
        }
      ]
    },
    {
      "cell_type": "code",
      "source": [
        "# 7 principal components contain over 50% of variability in data\n",
        "pca = PCA(n_components=0.5)\n",
        "pca.fit(qm9_features)\n",
        "print('preveserved variance ratio:', pca.explained_variance_ratio_.sum())\n",
        "qm9_features_50pca = pca.transform(qm9_features)\n",
        "\n",
        "\n",
        "print('compressed data shape:', qm9_features_50pca.shape)"
      ],
      "metadata": {
        "colab": {
          "base_uri": "https://localhost:8080/"
        },
        "id": "XKVuCwbCDr3l",
        "outputId": "0b89468f-65d3-4d97-9921-b01d82e46706"
      },
      "execution_count": 24,
      "outputs": [
        {
          "output_type": "stream",
          "name": "stdout",
          "text": [
            "preveserved variance ratio: 0.5285992460995851\n",
            "compressed data shape: (133885, 7)\n"
          ]
        }
      ]
    },
    {
      "cell_type": "code",
      "source": [
        "# 37 principal components contain over 90% of variability in data\n",
        "pca = PCA(n_components=0.9)\n",
        "pca.fit(qm9_features)\n",
        "print('preveserved variance ratio:', pca.explained_variance_ratio_.sum())\n",
        "qm9_features_90pca = pca.transform(qm9_features)\n",
        "\n",
        "\n",
        "print('compressed data shape:', qm9_features_90pca.shape)"
      ],
      "metadata": {
        "colab": {
          "base_uri": "https://localhost:8080/"
        },
        "id": "jGm7H35sE9BM",
        "outputId": "2544d940-b259-4c24-fdba-ee8d6488caee"
      },
      "execution_count": 25,
      "outputs": [
        {
          "output_type": "stream",
          "name": "stdout",
          "text": [
            "preveserved variance ratio: 0.9028970964393384\n",
            "compressed data shape: (133885, 37)\n"
          ]
        }
      ]
    },
    {
      "cell_type": "code",
      "source": [
        "# 83 principal components contain over 99% of variability in data\n",
        "pca = PCA(n_components=0.99)\n",
        "pca.fit(qm9_features)\n",
        "print('preveserved variance ratio:', pca.explained_variance_ratio_.sum())\n",
        "qm9_features_99pca = pca.transform(qm9_features)\n",
        "\n",
        "\n",
        "print('compressed data shape:', qm9_features_99pca.shape)"
      ],
      "metadata": {
        "colab": {
          "base_uri": "https://localhost:8080/"
        },
        "id": "jHP_kjBBUEUw",
        "outputId": "aaf8b956-85e4-472d-a8c9-8cf28478ffd7"
      },
      "execution_count": 26,
      "outputs": [
        {
          "output_type": "stream",
          "name": "stdout",
          "text": [
            "preveserved variance ratio: 0.9900560543555306\n",
            "compressed data shape: (133885, 83)\n"
          ]
        }
      ]
    },
    {
      "cell_type": "markdown",
      "source": [
        "Tox21 features"
      ],
      "metadata": {
        "id": "F_Dm2q5LMao3"
      }
    },
    {
      "cell_type": "code",
      "source": [
        "tox21_path = '/content/drive/MyDrive/Data Science @ SBU/Applied Machine Learning/project/tox21_preprocessed'\n",
        "tox21_features = pd.read_csv(tox21_path + '/tox21_x.csv').to_numpy()"
      ],
      "metadata": {
        "id": "YwsMwP6EMb_c"
      },
      "execution_count": 27,
      "outputs": []
    },
    {
      "cell_type": "code",
      "source": [
        "tox21_features.shape"
      ],
      "metadata": {
        "colab": {
          "base_uri": "https://localhost:8080/"
        },
        "id": "pGwP6eBPNWAM",
        "outputId": "58fdc1bf-baa5-48f7-9a50-e7c37a051167"
      },
      "execution_count": 28,
      "outputs": [
        {
          "output_type": "execute_result",
          "data": {
            "text/plain": [
              "(7237, 190)"
            ]
          },
          "metadata": {},
          "execution_count": 28
        }
      ]
    },
    {
      "cell_type": "code",
      "source": [
        "pca = PCA(n_components=190)\n",
        "pca.fit(tox21_features)"
      ],
      "metadata": {
        "colab": {
          "base_uri": "https://localhost:8080/"
        },
        "id": "9p3-FfPNNk7M",
        "outputId": "c3958f83-af09-40f8-90a0-1217e5c1e1e3"
      },
      "execution_count": 29,
      "outputs": [
        {
          "output_type": "execute_result",
          "data": {
            "text/plain": [
              "PCA(n_components=190)"
            ]
          },
          "metadata": {},
          "execution_count": 29
        }
      ]
    },
    {
      "cell_type": "code",
      "source": [
        "x = np.arange(1, len(pca.explained_variance_ratio_)+1)\n",
        "y = np.cumsum(pca.explained_variance_ratio_)\n",
        "_ = plt.plot(x, y, marker='o')"
      ],
      "metadata": {
        "colab": {
          "base_uri": "https://localhost:8080/",
          "height": 265
        },
        "id": "8gQY1BLdOF3F",
        "outputId": "67e32327-8eb8-4c6e-e971-99b34e079871"
      },
      "execution_count": 30,
      "outputs": [
        {
          "output_type": "display_data",
          "data": {
            "image/png": "[encoded data removed]",
            "text/plain": [
              "<Figure size 432x288 with 1 Axes>"
            ]
          },
          "metadata": {
            "needs_background": "light"
          }
        }
      ]
    },
    {
      "cell_type": "code",
      "source": [
        "# 7 principal components contain over 50% of variability in data\n",
        "pca = PCA(n_components=0.5)\n",
        "pca.fit(tox21_features)\n",
        "print('preveserved variance ratio:', pca.explained_variance_ratio_.sum())\n",
        "tox21_features_50pca = pca.transform(tox21_features)\n",
        "\n",
        "\n",
        "print('compressed data shape:', tox21_features_50pca.shape)"
      ],
      "metadata": {
        "colab": {
          "base_uri": "https://localhost:8080/"
        },
        "id": "Xw7j830NOxfd",
        "outputId": "46ffeac2-be49-47f9-be2e-db6f1283c91c"
      },
      "execution_count": 31,
      "outputs": [
        {
          "output_type": "stream",
          "name": "stdout",
          "text": [
            "preveserved variance ratio: 0.5258448967656584\n",
            "compressed data shape: (7237, 7)\n"
          ]
        }
      ]
    },
    {
      "cell_type": "code",
      "source": [
        "# 48 principal components contain over 90% of variability in data\n",
        "pca = PCA(n_components=0.9)\n",
        "pca.fit(tox21_features)\n",
        "print('preveserved variance ratio:', pca.explained_variance_ratio_.sum())\n",
        "tox21_features_90pca = pca.transform(tox21_features)\n",
        "\n",
        "\n",
        "print('compressed data shape:', tox21_features_90pca.shape)"
      ],
      "metadata": {
        "colab": {
          "base_uri": "https://localhost:8080/"
        },
        "id": "3hFrB9bHOIKk",
        "outputId": "883c47b8-9e04-4b1a-88bb-35985562d3a4"
      },
      "execution_count": 32,
      "outputs": [
        {
          "output_type": "stream",
          "name": "stdout",
          "text": [
            "preveserved variance ratio: 0.9019823193149148\n",
            "compressed data shape: (7237, 48)\n"
          ]
        }
      ]
    },
    {
      "cell_type": "code",
      "source": [
        "# 119 principal components contain over 99% of variability in data\n",
        "pca = PCA(n_components=0.99)\n",
        "pca.fit(tox21_features)\n",
        "print('preveserved variance ratio:', pca.explained_variance_ratio_.sum())\n",
        "tox21_features_99pca = pca.transform(tox21_features)\n",
        "\n",
        "\n",
        "print('compressed data shape:', tox21_features_99pca.shape)"
      ],
      "metadata": {
        "colab": {
          "base_uri": "https://localhost:8080/"
        },
        "id": "pFNtRQORVa2A",
        "outputId": "6d0c93e9-9bab-4ab7-84a3-5ab862f9a044"
      },
      "execution_count": 33,
      "outputs": [
        {
          "output_type": "stream",
          "name": "stdout",
          "text": [
            "preveserved variance ratio: 0.9900201019661304\n",
            "compressed data shape: (7237, 119)\n"
          ]
        }
      ]
    },
    {
      "cell_type": "markdown",
      "source": [
        "ToxCast features"
      ],
      "metadata": {
        "id": "WTj8WASDWRoS"
      }
    },
    {
      "cell_type": "code",
      "source": [
        "toxcast_data = pd.read_csv('/content/drive/MyDrive/Data Science @ SBU/Applied Machine Learning/project/toxcast_preprocessed/final_toxcast.csv')\n",
        "toxcast_features = toxcast_data.drop(['label'], axis=1).to_numpy()"
      ],
      "metadata": {
        "id": "NiIYpnxLWQnG"
      },
      "execution_count": 48,
      "outputs": []
    },
    {
      "cell_type": "code",
      "source": [
        "toxcast_features.shape"
      ],
      "metadata": {
        "colab": {
          "base_uri": "https://localhost:8080/"
        },
        "id": "lgCrXSS7rdtk",
        "outputId": "7af11fda-b336-4f82-8a9d-8b877506228e"
      },
      "execution_count": 49,
      "outputs": [
        {
          "output_type": "execute_result",
          "data": {
            "text/plain": [
              "(7831, 135)"
            ]
          },
          "metadata": {},
          "execution_count": 49
        }
      ]
    },
    {
      "cell_type": "code",
      "source": [
        "pca = PCA(n_components=135)\n",
        "pca.fit(toxcast_features)"
      ],
      "metadata": {
        "colab": {
          "base_uri": "https://localhost:8080/"
        },
        "id": "Uoedy_QCrepz",
        "outputId": "d1587baa-91af-406e-dda1-0ac286b31494"
      },
      "execution_count": 50,
      "outputs": [
        {
          "output_type": "execute_result",
          "data": {
            "text/plain": [
              "PCA(n_components=135)"
            ]
          },
          "metadata": {},
          "execution_count": 50
        }
      ]
    },
    {
      "cell_type": "code",
      "source": [
        "x = np.arange(1, len(pca.explained_variance_ratio_)+1)\n",
        "y = np.cumsum(pca.explained_variance_ratio_)\n",
        "_ = plt.plot(x, y, marker='o')"
      ],
      "metadata": {
        "colab": {
          "base_uri": "https://localhost:8080/",
          "height": 265
        },
        "id": "acX_nQt3r-fT",
        "outputId": "79e55974-ff4c-40e8-adc9-618d38c39882"
      },
      "execution_count": 51,
      "outputs": [
        {
          "output_type": "display_data",
          "data": {
            "image/png": "[encoded data removed]",
            "text/plain": [
              "<Figure size 432x288 with 1 Axes>"
            ]
          },
          "metadata": {
            "needs_background": "light"
          }
        }
      ]
    },
    {
      "cell_type": "code",
      "source": [
        "# 10 principal components contain over 50% of variability in data\n",
        "pca = PCA(n_components=0.5)\n",
        "pca.fit(toxcast_features)\n",
        "print('preveserved variance ratio:', pca.explained_variance_ratio_.sum())\n",
        "toxcast_features_50pca = pca.transform(toxcast_features)\n",
        "\n",
        "\n",
        "print('compressed data shape:', toxcast_features_50pca.shape)"
      ],
      "metadata": {
        "colab": {
          "base_uri": "https://localhost:8080/"
        },
        "id": "FLgrc2SRsCob",
        "outputId": "8e110313-7616-44ee-831d-0bb714927f77"
      },
      "execution_count": 52,
      "outputs": [
        {
          "output_type": "stream",
          "name": "stdout",
          "text": [
            "preveserved variance ratio: 0.5227257987676648\n",
            "compressed data shape: (7831, 10)\n"
          ]
        }
      ]
    },
    {
      "cell_type": "code",
      "source": [
        "# 50 principal components contain over 90% of variability in data\n",
        "pca = PCA(n_components=0.9)\n",
        "pca.fit(toxcast_features)\n",
        "print('preveserved variance ratio:', pca.explained_variance_ratio_.sum())\n",
        "toxcast_features_90pca = pca.transform(toxcast_features)\n",
        "\n",
        "\n",
        "print('compressed data shape:', toxcast_features_90pca.shape)"
      ],
      "metadata": {
        "colab": {
          "base_uri": "https://localhost:8080/"
        },
        "id": "8q7b6k66sRJC",
        "outputId": "07a1934d-05fd-4f9f-9f88-b90171dfc8e6"
      },
      "execution_count": 53,
      "outputs": [
        {
          "output_type": "stream",
          "name": "stdout",
          "text": [
            "preveserved variance ratio: 0.9007746162469572\n",
            "compressed data shape: (7831, 50)\n"
          ]
        }
      ]
    },
    {
      "cell_type": "code",
      "source": [
        "# 104 principal components contain over 99% of variability in data\n",
        "pca = PCA(n_components=0.99)\n",
        "pca.fit(toxcast_features)\n",
        "print('preveserved variance ratio:', pca.explained_variance_ratio_.sum())\n",
        "toxcast_features_99pca = pca.transform(toxcast_features)\n",
        "\n",
        "\n",
        "print('compressed data shape:', toxcast_features_99pca.shape)"
      ],
      "metadata": {
        "colab": {
          "base_uri": "https://localhost:8080/"
        },
        "id": "VgK65VmcsXqr",
        "outputId": "aee9f200-066e-45ea-b94f-658278c953ba"
      },
      "execution_count": 54,
      "outputs": [
        {
          "output_type": "stream",
          "name": "stdout",
          "text": [
            "preveserved variance ratio: 0.9900114348029458\n",
            "compressed data shape: (7831, 104)\n"
          ]
        }
      ]
    }
  ]
}