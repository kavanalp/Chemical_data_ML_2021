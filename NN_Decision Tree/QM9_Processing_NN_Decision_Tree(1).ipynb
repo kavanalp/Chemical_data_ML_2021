{
 "cells": [
  {
   "cell_type": "markdown",
   "metadata": {
    "id": "Na3ef8sgbB7h"
   },
   "source": [
    "# Import required libraries :"
   ]
  },
  {
   "cell_type": "code",
   "execution_count": 1,
   "metadata": {
    "id": "suuDb9ioa7ER"
   },
   "outputs": [],
   "source": [
    "import numpy as np\n",
    "import pandas as pd\n",
    "import matplotlib.pyplot as plt\n",
    "import tensorflow as tf\n",
    "from tensorflow.keras import Model\n",
    "from tensorflow.keras.layers import Dense , Input , Dropout\n",
    "from tensorflow.keras.optimizers import Adam\n",
    "from sklearn.model_selection import StratifiedKFold\n",
    "from sklearn.model_selection import train_test_split\n",
    "from sklearn.tree import DecisionTreeRegressor\n",
    "from sklearn.metrics import mean_absolute_error , r2_score\n",
    "import seaborn as sns\n",
    "%matplotlib inline"
   ]
  },
  {
   "cell_type": "code",
   "execution_count": 2,
   "metadata": {
    "colab": {
     "base_uri": "https://localhost:8080/"
    },
    "id": "iRSWC7w4a_5X",
    "outputId": "5a5f6ecc-942e-4fea-e32b-1931204dbc6d"
   },
   "outputs": [
    {
     "name": "stdout",
     "output_type": "stream",
     "text": [
      "2.8.0\n"
     ]
    }
   ],
   "source": [
    "print(tf.__version__)"
   ]
  },
  {
   "cell_type": "markdown",
   "metadata": {
    "id": "wF6utpk_bdbU"
   },
   "source": [
    "# Import data :"
   ]
  },
  {
   "cell_type": "code",
   "execution_count": 3,
   "metadata": {
    "colab": {
     "base_uri": "https://localhost:8080/"
    },
    "id": "LxKRtbr4bbN3",
    "outputId": "570ab992-cf2b-4bab-99e8-1b53f2926c1b"
   },
   "outputs": [
    {
     "name": "stdout",
     "output_type": "stream",
     "text": [
      "Drive already mounted at /content/drive; to attempt to forcibly remount, call drive.mount(\"/content/drive\", force_remount=True).\n"
     ]
    }
   ],
   "source": [
    "from google.colab import drive\n",
    "drive.mount(\"/content/drive\")"
   ]
  },
  {
   "cell_type": "code",
   "execution_count": 4,
   "metadata": {
    "id": "DjGmtKOfbfl1"
   },
   "outputs": [],
   "source": [
    "df_x=pd.read_csv(\"/content/drive/MyDrive/QM9/qm9_preprocessed/qm9_features32.csv\")\n",
    "y=pd.read_csv(\"/content/drive/MyDrive/QM9/qm9_preprocessed/qm9_labels.csv\")"
   ]
  },
  {
   "cell_type": "code",
   "execution_count": 5,
   "metadata": {
    "colab": {
     "base_uri": "https://localhost:8080/",
     "height": 334
    },
    "id": "spNq-JIUkJ45",
    "outputId": "8c065db2-02a6-46f8-b2a7-a715e8d45039"
   },
   "outputs": [
    {
     "data": {
      "text/html": [
       "\n",
       "  <div id=\"df-3c1a7cc8-b95b-4c0e-a324-c84177cb8c24\">\n",
       "    <div class=\"colab-df-container\">\n",
       "      <div>\n",
       "<style scoped>\n",
       "    .dataframe tbody tr th:only-of-type {\n",
       "        vertical-align: middle;\n",
       "    }\n",
       "\n",
       "    .dataframe tbody tr th {\n",
       "        vertical-align: top;\n",
       "    }\n",
       "\n",
       "    .dataframe thead th {\n",
       "        text-align: right;\n",
       "    }\n",
       "</style>\n",
       "<table border=\"1\" class=\"dataframe\">\n",
       "  <thead>\n",
       "    <tr style=\"text-align: right;\">\n",
       "      <th></th>\n",
       "      <th>('BalabanJ', &lt;class 'numpy.float64'&gt;)</th>\n",
       "      <th>('BertzCT', &lt;class 'numpy.float64'&gt;)</th>\n",
       "      <th>('Chi0', &lt;class 'numpy.float64'&gt;)</th>\n",
       "      <th>('Chi0n', &lt;class 'numpy.float64'&gt;)</th>\n",
       "      <th>('Chi0v', &lt;class 'numpy.float64'&gt;)</th>\n",
       "      <th>('Chi1', &lt;class 'numpy.float64'&gt;)</th>\n",
       "      <th>('Chi1n', &lt;class 'numpy.float64'&gt;)</th>\n",
       "      <th>('Chi1v', &lt;class 'numpy.float64'&gt;)</th>\n",
       "      <th>('Chi2n', &lt;class 'numpy.float64'&gt;)</th>\n",
       "      <th>('Chi2v', &lt;class 'numpy.float64'&gt;)</th>\n",
       "      <th>('Chi3n', &lt;class 'numpy.float64'&gt;)</th>\n",
       "      <th>('Chi3v', &lt;class 'numpy.float64'&gt;)</th>\n",
       "      <th>('Chi4n', &lt;class 'numpy.float64'&gt;)</th>\n",
       "      <th>('Chi4v', &lt;class 'numpy.float64'&gt;)</th>\n",
       "      <th>('EState_VSA1', &lt;class 'numpy.float64'&gt;)</th>\n",
       "      <th>('EState_VSA10', &lt;class 'numpy.float64'&gt;)</th>\n",
       "      <th>('EState_VSA2', &lt;class 'numpy.float64'&gt;)</th>\n",
       "      <th>('EState_VSA3', &lt;class 'numpy.float64'&gt;)</th>\n",
       "      <th>('EState_VSA4', &lt;class 'numpy.float64'&gt;)</th>\n",
       "      <th>('EState_VSA5', &lt;class 'numpy.float64'&gt;)</th>\n",
       "      <th>('EState_VSA6', &lt;class 'numpy.float64'&gt;)</th>\n",
       "      <th>('EState_VSA7', &lt;class 'numpy.float64'&gt;)</th>\n",
       "      <th>('EState_VSA8', &lt;class 'numpy.float64'&gt;)</th>\n",
       "      <th>('EState_VSA9', &lt;class 'numpy.float64'&gt;)</th>\n",
       "      <th>('ExactMolWt', &lt;class 'numpy.float64'&gt;)</th>\n",
       "      <th>('FpDensityMorgan1', &lt;class 'numpy.float64'&gt;)</th>\n",
       "      <th>('FpDensityMorgan2', &lt;class 'numpy.float64'&gt;)</th>\n",
       "      <th>('FpDensityMorgan3', &lt;class 'numpy.float64'&gt;)</th>\n",
       "      <th>('FractionCSP3', &lt;class 'numpy.float64'&gt;)</th>\n",
       "      <th>('HallKierAlpha', &lt;class 'numpy.float64'&gt;)</th>\n",
       "      <th>('HeavyAtomCount', &lt;class 'numpy.float64'&gt;)</th>\n",
       "      <th>('HeavyAtomMolWt', &lt;class 'numpy.float64'&gt;)</th>\n",
       "      <th>('Kappa1', &lt;class 'numpy.float64'&gt;)</th>\n",
       "      <th>('Kappa2', &lt;class 'numpy.float64'&gt;)</th>\n",
       "      <th>('Kappa3', &lt;class 'numpy.float64'&gt;)</th>\n",
       "      <th>('LabuteASA', &lt;class 'numpy.float64'&gt;)</th>\n",
       "      <th>('MaxAbsEStateIndex', &lt;class 'numpy.float64'&gt;)</th>\n",
       "      <th>('MaxAbsPartialCharge', &lt;class 'numpy.float64'&gt;)</th>\n",
       "      <th>('MaxEStateIndex', &lt;class 'numpy.float64'&gt;)</th>\n",
       "      <th>('MaxPartialCharge', &lt;class 'numpy.float64'&gt;)</th>\n",
       "      <th>...</th>\n",
       "      <th>('fr_amide', &lt;class 'numpy.float64'&gt;)</th>\n",
       "      <th>('fr_amidine', &lt;class 'numpy.float64'&gt;)</th>\n",
       "      <th>('fr_aniline', &lt;class 'numpy.float64'&gt;)</th>\n",
       "      <th>('fr_aryl_methyl', &lt;class 'numpy.float64'&gt;)</th>\n",
       "      <th>('fr_benzene', &lt;class 'numpy.float64'&gt;)</th>\n",
       "      <th>('fr_bicyclic', &lt;class 'numpy.float64'&gt;)</th>\n",
       "      <th>('fr_dihydropyridine', &lt;class 'numpy.float64'&gt;)</th>\n",
       "      <th>('fr_epoxide', &lt;class 'numpy.float64'&gt;)</th>\n",
       "      <th>('fr_ester', &lt;class 'numpy.float64'&gt;)</th>\n",
       "      <th>('fr_ether', &lt;class 'numpy.float64'&gt;)</th>\n",
       "      <th>('fr_furan', &lt;class 'numpy.float64'&gt;)</th>\n",
       "      <th>('fr_guanido', &lt;class 'numpy.float64'&gt;)</th>\n",
       "      <th>('fr_halogen', &lt;class 'numpy.float64'&gt;)</th>\n",
       "      <th>('fr_imidazole', &lt;class 'numpy.float64'&gt;)</th>\n",
       "      <th>('fr_imide', &lt;class 'numpy.float64'&gt;)</th>\n",
       "      <th>('fr_ketone', &lt;class 'numpy.float64'&gt;)</th>\n",
       "      <th>('fr_ketone_Topliss', &lt;class 'numpy.float64'&gt;)</th>\n",
       "      <th>('fr_lactam', &lt;class 'numpy.float64'&gt;)</th>\n",
       "      <th>('fr_lactone', &lt;class 'numpy.float64'&gt;)</th>\n",
       "      <th>('fr_methoxy', &lt;class 'numpy.float64'&gt;)</th>\n",
       "      <th>('fr_morpholine', &lt;class 'numpy.float64'&gt;)</th>\n",
       "      <th>('fr_nitrile', &lt;class 'numpy.float64'&gt;)</th>\n",
       "      <th>('fr_nitro', &lt;class 'numpy.float64'&gt;)</th>\n",
       "      <th>('fr_nitro_arom', &lt;class 'numpy.float64'&gt;)</th>\n",
       "      <th>('fr_nitro_arom_nonortho', &lt;class 'numpy.float64'&gt;)</th>\n",
       "      <th>('fr_oxazole', &lt;class 'numpy.float64'&gt;)</th>\n",
       "      <th>('fr_oxime', &lt;class 'numpy.float64'&gt;)</th>\n",
       "      <th>('fr_para_hydroxylation', &lt;class 'numpy.float64'&gt;)</th>\n",
       "      <th>('fr_phenol', &lt;class 'numpy.float64'&gt;)</th>\n",
       "      <th>('fr_phenol_noOrthoHbond', &lt;class 'numpy.float64'&gt;)</th>\n",
       "      <th>('fr_piperdine', &lt;class 'numpy.float64'&gt;)</th>\n",
       "      <th>('fr_piperzine', &lt;class 'numpy.float64'&gt;)</th>\n",
       "      <th>('fr_priamide', &lt;class 'numpy.float64'&gt;)</th>\n",
       "      <th>('fr_pyridine', &lt;class 'numpy.float64'&gt;)</th>\n",
       "      <th>('fr_quatN', &lt;class 'numpy.float64'&gt;)</th>\n",
       "      <th>('fr_term_acetylene', &lt;class 'numpy.float64'&gt;)</th>\n",
       "      <th>('fr_tetrazole', &lt;class 'numpy.float64'&gt;)</th>\n",
       "      <th>('fr_unbrch_alkane', &lt;class 'numpy.float64'&gt;)</th>\n",
       "      <th>('fr_urea', &lt;class 'numpy.float64'&gt;)</th>\n",
       "      <th>('qed', &lt;class 'numpy.float64'&gt;)</th>\n",
       "    </tr>\n",
       "  </thead>\n",
       "  <tbody>\n",
       "    <tr>\n",
       "      <th>0</th>\n",
       "      <td>0.000020</td>\n",
       "      <td>0.000577</td>\n",
       "      <td>3.875255e-15</td>\n",
       "      <td>2.722966e-11</td>\n",
       "      <td>1.025154e-07</td>\n",
       "      <td>4.102548e-13</td>\n",
       "      <td>1.635214e-11</td>\n",
       "      <td>0.000019</td>\n",
       "      <td>0.000001</td>\n",
       "      <td>2.209078e-07</td>\n",
       "      <td>6.353499e-07</td>\n",
       "      <td>0.000003</td>\n",
       "      <td>0.000017</td>\n",
       "      <td>0.000013</td>\n",
       "      <td>4.074888e-10</td>\n",
       "      <td>2.175235e-08</td>\n",
       "      <td>0.263048</td>\n",
       "      <td>0.019674</td>\n",
       "      <td>2.509948e-11</td>\n",
       "      <td>9.258417e-11</td>\n",
       "      <td>5.856109e-17</td>\n",
       "      <td>0.000001</td>\n",
       "      <td>2.391450e-11</td>\n",
       "      <td>7.522456e-13</td>\n",
       "      <td>1.233457e-08</td>\n",
       "      <td>0.294906</td>\n",
       "      <td>0.009600</td>\n",
       "      <td>0.002319</td>\n",
       "      <td>9.993903e-01</td>\n",
       "      <td>0.988007</td>\n",
       "      <td>1.591864e-08</td>\n",
       "      <td>4.421801e-09</td>\n",
       "      <td>7.851986e-13</td>\n",
       "      <td>4.143328e-13</td>\n",
       "      <td>6.496181e-11</td>\n",
       "      <td>0.000004</td>\n",
       "      <td>0.007893</td>\n",
       "      <td>0.023999</td>\n",
       "      <td>0.007893</td>\n",
       "      <td>0.004593</td>\n",
       "      <td>...</td>\n",
       "      <td>7.139646e-07</td>\n",
       "      <td>2.641151e-12</td>\n",
       "      <td>0.099913</td>\n",
       "      <td>2.868092e-10</td>\n",
       "      <td>0.03473</td>\n",
       "      <td>1.875173e-18</td>\n",
       "      <td>7.105427e-15</td>\n",
       "      <td>0.499264</td>\n",
       "      <td>0.164929</td>\n",
       "      <td>1.317445e-17</td>\n",
       "      <td>2.111644e-16</td>\n",
       "      <td>1.168159e-09</td>\n",
       "      <td>3.259236e-22</td>\n",
       "      <td>0.165451</td>\n",
       "      <td>1.171103e-13</td>\n",
       "      <td>0.166925</td>\n",
       "      <td>0.0</td>\n",
       "      <td>5.100714e-08</td>\n",
       "      <td>7.105427e-15</td>\n",
       "      <td>0.154654</td>\n",
       "      <td>2.794209e-22</td>\n",
       "      <td>0.000000</td>\n",
       "      <td>0.16764</td>\n",
       "      <td>6.314993e-25</td>\n",
       "      <td>0.168186</td>\n",
       "      <td>0.168363</td>\n",
       "      <td>8.265423e-11</td>\n",
       "      <td>0.156346</td>\n",
       "      <td>0.0</td>\n",
       "      <td>0.0</td>\n",
       "      <td>2.388156e-20</td>\n",
       "      <td>0.0</td>\n",
       "      <td>8.336724e-25</td>\n",
       "      <td>0.156951</td>\n",
       "      <td>4.034345e-08</td>\n",
       "      <td>2.957989e-11</td>\n",
       "      <td>0.168378</td>\n",
       "      <td>4.703598e-08</td>\n",
       "      <td>0.166633</td>\n",
       "      <td>0.187493</td>\n",
       "    </tr>\n",
       "    <tr>\n",
       "      <th>1</th>\n",
       "      <td>0.000020</td>\n",
       "      <td>0.000577</td>\n",
       "      <td>3.875255e-15</td>\n",
       "      <td>2.722966e-11</td>\n",
       "      <td>1.025154e-07</td>\n",
       "      <td>4.102548e-13</td>\n",
       "      <td>1.635214e-11</td>\n",
       "      <td>0.000019</td>\n",
       "      <td>0.000001</td>\n",
       "      <td>2.209078e-07</td>\n",
       "      <td>6.353499e-07</td>\n",
       "      <td>0.000003</td>\n",
       "      <td>0.000017</td>\n",
       "      <td>0.000013</td>\n",
       "      <td>4.074888e-10</td>\n",
       "      <td>2.175235e-08</td>\n",
       "      <td>0.225297</td>\n",
       "      <td>0.019674</td>\n",
       "      <td>2.509948e-11</td>\n",
       "      <td>9.258417e-11</td>\n",
       "      <td>5.856109e-17</td>\n",
       "      <td>0.000001</td>\n",
       "      <td>2.391450e-11</td>\n",
       "      <td>7.522456e-13</td>\n",
       "      <td>1.672379e-08</td>\n",
       "      <td>0.294906</td>\n",
       "      <td>0.009600</td>\n",
       "      <td>0.002319</td>\n",
       "      <td>2.155533e-14</td>\n",
       "      <td>0.987224</td>\n",
       "      <td>1.591864e-08</td>\n",
       "      <td>9.627181e-09</td>\n",
       "      <td>7.851986e-13</td>\n",
       "      <td>4.143328e-13</td>\n",
       "      <td>6.496181e-11</td>\n",
       "      <td>0.000004</td>\n",
       "      <td>0.007893</td>\n",
       "      <td>0.150985</td>\n",
       "      <td>0.007893</td>\n",
       "      <td>0.004593</td>\n",
       "      <td>...</td>\n",
       "      <td>7.139646e-07</td>\n",
       "      <td>2.641151e-12</td>\n",
       "      <td>0.099913</td>\n",
       "      <td>2.868092e-10</td>\n",
       "      <td>0.03473</td>\n",
       "      <td>1.875173e-18</td>\n",
       "      <td>7.105427e-15</td>\n",
       "      <td>0.499264</td>\n",
       "      <td>0.164929</td>\n",
       "      <td>1.317445e-17</td>\n",
       "      <td>2.111644e-16</td>\n",
       "      <td>1.168159e-09</td>\n",
       "      <td>3.259236e-22</td>\n",
       "      <td>0.165451</td>\n",
       "      <td>1.171103e-13</td>\n",
       "      <td>0.166925</td>\n",
       "      <td>0.0</td>\n",
       "      <td>5.100714e-08</td>\n",
       "      <td>7.105427e-15</td>\n",
       "      <td>0.154654</td>\n",
       "      <td>2.794209e-22</td>\n",
       "      <td>0.000000</td>\n",
       "      <td>0.16764</td>\n",
       "      <td>6.314993e-25</td>\n",
       "      <td>0.168186</td>\n",
       "      <td>0.168363</td>\n",
       "      <td>8.265423e-11</td>\n",
       "      <td>0.156346</td>\n",
       "      <td>0.0</td>\n",
       "      <td>0.0</td>\n",
       "      <td>2.388156e-20</td>\n",
       "      <td>0.0</td>\n",
       "      <td>8.336724e-25</td>\n",
       "      <td>0.156951</td>\n",
       "      <td>4.034345e-08</td>\n",
       "      <td>2.957989e-11</td>\n",
       "      <td>0.168378</td>\n",
       "      <td>4.703598e-08</td>\n",
       "      <td>0.166633</td>\n",
       "      <td>0.228070</td>\n",
       "    </tr>\n",
       "    <tr>\n",
       "      <th>2</th>\n",
       "      <td>0.000020</td>\n",
       "      <td>0.000577</td>\n",
       "      <td>3.875255e-15</td>\n",
       "      <td>2.722966e-11</td>\n",
       "      <td>1.025154e-07</td>\n",
       "      <td>4.102548e-13</td>\n",
       "      <td>1.635214e-11</td>\n",
       "      <td>0.000019</td>\n",
       "      <td>0.000001</td>\n",
       "      <td>2.209078e-07</td>\n",
       "      <td>6.353499e-07</td>\n",
       "      <td>0.000003</td>\n",
       "      <td>0.000017</td>\n",
       "      <td>0.000013</td>\n",
       "      <td>4.074888e-10</td>\n",
       "      <td>2.175235e-08</td>\n",
       "      <td>0.207108</td>\n",
       "      <td>0.019674</td>\n",
       "      <td>2.509948e-11</td>\n",
       "      <td>9.258417e-11</td>\n",
       "      <td>5.856109e-17</td>\n",
       "      <td>0.000001</td>\n",
       "      <td>2.391450e-11</td>\n",
       "      <td>7.522456e-13</td>\n",
       "      <td>2.227427e-08</td>\n",
       "      <td>0.294906</td>\n",
       "      <td>0.009600</td>\n",
       "      <td>0.002319</td>\n",
       "      <td>2.155533e-14</td>\n",
       "      <td>0.987224</td>\n",
       "      <td>1.591864e-08</td>\n",
       "      <td>1.910802e-08</td>\n",
       "      <td>7.851986e-13</td>\n",
       "      <td>4.143328e-13</td>\n",
       "      <td>6.496181e-11</td>\n",
       "      <td>0.000004</td>\n",
       "      <td>0.007893</td>\n",
       "      <td>0.301696</td>\n",
       "      <td>0.007893</td>\n",
       "      <td>0.004593</td>\n",
       "      <td>...</td>\n",
       "      <td>7.139646e-07</td>\n",
       "      <td>2.641151e-12</td>\n",
       "      <td>0.099913</td>\n",
       "      <td>2.868092e-10</td>\n",
       "      <td>0.03473</td>\n",
       "      <td>1.875173e-18</td>\n",
       "      <td>7.105427e-15</td>\n",
       "      <td>0.499264</td>\n",
       "      <td>0.164929</td>\n",
       "      <td>1.317445e-17</td>\n",
       "      <td>2.111644e-16</td>\n",
       "      <td>1.168159e-09</td>\n",
       "      <td>3.259236e-22</td>\n",
       "      <td>0.165451</td>\n",
       "      <td>1.171103e-13</td>\n",
       "      <td>0.166925</td>\n",
       "      <td>0.0</td>\n",
       "      <td>5.100714e-08</td>\n",
       "      <td>7.105427e-15</td>\n",
       "      <td>0.154654</td>\n",
       "      <td>2.794209e-22</td>\n",
       "      <td>0.000000</td>\n",
       "      <td>0.16764</td>\n",
       "      <td>6.314993e-25</td>\n",
       "      <td>0.168186</td>\n",
       "      <td>0.168363</td>\n",
       "      <td>8.265423e-11</td>\n",
       "      <td>0.156346</td>\n",
       "      <td>0.0</td>\n",
       "      <td>0.0</td>\n",
       "      <td>2.388156e-20</td>\n",
       "      <td>0.0</td>\n",
       "      <td>8.336724e-25</td>\n",
       "      <td>0.156951</td>\n",
       "      <td>4.034345e-08</td>\n",
       "      <td>2.957989e-11</td>\n",
       "      <td>0.168378</td>\n",
       "      <td>4.703598e-08</td>\n",
       "      <td>0.166633</td>\n",
       "      <td>0.156089</td>\n",
       "    </tr>\n",
       "    <tr>\n",
       "      <th>3</th>\n",
       "      <td>0.974937</td>\n",
       "      <td>0.000625</td>\n",
       "      <td>1.574798e-06</td>\n",
       "      <td>2.191668e-09</td>\n",
       "      <td>2.296717e-07</td>\n",
       "      <td>1.101185e-06</td>\n",
       "      <td>1.498512e-07</td>\n",
       "      <td>0.000038</td>\n",
       "      <td>0.000001</td>\n",
       "      <td>2.209078e-07</td>\n",
       "      <td>6.353499e-07</td>\n",
       "      <td>0.000003</td>\n",
       "      <td>0.000017</td>\n",
       "      <td>0.000013</td>\n",
       "      <td>4.074888e-10</td>\n",
       "      <td>2.175235e-08</td>\n",
       "      <td>0.100218</td>\n",
       "      <td>0.019674</td>\n",
       "      <td>2.509948e-11</td>\n",
       "      <td>9.258417e-11</td>\n",
       "      <td>5.856109e-17</td>\n",
       "      <td>0.000001</td>\n",
       "      <td>4.035235e-01</td>\n",
       "      <td>7.522456e-13</td>\n",
       "      <td>1.537251e-07</td>\n",
       "      <td>0.294906</td>\n",
       "      <td>0.009600</td>\n",
       "      <td>0.002319</td>\n",
       "      <td>2.155533e-14</td>\n",
       "      <td>0.976044</td>\n",
       "      <td>5.669847e-07</td>\n",
       "      <td>1.650411e-07</td>\n",
       "      <td>7.851986e-13</td>\n",
       "      <td>2.687182e-07</td>\n",
       "      <td>6.496181e-11</td>\n",
       "      <td>0.000004</td>\n",
       "      <td>0.012900</td>\n",
       "      <td>0.031005</td>\n",
       "      <td>0.012900</td>\n",
       "      <td>0.004593</td>\n",
       "      <td>...</td>\n",
       "      <td>7.139646e-07</td>\n",
       "      <td>2.641151e-12</td>\n",
       "      <td>0.099913</td>\n",
       "      <td>2.868092e-10</td>\n",
       "      <td>0.03473</td>\n",
       "      <td>1.875173e-18</td>\n",
       "      <td>7.105427e-15</td>\n",
       "      <td>0.499264</td>\n",
       "      <td>0.164929</td>\n",
       "      <td>1.317445e-17</td>\n",
       "      <td>2.111644e-16</td>\n",
       "      <td>1.168159e-09</td>\n",
       "      <td>3.259236e-22</td>\n",
       "      <td>0.165451</td>\n",
       "      <td>1.171103e-13</td>\n",
       "      <td>0.166925</td>\n",
       "      <td>0.0</td>\n",
       "      <td>5.100714e-08</td>\n",
       "      <td>7.105427e-15</td>\n",
       "      <td>0.154654</td>\n",
       "      <td>2.794209e-22</td>\n",
       "      <td>0.000000</td>\n",
       "      <td>0.16764</td>\n",
       "      <td>6.314993e-25</td>\n",
       "      <td>0.168186</td>\n",
       "      <td>0.168363</td>\n",
       "      <td>8.265423e-11</td>\n",
       "      <td>0.156346</td>\n",
       "      <td>0.0</td>\n",
       "      <td>0.0</td>\n",
       "      <td>2.388156e-20</td>\n",
       "      <td>0.0</td>\n",
       "      <td>8.336724e-25</td>\n",
       "      <td>0.156951</td>\n",
       "      <td>4.034345e-08</td>\n",
       "      <td>1.000000e+00</td>\n",
       "      <td>0.168378</td>\n",
       "      <td>4.703598e-08</td>\n",
       "      <td>0.166633</td>\n",
       "      <td>0.160976</td>\n",
       "    </tr>\n",
       "    <tr>\n",
       "      <th>4</th>\n",
       "      <td>0.974937</td>\n",
       "      <td>0.000646</td>\n",
       "      <td>1.574798e-06</td>\n",
       "      <td>7.501717e-11</td>\n",
       "      <td>1.174156e-07</td>\n",
       "      <td>1.101185e-06</td>\n",
       "      <td>5.282567e-08</td>\n",
       "      <td>0.000033</td>\n",
       "      <td>0.000001</td>\n",
       "      <td>2.209078e-07</td>\n",
       "      <td>6.353499e-07</td>\n",
       "      <td>0.000003</td>\n",
       "      <td>0.000017</td>\n",
       "      <td>0.000013</td>\n",
       "      <td>4.074888e-10</td>\n",
       "      <td>2.175235e-08</td>\n",
       "      <td>0.100218</td>\n",
       "      <td>0.019674</td>\n",
       "      <td>2.509948e-11</td>\n",
       "      <td>9.258417e-11</td>\n",
       "      <td>5.856109e-17</td>\n",
       "      <td>0.000001</td>\n",
       "      <td>2.100577e-01</td>\n",
       "      <td>3.793648e-01</td>\n",
       "      <td>1.881504e-07</td>\n",
       "      <td>0.974430</td>\n",
       "      <td>0.107799</td>\n",
       "      <td>0.011584</td>\n",
       "      <td>2.155533e-14</td>\n",
       "      <td>0.973281</td>\n",
       "      <td>5.669847e-07</td>\n",
       "      <td>2.543484e-07</td>\n",
       "      <td>7.851986e-13</td>\n",
       "      <td>7.995556e-08</td>\n",
       "      <td>6.496181e-11</td>\n",
       "      <td>0.000004</td>\n",
       "      <td>0.019972</td>\n",
       "      <td>0.050292</td>\n",
       "      <td>0.019972</td>\n",
       "      <td>0.016592</td>\n",
       "      <td>...</td>\n",
       "      <td>7.139646e-07</td>\n",
       "      <td>2.641151e-12</td>\n",
       "      <td>0.099913</td>\n",
       "      <td>2.868092e-10</td>\n",
       "      <td>0.03473</td>\n",
       "      <td>1.875173e-18</td>\n",
       "      <td>7.105427e-15</td>\n",
       "      <td>0.499264</td>\n",
       "      <td>0.164929</td>\n",
       "      <td>1.317445e-17</td>\n",
       "      <td>2.111644e-16</td>\n",
       "      <td>1.168159e-09</td>\n",
       "      <td>3.259236e-22</td>\n",
       "      <td>0.165451</td>\n",
       "      <td>1.171103e-13</td>\n",
       "      <td>0.166925</td>\n",
       "      <td>0.0</td>\n",
       "      <td>5.100714e-08</td>\n",
       "      <td>7.105427e-15</td>\n",
       "      <td>0.154654</td>\n",
       "      <td>2.794209e-22</td>\n",
       "      <td>0.975564</td>\n",
       "      <td>0.16764</td>\n",
       "      <td>6.314993e-25</td>\n",
       "      <td>0.168186</td>\n",
       "      <td>0.168363</td>\n",
       "      <td>8.265423e-11</td>\n",
       "      <td>0.156346</td>\n",
       "      <td>0.0</td>\n",
       "      <td>0.0</td>\n",
       "      <td>2.388156e-20</td>\n",
       "      <td>0.0</td>\n",
       "      <td>8.336724e-25</td>\n",
       "      <td>0.156951</td>\n",
       "      <td>4.034345e-08</td>\n",
       "      <td>2.957989e-11</td>\n",
       "      <td>0.168378</td>\n",
       "      <td>4.703598e-08</td>\n",
       "      <td>0.166633</td>\n",
       "      <td>0.197878</td>\n",
       "    </tr>\n",
       "  </tbody>\n",
       "</table>\n",
       "<p>5 rows × 163 columns</p>\n",
       "</div>\n",
       "      <button class=\"colab-df-convert\" onclick=\"convertToInteractive('df-3c1a7cc8-b95b-4c0e-a324-c84177cb8c24')\"\n",
       "              title=\"Convert this dataframe to an interactive table.\"\n",
       "              style=\"display:none;\">\n",
       "        \n",
       "  <svg xmlns=\"http://www.w3.org/2000/svg\" height=\"24px\"viewBox=\"0 0 24 24\"\n",
       "       width=\"24px\">\n",
       "    <path d=\"M0 0h24v24H0V0z\" fill=\"none\"/>\n",
       "    <path d=\"M18.56 5.44l.94 2.06.94-2.06 2.06-.94-2.06-.94-.94-2.06-.94 2.06-2.06.94zm-11 1L8.5 8.5l.94-2.06 2.06-.94-2.06-.94L8.5 2.5l-.94 2.06-2.06.94zm10 10l.94 2.06.94-2.06 2.06-.94-2.06-.94-.94-2.06-.94 2.06-2.06.94z\"/><path d=\"M17.41 7.96l-1.37-1.37c-.4-.4-.92-.59-1.43-.59-.52 0-1.04.2-1.43.59L10.3 9.45l-7.72 7.72c-.78.78-.78 2.05 0 2.83L4 21.41c.39.39.9.59 1.41.59.51 0 1.02-.2 1.41-.59l7.78-7.78 2.81-2.81c.8-.78.8-2.07 0-2.86zM5.41 20L4 18.59l7.72-7.72 1.47 1.35L5.41 20z\"/>\n",
       "  </svg>\n",
       "      </button>\n",
       "      \n",
       "  <style>\n",
       "    .colab-df-container {\n",
       "      display:flex;\n",
       "      flex-wrap:wrap;\n",
       "      gap: 12px;\n",
       "    }\n",
       "\n",
       "    .colab-df-convert {\n",
       "      background-color: #E8F0FE;\n",
       "      border: none;\n",
       "      border-radius: 50%;\n",
       "      cursor: pointer;\n",
       "      display: none;\n",
       "      fill: #1967D2;\n",
       "      height: 32px;\n",
       "      padding: 0 0 0 0;\n",
       "      width: 32px;\n",
       "    }\n",
       "\n",
       "    .colab-df-convert:hover {\n",
       "      background-color: #E2EBFA;\n",
       "      box-shadow: 0px 1px 2px rgba(60, 64, 67, 0.3), 0px 1px 3px 1px rgba(60, 64, 67, 0.15);\n",
       "      fill: #174EA6;\n",
       "    }\n",
       "\n",
       "    [theme=dark] .colab-df-convert {\n",
       "      background-color: #3B4455;\n",
       "      fill: #D2E3FC;\n",
       "    }\n",
       "\n",
       "    [theme=dark] .colab-df-convert:hover {\n",
       "      background-color: #434B5C;\n",
       "      box-shadow: 0px 1px 3px 1px rgba(0, 0, 0, 0.15);\n",
       "      filter: drop-shadow(0px 1px 2px rgba(0, 0, 0, 0.3));\n",
       "      fill: #FFFFFF;\n",
       "    }\n",
       "  </style>\n",
       "\n",
       "      <script>\n",
       "        const buttonEl =\n",
       "          document.querySelector('#df-3c1a7cc8-b95b-4c0e-a324-c84177cb8c24 button.colab-df-convert');\n",
       "        buttonEl.style.display =\n",
       "          google.colab.kernel.accessAllowed ? 'block' : 'none';\n",
       "\n",
       "        async function convertToInteractive(key) {\n",
       "          const element = document.querySelector('#df-3c1a7cc8-b95b-4c0e-a324-c84177cb8c24');\n",
       "          const dataTable =\n",
       "            await google.colab.kernel.invokeFunction('convertToInteractive',\n",
       "                                                     [key], {});\n",
       "          if (!dataTable) return;\n",
       "\n",
       "          const docLinkHtml = 'Like what you see? Visit the ' +\n",
       "            '<a target=\"_blank\" href=https://colab.research.google.com/notebooks/data_table.ipynb>data table notebook</a>'\n",
       "            + ' to learn more about interactive tables.';\n",
       "          element.innerHTML = '';\n",
       "          dataTable['output_type'] = 'display_data';\n",
       "          await google.colab.output.renderOutput(dataTable, element);\n",
       "          const docLink = document.createElement('div');\n",
       "          docLink.innerHTML = docLinkHtml;\n",
       "          element.appendChild(docLink);\n",
       "        }\n",
       "      </script>\n",
       "    </div>\n",
       "  </div>\n",
       "  "
      ],
      "text/plain": [
       "   ('BalabanJ', <class 'numpy.float64'>)  ...  ('qed', <class 'numpy.float64'>)\n",
       "0                               0.000020  ...                          0.187493\n",
       "1                               0.000020  ...                          0.228070\n",
       "2                               0.000020  ...                          0.156089\n",
       "3                               0.974937  ...                          0.160976\n",
       "4                               0.974937  ...                          0.197878\n",
       "\n",
       "[5 rows x 163 columns]"
      ]
     },
     "execution_count": 5,
     "metadata": {},
     "output_type": "execute_result"
    }
   ],
   "source": [
    "df_x.head()"
   ]
  },
  {
   "cell_type": "code",
   "execution_count": 6,
   "metadata": {
    "colab": {
     "base_uri": "https://localhost:8080/",
     "height": 206
    },
    "id": "HDcXEtgub7rn",
    "outputId": "b761cc53-27fe-4c93-e6b9-b696c004a167"
   },
   "outputs": [
    {
     "data": {
      "text/html": [
       "\n",
       "  <div id=\"df-e3524a0c-d1b8-4bb4-b7ae-1864b54baae5\">\n",
       "    <div class=\"colab-df-container\">\n",
       "      <div>\n",
       "<style scoped>\n",
       "    .dataframe tbody tr th:only-of-type {\n",
       "        vertical-align: middle;\n",
       "    }\n",
       "\n",
       "    .dataframe tbody tr th {\n",
       "        vertical-align: top;\n",
       "    }\n",
       "\n",
       "    .dataframe thead th {\n",
       "        text-align: right;\n",
       "    }\n",
       "</style>\n",
       "<table border=\"1\" class=\"dataframe\">\n",
       "  <thead>\n",
       "    <tr style=\"text-align: right;\">\n",
       "      <th></th>\n",
       "      <th>mu</th>\n",
       "      <th>alpha</th>\n",
       "      <th>homo</th>\n",
       "      <th>lumo</th>\n",
       "      <th>gap</th>\n",
       "      <th>r2</th>\n",
       "      <th>zpve</th>\n",
       "      <th>cv</th>\n",
       "      <th>u0</th>\n",
       "      <th>u298</th>\n",
       "      <th>h298</th>\n",
       "      <th>g298</th>\n",
       "    </tr>\n",
       "  </thead>\n",
       "  <tbody>\n",
       "    <tr>\n",
       "      <th>0</th>\n",
       "      <td>0.0000</td>\n",
       "      <td>13.21</td>\n",
       "      <td>-0.3877</td>\n",
       "      <td>0.1171</td>\n",
       "      <td>0.5048</td>\n",
       "      <td>35.3641</td>\n",
       "      <td>0.044749</td>\n",
       "      <td>6.469</td>\n",
       "      <td>-40.478930</td>\n",
       "      <td>-40.476062</td>\n",
       "      <td>-40.475117</td>\n",
       "      <td>-40.498597</td>\n",
       "    </tr>\n",
       "    <tr>\n",
       "      <th>1</th>\n",
       "      <td>1.6256</td>\n",
       "      <td>9.46</td>\n",
       "      <td>-0.2570</td>\n",
       "      <td>0.0829</td>\n",
       "      <td>0.3399</td>\n",
       "      <td>26.1563</td>\n",
       "      <td>0.034358</td>\n",
       "      <td>6.316</td>\n",
       "      <td>-56.525887</td>\n",
       "      <td>-56.523026</td>\n",
       "      <td>-56.522082</td>\n",
       "      <td>-56.544961</td>\n",
       "    </tr>\n",
       "    <tr>\n",
       "      <th>2</th>\n",
       "      <td>1.8511</td>\n",
       "      <td>6.31</td>\n",
       "      <td>-0.2928</td>\n",
       "      <td>0.0687</td>\n",
       "      <td>0.3615</td>\n",
       "      <td>19.0002</td>\n",
       "      <td>0.021375</td>\n",
       "      <td>6.002</td>\n",
       "      <td>-76.404702</td>\n",
       "      <td>-76.401867</td>\n",
       "      <td>-76.400922</td>\n",
       "      <td>-76.422349</td>\n",
       "    </tr>\n",
       "    <tr>\n",
       "      <th>3</th>\n",
       "      <td>0.0000</td>\n",
       "      <td>16.28</td>\n",
       "      <td>-0.2845</td>\n",
       "      <td>0.0506</td>\n",
       "      <td>0.3351</td>\n",
       "      <td>59.5248</td>\n",
       "      <td>0.026841</td>\n",
       "      <td>8.574</td>\n",
       "      <td>-77.308427</td>\n",
       "      <td>-77.305527</td>\n",
       "      <td>-77.304583</td>\n",
       "      <td>-77.327429</td>\n",
       "    </tr>\n",
       "    <tr>\n",
       "      <th>4</th>\n",
       "      <td>2.8937</td>\n",
       "      <td>12.99</td>\n",
       "      <td>-0.3604</td>\n",
       "      <td>0.0191</td>\n",
       "      <td>0.3796</td>\n",
       "      <td>48.7476</td>\n",
       "      <td>0.016601</td>\n",
       "      <td>6.278</td>\n",
       "      <td>-93.411888</td>\n",
       "      <td>-93.409370</td>\n",
       "      <td>-93.408425</td>\n",
       "      <td>-93.431246</td>\n",
       "    </tr>\n",
       "  </tbody>\n",
       "</table>\n",
       "</div>\n",
       "      <button class=\"colab-df-convert\" onclick=\"convertToInteractive('df-e3524a0c-d1b8-4bb4-b7ae-1864b54baae5')\"\n",
       "              title=\"Convert this dataframe to an interactive table.\"\n",
       "              style=\"display:none;\">\n",
       "        \n",
       "  <svg xmlns=\"http://www.w3.org/2000/svg\" height=\"24px\"viewBox=\"0 0 24 24\"\n",
       "       width=\"24px\">\n",
       "    <path d=\"M0 0h24v24H0V0z\" fill=\"none\"/>\n",
       "    <path d=\"M18.56 5.44l.94 2.06.94-2.06 2.06-.94-2.06-.94-.94-2.06-.94 2.06-2.06.94zm-11 1L8.5 8.5l.94-2.06 2.06-.94-2.06-.94L8.5 2.5l-.94 2.06-2.06.94zm10 10l.94 2.06.94-2.06 2.06-.94-2.06-.94-.94-2.06-.94 2.06-2.06.94z\"/><path d=\"M17.41 7.96l-1.37-1.37c-.4-.4-.92-.59-1.43-.59-.52 0-1.04.2-1.43.59L10.3 9.45l-7.72 7.72c-.78.78-.78 2.05 0 2.83L4 21.41c.39.39.9.59 1.41.59.51 0 1.02-.2 1.41-.59l7.78-7.78 2.81-2.81c.8-.78.8-2.07 0-2.86zM5.41 20L4 18.59l7.72-7.72 1.47 1.35L5.41 20z\"/>\n",
       "  </svg>\n",
       "      </button>\n",
       "      \n",
       "  <style>\n",
       "    .colab-df-container {\n",
       "      display:flex;\n",
       "      flex-wrap:wrap;\n",
       "      gap: 12px;\n",
       "    }\n",
       "\n",
       "    .colab-df-convert {\n",
       "      background-color: #E8F0FE;\n",
       "      border: none;\n",
       "      border-radius: 50%;\n",
       "      cursor: pointer;\n",
       "      display: none;\n",
       "      fill: #1967D2;\n",
       "      height: 32px;\n",
       "      padding: 0 0 0 0;\n",
       "      width: 32px;\n",
       "    }\n",
       "\n",
       "    .colab-df-convert:hover {\n",
       "      background-color: #E2EBFA;\n",
       "      box-shadow: 0px 1px 2px rgba(60, 64, 67, 0.3), 0px 1px 3px 1px rgba(60, 64, 67, 0.15);\n",
       "      fill: #174EA6;\n",
       "    }\n",
       "\n",
       "    [theme=dark] .colab-df-convert {\n",
       "      background-color: #3B4455;\n",
       "      fill: #D2E3FC;\n",
       "    }\n",
       "\n",
       "    [theme=dark] .colab-df-convert:hover {\n",
       "      background-color: #434B5C;\n",
       "      box-shadow: 0px 1px 3px 1px rgba(0, 0, 0, 0.15);\n",
       "      filter: drop-shadow(0px 1px 2px rgba(0, 0, 0, 0.3));\n",
       "      fill: #FFFFFF;\n",
       "    }\n",
       "  </style>\n",
       "\n",
       "      <script>\n",
       "        const buttonEl =\n",
       "          document.querySelector('#df-e3524a0c-d1b8-4bb4-b7ae-1864b54baae5 button.colab-df-convert');\n",
       "        buttonEl.style.display =\n",
       "          google.colab.kernel.accessAllowed ? 'block' : 'none';\n",
       "\n",
       "        async function convertToInteractive(key) {\n",
       "          const element = document.querySelector('#df-e3524a0c-d1b8-4bb4-b7ae-1864b54baae5');\n",
       "          const dataTable =\n",
       "            await google.colab.kernel.invokeFunction('convertToInteractive',\n",
       "                                                     [key], {});\n",
       "          if (!dataTable) return;\n",
       "\n",
       "          const docLinkHtml = 'Like what you see? Visit the ' +\n",
       "            '<a target=\"_blank\" href=https://colab.research.google.com/notebooks/data_table.ipynb>data table notebook</a>'\n",
       "            + ' to learn more about interactive tables.';\n",
       "          element.innerHTML = '';\n",
       "          dataTable['output_type'] = 'display_data';\n",
       "          await google.colab.output.renderOutput(dataTable, element);\n",
       "          const docLink = document.createElement('div');\n",
       "          docLink.innerHTML = docLinkHtml;\n",
       "          element.appendChild(docLink);\n",
       "        }\n",
       "      </script>\n",
       "    </div>\n",
       "  </div>\n",
       "  "
      ],
      "text/plain": [
       "       mu  alpha    homo    lumo  ...         u0       u298       h298       g298\n",
       "0  0.0000  13.21 -0.3877  0.1171  ... -40.478930 -40.476062 -40.475117 -40.498597\n",
       "1  1.6256   9.46 -0.2570  0.0829  ... -56.525887 -56.523026 -56.522082 -56.544961\n",
       "2  1.8511   6.31 -0.2928  0.0687  ... -76.404702 -76.401867 -76.400922 -76.422349\n",
       "3  0.0000  16.28 -0.2845  0.0506  ... -77.308427 -77.305527 -77.304583 -77.327429\n",
       "4  2.8937  12.99 -0.3604  0.0191  ... -93.411888 -93.409370 -93.408425 -93.431246\n",
       "\n",
       "[5 rows x 12 columns]"
      ]
     },
     "execution_count": 6,
     "metadata": {},
     "output_type": "execute_result"
    }
   ],
   "source": [
    "y.head()"
   ]
  },
  {
   "cell_type": "code",
   "execution_count": 7,
   "metadata": {
    "id": "iIJI2dLBlafK"
   },
   "outputs": [],
   "source": [
    "for i in y.columns:\n",
    "  y[i]=y[i]/np.max(np.abs(y[i]))"
   ]
  },
  {
   "cell_type": "code",
   "execution_count": 8,
   "metadata": {
    "colab": {
     "base_uri": "https://localhost:8080/",
     "height": 206
    },
    "id": "YTuERxkxmpb2",
    "outputId": "cf50b8fc-66d3-4c5a-83fa-c2592a402bac"
   },
   "outputs": [
    {
     "data": {
      "text/html": [
       "\n",
       "  <div id=\"df-19747c5e-419d-48a6-8e27-05b9b0f93042\">\n",
       "    <div class=\"colab-df-container\">\n",
       "      <div>\n",
       "<style scoped>\n",
       "    .dataframe tbody tr th:only-of-type {\n",
       "        vertical-align: middle;\n",
       "    }\n",
       "\n",
       "    .dataframe tbody tr th {\n",
       "        vertical-align: top;\n",
       "    }\n",
       "\n",
       "    .dataframe thead th {\n",
       "        text-align: right;\n",
       "    }\n",
       "</style>\n",
       "<table border=\"1\" class=\"dataframe\">\n",
       "  <thead>\n",
       "    <tr style=\"text-align: right;\">\n",
       "      <th></th>\n",
       "      <th>mu</th>\n",
       "      <th>alpha</th>\n",
       "      <th>homo</th>\n",
       "      <th>lumo</th>\n",
       "      <th>gap</th>\n",
       "      <th>r2</th>\n",
       "      <th>zpve</th>\n",
       "      <th>cv</th>\n",
       "      <th>u0</th>\n",
       "      <th>u298</th>\n",
       "      <th>h298</th>\n",
       "      <th>g298</th>\n",
       "    </tr>\n",
       "  </thead>\n",
       "  <tbody>\n",
       "    <tr>\n",
       "      <th>0</th>\n",
       "      <td>0.000000</td>\n",
       "      <td>0.067185</td>\n",
       "      <td>-0.904573</td>\n",
       "      <td>0.605168</td>\n",
       "      <td>0.811445</td>\n",
       "      <td>0.010479</td>\n",
       "      <td>0.163351</td>\n",
       "      <td>0.137729</td>\n",
       "      <td>-0.056648</td>\n",
       "      <td>-0.056645</td>\n",
       "      <td>-0.056643</td>\n",
       "      <td>-0.056673</td>\n",
       "    </tr>\n",
       "    <tr>\n",
       "      <th>1</th>\n",
       "      <td>0.055000</td>\n",
       "      <td>0.048113</td>\n",
       "      <td>-0.599627</td>\n",
       "      <td>0.428424</td>\n",
       "      <td>0.546375</td>\n",
       "      <td>0.007751</td>\n",
       "      <td>0.125420</td>\n",
       "      <td>0.134472</td>\n",
       "      <td>-0.079105</td>\n",
       "      <td>-0.079102</td>\n",
       "      <td>-0.079101</td>\n",
       "      <td>-0.079128</td>\n",
       "    </tr>\n",
       "    <tr>\n",
       "      <th>2</th>\n",
       "      <td>0.062629</td>\n",
       "      <td>0.032092</td>\n",
       "      <td>-0.683154</td>\n",
       "      <td>0.355039</td>\n",
       "      <td>0.581096</td>\n",
       "      <td>0.005630</td>\n",
       "      <td>0.078027</td>\n",
       "      <td>0.127786</td>\n",
       "      <td>-0.106924</td>\n",
       "      <td>-0.106922</td>\n",
       "      <td>-0.106920</td>\n",
       "      <td>-0.106944</td>\n",
       "    </tr>\n",
       "    <tr>\n",
       "      <th>3</th>\n",
       "      <td>0.000000</td>\n",
       "      <td>0.082799</td>\n",
       "      <td>-0.663789</td>\n",
       "      <td>0.261499</td>\n",
       "      <td>0.538659</td>\n",
       "      <td>0.017638</td>\n",
       "      <td>0.097980</td>\n",
       "      <td>0.182546</td>\n",
       "      <td>-0.108189</td>\n",
       "      <td>-0.108186</td>\n",
       "      <td>-0.108185</td>\n",
       "      <td>-0.108210</td>\n",
       "    </tr>\n",
       "    <tr>\n",
       "      <th>4</th>\n",
       "      <td>0.097904</td>\n",
       "      <td>0.066067</td>\n",
       "      <td>-0.840877</td>\n",
       "      <td>0.098708</td>\n",
       "      <td>0.610191</td>\n",
       "      <td>0.014445</td>\n",
       "      <td>0.060600</td>\n",
       "      <td>0.133663</td>\n",
       "      <td>-0.130725</td>\n",
       "      <td>-0.130723</td>\n",
       "      <td>-0.130722</td>\n",
       "      <td>-0.130746</td>\n",
       "    </tr>\n",
       "  </tbody>\n",
       "</table>\n",
       "</div>\n",
       "      <button class=\"colab-df-convert\" onclick=\"convertToInteractive('df-19747c5e-419d-48a6-8e27-05b9b0f93042')\"\n",
       "              title=\"Convert this dataframe to an interactive table.\"\n",
       "              style=\"display:none;\">\n",
       "        \n",
       "  <svg xmlns=\"http://www.w3.org/2000/svg\" height=\"24px\"viewBox=\"0 0 24 24\"\n",
       "       width=\"24px\">\n",
       "    <path d=\"M0 0h24v24H0V0z\" fill=\"none\"/>\n",
       "    <path d=\"M18.56 5.44l.94 2.06.94-2.06 2.06-.94-2.06-.94-.94-2.06-.94 2.06-2.06.94zm-11 1L8.5 8.5l.94-2.06 2.06-.94-2.06-.94L8.5 2.5l-.94 2.06-2.06.94zm10 10l.94 2.06.94-2.06 2.06-.94-2.06-.94-.94-2.06-.94 2.06-2.06.94z\"/><path d=\"M17.41 7.96l-1.37-1.37c-.4-.4-.92-.59-1.43-.59-.52 0-1.04.2-1.43.59L10.3 9.45l-7.72 7.72c-.78.78-.78 2.05 0 2.83L4 21.41c.39.39.9.59 1.41.59.51 0 1.02-.2 1.41-.59l7.78-7.78 2.81-2.81c.8-.78.8-2.07 0-2.86zM5.41 20L4 18.59l7.72-7.72 1.47 1.35L5.41 20z\"/>\n",
       "  </svg>\n",
       "      </button>\n",
       "      \n",
       "  <style>\n",
       "    .colab-df-container {\n",
       "      display:flex;\n",
       "      flex-wrap:wrap;\n",
       "      gap: 12px;\n",
       "    }\n",
       "\n",
       "    .colab-df-convert {\n",
       "      background-color: #E8F0FE;\n",
       "      border: none;\n",
       "      border-radius: 50%;\n",
       "      cursor: pointer;\n",
       "      display: none;\n",
       "      fill: #1967D2;\n",
       "      height: 32px;\n",
       "      padding: 0 0 0 0;\n",
       "      width: 32px;\n",
       "    }\n",
       "\n",
       "    .colab-df-convert:hover {\n",
       "      background-color: #E2EBFA;\n",
       "      box-shadow: 0px 1px 2px rgba(60, 64, 67, 0.3), 0px 1px 3px 1px rgba(60, 64, 67, 0.15);\n",
       "      fill: #174EA6;\n",
       "    }\n",
       "\n",
       "    [theme=dark] .colab-df-convert {\n",
       "      background-color: #3B4455;\n",
       "      fill: #D2E3FC;\n",
       "    }\n",
       "\n",
       "    [theme=dark] .colab-df-convert:hover {\n",
       "      background-color: #434B5C;\n",
       "      box-shadow: 0px 1px 3px 1px rgba(0, 0, 0, 0.15);\n",
       "      filter: drop-shadow(0px 1px 2px rgba(0, 0, 0, 0.3));\n",
       "      fill: #FFFFFF;\n",
       "    }\n",
       "  </style>\n",
       "\n",
       "      <script>\n",
       "        const buttonEl =\n",
       "          document.querySelector('#df-19747c5e-419d-48a6-8e27-05b9b0f93042 button.colab-df-convert');\n",
       "        buttonEl.style.display =\n",
       "          google.colab.kernel.accessAllowed ? 'block' : 'none';\n",
       "\n",
       "        async function convertToInteractive(key) {\n",
       "          const element = document.querySelector('#df-19747c5e-419d-48a6-8e27-05b9b0f93042');\n",
       "          const dataTable =\n",
       "            await google.colab.kernel.invokeFunction('convertToInteractive',\n",
       "                                                     [key], {});\n",
       "          if (!dataTable) return;\n",
       "\n",
       "          const docLinkHtml = 'Like what you see? Visit the ' +\n",
       "            '<a target=\"_blank\" href=https://colab.research.google.com/notebooks/data_table.ipynb>data table notebook</a>'\n",
       "            + ' to learn more about interactive tables.';\n",
       "          element.innerHTML = '';\n",
       "          dataTable['output_type'] = 'display_data';\n",
       "          await google.colab.output.renderOutput(dataTable, element);\n",
       "          const docLink = document.createElement('div');\n",
       "          docLink.innerHTML = docLinkHtml;\n",
       "          element.appendChild(docLink);\n",
       "        }\n",
       "      </script>\n",
       "    </div>\n",
       "  </div>\n",
       "  "
      ],
      "text/plain": [
       "         mu     alpha      homo  ...      u298      h298      g298\n",
       "0  0.000000  0.067185 -0.904573  ... -0.056645 -0.056643 -0.056673\n",
       "1  0.055000  0.048113 -0.599627  ... -0.079102 -0.079101 -0.079128\n",
       "2  0.062629  0.032092 -0.683154  ... -0.106922 -0.106920 -0.106944\n",
       "3  0.000000  0.082799 -0.663789  ... -0.108186 -0.108185 -0.108210\n",
       "4  0.097904  0.066067 -0.840877  ... -0.130723 -0.130722 -0.130746\n",
       "\n",
       "[5 rows x 12 columns]"
      ]
     },
     "execution_count": 8,
     "metadata": {},
     "output_type": "execute_result"
    }
   ],
   "source": [
    "y.head()"
   ]
  },
  {
   "cell_type": "markdown",
   "metadata": {
    "id": "sPRI-8UT9QtX"
   },
   "source": [
    "---------------\n",
    "# Neural Network\n",
    "---------------"
   ]
  },
  {
   "cell_type": "markdown",
   "metadata": {
    "id": "YCuZD-GQg3n2"
   },
   "source": [
    "## Data Splitting for Neural Network model\n",
    "\n",
    "\n",
    "\n",
    "\n",
    "\n"
   ]
  },
  {
   "cell_type": "code",
   "execution_count": 27,
   "metadata": {
    "id": "oCqMKdzQcoHU"
   },
   "outputs": [],
   "source": [
    "x_train, x_test, y_train, y_test = train_test_split(df_x, y, test_size=0.1, random_state=23)"
   ]
  },
  {
   "cell_type": "code",
   "execution_count": 10,
   "metadata": {
    "colab": {
     "base_uri": "https://localhost:8080/"
    },
    "id": "3dwMu5icg5np",
    "outputId": "46d980f3-cb96-4b93-a508-1c99a1809c90"
   },
   "outputs": [
    {
     "name": "stdout",
     "output_type": "stream",
     "text": [
      "(120496, 163)\n",
      "(120496, 12)\n",
      "(13389, 163)\n",
      "(13389, 12)\n"
     ]
    }
   ],
   "source": [
    "print(x_train.shape)\n",
    "print(y_train.shape)\n",
    "print(x_test.shape)\n",
    "print(y_test.shape)"
   ]
  },
  {
   "cell_type": "markdown",
   "metadata": {
    "id": "1A9n31N_hBzS"
   },
   "source": [
    "# Building and Training a multi task Neural Network  \n",
    "\n"
   ]
  },
  {
   "cell_type": "code",
   "execution_count": 67,
   "metadata": {
    "id": "f7ie8kTVg8b_"
   },
   "outputs": [],
   "source": [
    "def reg_four_layer_model_config(n1=64,n2=32,n3=16,n4=12):\n",
    "  input = Input(x_train.shape[1])\n",
    "  model= Dense(n1, activation='relu')(input)\n",
    "  #model=Dropout(0.1)(model)\n",
    "  model=Dense(n2, activation='relu')(model)\n",
    "  #model=Dropout(0.1)(model)\n",
    "  model=Dense(n3, activation='relu')(model)\n",
    "  #model=Dropout(0.1)(model)\n",
    "  output=Dense(n4, activation='linear')(model)\n",
    "  model=Model(inputs=input,outputs=output)\n",
    "  return model"
   ]
  },
  {
   "cell_type": "code",
   "execution_count": 73,
   "metadata": {
    "id": "g7npi7uGixie"
   },
   "outputs": [],
   "source": [
    "def comp(model,lr=0.05):\n",
    "  model.compile(optimizer=Adam(learning_rate=lr),loss=tf.keras.losses.MeanAbsoluteError())\n",
    "  return model"
   ]
  },
  {
   "cell_type": "code",
   "execution_count": 93,
   "metadata": {
    "id": "OEgSI767i_MO"
   },
   "outputs": [],
   "source": [
    "def plot_model(history):\n",
    "    df=pd.DataFrame(history.history)\n",
    "    plt.figure(figsize=(10,7))\n",
    "    plt.plot(df['val_loss'])\n",
    "    plt.plot(df['loss'])\n",
    "    plt.xlabel('Epochs')\n",
    "    plt.ylabel('Loss')\n",
    "    plt.legend(['validation loss','training loss'], loc='upper right')\n",
    "    plt.title('Loss of train/validation sets vs Epochs')\n",
    "    plt.ylim(0,0.3)\n",
    "    plt.show()"
   ]
  },
  {
   "cell_type": "code",
   "execution_count": 14,
   "metadata": {
    "id": "l-Lu2SQojjxj"
   },
   "outputs": [],
   "source": [
    "model=reg_four_layer_model_config()"
   ]
  },
  {
   "cell_type": "code",
   "execution_count": 66,
   "metadata": {
    "colab": {
     "base_uri": "https://localhost:8080/"
    },
    "id": "XZ3UuipwjnEh",
    "outputId": "cdd73d13-30d9-4c01-b2a0-df5870d4960b"
   },
   "outputs": [
    {
     "name": "stdout",
     "output_type": "stream",
     "text": [
      "Model: \"model_1\"\n",
      "_________________________________________________________________\n",
      " Layer (type)                Output Shape              Param #   \n",
      "=================================================================\n",
      " input_2 (InputLayer)        [(None, 163)]             0         \n",
      "                                                                 \n",
      " dense_4 (Dense)             (None, 64)                10496     \n",
      "                                                                 \n",
      " dense_5 (Dense)             (None, 32)                2080      \n",
      "                                                                 \n",
      " dense_6 (Dense)             (None, 16)                528       \n",
      "                                                                 \n",
      " dense_7 (Dense)             (None, 12)                204       \n",
      "                                                                 \n",
      "=================================================================\n",
      "Total params: 13,308\n",
      "Trainable params: 13,308\n",
      "Non-trainable params: 0\n",
      "_________________________________________________________________\n"
     ]
    }
   ],
   "source": [
    "model.summary()"
   ]
  },
  {
   "cell_type": "code",
   "execution_count": 16,
   "metadata": {
    "colab": {
     "base_uri": "https://localhost:8080/"
    },
    "id": "ulAZwtlXjH_s",
    "outputId": "5c814883-5710-4297-b1ba-7c9ea7f2b6b2"
   },
   "outputs": [
    {
     "name": "stdout",
     "output_type": "stream",
     "text": [
      "Epoch 1/30\n",
      "424/424 [==============================] - 2s 4ms/step - loss: 0.0654 - val_loss: 0.0298\n",
      "Epoch 2/30\n",
      "424/424 [==============================] - 1s 3ms/step - loss: 0.0274 - val_loss: 0.0254\n",
      "Epoch 3/30\n",
      "424/424 [==============================] - 1s 3ms/step - loss: 0.0243 - val_loss: 0.0230\n",
      "Epoch 4/30\n",
      "424/424 [==============================] - 1s 3ms/step - loss: 0.0225 - val_loss: 0.0212\n",
      "Epoch 5/30\n",
      "424/424 [==============================] - 1s 3ms/step - loss: 0.0209 - val_loss: 0.0204\n",
      "Epoch 6/30\n",
      "424/424 [==============================] - 1s 3ms/step - loss: 0.0196 - val_loss: 0.0190\n",
      "Epoch 7/30\n",
      "424/424 [==============================] - 1s 3ms/step - loss: 0.0186 - val_loss: 0.0179\n",
      "Epoch 8/30\n",
      "424/424 [==============================] - 1s 3ms/step - loss: 0.0178 - val_loss: 0.0177\n",
      "Epoch 9/30\n",
      "424/424 [==============================] - 1s 3ms/step - loss: 0.0173 - val_loss: 0.0180\n",
      "Epoch 10/30\n",
      "424/424 [==============================] - 1s 3ms/step - loss: 0.0169 - val_loss: 0.0189\n",
      "Epoch 11/30\n",
      "424/424 [==============================] - 1s 3ms/step - loss: 0.0166 - val_loss: 0.0162\n",
      "Epoch 12/30\n",
      "424/424 [==============================] - 1s 3ms/step - loss: 0.0159 - val_loss: 0.0156\n",
      "Epoch 13/30\n",
      "424/424 [==============================] - 1s 3ms/step - loss: 0.0156 - val_loss: 0.0154\n",
      "Epoch 14/30\n",
      "424/424 [==============================] - 1s 3ms/step - loss: 0.0156 - val_loss: 0.0161\n",
      "Epoch 15/30\n",
      "424/424 [==============================] - 1s 3ms/step - loss: 0.0152 - val_loss: 0.0148\n",
      "Epoch 16/30\n",
      "424/424 [==============================] - 1s 3ms/step - loss: 0.0148 - val_loss: 0.0148\n",
      "Epoch 17/30\n",
      "424/424 [==============================] - 1s 3ms/step - loss: 0.0148 - val_loss: 0.0149\n",
      "Epoch 18/30\n",
      "424/424 [==============================] - 1s 3ms/step - loss: 0.0148 - val_loss: 0.0167\n",
      "Epoch 19/30\n",
      "424/424 [==============================] - 1s 3ms/step - loss: 0.0143 - val_loss: 0.0143\n",
      "Epoch 20/30\n",
      "424/424 [==============================] - 1s 3ms/step - loss: 0.0145 - val_loss: 0.0139\n",
      "Epoch 21/30\n",
      "424/424 [==============================] - 1s 3ms/step - loss: 0.0139 - val_loss: 0.0140\n",
      "Epoch 22/30\n",
      "424/424 [==============================] - 1s 3ms/step - loss: 0.0140 - val_loss: 0.0137\n",
      "Epoch 23/30\n",
      "424/424 [==============================] - 1s 3ms/step - loss: 0.0137 - val_loss: 0.0137\n",
      "Epoch 24/30\n",
      "424/424 [==============================] - 1s 3ms/step - loss: 0.0139 - val_loss: 0.0135\n",
      "Epoch 25/30\n",
      "424/424 [==============================] - 1s 3ms/step - loss: 0.0136 - val_loss: 0.0136\n",
      "Epoch 26/30\n",
      "424/424 [==============================] - 1s 3ms/step - loss: 0.0139 - val_loss: 0.0133\n",
      "Epoch 27/30\n",
      "424/424 [==============================] - 1s 3ms/step - loss: 0.0136 - val_loss: 0.0133\n",
      "Epoch 28/30\n",
      "424/424 [==============================] - 1s 3ms/step - loss: 0.0134 - val_loss: 0.0132\n",
      "Epoch 29/30\n",
      "424/424 [==============================] - 1s 3ms/step - loss: 0.0133 - val_loss: 0.0132\n",
      "Epoch 30/30\n",
      "424/424 [==============================] - 1s 3ms/step - loss: 0.0136 - val_loss: 0.0148\n"
     ]
    }
   ],
   "source": [
    "model=reg_four_layer_model_config()\n",
    "comp(model,lr=0.001)\n",
    "history = model.fit(x=x_train,y= y_train,batch_size =256,epochs=30,validation_split = 0.1 ,verbose=1)"
   ]
  },
  {
   "cell_type": "code",
   "execution_count": 94,
   "metadata": {
    "colab": {
     "base_uri": "https://localhost:8080/",
     "height": 458
    },
    "id": "BBmDpzj9nYs2",
    "outputId": "ecb9eeb1-36f7-4cf4-fef7-b277bc3e51b3"
   },
   "outputs": [
    {
     "data": {
      "image/png": "[encoded data removed]",
      "text/plain": [
       "<Figure size 720x504 with 1 Axes>"
      ]
     },
     "metadata": {
      "needs_background": "light"
     },
     "output_type": "display_data"
    }
   ],
   "source": [
    "plot_model(history)"
   ]
  },
  {
   "cell_type": "code",
   "execution_count": 28,
   "metadata": {
    "colab": {
     "base_uri": "https://localhost:8080/"
    },
    "id": "QqNY0W3cnnQe",
    "outputId": "4aa2355e-2f1d-451d-e3f8-b665f5c09673"
   },
   "outputs": [
    {
     "name": "stdout",
     "output_type": "stream",
     "text": [
      "419/419 [==============================] - 1s 1ms/step - loss: 0.0147\n"
     ]
    },
    {
     "data": {
      "text/plain": [
       "0.014728481881320477"
      ]
     },
     "execution_count": 28,
     "metadata": {},
     "output_type": "execute_result"
    }
   ],
   "source": [
    "model.evaluate(x_test,y_test)"
   ]
  },
  {
   "cell_type": "code",
   "execution_count": 60,
   "metadata": {
    "id": "eG4Ca1CnrRtw"
   },
   "outputs": [],
   "source": [
    "y_pred=pd.DataFrame(model.predict(x_test),columns=y.columns)\n",
    "y_true=y_test"
   ]
  },
  {
   "cell_type": "code",
   "execution_count": 61,
   "metadata": {
    "colab": {
     "base_uri": "https://localhost:8080/"
    },
    "id": "iuWFeLbPJMtl",
    "outputId": "7f421bf0-b79a-4e4f-d1b4-294595c25b32"
   },
   "outputs": [
    {
     "data": {
      "text/plain": [
       "{'alpha': 0.006822382606793531,\n",
       " 'cv': 0.0146717819680017,\n",
       " 'g298': 0.006873683215714404,\n",
       " 'gap': 0.01640501988525785,\n",
       " 'h298': 0.006971502173753593,\n",
       " 'homo': 0.01742838677533964,\n",
       " 'lumo': 0.041079049282318536,\n",
       " 'mu': 0.02379198733897312,\n",
       " 'r2': 0.018390880762325777,\n",
       " 'u0': 0.006959517333283232,\n",
       " 'u298': 0.006759351698554906,\n",
       " 'zpve': 0.010588238972809695}"
      ]
     },
     "execution_count": 61,
     "metadata": {},
     "output_type": "execute_result"
    }
   ],
   "source": [
    "y_pred.index=y_true.index\n",
    "mae=dict()\n",
    "for i in y.columns:\n",
    "  mae[i]=np.sum(np.abs(y_pred[i]-y_true[i]))/y_pred.shape[0]\n",
    "mae"
   ]
  },
  {
   "cell_type": "markdown",
   "metadata": {
    "id": "SyH4uhdjLObj"
   },
   "source": [
    "### Task 'u298' has the least MAE"
   ]
  },
  {
   "cell_type": "markdown",
   "metadata": {
    "id": "2y7p1z0MMHLg"
   },
   "source": [
    "Before we proceed to train a Network with only task u298 as the response, let's have a look at our prediction responses and compare it to the real ones"
   ]
  },
  {
   "cell_type": "code",
   "execution_count": 20,
   "metadata": {
    "id": "gdPcUAMUs4ga"
   },
   "outputs": [],
   "source": [
    "yy=pd.read_csv(\"/content/drive/MyDrive/QM9/qm9_preprocessed/qm9_labels.csv\")"
   ]
  },
  {
   "cell_type": "code",
   "execution_count": 21,
   "metadata": {
    "id": "rYafcEvRrnaE"
   },
   "outputs": [],
   "source": [
    "for i in yy.columns:\n",
    "  y_true[i]=y_true[i]*np.max(np.abs(yy[i]))\n",
    "  y_pred[i]=y_pred[i]*np.max(np.abs(yy[i]))"
   ]
  },
  {
   "cell_type": "code",
   "execution_count": 22,
   "metadata": {
    "colab": {
     "base_uri": "https://localhost:8080/",
     "height": 206
    },
    "id": "MWBRixOCrsm0",
    "outputId": "fb741d00-b10b-414a-b728-a070e821bf1c"
   },
   "outputs": [
    {
     "data": {
      "text/html": [
       "\n",
       "  <div id=\"df-c0757508-40dd-4078-9408-acc706601fd8\">\n",
       "    <div class=\"colab-df-container\">\n",
       "      <div>\n",
       "<style scoped>\n",
       "    .dataframe tbody tr th:only-of-type {\n",
       "        vertical-align: middle;\n",
       "    }\n",
       "\n",
       "    .dataframe tbody tr th {\n",
       "        vertical-align: top;\n",
       "    }\n",
       "\n",
       "    .dataframe thead th {\n",
       "        text-align: right;\n",
       "    }\n",
       "</style>\n",
       "<table border=\"1\" class=\"dataframe\">\n",
       "  <thead>\n",
       "    <tr style=\"text-align: right;\">\n",
       "      <th></th>\n",
       "      <th>mu</th>\n",
       "      <th>alpha</th>\n",
       "      <th>homo</th>\n",
       "      <th>lumo</th>\n",
       "      <th>gap</th>\n",
       "      <th>r2</th>\n",
       "      <th>zpve</th>\n",
       "      <th>cv</th>\n",
       "      <th>u0</th>\n",
       "      <th>u298</th>\n",
       "      <th>h298</th>\n",
       "      <th>g298</th>\n",
       "    </tr>\n",
       "  </thead>\n",
       "  <tbody>\n",
       "    <tr>\n",
       "      <th>106798</th>\n",
       "      <td>2.5317</td>\n",
       "      <td>78.05</td>\n",
       "      <td>-0.2320</td>\n",
       "      <td>0.0803</td>\n",
       "      <td>0.3123</td>\n",
       "      <td>1175.2690</td>\n",
       "      <td>0.182565</td>\n",
       "      <td>34.770</td>\n",
       "      <td>-424.217691</td>\n",
       "      <td>-424.208666</td>\n",
       "      <td>-424.207722</td>\n",
       "      <td>-424.251144</td>\n",
       "    </tr>\n",
       "    <tr>\n",
       "      <th>8319</th>\n",
       "      <td>1.1355</td>\n",
       "      <td>68.56</td>\n",
       "      <td>-0.2247</td>\n",
       "      <td>0.0618</td>\n",
       "      <td>0.2865</td>\n",
       "      <td>1193.0015</td>\n",
       "      <td>0.164873</td>\n",
       "      <td>31.814</td>\n",
       "      <td>-402.156782</td>\n",
       "      <td>-402.148032</td>\n",
       "      <td>-402.147088</td>\n",
       "      <td>-402.190746</td>\n",
       "    </tr>\n",
       "    <tr>\n",
       "      <th>114653</th>\n",
       "      <td>2.7218</td>\n",
       "      <td>68.18</td>\n",
       "      <td>-0.2347</td>\n",
       "      <td>-0.0264</td>\n",
       "      <td>0.2083</td>\n",
       "      <td>1081.1665</td>\n",
       "      <td>0.136287</td>\n",
       "      <td>29.668</td>\n",
       "      <td>-458.940410</td>\n",
       "      <td>-458.932697</td>\n",
       "      <td>-458.931753</td>\n",
       "      <td>-458.972843</td>\n",
       "    </tr>\n",
       "    <tr>\n",
       "      <th>17059</th>\n",
       "      <td>2.0521</td>\n",
       "      <td>73.08</td>\n",
       "      <td>-0.1994</td>\n",
       "      <td>0.0722</td>\n",
       "      <td>0.2716</td>\n",
       "      <td>967.4953</td>\n",
       "      <td>0.164868</td>\n",
       "      <td>30.660</td>\n",
       "      <td>-364.975003</td>\n",
       "      <td>-364.966997</td>\n",
       "      <td>-364.966053</td>\n",
       "      <td>-365.007460</td>\n",
       "    </tr>\n",
       "    <tr>\n",
       "      <th>91717</th>\n",
       "      <td>3.7467</td>\n",
       "      <td>66.08</td>\n",
       "      <td>-0.2631</td>\n",
       "      <td>0.0044</td>\n",
       "      <td>0.2674</td>\n",
       "      <td>956.8113</td>\n",
       "      <td>0.137987</td>\n",
       "      <td>28.018</td>\n",
       "      <td>-459.012604</td>\n",
       "      <td>-459.005483</td>\n",
       "      <td>-459.004539</td>\n",
       "      <td>-459.044138</td>\n",
       "    </tr>\n",
       "  </tbody>\n",
       "</table>\n",
       "</div>\n",
       "      <button class=\"colab-df-convert\" onclick=\"convertToInteractive('df-c0757508-40dd-4078-9408-acc706601fd8')\"\n",
       "              title=\"Convert this dataframe to an interactive table.\"\n",
       "              style=\"display:none;\">\n",
       "        \n",
       "  <svg xmlns=\"http://www.w3.org/2000/svg\" height=\"24px\"viewBox=\"0 0 24 24\"\n",
       "       width=\"24px\">\n",
       "    <path d=\"M0 0h24v24H0V0z\" fill=\"none\"/>\n",
       "    <path d=\"M18.56 5.44l.94 2.06.94-2.06 2.06-.94-2.06-.94-.94-2.06-.94 2.06-2.06.94zm-11 1L8.5 8.5l.94-2.06 2.06-.94-2.06-.94L8.5 2.5l-.94 2.06-2.06.94zm10 10l.94 2.06.94-2.06 2.06-.94-2.06-.94-.94-2.06-.94 2.06-2.06.94z\"/><path d=\"M17.41 7.96l-1.37-1.37c-.4-.4-.92-.59-1.43-.59-.52 0-1.04.2-1.43.59L10.3 9.45l-7.72 7.72c-.78.78-.78 2.05 0 2.83L4 21.41c.39.39.9.59 1.41.59.51 0 1.02-.2 1.41-.59l7.78-7.78 2.81-2.81c.8-.78.8-2.07 0-2.86zM5.41 20L4 18.59l7.72-7.72 1.47 1.35L5.41 20z\"/>\n",
       "  </svg>\n",
       "      </button>\n",
       "      \n",
       "  <style>\n",
       "    .colab-df-container {\n",
       "      display:flex;\n",
       "      flex-wrap:wrap;\n",
       "      gap: 12px;\n",
       "    }\n",
       "\n",
       "    .colab-df-convert {\n",
       "      background-color: #E8F0FE;\n",
       "      border: none;\n",
       "      border-radius: 50%;\n",
       "      cursor: pointer;\n",
       "      display: none;\n",
       "      fill: #1967D2;\n",
       "      height: 32px;\n",
       "      padding: 0 0 0 0;\n",
       "      width: 32px;\n",
       "    }\n",
       "\n",
       "    .colab-df-convert:hover {\n",
       "      background-color: #E2EBFA;\n",
       "      box-shadow: 0px 1px 2px rgba(60, 64, 67, 0.3), 0px 1px 3px 1px rgba(60, 64, 67, 0.15);\n",
       "      fill: #174EA6;\n",
       "    }\n",
       "\n",
       "    [theme=dark] .colab-df-convert {\n",
       "      background-color: #3B4455;\n",
       "      fill: #D2E3FC;\n",
       "    }\n",
       "\n",
       "    [theme=dark] .colab-df-convert:hover {\n",
       "      background-color: #434B5C;\n",
       "      box-shadow: 0px 1px 3px 1px rgba(0, 0, 0, 0.15);\n",
       "      filter: drop-shadow(0px 1px 2px rgba(0, 0, 0, 0.3));\n",
       "      fill: #FFFFFF;\n",
       "    }\n",
       "  </style>\n",
       "\n",
       "      <script>\n",
       "        const buttonEl =\n",
       "          document.querySelector('#df-c0757508-40dd-4078-9408-acc706601fd8 button.colab-df-convert');\n",
       "        buttonEl.style.display =\n",
       "          google.colab.kernel.accessAllowed ? 'block' : 'none';\n",
       "\n",
       "        async function convertToInteractive(key) {\n",
       "          const element = document.querySelector('#df-c0757508-40dd-4078-9408-acc706601fd8');\n",
       "          const dataTable =\n",
       "            await google.colab.kernel.invokeFunction('convertToInteractive',\n",
       "                                                     [key], {});\n",
       "          if (!dataTable) return;\n",
       "\n",
       "          const docLinkHtml = 'Like what you see? Visit the ' +\n",
       "            '<a target=\"_blank\" href=https://colab.research.google.com/notebooks/data_table.ipynb>data table notebook</a>'\n",
       "            + ' to learn more about interactive tables.';\n",
       "          element.innerHTML = '';\n",
       "          dataTable['output_type'] = 'display_data';\n",
       "          await google.colab.output.renderOutput(dataTable, element);\n",
       "          const docLink = document.createElement('div');\n",
       "          docLink.innerHTML = docLinkHtml;\n",
       "          element.appendChild(docLink);\n",
       "        }\n",
       "      </script>\n",
       "    </div>\n",
       "  </div>\n",
       "  "
      ],
      "text/plain": [
       "            mu  alpha    homo  ...        u298        h298        g298\n",
       "106798  2.5317  78.05 -0.2320  ... -424.208666 -424.207722 -424.251144\n",
       "8319    1.1355  68.56 -0.2247  ... -402.148032 -402.147088 -402.190746\n",
       "114653  2.7218  68.18 -0.2347  ... -458.932697 -458.931753 -458.972843\n",
       "17059   2.0521  73.08 -0.1994  ... -364.966997 -364.966053 -365.007460\n",
       "91717   3.7467  66.08 -0.2631  ... -459.005483 -459.004539 -459.044138\n",
       "\n",
       "[5 rows x 12 columns]"
      ]
     },
     "execution_count": 22,
     "metadata": {},
     "output_type": "execute_result"
    }
   ],
   "source": [
    "y_true.head()"
   ]
  },
  {
   "cell_type": "code",
   "execution_count": 23,
   "metadata": {
    "colab": {
     "base_uri": "https://localhost:8080/",
     "height": 206
    },
    "id": "WUDViOw2sirL",
    "outputId": "e8014cd5-7a2c-4d24-b5fa-c19dd4a5cc23"
   },
   "outputs": [
    {
     "data": {
      "text/html": [
       "\n",
       "  <div id=\"df-893b5d25-75d1-4aaf-ae66-af7bb5fa643a\">\n",
       "    <div class=\"colab-df-container\">\n",
       "      <div>\n",
       "<style scoped>\n",
       "    .dataframe tbody tr th:only-of-type {\n",
       "        vertical-align: middle;\n",
       "    }\n",
       "\n",
       "    .dataframe tbody tr th {\n",
       "        vertical-align: top;\n",
       "    }\n",
       "\n",
       "    .dataframe thead th {\n",
       "        text-align: right;\n",
       "    }\n",
       "</style>\n",
       "<table border=\"1\" class=\"dataframe\">\n",
       "  <thead>\n",
       "    <tr style=\"text-align: right;\">\n",
       "      <th></th>\n",
       "      <th>mu</th>\n",
       "      <th>alpha</th>\n",
       "      <th>homo</th>\n",
       "      <th>lumo</th>\n",
       "      <th>gap</th>\n",
       "      <th>r2</th>\n",
       "      <th>zpve</th>\n",
       "      <th>cv</th>\n",
       "      <th>u0</th>\n",
       "      <th>u298</th>\n",
       "      <th>h298</th>\n",
       "      <th>g298</th>\n",
       "    </tr>\n",
       "  </thead>\n",
       "  <tbody>\n",
       "    <tr>\n",
       "      <th>0</th>\n",
       "      <td>1.986146</td>\n",
       "      <td>79.603813</td>\n",
       "      <td>-0.240386</td>\n",
       "      <td>0.069725</td>\n",
       "      <td>0.308054</td>\n",
       "      <td>1187.245850</td>\n",
       "      <td>0.187484</td>\n",
       "      <td>35.343655</td>\n",
       "      <td>-428.836182</td>\n",
       "      <td>-428.462128</td>\n",
       "      <td>-429.069916</td>\n",
       "      <td>-428.588135</td>\n",
       "    </tr>\n",
       "    <tr>\n",
       "      <th>1</th>\n",
       "      <td>2.191474</td>\n",
       "      <td>72.219681</td>\n",
       "      <td>-0.230624</td>\n",
       "      <td>0.066037</td>\n",
       "      <td>0.295627</td>\n",
       "      <td>1274.550049</td>\n",
       "      <td>0.166064</td>\n",
       "      <td>33.206379</td>\n",
       "      <td>-411.541870</td>\n",
       "      <td>-412.070343</td>\n",
       "      <td>-411.209778</td>\n",
       "      <td>-411.960419</td>\n",
       "    </tr>\n",
       "    <tr>\n",
       "      <th>2</th>\n",
       "      <td>2.659940</td>\n",
       "      <td>68.747925</td>\n",
       "      <td>-0.245024</td>\n",
       "      <td>-0.029613</td>\n",
       "      <td>0.214375</td>\n",
       "      <td>1072.949097</td>\n",
       "      <td>0.130606</td>\n",
       "      <td>29.974857</td>\n",
       "      <td>-463.998779</td>\n",
       "      <td>-464.010071</td>\n",
       "      <td>-464.291687</td>\n",
       "      <td>-463.959991</td>\n",
       "    </tr>\n",
       "    <tr>\n",
       "      <th>3</th>\n",
       "      <td>1.880925</td>\n",
       "      <td>73.273819</td>\n",
       "      <td>-0.225384</td>\n",
       "      <td>0.072037</td>\n",
       "      <td>0.296134</td>\n",
       "      <td>1037.774902</td>\n",
       "      <td>0.166019</td>\n",
       "      <td>31.479467</td>\n",
       "      <td>-371.262634</td>\n",
       "      <td>-371.808655</td>\n",
       "      <td>-371.144867</td>\n",
       "      <td>-371.580383</td>\n",
       "    </tr>\n",
       "    <tr>\n",
       "      <th>4</th>\n",
       "      <td>3.914824</td>\n",
       "      <td>67.942413</td>\n",
       "      <td>-0.270432</td>\n",
       "      <td>0.000578</td>\n",
       "      <td>0.267812</td>\n",
       "      <td>984.123779</td>\n",
       "      <td>0.140531</td>\n",
       "      <td>28.852852</td>\n",
       "      <td>-458.606049</td>\n",
       "      <td>-457.979828</td>\n",
       "      <td>-458.485931</td>\n",
       "      <td>-458.392578</td>\n",
       "    </tr>\n",
       "  </tbody>\n",
       "</table>\n",
       "</div>\n",
       "      <button class=\"colab-df-convert\" onclick=\"convertToInteractive('df-893b5d25-75d1-4aaf-ae66-af7bb5fa643a')\"\n",
       "              title=\"Convert this dataframe to an interactive table.\"\n",
       "              style=\"display:none;\">\n",
       "        \n",
       "  <svg xmlns=\"http://www.w3.org/2000/svg\" height=\"24px\"viewBox=\"0 0 24 24\"\n",
       "       width=\"24px\">\n",
       "    <path d=\"M0 0h24v24H0V0z\" fill=\"none\"/>\n",
       "    <path d=\"M18.56 5.44l.94 2.06.94-2.06 2.06-.94-2.06-.94-.94-2.06-.94 2.06-2.06.94zm-11 1L8.5 8.5l.94-2.06 2.06-.94-2.06-.94L8.5 2.5l-.94 2.06-2.06.94zm10 10l.94 2.06.94-2.06 2.06-.94-2.06-.94-.94-2.06-.94 2.06-2.06.94z\"/><path d=\"M17.41 7.96l-1.37-1.37c-.4-.4-.92-.59-1.43-.59-.52 0-1.04.2-1.43.59L10.3 9.45l-7.72 7.72c-.78.78-.78 2.05 0 2.83L4 21.41c.39.39.9.59 1.41.59.51 0 1.02-.2 1.41-.59l7.78-7.78 2.81-2.81c.8-.78.8-2.07 0-2.86zM5.41 20L4 18.59l7.72-7.72 1.47 1.35L5.41 20z\"/>\n",
       "  </svg>\n",
       "      </button>\n",
       "      \n",
       "  <style>\n",
       "    .colab-df-container {\n",
       "      display:flex;\n",
       "      flex-wrap:wrap;\n",
       "      gap: 12px;\n",
       "    }\n",
       "\n",
       "    .colab-df-convert {\n",
       "      background-color: #E8F0FE;\n",
       "      border: none;\n",
       "      border-radius: 50%;\n",
       "      cursor: pointer;\n",
       "      display: none;\n",
       "      fill: #1967D2;\n",
       "      height: 32px;\n",
       "      padding: 0 0 0 0;\n",
       "      width: 32px;\n",
       "    }\n",
       "\n",
       "    .colab-df-convert:hover {\n",
       "      background-color: #E2EBFA;\n",
       "      box-shadow: 0px 1px 2px rgba(60, 64, 67, 0.3), 0px 1px 3px 1px rgba(60, 64, 67, 0.15);\n",
       "      fill: #174EA6;\n",
       "    }\n",
       "\n",
       "    [theme=dark] .colab-df-convert {\n",
       "      background-color: #3B4455;\n",
       "      fill: #D2E3FC;\n",
       "    }\n",
       "\n",
       "    [theme=dark] .colab-df-convert:hover {\n",
       "      background-color: #434B5C;\n",
       "      box-shadow: 0px 1px 3px 1px rgba(0, 0, 0, 0.15);\n",
       "      filter: drop-shadow(0px 1px 2px rgba(0, 0, 0, 0.3));\n",
       "      fill: #FFFFFF;\n",
       "    }\n",
       "  </style>\n",
       "\n",
       "      <script>\n",
       "        const buttonEl =\n",
       "          document.querySelector('#df-893b5d25-75d1-4aaf-ae66-af7bb5fa643a button.colab-df-convert');\n",
       "        buttonEl.style.display =\n",
       "          google.colab.kernel.accessAllowed ? 'block' : 'none';\n",
       "\n",
       "        async function convertToInteractive(key) {\n",
       "          const element = document.querySelector('#df-893b5d25-75d1-4aaf-ae66-af7bb5fa643a');\n",
       "          const dataTable =\n",
       "            await google.colab.kernel.invokeFunction('convertToInteractive',\n",
       "                                                     [key], {});\n",
       "          if (!dataTable) return;\n",
       "\n",
       "          const docLinkHtml = 'Like what you see? Visit the ' +\n",
       "            '<a target=\"_blank\" href=https://colab.research.google.com/notebooks/data_table.ipynb>data table notebook</a>'\n",
       "            + ' to learn more about interactive tables.';\n",
       "          element.innerHTML = '';\n",
       "          dataTable['output_type'] = 'display_data';\n",
       "          await google.colab.output.renderOutput(dataTable, element);\n",
       "          const docLink = document.createElement('div');\n",
       "          docLink.innerHTML = docLinkHtml;\n",
       "          element.appendChild(docLink);\n",
       "        }\n",
       "      </script>\n",
       "    </div>\n",
       "  </div>\n",
       "  "
      ],
      "text/plain": [
       "         mu      alpha      homo  ...        u298        h298        g298\n",
       "0  1.986146  79.603813 -0.240386  ... -428.462128 -429.069916 -428.588135\n",
       "1  2.191474  72.219681 -0.230624  ... -412.070343 -411.209778 -411.960419\n",
       "2  2.659940  68.747925 -0.245024  ... -464.010071 -464.291687 -463.959991\n",
       "3  1.880925  73.273819 -0.225384  ... -371.808655 -371.144867 -371.580383\n",
       "4  3.914824  67.942413 -0.270432  ... -457.979828 -458.485931 -458.392578\n",
       "\n",
       "[5 rows x 12 columns]"
      ]
     },
     "execution_count": 23,
     "metadata": {},
     "output_type": "execute_result"
    }
   ],
   "source": [
    "y_pred.head()"
   ]
  },
  {
   "cell_type": "markdown",
   "metadata": {
    "id": "mwIUnyteMYeD"
   },
   "source": [
    "_______"
   ]
  },
  {
   "cell_type": "markdown",
   "metadata": {
    "id": "rPNhmDacMh5N"
   },
   "source": [
    "# Building and Training a one task Neural Network  \n",
    "\n"
   ]
  },
  {
   "cell_type": "code",
   "execution_count": 69,
   "metadata": {
    "id": "euJXib2EMjxd"
   },
   "outputs": [],
   "source": [
    "model1=reg_four_layer_model_config(n4=1)"
   ]
  },
  {
   "cell_type": "code",
   "execution_count": 70,
   "metadata": {
    "colab": {
     "base_uri": "https://localhost:8080/"
    },
    "id": "2B1P62H_MsN-",
    "outputId": "3cc064bc-716f-4827-b647-218e7b8e8a9e"
   },
   "outputs": [
    {
     "name": "stdout",
     "output_type": "stream",
     "text": [
      "Model: \"model_3\"\n",
      "_________________________________________________________________\n",
      " Layer (type)                Output Shape              Param #   \n",
      "=================================================================\n",
      " input_4 (InputLayer)        [(None, 163)]             0         \n",
      "                                                                 \n",
      " dense_12 (Dense)            (None, 64)                10496     \n",
      "                                                                 \n",
      " dense_13 (Dense)            (None, 32)                2080      \n",
      "                                                                 \n",
      " dense_14 (Dense)            (None, 16)                528       \n",
      "                                                                 \n",
      " dense_15 (Dense)            (None, 1)                 17        \n",
      "                                                                 \n",
      "=================================================================\n",
      "Total params: 13,121\n",
      "Trainable params: 13,121\n",
      "Non-trainable params: 0\n",
      "_________________________________________________________________\n"
     ]
    }
   ],
   "source": [
    "model1.summary()"
   ]
  },
  {
   "cell_type": "code",
   "execution_count": 81,
   "metadata": {
    "colab": {
     "base_uri": "https://localhost:8080/"
    },
    "id": "ldzyCR_0M1Jh",
    "outputId": "9ba9a6f7-4d73-4753-8da2-13a2c6a5b7d3"
   },
   "outputs": [
    {
     "name": "stdout",
     "output_type": "stream",
     "text": [
      "Epoch 1/22\n",
      "424/424 [==============================] - 3s 5ms/step - loss: 0.0242 - val_loss: 0.0127\n",
      "Epoch 2/22\n",
      "424/424 [==============================] - 2s 4ms/step - loss: 0.0132 - val_loss: 0.0107\n",
      "Epoch 3/22\n",
      "424/424 [==============================] - 1s 3ms/step - loss: 0.0120 - val_loss: 0.0098\n",
      "Epoch 4/22\n",
      "424/424 [==============================] - 1s 3ms/step - loss: 0.0095 - val_loss: 0.0104\n",
      "Epoch 5/22\n",
      "424/424 [==============================] - 1s 3ms/step - loss: 0.0103 - val_loss: 0.0067\n",
      "Epoch 6/22\n",
      "424/424 [==============================] - 1s 3ms/step - loss: 0.0078 - val_loss: 0.0055\n",
      "Epoch 7/22\n",
      "424/424 [==============================] - 1s 3ms/step - loss: 0.0066 - val_loss: 0.0045\n",
      "Epoch 8/22\n",
      "424/424 [==============================] - 1s 3ms/step - loss: 0.0057 - val_loss: 0.0074\n",
      "Epoch 9/22\n",
      "424/424 [==============================] - 1s 3ms/step - loss: 0.0067 - val_loss: 0.0051\n",
      "Epoch 10/22\n",
      "424/424 [==============================] - 1s 3ms/step - loss: 0.0051 - val_loss: 0.0037\n",
      "Epoch 11/22\n",
      "424/424 [==============================] - 2s 4ms/step - loss: 0.0052 - val_loss: 0.0036\n",
      "Epoch 12/22\n",
      "424/424 [==============================] - 2s 4ms/step - loss: 0.0051 - val_loss: 0.0043\n",
      "Epoch 13/22\n",
      "424/424 [==============================] - 2s 4ms/step - loss: 0.0046 - val_loss: 0.0032\n",
      "Epoch 14/22\n",
      "424/424 [==============================] - 2s 4ms/step - loss: 0.0042 - val_loss: 0.0034\n",
      "Epoch 15/22\n",
      "424/424 [==============================] - 1s 3ms/step - loss: 0.0047 - val_loss: 0.0035\n",
      "Epoch 16/22\n",
      "424/424 [==============================] - 1s 3ms/step - loss: 0.0041 - val_loss: 0.0028\n",
      "Epoch 17/22\n",
      "424/424 [==============================] - 1s 3ms/step - loss: 0.0040 - val_loss: 0.0046\n",
      "Epoch 18/22\n",
      "424/424 [==============================] - 1s 3ms/step - loss: 0.0045 - val_loss: 0.0030\n",
      "Epoch 19/22\n",
      "424/424 [==============================] - 1s 3ms/step - loss: 0.0040 - val_loss: 0.0031\n",
      "Epoch 20/22\n",
      "424/424 [==============================] - 1s 3ms/step - loss: 0.0034 - val_loss: 0.0026\n",
      "Epoch 21/22\n",
      "424/424 [==============================] - 1s 3ms/step - loss: 0.0037 - val_loss: 0.0083\n",
      "Epoch 22/22\n",
      "424/424 [==============================] - 1s 3ms/step - loss: 0.0036 - val_loss: 0.0021\n"
     ]
    }
   ],
   "source": [
    "model1=reg_four_layer_model_config(n4=1)\n",
    "comp(model1,lr=0.01)\n",
    "history1 = model1.fit(x=x_train,y= y_train['u298'],batch_size =256,epochs=22,validation_split = 0.1 ,verbose=1)"
   ]
  },
  {
   "cell_type": "code",
   "execution_count": 95,
   "metadata": {
    "colab": {
     "base_uri": "https://localhost:8080/",
     "height": 458
    },
    "id": "lMQskRkQNsFL",
    "outputId": "7ca19ba4-437c-445f-dd07-ab36f6499b24"
   },
   "outputs": [
    {
     "data": {
      "image/png": "[encoded data removed]",
      "text/plain": [
       "<Figure size 720x504 with 1 Axes>"
      ]
     },
     "metadata": {
      "needs_background": "light"
     },
     "output_type": "display_data"
    }
   ],
   "source": [
    "plot_model(history1)"
   ]
  },
  {
   "cell_type": "code",
   "execution_count": 96,
   "metadata": {
    "colab": {
     "base_uri": "https://localhost:8080/"
    },
    "id": "DNOwD7ZcPb51",
    "outputId": "1d7690af-209b-44f7-e60b-40602dc62917"
   },
   "outputs": [
    {
     "name": "stdout",
     "output_type": "stream",
     "text": [
      "419/419 [==============================] - 1s 2ms/step - loss: 0.0022\n"
     ]
    },
    {
     "data": {
      "text/plain": [
       "0.0021934513933956623"
      ]
     },
     "execution_count": 96,
     "metadata": {},
     "output_type": "execute_result"
    }
   ],
   "source": [
    "model1.evaluate(x_test,y_test['u298'])"
   ]
  },
  {
   "cell_type": "code",
   "execution_count": 103,
   "metadata": {
    "colab": {
     "base_uri": "https://localhost:8080/"
    },
    "id": "gJnTw55DQKb3",
    "outputId": "9234ff3c-f65b-4719-d7b2-9ee8c4f69d24"
   },
   "outputs": [
    {
     "name": "stdout",
     "output_type": "stream",
     "text": [
      "Prediction :                 0\n",
      "0     -424.092926\n",
      "1     -398.949432\n",
      "2     -457.707703\n",
      "3     -366.033752\n",
      "4     -456.422974\n",
      "...           ...\n",
      "13384 -452.218903\n",
      "13385 -398.788696\n",
      "13386 -397.876923\n",
      "13387 -423.971283\n",
      "13388 -363.766205\n",
      "\n",
      "[13389 rows x 1 columns] , True label : 106798   -424.208666\n",
      "8319     -402.148032\n",
      "114653   -458.932697\n",
      "17059    -364.966997\n",
      "91717    -459.005483\n",
      "             ...    \n",
      "113530   -455.091390\n",
      "36217    -396.932109\n",
      "6012     -401.040050\n",
      "121269   -424.189758\n",
      "10149    -363.881869\n",
      "Name: u298, Length: 13389, dtype: float64\n"
     ]
    }
   ],
   "source": [
    "y_pred1=pd.DataFrame(model1.predict(x_test))\n",
    "y_true1=y_test['u298']\n",
    "\n",
    "y_true1=y_true1*np.max(np.abs(yy['u298']))\n",
    "y_pred1=y_pred1*np.max(np.abs(yy['u298']))\n",
    "\n",
    "print(f\"Prediction : {y_pred1} , True label : {y_true1}\")"
   ]
  },
  {
   "cell_type": "markdown",
   "metadata": {
    "id": "ENmUNUS39gpT"
   },
   "source": [
    "---------------\n",
    "# Decision Tree\n",
    "---------------\n"
   ]
  },
  {
   "cell_type": "markdown",
   "metadata": {
    "id": "x55b0PmV9kpm"
   },
   "source": [
    "## Data Splitting for decision tree\n",
    "\n",
    "\n",
    "\n",
    "\n"
   ]
  },
  {
   "cell_type": "code",
   "execution_count": 10,
   "metadata": {
    "id": "0CoT4pVN9jrZ"
   },
   "outputs": [],
   "source": [
    "x_train, x_test, y_train, y_test = train_test_split(df_x, y['u298'], test_size=0.1, random_state=50)"
   ]
  },
  {
   "cell_type": "code",
   "execution_count": 11,
   "metadata": {
    "colab": {
     "base_uri": "https://localhost:8080/"
    },
    "id": "xUIdwSLuQrUm",
    "outputId": "dae29116-7b07-4516-d671-7b769e3b4d70"
   },
   "outputs": [
    {
     "name": "stdout",
     "output_type": "stream",
     "text": [
      "(120496, 163)\n",
      "(120496,)\n",
      "(13389, 163)\n",
      "(13389,)\n"
     ]
    }
   ],
   "source": [
    "print(x_train.shape)\n",
    "print(y_train.shape)\n",
    "print(x_test.shape)\n",
    "print(y_test.shape)"
   ]
  },
  {
   "cell_type": "markdown",
   "metadata": {
    "id": "_WFY5wVRTOR0"
   },
   "source": [
    "# Building Decision Tree by modifying depth and number of leaf nodes"
   ]
  },
  {
   "cell_type": "code",
   "execution_count": null,
   "metadata": {
    "id": "enimB9K0U-lK"
   },
   "outputs": [],
   "source": [
    "tree = DecisionTreeRegressor(criterion='absolute_error',max_depth=3)\n",
    "tree.fit(x_train, y_train)"
   ]
  },
  {
   "cell_type": "code",
   "execution_count": null,
   "metadata": {
    "id": "9bOidUjFVTEs"
   },
   "outputs": [],
   "source": [
    "y_pred2= clf.predict(x_train)"
   ]
  },
  {
   "cell_type": "code",
   "execution_count": null,
   "metadata": {
    "id": "SE0i9AapV9qz"
   },
   "outputs": [],
   "source": [
    "y_pred2= tree.predict(x_train)"
   ]
  },
  {
   "cell_type": "code",
   "execution_count": null,
   "metadata": {
    "id": "uDcBYaG8Wb2w"
   },
   "outputs": [],
   "source": [
    "mae=mean_absolute_error(y_test,y_pred2)"
   ]
  },
  {
   "cell_type": "code",
   "execution_count": null,
   "metadata": {
    "id": "AsT7FXqMX9iB"
   },
   "outputs": [],
   "source": [
    "r2_score(y_test, y_pred2)"
   ]
  },
  {
   "cell_type": "code",
   "execution_count": null,
   "metadata": {
    "id": "9A9l0OQWTJq4"
   },
   "outputs": [],
   "source": [
    "depth = []\n",
    "for i in range(3,10):\n",
    "    tree = DecisionTreeRegressor(criterion='absolute_error',max_depth=i)\n",
    "    tree.fit(x_train, y_train)\n",
    "print(depth)"
   ]
  },
  {
   "cell_type": "code",
   "execution_count": null,
   "metadata": {
    "id": "q9pET4OzTwI4"
   },
   "outputs": [],
   "source": []
  }
 ],
 "metadata": {
  "colab": {
   "collapsed_sections": [],
   "name": "QM9 Processing NN-Decision Tree.ipynb",
   "provenance": []
  },
  "kernelspec": {
   "display_name": "Python 3",
   "language": "python",
   "name": "python3"
  },
  "language_info": {
   "codemirror_mode": {
    "name": "ipython",
    "version": 3
   },
   "file_extension": ".py",
   "mimetype": "text/x-python",
   "name": "python",
   "nbconvert_exporter": "python",
   "pygments_lexer": "ipython3",
   "version": "3.9.1"
  }
 },
 "nbformat": 4,
 "nbformat_minor": 1
}
