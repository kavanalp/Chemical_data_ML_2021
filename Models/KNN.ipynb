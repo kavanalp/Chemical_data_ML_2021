{
  "nbformat": 4,
  "nbformat_minor": 0,
  "metadata": {
    "colab": {
      "name": "KNN.ipynb",
      "provenance": [],
      "collapsed_sections": [],
      "mount_file_id": "1_60uvVzkUDj5085E0tESEuHX2yCCWWEs",
      "authorship_tag": "ABX9TyPdYfv5y4hztxlP5NgTKXgQ",
      "include_colab_link": true
    },
    "kernelspec": {
      "name": "python3",
      "display_name": "Python 3"
    },
    "language_info": {
      "name": "python"
    }
  },
  "cells": [
    {
      "cell_type": "markdown",
      "metadata": {
        "id": "view-in-github",
        "colab_type": "text"
      },
      "source": [
        "<a href=\"https://colab.research.google.com/github/panahiparham/mlclass_proj_f2021/blob/main/Models/KNN.ipynb\" target=\"_parent\"><img src=\"https://colab.research.google.com/assets/colab-badge.svg\" alt=\"Open In Colab\"/></a>"
      ]
    },
    {
      "cell_type": "code",
      "execution_count": 24,
      "metadata": {
        "id": "ZJEITNdy1L4N"
      },
      "outputs": [],
      "source": [
        "import numpy as np\n",
        "import pandas as pd\n",
        "import matplotlib.pyplot as plt"
      ]
    },
    {
      "cell_type": "code",
      "source": [
        "from sklearn.neighbors import KNeighborsClassifier\n",
        "from sklearn.neighbors import KNeighborsRegressor\n",
        "from sklearn.model_selection import train_test_split\n",
        "from sklearn.pipeline import Pipeline\n",
        "from sklearn.decomposition import PCA\n",
        "from sklearn.model_selection import GridSearchCV\n",
        "from sklearn.model_selection import RepeatedStratifiedKFold\n",
        "from sklearn.model_selection import StratifiedKFold\n",
        "from sklearn.preprocessing import StandardScaler\n",
        "from sklearn.metrics import confusion_matrix\n",
        "from sklearn.model_selection import cross_val_score\n",
        "from sklearn.metrics import roc_auc_score\n",
        "from sklearn.metrics import mean_absolute_error"
      ],
      "metadata": {
        "id": "nvgpuTSzUaI4"
      },
      "execution_count": 31,
      "outputs": []
    },
    {
      "cell_type": "markdown",
      "source": [
        "## KNN on Tox21"
      ],
      "metadata": {
        "id": "iES56YKD1aVv"
      }
    },
    {
      "cell_type": "code",
      "source": [
        "# dataset load\n",
        "tox21_path = '/content/drive/MyDrive/Data Science @ SBU/Applied Machine Learning/project/tox21_preprocessed'\n",
        "tox21_features = pd.read_csv(tox21_path + '/tox21_x.csv').to_numpy()\n",
        "tox21_label = pd.read_csv(tox21_path + '/tox21_y.csv').to_numpy()"
      ],
      "metadata": {
        "id": "RqgtuMdj1c12"
      },
      "execution_count": 3,
      "outputs": []
    },
    {
      "cell_type": "code",
      "source": [
        "# exploring features\n",
        "print('Tox21 features shape:', tox21_features.shape, 'dtype:', tox21_features.dtype)\n",
        "\n",
        "feature_range = tox21_features.max(axis=0) - tox21_features.min(axis=0)\n",
        "_ = plt.plot(feature_range)\n",
        "plt.title('range of features')"
      ],
      "metadata": {
        "colab": {
          "base_uri": "https://localhost:8080/",
          "height": 316
        },
        "id": "TqSTkKgSP_c9",
        "outputId": "9db1a274-ee39-4e82-a63d-cb6419bf1531"
      },
      "execution_count": 4,
      "outputs": [
        {
          "output_type": "stream",
          "name": "stdout",
          "text": [
            "Tox21 features shape: (7237, 190) dtype: float64\n"
          ]
        },
        {
          "output_type": "execute_result",
          "data": {
            "text/plain": [
              "Text(0.5, 1.0, 'range of features')"
            ]
          },
          "metadata": {},
          "execution_count": 4
        },
        {
          "output_type": "display_data",
          "data": {
            "image/png": "[encoded data removed]",
            "text/plain": [
              "<Figure size 432x288 with 1 Axes>"
            ]
          },
          "metadata": {
            "needs_background": "light"
          }
        }
      ]
    },
    {
      "cell_type": "code",
      "source": [
        "# features are already scaled but serveral features are not in the [0, 1] range.\n",
        "# they occupy a smaller range such as [0, 0.8]"
      ],
      "metadata": {
        "id": "wERw35CZQFq2"
      },
      "execution_count": 5,
      "outputs": []
    },
    {
      "cell_type": "code",
      "source": [
        "# exploring labels\n",
        "tox21_label = tox21_label.squeeze()\n",
        "print('Tox21 features shape:', tox21_label.shape, 'dtype:', tox21_label.dtype)\n",
        "\n",
        "num_pos_samples = np.count_nonzero(tox21_label)\n",
        "print('Number of positive samples:', num_pos_samples)\n",
        "print('Number of negative samples:', len(tox21_label) - num_pos_samples)"
      ],
      "metadata": {
        "colab": {
          "base_uri": "https://localhost:8080/"
        },
        "id": "HdelqealQIWC",
        "outputId": "9ea1fe30-e5c9-48ba-9696-9b37e404d672"
      },
      "execution_count": 6,
      "outputs": [
        {
          "output_type": "stream",
          "name": "stdout",
          "text": [
            "Tox21 features shape: (7237,) dtype: float64\n",
            "Number of positive samples: 310\n",
            "Number of negative samples: 6927\n"
          ]
        }
      ]
    },
    {
      "cell_type": "code",
      "source": [
        "# labels are unbalanced, only a small portion of data is positive"
      ],
      "metadata": {
        "id": "QiZzUzQoQJ-e"
      },
      "execution_count": 7,
      "outputs": []
    },
    {
      "cell_type": "code",
      "source": [
        "# We start by training a baseline knn classfier, compare results of adding standardization and tuning\n",
        "# scoring: roc-auc"
      ],
      "metadata": {
        "id": "sFRtSizOjNG3"
      },
      "execution_count": 8,
      "outputs": []
    },
    {
      "cell_type": "code",
      "source": [
        "# keep 20% of each class for final evaluation\n",
        "x_train, x_test, y_train, y_test =  train_test_split(tox21_features, tox21_label , test_size=0.2, stratify=tox21_label, random_state = 42)"
      ],
      "metadata": {
        "id": "bD4aBa3kSBz_"
      },
      "execution_count": 9,
      "outputs": []
    },
    {
      "cell_type": "code",
      "source": [
        "# baseline - knn\n",
        "\n",
        "# cross validation on training set\n",
        "model = KNeighborsClassifier()\n",
        "\n",
        "cv = StratifiedKFold(n_splits = 5, random_state=42, shuffle=True)\n",
        "cv_scores = cross_val_score(model, x_train, y_train, scoring='roc_auc', cv=cv, n_jobs=-1)\n",
        "\n",
        "# training on x_train\n",
        "\n",
        "model = KNeighborsClassifier()\n",
        "model.fit(x_train, y_train)\n",
        "\n",
        "# testing on x_test\n",
        "y_pred = model.predict(x_test)\n",
        "\n",
        "\n",
        "print('Train Set Score:', roc_auc_score(y_train, model.predict_proba(x_train)[:,1]))\n",
        "print('Cross Validation Score:', np.mean(cv_scores))\n",
        "print('Test Set Score:', roc_auc_score(y_test, model.predict_proba(x_test)[:,1]))\n",
        "print()\n",
        "\n",
        "print('Training Confusion Matrix:')\n",
        "print(confusion_matrix(y_train, model.predict(x_train)))\n",
        "print()\n",
        "\n",
        "print('Test Confusion Matrix:')\n",
        "print(confusion_matrix(y_test, model.predict(x_test)))"
      ],
      "metadata": {
        "colab": {
          "base_uri": "https://localhost:8080/"
        },
        "id": "ocx3DJaxJZ9M",
        "outputId": "ed693280-b012-42f6-ecf6-a6423c587a4a"
      },
      "execution_count": 10,
      "outputs": [
        {
          "output_type": "stream",
          "name": "stdout",
          "text": [
            "Train Set Score: 0.9786125131716064\n",
            "Cross Validation Score: 0.7635803621295845\n",
            "Test Set Score: 0.6786470697761021\n",
            "\n",
            "Training Confusion Matrix:\n",
            "[[5526   15]\n",
            " [ 124  124]]\n",
            "\n",
            "Test Confusion Matrix:\n",
            "[[1380    6]\n",
            " [  42   20]]\n"
          ]
        }
      ]
    },
    {
      "cell_type": "code",
      "source": [
        "# knn + standardization\n",
        "\n",
        "# cross validation on training set\n",
        "model = Pipeline(\n",
        "    steps=[('scale', StandardScaler()), ('knn', KNeighborsClassifier())]\n",
        ")\n",
        "\n",
        "cv = StratifiedKFold(n_splits = 5, random_state=42, shuffle=True)\n",
        "cv_scores = cross_val_score(model, x_train, y_train, scoring='roc_auc', cv=cv, n_jobs=-1)\n",
        "\n",
        "# training on x_train\n",
        "model = Pipeline(\n",
        "    steps=[('scale', StandardScaler()), ('knn', KNeighborsClassifier())]\n",
        ")\n",
        "model.fit(x_train, y_train)\n",
        "\n",
        "# testing on x_test\n",
        "y_pred = model.predict(x_test)\n",
        "\n",
        "\n",
        "print('Train Set Score:', roc_auc_score(y_train, model.predict_proba(x_train)[:,1]))\n",
        "print('Cross Validation Score:', np.mean(cv_scores))\n",
        "print('Test Set Score:', roc_auc_score(y_test, model.predict_proba(x_test)[:,1]))\n",
        "print()\n",
        "\n",
        "print('Training Confusion Matrix:')\n",
        "print(confusion_matrix(y_train, model.predict(x_train)))\n",
        "print()\n",
        "\n",
        "print('Test Confusion Matrix:')\n",
        "print(confusion_matrix(y_test, model.predict(x_test)))"
      ],
      "metadata": {
        "id": "Nar8njf5UFqD",
        "colab": {
          "base_uri": "https://localhost:8080/"
        },
        "outputId": "41a2f073-eeac-4b63-d650-e3ca552532d2"
      },
      "execution_count": 11,
      "outputs": [
        {
          "output_type": "stream",
          "name": "stdout",
          "text": [
            "Train Set Score: 0.9777370743606313\n",
            "Cross Validation Score: 0.752693945081524\n",
            "Test Set Score: 0.6999778894940185\n",
            "\n",
            "Training Confusion Matrix:\n",
            "[[5524   17]\n",
            " [ 127  121]]\n",
            "\n",
            "Test Confusion Matrix:\n",
            "[[1380    6]\n",
            " [  40   22]]\n"
          ]
        }
      ]
    },
    {
      "cell_type": "code",
      "source": [
        "# grid search\n",
        "\n",
        "model = Pipeline(\n",
        "    steps=[('scale',StandardScaler()),\n",
        "           ('knn', KNeighborsClassifier())]\n",
        ")\n",
        "\n",
        "grid_params = {\n",
        "    'knn__n_neighbors': [10,20,30,40,50],\n",
        "    'knn__p': [1,2,3],\n",
        "}\n",
        "\n",
        "cv = StratifiedKFold(n_splits = 5, random_state=42, shuffle=True)\n",
        "grid = GridSearchCV(\n",
        "    estimator = model,\n",
        "    param_grid = grid_params,\n",
        "    scoring = 'roc_auc',\n",
        "    n_jobs = -1,\n",
        "    cv = cv\n",
        ")\n",
        "\n",
        "grid_result = grid.fit(x_train, y_train)\n",
        "\n",
        "\n",
        "# Report gridsearch result\n",
        "print(f\"Best score: {grid_result.best_score_} Best params: {grid_result.best_params_}\")\n",
        "print()\n",
        "means = grid_result.cv_results_['mean_test_score']\n",
        "params = grid_result.cv_results_['params']\n",
        "for mean, param in zip(means, params):\n",
        "    print(f\"score:{mean} params:{param}\")"
      ],
      "metadata": {
        "colab": {
          "base_uri": "https://localhost:8080/"
        },
        "id": "Xgt2-2nsQHuK",
        "outputId": "2536720d-ee02-4284-f4a7-a907a9451cef"
      },
      "execution_count": 12,
      "outputs": [
        {
          "output_type": "stream",
          "name": "stdout",
          "text": [
            "Best score: 0.809231288486657 Best params: {'knn__n_neighbors': 50, 'knn__p': 2}\n",
            "\n",
            "score:0.7698988291413157 params:{'knn__n_neighbors': 10, 'knn__p': 1}\n",
            "score:0.7728419306230206 params:{'knn__n_neighbors': 10, 'knn__p': 2}\n",
            "score:0.7647727766636371 params:{'knn__n_neighbors': 10, 'knn__p': 3}\n",
            "score:0.7843145576499572 params:{'knn__n_neighbors': 20, 'knn__p': 1}\n",
            "score:0.7830571229667024 params:{'knn__n_neighbors': 20, 'knn__p': 2}\n",
            "score:0.7755151380601852 params:{'knn__n_neighbors': 20, 'knn__p': 3}\n",
            "score:0.7971473101035931 params:{'knn__n_neighbors': 30, 'knn__p': 1}\n",
            "score:0.7905259231433114 params:{'knn__n_neighbors': 30, 'knn__p': 2}\n",
            "score:0.786279611295352 params:{'knn__n_neighbors': 30, 'knn__p': 3}\n",
            "score:0.7975977938352523 params:{'knn__n_neighbors': 40, 'knn__p': 1}\n",
            "score:0.797570559709953 params:{'knn__n_neighbors': 40, 'knn__p': 2}\n",
            "score:0.7907174138746917 params:{'knn__n_neighbors': 40, 'knn__p': 3}\n",
            "score:0.805880576805501 params:{'knn__n_neighbors': 50, 'knn__p': 1}\n",
            "score:0.809231288486657 params:{'knn__n_neighbors': 50, 'knn__p': 2}\n",
            "score:0.8056926340995361 params:{'knn__n_neighbors': 50, 'knn__p': 3}\n"
          ]
        }
      ]
    },
    {
      "cell_type": "code",
      "source": [
        "# Tuned knn + standardization\n",
        "\n",
        "# Best params: {'knn__n_neighbors': 50, 'knn__p': 2}\n",
        "\n",
        "# cross validation on training set\n",
        "model = Pipeline(\n",
        "    steps=[('scale', StandardScaler()), ('knn', KNeighborsClassifier(n_neighbors=50, p=2))]\n",
        ")\n",
        "\n",
        "cv = StratifiedKFold(n_splits = 5, random_state=42, shuffle=True)\n",
        "cv_scores = cross_val_score(model, x_train, y_train, scoring='roc_auc', cv=cv, n_jobs=-1)\n",
        "\n",
        "# training on x_train\n",
        "model = Pipeline(\n",
        "    steps=[('scale', StandardScaler()), ('knn', KNeighborsClassifier(n_neighbors=50, p=2))]\n",
        ")\n",
        "model.fit(x_train, y_train)\n",
        "\n",
        "# testing on x_test\n",
        "y_pred = model.predict(x_test)\n",
        "\n",
        "\n",
        "print('Train Set Score:', roc_auc_score(y_train, model.predict_proba(x_train)[:,1]))\n",
        "print('Cross Validation Score:', np.mean(cv_scores))\n",
        "print('Test Set Score:', roc_auc_score(y_test, model.predict_proba(x_test)[:,1]))\n",
        "print()\n",
        "\n",
        "print('Training Confusion Matrix:')\n",
        "print(confusion_matrix(y_train, model.predict(x_train)))\n",
        "print()\n",
        "\n",
        "print('Test Confusion Matrix:')\n",
        "print(confusion_matrix(y_test, model.predict(x_test)))"
      ],
      "metadata": {
        "colab": {
          "base_uri": "https://localhost:8080/"
        },
        "id": "mak2R8C75v-D",
        "outputId": "e81b2190-434a-49cc-d47d-ef9c7ecc1719"
      },
      "execution_count": 13,
      "outputs": [
        {
          "output_type": "stream",
          "name": "stdout",
          "text": [
            "Train Set Score: 0.8938459489669386\n",
            "Cross Validation Score: 0.809231288486657\n",
            "Test Set Score: 0.7231706465577433\n",
            "\n",
            "Training Confusion Matrix:\n",
            "[[5507   34]\n",
            " [ 138  110]]\n",
            "\n",
            "Test Confusion Matrix:\n",
            "[[1377    9]\n",
            " [  42   20]]\n"
          ]
        }
      ]
    },
    {
      "cell_type": "markdown",
      "source": [
        "![Comparison of KNN models.png](data:image/png;base64,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)"
      ],
      "metadata": {
        "id": "CgsqEPpaLavG"
      }
    },
    {
      "cell_type": "markdown",
      "source": [
        "## KNN on TOXCAST"
      ],
      "metadata": {
        "id": "tfGYv7rUTGTN"
      }
    },
    {
      "cell_type": "code",
      "source": [
        "# data load\n",
        "toxcast_data = pd.read_csv('/content/drive/MyDrive/Data Science @ SBU/Applied Machine Learning/project/toxcast_preprocessed/final_toxcast.csv')\n",
        "toxcast_label = toxcast_data['label'].to_numpy()\n",
        "toxcast_features = toxcast_data.drop(['label'], axis=1).to_numpy()"
      ],
      "metadata": {
        "id": "87gMNL4OTFpD"
      },
      "execution_count": 14,
      "outputs": []
    },
    {
      "cell_type": "code",
      "source": [
        "# exploring features\n",
        "print('Tox21 features shape:', toxcast_features.shape, 'dtype:', toxcast_features.dtype)\n",
        "\n",
        "feature_range = toxcast_features.max(axis=0) - toxcast_features.min(axis=0)\n",
        "_ = plt.plot(feature_range)\n",
        "_ = plt.title('range of features')"
      ],
      "metadata": {
        "colab": {
          "base_uri": "https://localhost:8080/",
          "height": 298
        },
        "id": "hucdXLrgTKtK",
        "outputId": "07859744-ab71-49bb-8ea0-a5330da5ebcd"
      },
      "execution_count": 15,
      "outputs": [
        {
          "output_type": "stream",
          "name": "stdout",
          "text": [
            "Tox21 features shape: (7831, 135) dtype: float64\n"
          ]
        },
        {
          "output_type": "display_data",
          "data": {
            "image/png": "[encoded data removed]",
            "text/plain": [
              "<Figure size 432x288 with 1 Axes>"
            ]
          },
          "metadata": {
            "needs_background": "light"
          }
        }
      ]
    },
    {
      "cell_type": "code",
      "source": [
        "# features are already scaled but serveral features are not in the [0, 1] range.\n",
        "# they occupy a smaller range such as [0, 0.8]"
      ],
      "metadata": {
        "id": "yWbuNar8TLuZ"
      },
      "execution_count": 16,
      "outputs": []
    },
    {
      "cell_type": "code",
      "source": [
        "# exploring labels\n",
        "print('Tox21 features shape:', toxcast_label.shape, 'dtype:', toxcast_label.dtype)\n",
        "\n",
        "num_pos_samples = np.count_nonzero(toxcast_label)\n",
        "print('Number of positive samples:', num_pos_samples)\n",
        "print('Number of negative samples:', len(toxcast_label) - num_pos_samples)"
      ],
      "metadata": {
        "colab": {
          "base_uri": "https://localhost:8080/"
        },
        "id": "15amtVVTTMr6",
        "outputId": "099bf44a-f5ad-45f9-fbc1-4e55ae030599"
      },
      "execution_count": 17,
      "outputs": [
        {
          "output_type": "stream",
          "name": "stdout",
          "text": [
            "Tox21 features shape: (7831,) dtype: float64\n",
            "Number of positive samples: 1715\n",
            "Number of negative samples: 6116\n"
          ]
        }
      ]
    },
    {
      "cell_type": "code",
      "source": [
        "# keep 20% of each class for final evaluation\n",
        "x_train, x_test, y_train, y_test =  train_test_split(toxcast_features, toxcast_label , test_size=0.2, stratify=toxcast_label, random_state = 42)"
      ],
      "metadata": {
        "id": "8hFbMU32TNlg"
      },
      "execution_count": 18,
      "outputs": []
    },
    {
      "cell_type": "code",
      "source": [
        "# baseline - knn\n",
        "\n",
        "# cross validation on training set\n",
        "model = KNeighborsClassifier()\n",
        "\n",
        "cv = StratifiedKFold(n_splits = 5, random_state=42, shuffle=True)\n",
        "cv_scores = cross_val_score(model, x_train, y_train, scoring='roc_auc', cv=cv, n_jobs=-1)\n",
        "\n",
        "# training on x_train\n",
        "\n",
        "model = KNeighborsClassifier()\n",
        "model.fit(x_train, y_train)\n",
        "\n",
        "# testing on x_test\n",
        "y_pred = model.predict(x_test)\n",
        "\n",
        "\n",
        "print('Train Set Score:', roc_auc_score(y_train, model.predict_proba(x_train)[:,1]))\n",
        "print('Cross Validation Score:', np.mean(cv_scores))\n",
        "print('Test Set Score:', roc_auc_score(y_test, model.predict_proba(x_test)[:,1]))\n",
        "print()\n",
        "\n",
        "print('Training Confusion Matrix:')\n",
        "print(confusion_matrix(y_train, model.predict(x_train)))\n",
        "print()\n",
        "\n",
        "print('Test Confusion Matrix:')\n",
        "print(confusion_matrix(y_test, model.predict(x_test)))"
      ],
      "metadata": {
        "colab": {
          "base_uri": "https://localhost:8080/"
        },
        "id": "xEjANrFgTPbr",
        "outputId": "a51bcfb5-0e4b-42f0-ab32-96b4cc74c131"
      },
      "execution_count": 19,
      "outputs": [
        {
          "output_type": "stream",
          "name": "stdout",
          "text": [
            "Train Set Score: 0.9372854532538397\n",
            "Cross Validation Score: 0.8098801890435796\n",
            "Test Set Score: 0.8074837077688218\n",
            "\n",
            "Training Confusion Matrix:\n",
            "[[4699  193]\n",
            " [ 573  799]]\n",
            "\n",
            "Test Confusion Matrix:\n",
            "[[1133   91]\n",
            " [ 186  157]]\n"
          ]
        }
      ]
    },
    {
      "cell_type": "code",
      "source": [
        "# knn + standardization\n",
        "\n",
        "# cross validation on training set\n",
        "model = Pipeline(\n",
        "    steps=[('scale', StandardScaler()), ('knn', KNeighborsClassifier())]\n",
        ")\n",
        "\n",
        "cv = StratifiedKFold(n_splits = 5, random_state=42, shuffle=True)\n",
        "cv_scores = cross_val_score(model, x_train, y_train, scoring='roc_auc', cv=cv, n_jobs=-1)\n",
        "\n",
        "# training on x_train\n",
        "model = Pipeline(\n",
        "    steps=[('scale', StandardScaler()), ('knn', KNeighborsClassifier())]\n",
        ")\n",
        "model.fit(x_train, y_train)\n",
        "\n",
        "# testing on x_test\n",
        "y_pred = model.predict(x_test)\n",
        "\n",
        "\n",
        "print('Train Set Score:', roc_auc_score(y_train, model.predict_proba(x_train)[:,1]))\n",
        "print('Cross Validation Score:', np.mean(cv_scores))\n",
        "print('Test Set Score:', roc_auc_score(y_test, model.predict_proba(x_test)[:,1]))\n",
        "print()\n",
        "\n",
        "print('Training Confusion Matrix:')\n",
        "print(confusion_matrix(y_train, model.predict(x_train)))\n",
        "print()\n",
        "\n",
        "print('Test Confusion Matrix:')\n",
        "print(confusion_matrix(y_test, model.predict(x_test)))"
      ],
      "metadata": {
        "colab": {
          "base_uri": "https://localhost:8080/"
        },
        "id": "aXeqigglTVGL",
        "outputId": "bfb49e6c-64eb-4098-95a5-2efd60ae14e9"
      },
      "execution_count": 20,
      "outputs": [
        {
          "output_type": "stream",
          "name": "stdout",
          "text": [
            "Train Set Score: 0.9357434730112113\n",
            "Cross Validation Score: 0.7987868039877384\n",
            "Test Set Score: 0.8107766916290324\n",
            "\n",
            "Training Confusion Matrix:\n",
            "[[4721  171]\n",
            " [ 609  763]]\n",
            "\n",
            "Test Confusion Matrix:\n",
            "[[1145   79]\n",
            " [ 193  150]]\n"
          ]
        }
      ]
    },
    {
      "cell_type": "code",
      "source": [
        "# grid search\n",
        "\n",
        "model = Pipeline(\n",
        "    steps=[('scale',StandardScaler()),\n",
        "           ('knn', KNeighborsClassifier())]\n",
        ")\n",
        "\n",
        "grid_params = {\n",
        "    'knn__n_neighbors': [10,20,30,40,50],\n",
        "    'knn__p': [1,2,3],\n",
        "}\n",
        "\n",
        "cv = StratifiedKFold(n_splits = 5, random_state=42, shuffle=True)\n",
        "grid = GridSearchCV(\n",
        "    estimator = model,\n",
        "    param_grid = grid_params,\n",
        "    scoring = 'roc_auc',\n",
        "    n_jobs = -1,\n",
        "    cv = cv\n",
        ")\n",
        "\n",
        "grid_result = grid.fit(x_train, y_train)\n",
        "\n",
        "\n",
        "# Report gridsearch result\n",
        "print(f\"Best score: {grid_result.best_score_} Best params: {grid_result.best_params_}\")\n",
        "print()\n",
        "means = grid_result.cv_results_['mean_test_score']\n",
        "params = grid_result.cv_results_['params']\n",
        "for mean, param in zip(means, params):\n",
        "    print(f\"score:{mean} params:{param}\")"
      ],
      "metadata": {
        "colab": {
          "base_uri": "https://localhost:8080/"
        },
        "id": "7gM_ZxkaTau2",
        "outputId": "0097518e-c44f-45cd-9505-0d364f13f5c6"
      },
      "execution_count": 21,
      "outputs": [
        {
          "output_type": "stream",
          "name": "stdout",
          "text": [
            "Best score: 0.8382481501314599 Best params: {'knn__n_neighbors': 20, 'knn__p': 1}\n",
            "\n",
            "score:0.8297247368868916 params:{'knn__n_neighbors': 10, 'knn__p': 1}\n",
            "score:0.8138764171494935 params:{'knn__n_neighbors': 10, 'knn__p': 2}\n",
            "score:0.7980531571095341 params:{'knn__n_neighbors': 10, 'knn__p': 3}\n",
            "score:0.8382481501314599 params:{'knn__n_neighbors': 20, 'knn__p': 1}\n",
            "score:0.8203811491319957 params:{'knn__n_neighbors': 20, 'knn__p': 2}\n",
            "score:0.7956514923494439 params:{'knn__n_neighbors': 20, 'knn__p': 3}\n",
            "score:0.8324949153363133 params:{'knn__n_neighbors': 30, 'knn__p': 1}\n",
            "score:0.8156129461302246 params:{'knn__n_neighbors': 30, 'knn__p': 2}\n",
            "score:0.7885480505052385 params:{'knn__n_neighbors': 30, 'knn__p': 3}\n",
            "score:0.8274028944557454 params:{'knn__n_neighbors': 40, 'knn__p': 1}\n",
            "score:0.813313540830505 params:{'knn__n_neighbors': 40, 'knn__p': 2}\n",
            "score:0.7822587078640251 params:{'knn__n_neighbors': 40, 'knn__p': 3}\n",
            "score:0.824633953828695 params:{'knn__n_neighbors': 50, 'knn__p': 1}\n",
            "score:0.8106891526041314 params:{'knn__n_neighbors': 50, 'knn__p': 2}\n",
            "score:0.7841661314698056 params:{'knn__n_neighbors': 50, 'knn__p': 3}\n"
          ]
        }
      ]
    },
    {
      "cell_type": "code",
      "source": [
        "# Tuned knn + standardization\n",
        "\n",
        "# Best params: {'knn__n_neighbors': 20, 'knn__p': 1}\n",
        "model = Pipeline(\n",
        "    steps=[('scale', StandardScaler()), ('knn', KNeighborsClassifier(n_neighbors=20, p=1))]\n",
        ")\n",
        "\n",
        "cv = StratifiedKFold(n_splits = 5, random_state=42, shuffle=True)\n",
        "cv_scores = cross_val_score(model, x_train, y_train, scoring='roc_auc', cv=cv, n_jobs=-1)\n",
        "\n",
        "# training on x_train\n",
        "model = Pipeline(\n",
        "    steps=[('scale', StandardScaler()), ('knn', KNeighborsClassifier(n_neighbors=20, p=1))]\n",
        ")\n",
        "model.fit(x_train, y_train)\n",
        "\n",
        "# testing on x_test\n",
        "y_pred = model.predict(x_test)\n",
        "\n",
        "\n",
        "print('Train Set Score:', roc_auc_score(y_train, model.predict_proba(x_train)[:,1]))\n",
        "print('Cross Validation Score:', np.mean(cv_scores))\n",
        "print('Test Set Score:', roc_auc_score(y_test, model.predict_proba(x_test)[:,1]))\n",
        "print()\n",
        "\n",
        "print('Training Confusion Matrix:')\n",
        "print(confusion_matrix(y_train, model.predict(x_train)))\n",
        "print()\n",
        "\n",
        "print('Test Confusion Matrix:')\n",
        "print(confusion_matrix(y_test, model.predict(x_test)))"
      ],
      "metadata": {
        "colab": {
          "base_uri": "https://localhost:8080/"
        },
        "id": "Uf6jrs8_TdqF",
        "outputId": "c9372ae6-4ff4-4d83-a3c4-f07857d574ed"
      },
      "execution_count": 22,
      "outputs": [
        {
          "output_type": "stream",
          "name": "stdout",
          "text": [
            "Train Set Score: 0.8866962244540381\n",
            "Cross Validation Score: 0.8382481501314599\n",
            "Test Set Score: 0.8347422302254235\n",
            "\n",
            "Training Confusion Matrix:\n",
            "[[4791  101]\n",
            " [ 940  432]]\n",
            "\n",
            "Test Confusion Matrix:\n",
            "[[1180   44]\n",
            " [ 236  107]]\n"
          ]
        }
      ]
    },
    {
      "cell_type": "markdown",
      "source": [
        "![Comparison of KNN models.png](data:image/png;base64,iVBORw0KGgoAAAANSUhEUgAAAlgAAAFzCAYAAADi5Xe0AABCXElEQVR4Xu3dC7BddX09cCYxAZMg0knLQ1t5hCZkIpQIRQRRYhVEaIEZA6I1KaKWxhlnqhDBNmhTMdKqgDzUBJAqzwjhraW8CiqQBHkF5WUMaYhACARIyJP7+/vd/Ndm35W7z31kn3VvflmfmTWcx77n3Jx1+J7f3Wffc7dKZmZmZtaorfgCMzMzM9s0XmCZmZmZNcwLLDMzM7OGeYFlZmZm1jAvsMzMzMwa5gWWmZmZWcO8wDIzMzNrmBdYZmZmZg3zAsvMzMysYV5gmZmZmTXMCywzMzOzhnmBZWZmZtYwL7DMzMzMGuYFlpmZmVnDvMAyMzMza5gXWGZmZmYN8wLLzMzMrGFeYJmZmZk1zAssMzMzs4Z5gWVmZmbWMC+wzMzMzBrmBZaZmZlZw9q6wHrqqafST37yk3TGGWekf/mXf0kXX3xxeuCBB9Lrr7/Om2bv5JNPLpKTFStWpEsuuSRNmzat6Pfqq6/mTTqpewzmzZtXXvfTn/60vByX3XvvvZWtO+Pb7MvXDHSb8v1uyteamVnftWWBtWHDhnTNNdeUw51z5plnpkWLFvGXZS3HF7rvf//7nXqdM2cOb9JJV4/BCy+8UCzO4vJzzz23eO4Atv/a176WXnvttcpXvYlvsy9fM9Btyve7KV9rZmZ915YF1o033lgM9diz8b//+7/pxRdfTOvWrUt/+MMf0qWXXlpc99WvfjU9//zz/KW2GTn11FOLLp944oliYbR+/XrepBN+sY89md/73veKy6ZPn55efvnlytZvbh+pW7zxbfblawa6Tfl+N+Vrzcys7xpfYMUi6pRTTkmnnXZaWrJkCV9d+K//+q9i6Mfbh7b5wot3R0cHX9UlfrH/+c9/Xpz/yle+0uUeTWwfezynTp2ali5dyptsdJt9+ZqBblO+3035WjMz67vGF1g33XRTMdCvu+46vqr03HPPpR/84Afplltu6XR57OX62c9+VhyzFS+63/zmN4sXYd4zgheN2ANy/fXXp9NPPz19/etfT7fddltx/erVq9Pll1+e/vVf/zX9+7//e7rhhhs63Qa+Pva6xDE/sV3sQYk9HvG17OGHHy7eDovt4vv6xje+Ufz71q5d22k73O5LL72UzjrrrGKR+aMf/ajTdVX33HNPOvvss4u3yGKPXuzNieORWG8fl9gzOGvWrOL+462y+PdX33prpSf3hfvhdKe63cKFC4sFUJyvO14K2z/22GPFfy+44ALeZKP77svX1MF2fX2ehZ48nhDPp7ifuK14TsRtx2Vdfb/R5//8z/+kGTNmFLcbtx/3w7fb1df29HlnZmZ91/gCKxYWMdB/97vf8VUtxQtGvBjiBaGaWIxVD4zH5V0d5/XrX/86nXfeeRtd/t///d8bfX0clM3bnXPOOZ3uK17EeBsk7r8Kl//whz8s/ht78rANroNf/OIXG90ectddd5Xb9eVxicUib8uL2a709L74OqQ72C4WJrEgiNOtDoyv3m78gkScfvDBB2u34fM9/Zo62K6vz7OePp4hTscxaLzdRRddVJ6G2GN44YUXbrRtJJ571T2K/LU9fd6ZmdmmaXyBFXtMYljXHWBc51e/+lXxdbGX4De/+U3xIvzoo48W5+Py+Kkb8ILwrW99K/3f//1fWrNmTbH3IC6Ln8j/4z/+o7g8fvrHi2Nsy18fP8Hff//9G91XdY9KHEcWl8X3F7cX28YeDHyvVbjdb3/722nZsmVdXgf/9m//VpyPF+rYyxG3jccgFh/Ql8cl7j/enl25cmWxpy0uiz0d3enNfQX+N3UH2+M4vFiAxvF5daq3HwfDxzFfsXcnHq+utuHzPf2aOtiur8+z3jye8ZyLy2IP2eOPP15s+8gjj5TPv+r3O3/+/OJ87IVavHhx8W+LvnE823333Vduy1/b0+edmZltmsYXWPF2RQzr3n4Uw/nnn198Hb9dFC9CcXnsLQC8aMSLFrzyyivl5XHQNaxataq4LL4vwHZ33HFHeVnAfcXehVbibZjYLhYIVV19X3wdxAt0nK++GHalL49LfDwGxIHj/O+v05v7Cvxv6g62r2bmzJm1x3Dx7cdbYHE+3mKr24bP9+Rr6mC7vj7PevN4xnMuLps7d25ly1Q8P/j7xbb8SyKxoIzLq2+L8tf29HlnZmabpvEFFn5Cjr0nvYGf1OOzlarieKa4PI5zAbxoxIsaxIs0Lq8eR1W9HHB++fLl5WUB9xV74VjsqYgXythTEXsu+DYDLuvq387bz549u7wsjpeKY5LiPvgYmr48LrGnBWKhy/ddpzf3FXp6u4Dt40Uee4Iid999N29a4NuPvS2xNyr2SqE73obP9+Rr6mC7vj7PevN4Ys8vb4sFcvV2sQesLnE98Nf29HlnZmabpvEFFt6maHUMVrw1EW9RVN8ewgHPPOixt6irPVC854NfTOoux/me3Fe8wHV1bAzfZqj7vqrXQTwGcUAzPgMKiRfa6m/U9eVxYXWXs97cV+jp7QK2j7e4An6bNBY/zz77LG3d9e3HB9XGZXF8VVfb8PnQ3dfUwXbcZ93X8+W9eTyx55e3jeO46m63LnE98Nf29HlnZmabpvEFVhzkGwM79lDUiYOOY5v4VXrAT/vx031VLMLi8jg2BfhFo7eX4zzvLcB9xUHigEVA/PZX/JticRC/BYnbaHVAcVXddbGH5aGHHkpXXHFF8W+MbeIXBaCdjwvrzX2Fnt4u8PaxByiODYvLvvOd72z0m468PeDAcfymYHUbPg+tvqZO3XY9vbw3jye6523jOcq3G3u+4ny8Xdkd/lro7nlnZmabpvEFViw+4ifo+IiAOM1isP/nf/5nMdDjN/QAv5HFx6vgANxWx5X09nKc519Nx29Y4aMVAo5ZqX4I5tNPP13eRnWPA99PVavr4NVXXy22iT060M7HhfXmvkJPbxe62j4OzsYHlsYH1FZ1tX2Iz7aK51gs0HkbPg+tvqZO3XY9vbw3j2ccixaX/fKXv6xs2fnPCAFul4/X6gp/bVe6et6ZmdmmaXyBFeKzpWJgx7EgcUBv/KQdxwU9+eSTxccgxHXxWVLVY1iwuImv6eo3rqovPHUvGj29HOfjJ/fYo8G/sRWnAcfGxG8bxmIqjlnBRwxEqgsvvp8qvg6LzHixjccmFp7xqfdxWfwWILTzcWG9ua/Q09uFuu2x4IhfGqgeoF+3feCPTgA+X1X3NXXqtuvp5b15POMt87gsnoPx/Itt47mJvUvV242vw+3GtvHciQPc8RcU4iMcgL+2p887MzPbNG1ZYMVxHviJvKvEQeK8dyveHqo71il+0u/q855YTy/H+a4+xyj+eHFV9aDgrhIvmMD3U8XXxYKNbwupfm5TOx8X1pv7Cj29XWi1fXyqf1wXC298xEer7ePAcyxUqtvw+aq6r6lTt11PL+/N4xlvNcdB57xdvIXHtxtfV/f5WrFAi7+mAPy1PX3emZnZpmnLAivEi0AM83ghiGOa4qDa+BDE+MmZX6ghfpqOT4KPF9k46DeOz4kPyOQDf/lFo7eX43y84MbbgfF2ZtzX7bffvtH3FnsSrrzyymJPVrx4xQtmvBDFRzzEbcRCEvh+qrq6Lg6+jl8KiNuN7yFOL1iwoNM2oV2PS1d6el+hN7cbWm0fe1PiM6Ti+vicrNBq+4CPO6huw+dZV19Tp2673lzem8czLouPlYht463pyy67rPhhpavbjcvjoyfi2MC43fh/LB43/mWBrr62p887MzPru7YtsAayrl50zMzMzJriBZaZmZlZw7zAMjMzM2uYF1hmZmZmDdsiF1hmZmZm7eQFlpmZmVnDvMAyMzMza5gXWGZmZmYN8wLLzMzMrGFeYJmZmZk1zAssMzMzs4Z5gWVmZmbWMC+wzMzMzBrmBZaZmZlZw7zAMjMzM2uYF1hmZmZmDfMCy8zMzKxhXmBZ415+rSP9YUX3ie2svV5/eUXa8Iel3Sa2s0yseyF1rF7UbWI7M2sfL7CsUXf+Zn360DdWpgk9SGwX21t7rLnz1vT83/x1ev5D+3WfP24X229O1q/3c4d1PDc7rb91yB/zlh5kSLF9f3F/ljsvsKxRl9y1bqOFVKvE9t3Zeeeda9NbffmaRYsWpeOPPz7tvvvuaezYsenkk09OK1eu5M0GnFWX/HDjhVSLxPatPPHEE2n8+PFpw4YNnS7v6OhI+++/f3rooYc6Xc6qj32rHlpdV/WBD3ygPN3Tr+mpzbXz1xf+WxcLqfrE9t3h/+c25f+/qmp/VZvrY2/GvMCyRrVjgVW1qUO9Lz72sY+lCy64oBjyy5YtS6eeemqaOnUqbzbgNL3ACsccc0y6/fbbO1129913p8MPP7zTZV3paXdNb9cXm2vn7VhgVTX5mNfd1ub62JsxL7CsUf2xwIrLzjrrrPSRj3ykOP/rX/86HXnkkWnUqFHpr/7qr9Ls2W++DVL9+jj9wx/+ML33ve9Nf/EXf5F+9rOflddV7brrrp1+gl67dm3xkzUsXLgwHXLIIend7353uvXWN99me+mll9KnP/3pNHr06DRp0qS0YsWbxznx9/zKK6+kE088sdj2hBNOSK+++mq5bV+1Y4E1Z86c9PnPf77TZVOmTElXXHFFcbo3jz0sX748ffzjHy/+7Zdddlmn6+puD3tQsG31a7p73HPuvD8WWK3+HTfffHPxOMfjGQune++9t7ic+6vaXB97M+YFljWqvxZYl1xySXr55ZeL8/HWw4033pjWrFmTLr/88jRu3LhO21ZPf/WrX02rVq1KN910U/FC0JUYwF/5yleKRcRTTz3FVxeDOn7ivuOOO9IBBxxQXn7aaaelWbNmFS8W8aIeP4kDf8/Tpk1Lv/3tb4vvORYx06dPL7ftq3YssNatW5fe8573lC9e8UK1zz77pNWrVxfne/PYw5e+9KV08cUXF7cVp6vX9eX2unvcc+68PxZYrf4d8fjGvzneVo4e3/e+95XXdXVbYXN97M2YF1jWqP5aYMVbCV2JA2nrXoj567q67fDiiy+mU045pfjp953vfGfxov/II4+U18eL/gsvbPwbWXFcEhYi8dN1LEyA7/uv//qvy4N+X3/99U4vHH3VjgVWiBejH/3oR8XpeNE6/fTTO2/w/3X32EPsmcIL39NPP13bQ09vrzePe919ba6d98cCq9W/47jjjisWRPE28muvvVZeHrq6rbC5PvZmzAssa1R/LbDiQGuIAR1vB8Rgj7eC6l6I+bb4fFdigJ9zzjlpwoQJ5WXxUzof+B122WWXYniHuL66t4S/59g2LkPe9a53ldf1VbsWWL///e/LY67iv9W9DH157KuPX+whq17Xl9vr7nGv4vNd2Zw6748FVqt/RyyE4ri9uCze5q3+IkRXt8U2p8fejHmBZY3qrwVW1VFHHZW+/e1vp9tuu614G6B6fd3prs7Dnnvu2emYkHgrK44Tgb322qtYCLD4CRpfF9fvvffe5XV8X/HbeU3/2nq7Fljh2GOPLY6viWOnqvry2Me/HY/fM8880+m6vtxebx53Pg+ba+f9scDqyb8j3oq79NJLi72V0NVthc31sTdjXmBZowbCAisOXI2flONtp3/+53+ufSHmr+PzEG9XzJgxIy1evLj4ifqb3/xm8Wvk8NnPfrZ4y+yee+7p9FZDfN2VV15ZHO8Tx4R88YtfLK/j+4ptH3300eKA3h//+MfFgd2bqp0LrDieJg4yjv9W9eWxj2Nlzj///OKFNI69qV7X6vZiD8Xzzz9fnK5e3pvHnc/D5tp5fyywWv07PvjBD6brr7++WMzggHeo9le1uT72ZswLLGvUQFhgxYv++9///uKn1Bi0dS/s/HV8HuKn4i9/+cvFbzLttttuxW8oPffcc+X18VtN8RZG/MQce1ogfjvuU5/6VPHWSLxAxHng+4pjRv7hH/4h7bHHHunQQw9Njz/+eKfr+6KdC6x4wYxjZHgvQF8e+1hYffKTnyz2bsQLZPW6Vrf3j//4j8VnJYXq5b153Pk8bK6d98cCq9W/4/77709/8zd/UyymIrHIgmp/VZvrY2/GvMCyRrV7gWU9184Flg1M7V5gmVnPeYFljXpw0Yb0yfNWpePP7T6xXWxv7bHuwflp+aeOSss/+bfd54/bxfa2eet48c604Zd7pA2/2L37/HG72N7M2sMLLDMzM7OGeYFlZmZm1jAvsMzMzMwa5gWWmZmZWcO8wDIzMzNrmBdYZmZmZg3zAsvMzMysYV5gmZmZmTXMCywzMzOzhnmBZWZmZtYwL7DMzMzMGuYFlpmZmVnDvMAyMzMza5gXWGZmZmYN8wLLzMzMrGFbxAJr+fLl6R3veAdf3MmCBQvS6NGj09ChQ9P48ePT3LlzeRMzMzOzHsl+gfX444+nffbZJ221Vet/6qRJk9KMGTPSihUr0tSpU9PEiRN5EzMzM7Meab3qyMAOO+yQLrzwwm4XWLH3atmyZcXpRYsWpbFjx9IWZmZmZj3TetWRgWeffbb4b3cLrBEjRqT169cXp9esWZOGDRtGW5iZmZn1TOtVR0a6W2ANHjy4PN3R0ZEGDRpUudbMzMys51qvOjLS3QJr5MiRad26dcXp2IMVe7TqLF26NM2fP99xHMdxnIwSr+9Nab3qyEh3C6xx48alJUuWFKcXL16cxowZQ1uYmZmZ9UzrVUdGultgTZkyJU2fPj2tXLkyTZs2LU2ePJk3MTMzM+uR1quOjHS1wKpeNm/evDRq1Kg0ZMiQ4jcK43OxzMzMzPpi41WHmZmZmW0SL7DMzMzMGuYFlpmZmVnDvMAyMzMza5gXWGZmZmYN8wLLzMzMrGFeYJmZmZk1zAssMzMzs4Z5gWVmZmbWMC+wzMzMzBrmBZaZmZlZw7zAMjMzM2uYF1hmZmZmDfMCy8zMzKxhXmCZmZmZNcwLLDMzM7OGeYFlZmZm1jAvsMzMzMwa5gWWmZmZWcO8wDIzMzNrmBdYZmZmZg3zAsvMzMysYV5gmZmZmTXMCywzMzOzhnmBZWZmZtYwL7CsdN9TG9Kx56xKE76xUpa4v7hfMzOznHiBZaVjv6ddXCFxv5Y3L97NbEvjBZaV+AVKGcubF+9mtqXxAstK/OKkjOWN+1bGzKw/eIFlJX5hUsbyxn0rY2bWH7zAshK/MCljeeO+lTEz6w9eYFmJX5iUsbxx38qYmfUHL7CsxC9MyljeuG9lzMz6gxdYVuIXJmUsb9y3MmZm/cELLCvxC5MyljfuWxkzs/7gBZaV+IVJGcsb962MmVl/8ALLSvzCpIzljftWxsysP2S/wFqwYEEaPXp0Gjp0aBo/fnyaO3cub1JYunRpmjBhQhoxYkT6xCc+kV577TXeJHv8wqSM5Y37VsbMrD9kv8CaNGlSmjFjRlqxYkWaOnVqmjhxIm9S+PjHP55mzpyZVq1alS6//PJ02mmn8SbZ4xcmZSxv3LcyZmb9IfsFVuy9WrZsWXF60aJFaezYsbTFG/7kT/6kWFyF1atXpz333JO2yB+/MCljeeO+lTEz6w/ZL7DiLb/169cXp9esWZOGDRtGW7xhu+22S2vXri1Ov/DCC2n48OG0Rf74hUkZyxv3rYyZWX/IfoE1ePDg8nRHR0caNGhQ5do3HXHEEemqq65Kf/jDH9LRRx9du13O+IVJGcsb962MmVl/yH6BNXLkyLRu3bridOzBij1aXVm4cGHab7/9ij1Z3/3ud9M222zDm5TigPj58+dnF35hUoa/FyevcN/K8PfiOI5Tl3h9b0r2C6xx48alJUuWFKcXL16cxowZQ1ts7Le//W3aeeed+eLs8QuTMpY37lsZM7P+kP0Ca8qUKWn69Olp5cqVadq0aWny5Mm8SWGPPfZIc+bMSS+99FL65je/mY477jjeJHv8wqSM5Y37VsbMrD9kv8CaN29eGjVqVBoyZEjxG4XxuViw1VZv/vNvv/32tPvuuxdvIcZHOSxfvry8bkvBL0zKWN64b2XMzPpD9gss6zl+YVLG8sZ9K2Nm1h+8wLISvzApY3njvpUxM+sPXmBZiV+YlLG8cd/KWL7ue2pDOvacVRt13s7E/cX9mnXHCywr8SBRxvLGfStj+Tr2e9rFFRL3a9YdL7CsxENEGcsb962M5Yu7VsasO15gWYkHiDKWN+5bGcsXd62MWXe8wLISDxBlLG/ctzKWL+5aGbPueIFlJR4gyljeuG9lLF/ctTJm3fECy0o8QJSxvHHfyli+uGtlzLrjBZaVeIAoY3njvpWxfHHXyph1xwssK/EAUcbyxn0rY/nirpUx644XWFbiAaKM5Y37VsbyxV0rY9YdL7CsxANEGcsb962M5Yu7VsasO15gWYkHiDKWN+5bGcsXd62MWXe8wLISDxBlLG/ctzKWL+5aGbPueIFlJR4gyljeuG9lLF/ctTJm3fECy0o8QJSxvHHfyli+uGtlzLrjBZaVeIAoY3njvpWxfHHXyph1xwssK/EAUcbyxn0rY/nirpUx644XWFbiAaKM5Y37VsbyxV0rY9YdL7CsxANEGcsb962M5Yu7VsasO15gWYkHiDKWN+5bGcsXd62MWXe8wLISDxBlLG/ctzKWL+5aGbPueIFlJR4gyljeuG9lLF/ctTJm3fECy0o8QJSxvHHfyli+uGtlzLrjBZaVeIAoY3njvpWxfHHXysDa+36ZXjjuY+n5D+0nS9xf3K8NbF5gWYkHiDKWN+5bGcsXd60MvHDcERstgBSJ+4WOF36W1t+9S1p/61t0+eP9xf1aPS+wrMQDRBnLG/etjOWLu1YGeOGjDKz/xa4bL4AU+eP9Wj0vsKzEA0QZyxv3rYzli7tWBnjRowxstPARxup5gWUlHiDKWN64b2UsX9y1MsCLHmWAFz3KWD0vsKzEA0QZyxv3rYzli7tWBnjRowzwokcZq+cFlpV4gChjeeO+lbF8cdfKAC96lAFe9Chj9bzAshIPEGUsb9y3MpYv7loZ4EWPMsCLHmWsnhdYVuIBoozljftWxvLFXSsDvOhRBnjRo4zV8wLLSjxAlLG8cd/KWL64a2WAFz3KAC96lLF6XmBZiQeIMpY37lsZyxd3rQzwokcZ4EWPMlbPCywr8QBRxvLGfStj+eKulQFe9CgDvOhRxuplv8BasGBBGj16dBo6dGgaP358mjt3Lm9SeOyxx9L73ve+NHz48HTwwQenp556ijfJHg8QZSxv3LcyA4n/pEmzuGtlgBc9ysBGnQtj9bJfYE2aNCnNmDEjrVixIk2dOjVNnDiRNykceOCB6cYbb0yrV69O1157bfrgBz/Im2SPB4gy4D+cmifuW5mBxH/SpFnctTLA80QZ2KhvYaxe9gus2Hu1bNmy4vSiRYvS2LFjaYs3bLPNNmnVqlXF6ZUrV6a3vvWttEX+eIAoA/7DqXnivpUZSDbqXZgccdfKAM8SZYC7VsbqZb/AGjFiRFq/fn1xes2aNWnYsGG0xRve//73p5tuuqnY5uabb04HHXQQb5I9HiDKAA8QZcB7GZrHfSszkGzUuTA54q6VAZ4jygB3rYzVy36BNXjw4PJ0R0dHGjRoUOXaN913333FcVpbbbVVGjJkSO2xWjnjAaIM8ABRBniAKJMr7luZgYT7ViZH3LUywHNEGeCulbF62S+wRo4cmdatW1ecjr1TsUerK/vtt1+x5wrHYLXag7V06dI0f/787MIDRBl8DzxAlMH3wANEGe4kl3DfyvD30p/hvpXh7yWHcNfK4HvgOaIMvgfuWhnuZHNPvL43JfsF1rhx49KSJUuK04sXL05jxoyhLd5QfSvRx2DpAzxAlAEeIMrkivtWBgbCL1Bw38rkiLtWBrhzZYC7VsbqZb/AmjJlSpo+fXqxaJo2bVqaPHkyb1I45JBD0t13351ee+21Yk9WfGTDloYHiDLAA0QZ4AGiTK64b2VgIPwCBfetTI64a2WA+1YGuGtlrF72C6x58+alUaNGFcdVxW8UxudiQRxvBfgcrDgIPv4b57c0PECUAR4gygAPEGVyxX0rA9y3MsB9K5Mj7loZ4K6VAe5aGauX/QLLeo4HiDLAA0QZ4AGiTK64b2WA+1YGuG9lcsRdKwPctTLAXStj9bzAshIPEGWAB4gywANEmVxx38oA960McN/K5Ii7Vga4a2WAu1bG6nmBZSUeIMoADxBlgAeIMrnivpUB7lsZ4L6VyRF3rQxw18oAd62M1fMCy0o8QJQBHiDKAA8QZXLFfSsD3LcywH0rkyPuWhngrpUB7loZq+cFlpV4gCgDPECUAR4gyuSK+1YGuG9lgPtWJkfctTLAXSsD3LUyVs8LLCvxAFEGeIAoAzxAlMkV960McN/KAPetTI64a2WAu1YGuGtlrF7bFlizZs1KJ554Ynl++fLlxR9avuiiiypb2UDCA0QZ4AGiDPAAUSZX3LcywH0rA9y3MjnirpUB7loZ4K6VsXptWWAtWrQoTZgwIT355JPlZfF3AO+88860xx57pHPPPbeytQ0UPECUAR4gygAPEGVyxX0rA9y3MsB9K5Mj7loZ4K6VAe5aGavXlgVW7Ll66qmn+OJC/FHl3XbbjS+2AYAHiDLAA0QZ4AGiTK64b2WA+1YGuG9lcsRdKwPctTLAXStj9dqywNp2223TqlWr+OJCXL4l/p2/zQEPEGWAB4gywANEmVxx38oA960McN/K5Ii7Vga4a2WAu1bG6rVlgRV/1+/aa6/liws33HBD2nffffliGwB4gCgDPECUAR4gyuSK+1YGuG9lgPtWJkfctTLAXSsD3LUyVq8tC6x4G3CnnXYqDnSPtwrXrl2bnnnmmTRz5sy04447pltuuYW/xAYAHiDKAA8QZYAHiDK54r6VAe5bGeC+lckRd60McNfKAHetjNVrywIrPPLII2nixIlphx12KP7Q8s4775yOP/749MADD/CmNkDwAFEGeIAoAzxAlMkV960McN/KAPetTI64a2WAu1YGuGtlrF7bFli2+eEBogzwAFEGeIAokyvuWxngvpUB7luZHHHXygB3rQxw18pYPS+wrMQDRBngAaIM8ABRJlfctzLAfSsD3LcyOeKulQHuWhngrpWxem1ZYG211VYbZcSIEenggw9Od999N29uAwQPEGWAB4gywANEmVxx38oA960McN/K5Ii7Vga4a2WAu1bG6rVlgdWV9evXp9/85jfpox/9aLr66qv5ahsAeIAoAzxAlAEeIMrkivtWBrhvZYD7ViZH3LUywF0rA9y1MlZPtsCCBQsWpFGjRvHFNgDwAFEGeIAoAzxAlMkV960McN/KAPetTI64a2WAu1YGuGtlrJ58gbVmzZq09dZb88U2APAAUQZ4gCgDPECUyRX3rQxw38oA961MjrhrZYC7Vga4a2WsnnyB9cQTT6Tdd9+dL7YBgAeIMsADRBngAaJMrrhvZYD7Vga4b2VyxF0rA9y1MsBdK2P1ZAusdevWpcceeyx95CMfSVdccQVfbQMADxBlgAeIMsADRJlccd/KAPetDHDfyuSIu1YGuGtlgLtWxuq1ZYHFv0EYGT58eDrwwAPTbbfdxpvbAMEDRBngAaIM8ABRJlfctzLAfSsD3LcyOeKulQHuWhngrpWxem1ZYHUn9mbZwMMDRBngAaIM8ABRJlfctzLAfSsD3LcyOeKulQHuWhngrpWxerIF1urVq9N1112X/v7v/z7tuuuufLUNADxAlAEeIMoADxBlcsV9KwPctzLAfSuTI+5aGeCulQHuWhmr19YF1qpVq9Ls2bPTcccdV3zQ6CGHHJJ+8pOfFIstG3h4gCgDPECUAR4gyuSK+1YGuG9lgPtWJkfctTLAXSsD3LUyVq8tC6zLLrssHXPMMentb397Ouyww9IFF1xQHIdlAxsPEGWAB4gywANEmVxx38oA960McN/K5Ii7Vga4a2WAu1bG6rVl1ROLqaOPPjo988wznS6zgY0HiDLAA0QZ4AGiTK64b2WA+1YGuG9lcsRdKwPctTLAXStj9dqy6rn00kuLBdb222+fDj/88PSDH/zAC6zNAA8QZYAHiDLAA0SZXHHfygD3rQxw38rkiLtWBrhrZYC7VsbqtXXVs3LlynTVVVelY489tjgGa8KECcVnYK1du5Y3tQGAB4gywANEGeABokyuuG9lgPtWBrhvZXLEXSsD3LUywF0rY/XausCqigPbr7322vSpT33Kf4twgOIBogzwAFEGeIAokyvuWxngvpUB7luZHHHXygB3rQxw18pYPdkCq8p7sAYmHiDKAA8QZYAHiDK54r6VAe5bGeC+lckRd60McNfKAHetjNWTLbB8DNbAxwNEGeABogzwAFEmV9y3MsB9KwPctzI54q6VAe5aGeCulbF6slWPF1gDHw8QZYAHiDLAA0SZXHHfygD3rQxw38rkiLtWBrhrZYC7VsbqyVY9XmANfDxAlAEeIMoADxBlcsV9KwPctzLAfSuTI+5aGeCulQHuWhmr51WPlXiAKAM8QJQBHiDK5Ir7Vga4b2WA+1YmR9y1MsBdKwPctTJWr20LrFmzZqUTTzyxPL98+fI0duzYdNFFF1W2soGEB4gywANEGeABokyuuG9lgPtWBrhvZXLEXSsD3LUywF0rY/XassBatGhR8ZlXTz75ZHlZR0dHuvPOO9Mee+yRzj333MrWNlDwAFEGeIAoAzxAlMkV960McN/KAPetTI64a2WAu1YGuGtlrF5bFlix5+qpp57iiwv33Xdf2m233fjitlmwYEEaPXp0Gjp0aBo/fnyaO3cub1KIY8SqGTx4MG+SPR4gygAPEGWAB4gyueK+lQHuWxngvpXJEXetDHDXygB3rYzVa8sCa9ttt02rVq3iiwtx+Vvf+la+uG0mTZqUZsyYkVasWJGmTp2aJk6cyJtsJP7Uz2mnncYXZ48HiDLAA0QZ4AGiTK64b2WA+1YGuG9lcsRdKwPctTLAXStj9dqywDrkkEOKT23vyg033JD23XdfvrhtYu/VsmXLitPx1mUcB9ZKHCu21157FZ88v6XhAaIM8ABRBniAKJMr7lsZ4L6VAe5bmRxx18oAd60McNfKWL22LLDibcCddtqpONA93iqMT25/5pln0syZM9OOO+6YbrnlFv6Stom/gbh+/fri9Jo1a9KwYcNoi85OOeWUdN555/HFWwQeIMoADxBlgAeIMrnivpUB7lsZ4L6VyRF3rQxw18oAd62M1WvLAis88sgjxdtxO+ywQxoyZEjaeeed0/HHH58eeOAB3rStqsdSxYH2gwYNqlzbWfxx6j//8z9Pr776Kl+1ReABogzwAFEGeIAokyvuWxngvpUB7luZHHHXygB3rQxw18pYvbYtsAaKkSNHpnXr1hWnYw9W7NGqc8UVV6Rjjz2WL97I0qVL0/z587MLDxBl8D3wAFEG3wMPEGW4k1zCfSuD74H7VgbfA/etDHeSQ7hrZfA9cNfK4HvgrpXhTjb3xOt7U7JfYI0bNy4tWbKkOL148eI0ZswY2uJNcUD8hRdeyBdvMXiAKAM8QJQBHiDK5Ir7Vga4b2WA+1YmR9y1MsBdKwPctTJWr20LrAcffDAdd9xxxbFY8RZhHHsVe4ficqUpU6ak6dOnF2//TZs2LU2ePJk3KcUB8Pfccw9fvMXgAaIM8ABRBniAKJMr7lsZ4L6VAe5bmRxx18oAd60McNfKWL22LLBuu+224tir888/v9h7FAe5P/300+mcc85Jf/Znf5buuOMO/pK2mTdvXho1alSxyIvfKIzPxQL++4hxAHz8FuGWigeIMsADRBngAaJMrrhvZYD7Vga4b2VyxF0rA9y1MsBdK2P12rLAes973pNuvvlmvrgwZ86ctN9+bz4xbODgAaIM8ABRBniAKJMr7lsZ4L6VAe5bmRxx18oAd60McNfKWL22LLC23nrr4i25rsQHfio/aNR6jgeIMsADRBngAaJMrrhvZYD7Vga4b2VyxF0rA9y1MsBdK2P12rLAigPLr7/+er64EB9AGnu4bODhAaIM8ABRBniAKJMr7lsZ4L6VAe5bmRxx18oAd60McNfKWL22LLBuuumm4uD2H//4x+m5554rPugzjsW64IILioPdb7/9dv4SGwB4gCgDPECUAR4gyuSK+1YGuG9lgPtWJkfctTLAXSsD3LUyVq8tC6zw8MMPp0984hPFH3aOtwzjoPf4LcKHHnqIN7UBggeIMsADRBngAaJMrrhvZYD7Vga4b2VyxF0rA9y1MsBdK2P12rbAss0PDxBlgAeIMsADRJlccd/KAPetDHDfyuSIu1YGuGtlgLtWxur1ywJr1apVfJENADxAlAEeIMoADxBlcsV9KwPctzLAfSuTI+5aGeCulQHuWhmr15YF1mOPPZYOOOCA4nOlDjnkkPKT1MM111yT9txzz8rWNlDwAFEGeIAoAzxAlMkV960McN/KAPetTI64a2WAu1YGuGtlrF5bFlgHH3xwOu2004o/mnzWWWelo48+Or344ovpqKOOSh/60IfS7373O/4SGwB4gCgDPECUAR4gyuSK+1YGuG9lgPtWJkfctTLAXSsD3LUyVq8tC6zhw4eXn4gen+Iee7Le/e53p/POO4+2tIGEB4gywANEGeABokyuuG9lgPtWBrhvZXLEXSsD3LUywF0rY/XassDiP0ET56+66qpOl9nAwwNEGeABogzwAFEmV9y3MsB9KwPctzI54q6VAe5aGeCulbF6sgXW66+/3ukyG3h4gCgDPECUAR4gyuSK+1YGuG9lgPtWJkfctTLAXSsD3LUyVk+2wLKBjweIMsADRBngAaJMrrhvZYD7Vga4b2VyxF0rA9y1MsBdK2P12rLyiQVVd7GBhweIMsADRBngAaJMrrhvZYD7Vga4b2VyxF0rA9y1MsBdK2P1vNKxEg8QZYAHiDLAA0SZXHHfygD3rQxw38rkiLtWBrhrZYC7VsbqeYFlJR4gygAPEGWAB4gyueK+lQHuWxngvpXJEXetDHDXygB3rYzV8wLLSjxAlAEeIMoADxBlcsV9KwPctzLAfSuTI+5aGeCulQHuWhmr5wWWlXiAKAM8QJQBHiDK5Ir7Vga4b2WA+1YmR9y1MsBdKwPctTJWzwssK/EAUQZ4gCgDPECUyRX3rQxw38oA961MjrhrZYC7Vga4a2WsnhdYVuIBogzwAFEGeIAokyvuWxngvpUB7luZHHHXygB3rQxw18pYPS+wrMQDRBngAaIM8ABRJlfctzLAfSsD3LcyOeKulQHuWhngrpWxel5gWYkHiDLAA0QZ4AGiTK64b2WA+1YGuG9lcsRdKwPctTLAXStj9bzAshIPEGWAB4gywANEmVxx38oA960McN/K5Ii7Vga4a2WAu1bG6nmBZSUeIMoADxBlgAeIMrnivpUB7lsZ4L6VyRF3rQxw18oAd62M1fMCy0o8QJQBHiDKAA8QZXLFfSsD3LcywH0rkyPuWhngrpUB7loZq+cFlpV4gCgDPECUAR4gyuSK+1YGuG9lgPtWJkfctTLAXSsD3LUyVs8LLCvxAFEGeIAoAzxAlMkV960McN/KAPetTI64a2WAu1YGuGtlrJ4XWFbiAaIM8ABRBniAKJMr7lsZ4L6VAe5bmRxx18oAd60McNfKWD0vsKzEA0QZ4AGiDPAAUSZX3LcywH0rA9y3MjnirpUB7loZ4K6VsXpeYFmJB4gywANEGeABokyuuG9lgPtWBrhvZXLEXSsD3LUywF0rY/W8wLISDxBlgAeIMsADRJlccd/KAPetDHDfyuSIu1YGuGtlgLtWxup5gWUlHiDKAA8QZYAHiDK54r6VAe5bGeC+lckRd60McNfKAHetjNXzAstKPECUAR4gygAPEGVyxX0rA9y3MsB9K5Mj7loZ4K6VAe5aGavnBZaVeIAoAzxAlAEeIMrkivtWBrhvZYD7ViZH3LUywF0rA9y1MlbPCywr8QBRBniAKAM8QJTJFfetDHDfygD3rUyOuGtlgLtWBrhrZayeF1hW4gGiDPAAUQZ4gCiTK+5bGeC+lQHuW5kccdfKAHetDHDXylg9L7CsxANEGeABogzwAFEmV9y3MsB9KwPctzI54q6VAe5aGeCulbF62S+wFixYkEaPHp2GDh2axo8fn+bOncubFDZs2JBOOumkNHz48DRq1Kh055138ibZ4wGiDPAAUQZ4gCiTK+5bGeC+lQHuW5kccdfKAHetDHDXyli97BdYkyZNSjNmzEgrVqxIU6dOTRMnTuRNCt/73vfSqaeemlatWpVmz55dLLK2NDxAlAEeIMoADxBlcsV9KwPctzLAfSuTI+5aGeCulQHuWhmrl/0CK/ZeLVu2rDi9aNGiNHbsWNriDQceeGCaP38+X7xF4QGiDPAAUQZ4gCiTK+5bGeC+lQHuW5kccdfKAHetDHDXyli97BdYI0aMSOvXry9Or1mzJg0bNoy2eMP222+fvvGNb6Ttttsu7bvvvmnhwoW8SfZ4gCgDPECUAR4gyuSK+1YGuG9lgPtWJkfctTLAXSsD3LUyVi/7BdbgwYPL0x0dHWnQoEGVa98Ul3/5y19Or776avEW4RFHHMGbZI8HiDLAA0QZ4AGiTK64b2WA+1YGuG9lcsRdKwPctTLAXStj9bJfYI0cOTKtW7euOB17sGKPVle22Wab4jitsHbt2mJPVp2lS5cWbyfmFh4gyuB74AGiDL4HHiDKcCe5hPtWBt8D960MvgfuWxnuJIdw18rge+CulcH3wF0rw51s7onX96Zkv8AaN25cWrJkSXF68eLFacyYMbTFG+LyuD6sXr06vf3tb6ct8scDRBngAaIM8ABRJlfctzLAfSsD3LcyOeKulQHuWhngrpWxetkvsKZMmZKmT5+eVq5cmaZNm5YmT57MmxTiNwzPOOOMYi/X5Zdfno477jjeJHs8QJQBHiDKAA8QZXLFfSsD3LcywH0rkyPuWhngrpUB7loZq5f9AmvevHnFRy4MGTKk+I3C+Fws2GqrN//5r732Wvr0pz+d3va2txW/UfjMM8+U120peIAoAzxAlAEeIMrkivtWBrhvZYD7ViZH3LUywF0rA9y1MlYv+wWW9RwPEGWAB4gywANEmVxx38oA960McN/K5Ii7Vga4a2WAu1bG6nmBZSUeIMoADxBlgAeIMrnivpUB7lsZ4L6VyRF3rQxw18oAd62M1fMCy0o8QJQBHiDKAA8QZXLFfSsD3LcywH0rkyPuWhngrpUB7loZq+cFlpV4gCgDPECUAR4gyuSK+1YGuG9lgPtWJkfctTLAXSsD3LUyVs8LLCvxAFEGeIAoAzxAlMkV960McN/KAPetTI64a2WAu1YGuGtlrJ4XWFbiAaIM8ABRBniAKJMr7lsZ4L6VAe5bmRxx18oAd60McNfKWD0vsKzEA0QZ4AGiDPAAUSZX3LcywH0rA9y3MjnirpUB7loZ4K6VsXpeYFmJB4gywANEGeABokyuuG9lgPtWBrhvZXLEXSsD3LUywF0rY/W8wLISDxBlgAeIMsADRJlccd/KAPetDHDfyuSIu1YGuGtlgLtWxup5gWUlHiDKAA8QZYAHiDK54r6VAe5bGeC+lckRd60McNfKAHetjNXzAstKPECUAR4gygAPEGVyxX0rA9y3MsB9K5Mj7loZ4K6VAe5aGavnBZaVeIAoAzxAlAEeIMrkivtWBrhvZYD7ViZH3LUywF0rA9y1MlbPCywr8QBRBniAKAM8QJTJFfetDHDfygD3rUyOuGtlgLtWBrhrZayeF1hW4gGiDPAAUQZ4gCiTK+5bGeC+lQHuW5kccdfKAHetDHDXylg9L7CsxANEGeABogzwAFEmV9y3MsB9KwPctzI54q6VAe5aGeCulbF6XmBZiQeIMsADRBngAaJMrrhvZYD7Vga4b2VyxF0rA9y1MsBdK2P1vMCyEg8QZYAHiDLAA0SZXHHfygD3rQxw38rkiLtWBrhrZYC7VsbqeYFlJR4gygAPEGWAB4gyueK+lQHuWxngvpXJEXetDHDXygB3rYzV8wLLSjxAlAEeIMoADxBlcsV9KwPctzLAfSuTI+5aGeCulQHuWhmr5wWWlXiAKAM8QJQBHiDK5Ir7Vga4b2WA+1YmR9y1MsBdKwPctTJWzwssK/EAUQZ4gCgDPECUyRX3rQxw38oA961MjrhrZYC7Vga4a2WsnhdYVuIBogzwAFEGeIAokyvuWxngvpUB7luZHHHXygB3rQxw18pYPS+wrMQDRBngAaIM8ABRJlfctzLAfSsD3LcyOeKulQHuWhngrpWxel5gWYkHiDLAA0QZ4AGiTK64b2WA+1YGuG9lcsRdKwPctTLAXStj9bzAshIPEGWAB4gywANEmVxx38oA960McN/K5Ii7Vga4a2WAu1bG6nmBZSUeIMoADxBlgAeIMrnivpUB7lsZ4L6VyRF3rQxw18oAd62M1fMCy0o8QJQBHiDKAA8QZXLFfSsD3LcywH0rkyPuWhngrpUB7loZq+cFlpV4gCgDPECUAR4gyuSK+1YGuG9lgPtWJkfctTLAXSsD3LUyVs8LLCvxAFEGeIAoAzxAlMkV960McN/KAPetTI64a2WAu1YGuGtlrJ4XWFbiAaIM8ABRBniAKJMr7lsZ4L6VAe5bmRxx18oAd60McNfKWD0vsKzEA0QZ4AGiDPAAUSZX3LcywH0rA9y3MjnirpUB7loZ4K6VsXpeYFmJB4gywANEGeABokyuuG9lgPtWBrhvZXLEXSsD3LUywF0rY/W8wLISDxBlgAeIMsADRJlccd/KAPetDHDfyuSIu1YGuGtlgLtWxup5gWUlHiDKAA8QZYAHiDK54r6VAe5bGeC+lckRd60McNfKAHetjNXzAstKPECUAR4gygAPEGVyxX0rA9y3MsB9K5Mj7loZ4K6VAe5aGavnBZaVeIAoAzxAlAEeIMrkivtWBrhvZYD7ViZH3LUywF0rA9y1MlbPCywr8QBRBniAKAM8QJTJFfetDHDfygD3rUyOuGtlgLtWBrhrZaxe9gusBQsWpNGjR6ehQ4em8ePHp7lz5/ImhaVLl6atttqqU7Y0PECUAR4gygAPEGVyxX0rA9y3MsB9K5Mj7loZ4K6VAe5aGauX/Spi0qRJacaMGWnFihVp6tSpaeLEibxJ4frrr09/+7d/yxdvUXiAKAM8QJQBHiDK5Ir7Vga4b2WA+1YmR9y1MsBdKwPctTJWL/sFVuy9WrZsWXF60aJFaezYsbTFG04//fT09a9/nS/eovAAUQZ4gCgDPECUyRX3rQxw38oA961MjrhrZYC7Vga4a2WsXvYLrBEjRqT169cXp9esWZOGDRtGW7zhiCOOSO9973vTdtttlw488MD09NNP8ybZ4wGiDPAAUQZ4gCiTK+5bGeC+lQHuW5kccdfKAHetDHDXyli97BdYgwcPLk93dHSkQYMGVa5900477ZR+/vOfF4uxe+65Jx155JG8SfZ4gCgDPECUAR4gyuSK+1YGuG9lgPtWJkfctTLAXSsD3LUyVi/7BdbIkSPTunXritOxByv2aHXn9ddfT29729v44lIcED9//nzHcRzHcTJKvL43JfsF1rhx49KSJUuK04sXL05jxoyhLTYWe7H+9E//lC82MzMz65HsF1hTpkxJ06dPTytXrkzTpk1LkydP5k0Kf/mXf1m8NRiLq1/84hfps5/9LG9iZmZm1iPZL7DmzZuXRo0alYYMGVL8RmF8LhZUP+sqFld77bVX2nrrrdNHP/rR9OKLL5bXmZmZmfVG9gssMzMzMzUvsMzMzMwa5gWWmZmZWcO8wDIzMzNrmBdYJlX9Y9rxB7j322+/dP/99/Nmjar+MsOW+Ee8c+PnkHWn+hzhqCjvK/T0/nq6nW06P9ImVf2fe9WqVemMM85Ie+65Z2WL5nmg5MXPIeuN/upOfb89vb+ebmebzo+0SfH/3PFxGNVPzb/33nvTAQcckIYPH178+aJLLrmkvO6aa64pPm5jm222Sfvvv3+66667yutefvnldMwxxxR/S/Koo45Kr7zySnld9T759He+85206667Frc7Z86c8rpWt2f9K9fnEP+7rBldPa58WROdLlu2LE2YMKF4Ls6aNWuj+4C4/OKLLy7+ykjkuuuuK/5MWzxX+f6WL19e/J3cuM34823Vjw9qdX+tvs+67wu6u956zo+kSVX/540/XfStb32rCMSeiJ/+9Kdp9erV6cILLywGEMTwOf/889OGDRvS7Nmzi883gy9+8Yvp4YcfLr7usssuSyeffHJ5HQ/P6ukvfOELxYfQXn311cXtQ6vbs/6V63PIL2zt0dXjypc10elnPvOZdO655xaLmzjN9wFxeXzgdSx64jm4zz77pK997Wvp1Vdf3ej+4oOyzz777OK6WPT90z/9U3ldq/tr9X3WfV/Q3fXWc34kTSr+5+V897vf5c0K8Tckq/+zf/jDHy5+Krv11luLt4aq3vWudxWfwh/ib0nutttu5XU8PKunn3vuuS6va3V71r/4+bO5P4f431K9Ddt0XT2efFkTncYeqJdeeqk4vXDhwo3uA6q3H7cV52NPVfV62GWXXcq9VrHNO9/5zvK6VvfX6vts9X1xbNP4ETSp6v+0a9euTTfeeGPaeeedy8teeOGF4k8bxYtg7KKvbv/888+ngw8+uDiwOd7+iT/MCfEJ/NXBENtA9TbqTvP5Vrdn/SvX5xDfljWjq8eVL2ui07e85S3FntEQz0u+HYjLOzo6Op2v4vuLBVKI267u3Wp1f62+T74/1t311nN+JE2K/+eNvQjbbrttef6ggw4qdpfffPPNxS5u3j7Ebu+ZM2emHXfcsbzsHe94R7G3oivV26g7zedb3Z71L+4tl+cQ35Y1o6vHtXpZHMvURKdxXSzuw+LFize6HeDLW52PPVbx9mCI295hhx3K61rdX6vvk++PdXe99ZwfSZOq/s+L42cOP/zw8rI4KDP2KsSu7xNOOKHT9mPHjk1XXnllsesbByvD5z//+fTggw8Wt/n973+/OMgZ6oYnD5Lq+Va3Z/3LzyHrDe4oRO/RfyzOo6cmOo3jo84888zimKiTTjppo9sBvrzV+c997nPFAfFxPFgcgzVp0qTyulb31+r75Puz9vEjbVLxPzcSv/1y6KGHpt///vfl9XFwcvxR7vgJLAZKdRjEH+Tee++9i13jGJAQxyf83d/9XRoxYkQaP358evTRR8vr6oYnD5rq+Va3Z/3LzyHrDe4o4GDy7bffPl1wwQWNdLpixYp02GGHFXtFY1HEtwN8eavzsXctfniIt7PjeR7nodX9tfo++f6sffxIm5mZmTXMCywzMzOzhnmBZWZmZtYwL7DMzMzMGuYFlpkNWHW/ap6TLeHfONBsCY/5lvBvHOi8wDKzAasdf8S5qd+iavWbZ71R/Tduyu1Yz/l5ZQp+1M1swGrHC0NTtznQbsd6rh2PeVO3OdBux/rODZhZv8IHfm6zzTZp//33T3fddVdxebxAIOHee+8tPjAxPhMo/g7bJZdcUt5GbBOfeRV/Gidua86cOeV18dlBEyZMKD4za9asWZ1eeLq7zfiTO/HHeEOr28Hp6vccGTRoUHF53f3wv7F6m/FZRkcccURxf0ceeWT5N+mwXd2/197g55WfV/3NCywz61cxyM8///zi76rNnj07jRo1qryu+sIQb3nEh4jGn7m58MIL08iRIztt94UvfKH4xGt8iCR85jOfSeeee27xiddxuje3Gd8X/qBuq9upnoZ4EY0/2RO6u5+uTk+ZMiWdffbZxZ9KiRe9+OTu6nZ1/157g59XXd+On1c6G7dnZib04Q9/uPjDzLfeemvxp0uqunqBCXEAL7+APPfcc53OQ/xkjxezhQsX9vk2W90O32bsWfjYxz5W/qHeqq7up6vTu+yyS7l3IfY6xN+lA/7e+P7Nz6u6035e6fjRM7N+9fzzz6eDDz44DR06tHirI/6OIFQHfPxh2/jpPV404y2MuhcQPh9/Fif2YoS1a9f26jY7OjrK861up3r6lVdeSR/4wAc6/VmT7u6nq9Nbb711+UIa91vdm9Dq32tv8POq69N+Xun40TOzASHe5pg5c2bxt9WgOuAPOuig4q2Rm2++OT388MO1LyB8Pv4mYbwQhcWLF/f5NlvdTvV0vM3zq1/9qjwfeno/1dOxZyHexglxvzvssEN5HX9vfN7e5OeVn1f9xY+emfWrsWPHpiuvvDKtX7++PDAZ4vSzzz5bnN5uu+2KvRDxdsoJJ5xQ+wLC5+MYkzPPPLM4xuWkk07qdF1vbrPV7eD0ZZddlr70pS+Vl0Or+6n+G6uXf+5znyv+iG8cDxPHykyaNKm8jr83Pm9+Xvl51f/86JlZv7rnnnvS3nvvXbxVEi8K8WIIxx57bBo2bFhxOg7mHT16dPETf7wwdPVC1NX5FStWpMMOO6zYgxEvLNXrenObrW4Hp3fbbbfidDWh1f1U/43Vy+OtoMMPP7x4e+vQQw/t9NYQf2983vy88vOq//nRMzMzM2uYF1hmZmZmDfMCy8zMzKxhXmCZmZmZNcwLLDMzM7OGeYFlZmZm1jAvsMzMzMwa5gWWmZmZWcO8wDIzMzNrmBdYZmZmZg3zAsvMzMysYV5gmZmZmTXMCywzMzOzhnmBZWZmZtYwL7DMzMzMGuYFlpmZmVnDvMAyMzMza5gXWGZmZmYN8wLLzMzMrGFeYJmZmZk1zAssMzMzs4Z5gWVmZmbWsP8HgERQBlYDxhgAAAAASUVORK5CYII=)"
      ],
      "metadata": {
        "id": "1_uPn8wwMr6n"
      }
    },
    {
      "cell_type": "markdown",
      "source": [
        "KNN on QM9"
      ],
      "metadata": {
        "id": "6reKqTfRNzGk"
      }
    },
    {
      "cell_type": "code",
      "source": [
        "# import data\n",
        "qm9_features = np.load('/content/drive/MyDrive/Data Science @ SBU/Applied Machine Learning/project/qm9_preprocessed/qm9_features.npy')\n",
        "qm9_labels_df = pd.read_csv('/content/drive/MyDrive/Data Science @ SBU/Applied Machine Learning/project/qm9_preprocessed/qm9_labels.csv')"
      ],
      "metadata": {
        "id": "J1ky10CvNytk"
      },
      "execution_count": 26,
      "outputs": []
    },
    {
      "cell_type": "code",
      "source": [
        "# selecting 'gap' task\n",
        "gap_labels = qm9_labels_df['gap'].to_numpy()\n",
        "print('features shape:', qm9_features.shape)\n",
        "print('labels shape:', gap_labels.shape)"
      ],
      "metadata": {
        "colab": {
          "base_uri": "https://localhost:8080/"
        },
        "id": "Jq_t2tR8OJoE",
        "outputId": "5ba9a41e-82dd-4e8b-d904-a25165a5241d"
      },
      "execution_count": 27,
      "outputs": [
        {
          "output_type": "stream",
          "name": "stdout",
          "text": [
            "features shape: (133885, 163)\n",
            "labels shape: (133885,)\n"
          ]
        }
      ]
    },
    {
      "cell_type": "code",
      "source": [
        "# train/test split (random split 0.1)\n",
        "x_train, x_test, y_train, y_test =  train_test_split(qm9_features, gap_labels , test_size=0.9, random_state=42)"
      ],
      "metadata": {
        "id": "7GLu71b3Pxrz"
      },
      "execution_count": 35,
      "outputs": []
    },
    {
      "cell_type": "code",
      "source": [
        "# train on x_train\n",
        "model = KNeighborsRegressor().fit(x_train, y_train)\n",
        "\n",
        "# score on x_train\n",
        "print('Train MAE score:', mean_absolute_error(y_train,model.predict(x_train)))\n",
        "print('Train r2 score:', model.score(x_train, y_train))\n",
        "print()\n",
        "# score on x_test\n",
        "print('Test MAE score:', mean_absolute_error(y_test,model.predict(x_test)))\n",
        "print('Test r2 score:', model.score(x_test, y_test))"
      ],
      "metadata": {
        "colab": {
          "base_uri": "https://localhost:8080/"
        },
        "id": "1naDKVIEP0vr",
        "outputId": "4304315f-209b-410f-a531-e430692d3242"
      },
      "execution_count": 36,
      "outputs": [
        {
          "output_type": "stream",
          "name": "stdout",
          "text": [
            "Train MAE score: 0.011240582611293697\n",
            "Train r2 score: 0.8799033735358975\n",
            "\n",
            "Test MAE score: 0.014297667493796526\n",
            "Test r2 score: 0.8070517865560219\n"
          ]
        }
      ]
    },
    {
      "cell_type": "code",
      "source": [
        "# Normalizing labels\n",
        "y_scale = StandardScaler()\n",
        "\n",
        "y_train_scaled = y_scale.fit_transform(y_train.reshape(-1,1)).squeeze()\n",
        "y_test_scaled = y_scale.transform(y_test.reshape(-1,1)).squeeze()"
      ],
      "metadata": {
        "id": "4Li-FGtmQgDr"
      },
      "execution_count": 37,
      "outputs": []
    },
    {
      "cell_type": "code",
      "source": [
        "# feature pipeline\n",
        "pipe = Pipeline(\n",
        "    steps=[\n",
        "           ('scale', StandardScaler()),\n",
        "           ('pca', PCA(n_components = 0.9)),\n",
        "           ('knn', KNeighborsRegressor())\n",
        "    ]\n",
        ")\n",
        "\n",
        "# label scaler\n",
        "y_scale = StandardScaler()\n",
        "\n",
        "y_train_scaled = y_scale.fit_transform(y_train.reshape(-1,1)).squeeze()\n",
        "y_test_scaled = y_scale.transform(y_test.reshape(-1,1)).squeeze()"
      ],
      "metadata": {
        "id": "I2pU_y6yP20D"
      },
      "execution_count": 38,
      "outputs": []
    },
    {
      "cell_type": "code",
      "source": [
        "# train on x_train\n",
        "model = pipe.fit(x_train, y_train_scaled)\n",
        "\n",
        "y_pred_train = model.predict(x_train)\n",
        "y_pred_test  = model.predict(x_test)"
      ],
      "metadata": {
        "id": "VX3rcKUeQpqN"
      },
      "execution_count": 39,
      "outputs": []
    },
    {
      "cell_type": "code",
      "source": [
        "# inverse transform to get comparable MAE\n",
        "y_pred_train = y_scale.inverse_transform(y_pred_train.reshape(-1,1)).squeeze()\n",
        "y_pred_test = y_scale.inverse_transform(y_pred_test.reshape(-1,1)).squeeze()\n",
        "\n",
        "\n",
        "# score on x_train\n",
        "print('Train MAE score:', mean_absolute_error(y_train,y_pred_train))\n",
        "print('Train r2 score:', model.score(x_train, y_train_scaled))\n",
        "print()\n",
        "# score on x_test\n",
        "print('Test MAE score:', mean_absolute_error(y_test,y_pred_test))\n",
        "print('Test r2 score:', model.score(x_test, y_test_scaled))"
      ],
      "metadata": {
        "colab": {
          "base_uri": "https://localhost:8080/"
        },
        "id": "mDYuikrvQrEf",
        "outputId": "01d92513-27af-4f81-b846-3cb7b2118bb7"
      },
      "execution_count": 40,
      "outputs": [
        {
          "output_type": "stream",
          "name": "stdout",
          "text": [
            "Train MAE score: 0.010648610696145804\n",
            "Train r2 score: 0.8967904631737066\n",
            "\n",
            "Test MAE score: 0.013522642389437081\n",
            "Test r2 score: 0.8323217076046127\n"
          ]
        }
      ]
    },
    {
      "cell_type": "markdown",
      "source": [
        "![SVR Models Coefficients of determination.png](data:image/png;base64,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)"
      ],
      "metadata": {
        "id": "g-zRHoIlTYaf"
      }
    },
    {
      "cell_type": "markdown",
      "source": [
        "![Comparison of SVR Errors.png](data:image/png;base64,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)"
      ],
      "metadata": {
        "id": "tM2yB8UWTddG"
      }
    }
  ]
}