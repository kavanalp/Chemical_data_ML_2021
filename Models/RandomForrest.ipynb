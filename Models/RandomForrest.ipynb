{
 "cells": [
  {
   "cell_type": "markdown",
   "id": "9576fe96",
   "metadata": {},
   "source": [
    "## imports"
   ]
  },
  {
   "cell_type": "code",
   "execution_count": 34,
   "id": "bc8e61fa",
   "metadata": {
    "ExecuteTime": {
     "end_time": "2022-02-25T10:01:03.812679Z",
     "start_time": "2022-02-25T10:01:03.802683Z"
    }
   },
   "outputs": [],
   "source": [
    "import pandas as pd\n",
    "import numpy as np\n",
    "import seaborn as sns\n",
    "import matplotlib.pyplot as plt\n",
    "\n",
    "import random\n",
    "from sklearn.model_selection import train_test_split\n",
    "\n",
    "from sklearn.ensemble import AdaBoostClassifier\n",
    "from sklearn.ensemble import RandomForestClassifier\n",
    "\n",
    "from sklearn.ensemble import RandomForestRegressor\n",
    "from sklearn.ensemble import AdaBoostRegressor\n",
    "\n",
    "from sklearn.metrics import precision_score, recall_score, confusion_matrix\n",
    "from sklearn.metrics import f1_score, roc_auc_score, roc_curve\n",
    "from sklearn.metrics import r2_score\n",
    "from sklearn.metrics import accuracy_score\n",
    "\n",
    "from sklearn.model_selection import RepeatedStratifiedKFold\n",
    "from sklearn.model_selection import GridSearchCV\n",
    "\n",
    "\n",
    "from sklearn.tree import DecisionTreeClassifier\n",
    "from sklearn.neighbors import KNeighborsClassifier"
   ]
  },
  {
   "cell_type": "markdown",
   "id": "3ef9a7a9",
   "metadata": {},
   "source": [
    "# ToxCast"
   ]
  },
  {
   "cell_type": "markdown",
   "id": "b0b1ede2",
   "metadata": {},
   "source": [
    "## Splitting Data"
   ]
  },
  {
   "cell_type": "code",
   "execution_count": 35,
   "id": "7ee7bc93",
   "metadata": {
    "ExecuteTime": {
     "end_time": "2022-02-25T10:01:04.012951Z",
     "start_time": "2022-02-25T10:01:03.816964Z"
    }
   },
   "outputs": [],
   "source": [
    "df = pd.read_csv('final_toxcast.csv')"
   ]
  },
  {
   "cell_type": "code",
   "execution_count": 36,
   "id": "f38cfa18",
   "metadata": {
    "ExecuteTime": {
     "end_time": "2022-02-25T10:01:04.039938Z",
     "start_time": "2022-02-25T10:01:04.014286Z"
    }
   },
   "outputs": [],
   "source": [
    "X = df.drop(['label'], axis=1)\n",
    "y = df['label']\n",
    "\n",
    "X_train, X_test, y_train, y_test = train_test_split(X,\n",
    "                                                    y,\n",
    "                                                    stratify=y,\n",
    "                                                    test_size=0.2,\n",
    "                                                    random_state=42)"
   ]
  },
  {
   "cell_type": "markdown",
   "id": "67d998bb",
   "metadata": {
    "ExecuteTime": {
     "end_time": "2022-02-09T11:13:20.589762Z",
     "start_time": "2022-02-09T11:13:20.586433Z"
    }
   },
   "source": [
    "## Modeling"
   ]
  },
  {
   "cell_type": "markdown",
   "id": "dc8e9d20",
   "metadata": {},
   "source": [
    "#### Metric Functions"
   ]
  },
  {
   "cell_type": "code",
   "execution_count": 37,
   "id": "dc439e14",
   "metadata": {
    "ExecuteTime": {
     "end_time": "2022-02-25T10:01:04.044525Z",
     "start_time": "2022-02-25T10:01:04.041145Z"
    }
   },
   "outputs": [],
   "source": [
    "def generate_model_report(y_actual, y_predicted):\n",
    "    print(\"Accuracy = \", accuracy_score(y_actual, y_predicted))\n",
    "    print(\"Precision = \", precision_score(y_actual, y_predicted))\n",
    "    print(\"Recall = \", recall_score(y_actual, y_predicted))\n",
    "    print(\"F1 Score = \", f1_score(y_actual, y_predicted))\n",
    "    display(\n",
    "        pd.crosstab(y_actual,\n",
    "                    y_predicted,\n",
    "                    rownames=[\"Actual\"],\n",
    "                    colnames=[\"Predicted\"]))\n",
    "\n",
    "\n",
    "def generate_auc_roc_curve(clf, X_test, y_test):\n",
    "    sns.set(style=\"darkgrid\")\n",
    "    y_pred_proba = clf.predict_proba(X_test)[:, 1]\n",
    "    fpr, tpr, thresholds = roc_curve(y_test, y_pred_proba)\n",
    "    auc = roc_auc_score(y_test, y_pred_proba)\n",
    "    plt.figure(dpi=100)\n",
    "    plt.plot(fpr,\n",
    "             tpr,\n",
    "             label=\"AUC ROC Curve with Area Under the curve =%.2f\" % auc)\n",
    "    plt.legend(loc=4)\n",
    "    plt.grid(True)\n",
    "    plt.show()"
   ]
  },
  {
   "cell_type": "markdown",
   "id": "72620235",
   "metadata": {},
   "source": [
    "### Random Forrest Classifier"
   ]
  },
  {
   "cell_type": "code",
   "execution_count": 38,
   "id": "b44cc71a",
   "metadata": {
    "ExecuteTime": {
     "end_time": "2022-02-25T10:01:04.047366Z",
     "start_time": "2022-02-25T10:01:04.045518Z"
    }
   },
   "outputs": [],
   "source": [
    "grid = {'bootstrap': [True, False],\n",
    " 'max_depth': [10, 20],\n",
    " 'max_features': ['auto', 'sqrt'],\n",
    " 'min_samples_leaf': [1, 2],\n",
    " 'min_samples_split': [2, 5]}"
   ]
  },
  {
   "cell_type": "code",
   "execution_count": 39,
   "id": "45bb0538",
   "metadata": {
    "ExecuteTime": {
     "end_time": "2022-02-25T10:01:04.050244Z",
     "start_time": "2022-02-25T10:01:04.048218Z"
    }
   },
   "outputs": [],
   "source": [
    "cv = RepeatedStratifiedKFold(n_splits=5, n_repeats=3, random_state=1)\n",
    "\n",
    "random_forrest_grid_search = GridSearchCV(estimator=RandomForestClassifier(),\n",
    "                           param_grid=grid,\n",
    "                           n_jobs=-1,\n",
    "                           cv=cv,\n",
    "                           scoring='roc_auc',\n",
    "                           verbose=2)"
   ]
  },
  {
   "cell_type": "code",
   "execution_count": 40,
   "id": "151c6c4b",
   "metadata": {
    "ExecuteTime": {
     "end_time": "2022-02-25T10:02:48.993227Z",
     "start_time": "2022-02-25T10:01:04.051094Z"
    }
   },
   "outputs": [
    {
     "name": "stdout",
     "output_type": "stream",
     "text": [
      "Fitting 15 folds for each of 32 candidates, totalling 480 fits\n"
     ]
    },
    {
     "data": {
      "text/plain": [
       "GridSearchCV(cv=RepeatedStratifiedKFold(n_repeats=3, n_splits=5, random_state=1),\n",
       "             estimator=RandomForestClassifier(), n_jobs=-1,\n",
       "             param_grid={'bootstrap': [True, False], 'max_depth': [10, 20],\n",
       "                         'max_features': ['auto', 'sqrt'],\n",
       "                         'min_samples_leaf': [1, 2],\n",
       "                         'min_samples_split': [2, 5]},\n",
       "             scoring='roc_auc', verbose=2)"
      ]
     },
     "execution_count": 40,
     "metadata": {},
     "output_type": "execute_result"
    }
   ],
   "source": [
    "random_forrest_grid_search.fit(X_train, y_train)"
   ]
  },
  {
   "cell_type": "code",
   "execution_count": 41,
   "id": "8e941aa1",
   "metadata": {
    "ExecuteTime": {
     "end_time": "2022-02-25T10:02:49.184166Z",
     "start_time": "2022-02-25T10:02:49.000401Z"
    }
   },
   "outputs": [
    {
     "data": {
      "image/png": "[encoded data removed]",
      "text/plain": [
       "<Figure size 600x400 with 1 Axes>"
      ]
     },
     "metadata": {},
     "output_type": "display_data"
    },
    {
     "name": "stdout",
     "output_type": "stream",
     "text": [
      "Accuracy =  0.8551372048500319\n",
      "Precision =  0.7132352941176471\n",
      "Recall =  0.565597667638484\n",
      "F1 Score =  0.6308943089430894\n"
     ]
    },
    {
     "data": {
      "text/html": [
       "<div>\n",
       "<style scoped>\n",
       "    .dataframe tbody tr th:only-of-type {\n",
       "        vertical-align: middle;\n",
       "    }\n",
       "\n",
       "    .dataframe tbody tr th {\n",
       "        vertical-align: top;\n",
       "    }\n",
       "\n",
       "    .dataframe thead th {\n",
       "        text-align: right;\n",
       "    }\n",
       "</style>\n",
       "<table border=\"1\" class=\"dataframe\">\n",
       "  <thead>\n",
       "    <tr style=\"text-align: right;\">\n",
       "      <th>Predicted</th>\n",
       "      <th>0.0</th>\n",
       "      <th>1.0</th>\n",
       "    </tr>\n",
       "    <tr>\n",
       "      <th>Actual</th>\n",
       "      <th></th>\n",
       "      <th></th>\n",
       "    </tr>\n",
       "  </thead>\n",
       "  <tbody>\n",
       "    <tr>\n",
       "      <th>0.0</th>\n",
       "      <td>1146</td>\n",
       "      <td>78</td>\n",
       "    </tr>\n",
       "    <tr>\n",
       "      <th>1.0</th>\n",
       "      <td>149</td>\n",
       "      <td>194</td>\n",
       "    </tr>\n",
       "  </tbody>\n",
       "</table>\n",
       "</div>"
      ],
      "text/plain": [
       "Predicted   0.0  1.0\n",
       "Actual              \n",
       "0.0        1146   78\n",
       "1.0         149  194"
      ]
     },
     "metadata": {},
     "output_type": "display_data"
    }
   ],
   "source": [
    "y_hat = random_forrest_grid_search.predict(X_test)\n",
    "generate_auc_roc_curve(random_forrest_grid_search, X_test, y_test)\n",
    "generate_model_report(y_test, y_hat)"
   ]
  },
  {
   "cell_type": "code",
   "execution_count": 42,
   "id": "6a65fde0",
   "metadata": {
    "ExecuteTime": {
     "end_time": "2022-02-25T10:02:49.213044Z",
     "start_time": "2022-02-25T10:02:49.185693Z"
    }
   },
   "outputs": [
    {
     "data": {
      "text/plain": [
       "0.8791266506602642"
      ]
     },
     "execution_count": 42,
     "metadata": {},
     "output_type": "execute_result"
    }
   ],
   "source": [
    "roc_auc_score(y_test, random_forrest_grid_search.predict_proba(X_test)[:, 1])"
   ]
  },
  {
   "cell_type": "code",
   "execution_count": 43,
   "id": "a8b8dbbb",
   "metadata": {
    "ExecuteTime": {
     "end_time": "2022-02-25T10:02:49.293843Z",
     "start_time": "2022-02-25T10:02:49.214257Z"
    }
   },
   "outputs": [
    {
     "data": {
      "text/plain": [
       "0.9999780983529962"
      ]
     },
     "execution_count": 43,
     "metadata": {},
     "output_type": "execute_result"
    }
   ],
   "source": [
    "roc_auc_score(y_train, random_forrest_grid_search.predict_proba(X_train)[:, 1])"
   ]
  },
  {
   "cell_type": "code",
   "execution_count": 44,
   "id": "a8b261db",
   "metadata": {
    "ExecuteTime": {
     "end_time": "2022-02-25T10:02:49.297178Z",
     "start_time": "2022-02-25T10:02:49.294741Z"
    }
   },
   "outputs": [
    {
     "data": {
      "text/plain": [
       "RandomForestClassifier(bootstrap=False, max_depth=20, max_features='sqrt',\n",
       "                       min_samples_split=5)"
      ]
     },
     "execution_count": 44,
     "metadata": {},
     "output_type": "execute_result"
    }
   ],
   "source": [
    "random_forrest_grid_search.best_estimator_"
   ]
  },
  {
   "cell_type": "markdown",
   "id": "06475bd1",
   "metadata": {},
   "source": [
    "### Handle overfitting"
   ]
  },
  {
   "cell_type": "code",
   "execution_count": 58,
   "id": "903afba2",
   "metadata": {
    "ExecuteTime": {
     "end_time": "2022-02-25T10:08:24.773829Z",
     "start_time": "2022-02-25T10:08:24.090068Z"
    }
   },
   "outputs": [
    {
     "data": {
      "text/plain": [
       "RandomForestClassifier(bootstrap=False, max_depth=5, max_features='sqrt',\n",
       "                       min_samples_split=5)"
      ]
     },
     "execution_count": 58,
     "metadata": {},
     "output_type": "execute_result"
    }
   ],
   "source": [
    "rf = RandomForestClassifier(bootstrap=False, max_depth=5, max_features='sqrt',\n",
    "                       min_samples_split=5)\n",
    "rf.fit(X_train , y_train)"
   ]
  },
  {
   "cell_type": "code",
   "execution_count": 59,
   "id": "fe5084cf",
   "metadata": {
    "ExecuteTime": {
     "end_time": "2022-02-25T10:08:26.086240Z",
     "start_time": "2022-02-25T10:08:26.042120Z"
    }
   },
   "outputs": [
    {
     "data": {
      "text/plain": [
       "0.8424881857504907"
      ]
     },
     "execution_count": 59,
     "metadata": {},
     "output_type": "execute_result"
    }
   ],
   "source": [
    "roc_auc_score(y_test, rf.predict_proba(X_test)[:, 1])"
   ]
  },
  {
   "cell_type": "code",
   "execution_count": 60,
   "id": "ecefbc42",
   "metadata": {
    "ExecuteTime": {
     "end_time": "2022-02-25T10:08:27.415043Z",
     "start_time": "2022-02-25T10:08:27.336674Z"
    }
   },
   "outputs": [
    {
     "data": {
      "text/plain": [
       "0.8739670468117161"
      ]
     },
     "execution_count": 60,
     "metadata": {},
     "output_type": "execute_result"
    }
   ],
   "source": [
    "roc_auc_score(y_train, rf.predict_proba(X_train)[:, 1])"
   ]
  },
  {
   "cell_type": "markdown",
   "id": "f6073641",
   "metadata": {},
   "source": [
    "# QM9"
   ]
  },
  {
   "cell_type": "markdown",
   "id": "db08eeb8",
   "metadata": {},
   "source": [
    "## Modeling"
   ]
  },
  {
   "cell_type": "code",
   "execution_count": 15,
   "id": "6b500f32",
   "metadata": {
    "ExecuteTime": {
     "end_time": "2022-02-24T22:16:25.372683Z",
     "start_time": "2022-02-24T22:16:22.493654Z"
    }
   },
   "outputs": [],
   "source": [
    "qm9 = pd.read_csv('final_qm9.csv')"
   ]
  },
  {
   "cell_type": "code",
   "execution_count": 16,
   "id": "5f84d58b",
   "metadata": {
    "ExecuteTime": {
     "end_time": "2022-02-24T22:16:25.544244Z",
     "start_time": "2022-02-24T22:16:25.531336Z"
    }
   },
   "outputs": [
    {
     "data": {
      "text/html": [
       "<div>\n",
       "<style scoped>\n",
       "    .dataframe tbody tr th:only-of-type {\n",
       "        vertical-align: middle;\n",
       "    }\n",
       "\n",
       "    .dataframe tbody tr th {\n",
       "        vertical-align: top;\n",
       "    }\n",
       "\n",
       "    .dataframe thead th {\n",
       "        text-align: right;\n",
       "    }\n",
       "</style>\n",
       "<table border=\"1\" class=\"dataframe\">\n",
       "  <thead>\n",
       "    <tr style=\"text-align: right;\">\n",
       "      <th></th>\n",
       "      <th>('BalabanJ', &lt;class 'numpy.float64'&gt;)</th>\n",
       "      <th>('BertzCT', &lt;class 'numpy.float64'&gt;)</th>\n",
       "      <th>('Chi0', &lt;class 'numpy.float64'&gt;)</th>\n",
       "      <th>('Chi0n', &lt;class 'numpy.float64'&gt;)</th>\n",
       "      <th>('Chi0v', &lt;class 'numpy.float64'&gt;)</th>\n",
       "      <th>('Chi1', &lt;class 'numpy.float64'&gt;)</th>\n",
       "      <th>('Chi1n', &lt;class 'numpy.float64'&gt;)</th>\n",
       "      <th>('Chi1v', &lt;class 'numpy.float64'&gt;)</th>\n",
       "      <th>('Chi2n', &lt;class 'numpy.float64'&gt;)</th>\n",
       "      <th>('Chi2v', &lt;class 'numpy.float64'&gt;)</th>\n",
       "      <th>...</th>\n",
       "      <th>('fr_piperzine', &lt;class 'numpy.float64'&gt;)</th>\n",
       "      <th>('fr_priamide', &lt;class 'numpy.float64'&gt;)</th>\n",
       "      <th>('fr_pyridine', &lt;class 'numpy.float64'&gt;)</th>\n",
       "      <th>('fr_quatN', &lt;class 'numpy.float64'&gt;)</th>\n",
       "      <th>('fr_term_acetylene', &lt;class 'numpy.float64'&gt;)</th>\n",
       "      <th>('fr_tetrazole', &lt;class 'numpy.float64'&gt;)</th>\n",
       "      <th>('fr_unbrch_alkane', &lt;class 'numpy.float64'&gt;)</th>\n",
       "      <th>('fr_urea', &lt;class 'numpy.float64'&gt;)</th>\n",
       "      <th>('qed', &lt;class 'numpy.float64'&gt;)</th>\n",
       "      <th>lable</th>\n",
       "    </tr>\n",
       "  </thead>\n",
       "  <tbody>\n",
       "    <tr>\n",
       "      <th>0</th>\n",
       "      <td>0.000020</td>\n",
       "      <td>0.000577</td>\n",
       "      <td>3.875255e-15</td>\n",
       "      <td>2.722966e-11</td>\n",
       "      <td>1.025154e-07</td>\n",
       "      <td>4.102548e-13</td>\n",
       "      <td>1.635214e-11</td>\n",
       "      <td>0.000019</td>\n",
       "      <td>0.000001</td>\n",
       "      <td>2.209078e-07</td>\n",
       "      <td>...</td>\n",
       "      <td>0.0</td>\n",
       "      <td>8.336725e-25</td>\n",
       "      <td>0.156951</td>\n",
       "      <td>4.034345e-08</td>\n",
       "      <td>2.957989e-11</td>\n",
       "      <td>0.168378</td>\n",
       "      <td>4.703598e-08</td>\n",
       "      <td>0.166633</td>\n",
       "      <td>0.187493</td>\n",
       "      <td>-40.478930</td>\n",
       "    </tr>\n",
       "    <tr>\n",
       "      <th>1</th>\n",
       "      <td>0.000020</td>\n",
       "      <td>0.000577</td>\n",
       "      <td>3.875255e-15</td>\n",
       "      <td>2.722966e-11</td>\n",
       "      <td>1.025154e-07</td>\n",
       "      <td>4.102548e-13</td>\n",
       "      <td>1.635214e-11</td>\n",
       "      <td>0.000019</td>\n",
       "      <td>0.000001</td>\n",
       "      <td>2.209078e-07</td>\n",
       "      <td>...</td>\n",
       "      <td>0.0</td>\n",
       "      <td>8.336725e-25</td>\n",
       "      <td>0.156951</td>\n",
       "      <td>4.034345e-08</td>\n",
       "      <td>2.957989e-11</td>\n",
       "      <td>0.168378</td>\n",
       "      <td>4.703598e-08</td>\n",
       "      <td>0.166633</td>\n",
       "      <td>0.228070</td>\n",
       "      <td>-56.525887</td>\n",
       "    </tr>\n",
       "    <tr>\n",
       "      <th>2</th>\n",
       "      <td>0.000020</td>\n",
       "      <td>0.000577</td>\n",
       "      <td>3.875255e-15</td>\n",
       "      <td>2.722966e-11</td>\n",
       "      <td>1.025154e-07</td>\n",
       "      <td>4.102548e-13</td>\n",
       "      <td>1.635214e-11</td>\n",
       "      <td>0.000019</td>\n",
       "      <td>0.000001</td>\n",
       "      <td>2.209078e-07</td>\n",
       "      <td>...</td>\n",
       "      <td>0.0</td>\n",
       "      <td>8.336725e-25</td>\n",
       "      <td>0.156951</td>\n",
       "      <td>4.034345e-08</td>\n",
       "      <td>2.957989e-11</td>\n",
       "      <td>0.168378</td>\n",
       "      <td>4.703598e-08</td>\n",
       "      <td>0.166633</td>\n",
       "      <td>0.156089</td>\n",
       "      <td>-76.404702</td>\n",
       "    </tr>\n",
       "    <tr>\n",
       "      <th>3</th>\n",
       "      <td>0.974937</td>\n",
       "      <td>0.000625</td>\n",
       "      <td>1.574798e-06</td>\n",
       "      <td>2.191668e-09</td>\n",
       "      <td>2.296717e-07</td>\n",
       "      <td>1.101184e-06</td>\n",
       "      <td>1.498512e-07</td>\n",
       "      <td>0.000038</td>\n",
       "      <td>0.000001</td>\n",
       "      <td>2.209078e-07</td>\n",
       "      <td>...</td>\n",
       "      <td>0.0</td>\n",
       "      <td>8.336725e-25</td>\n",
       "      <td>0.156951</td>\n",
       "      <td>4.034345e-08</td>\n",
       "      <td>1.000000e+00</td>\n",
       "      <td>0.168378</td>\n",
       "      <td>4.703598e-08</td>\n",
       "      <td>0.166633</td>\n",
       "      <td>0.160976</td>\n",
       "      <td>-77.308427</td>\n",
       "    </tr>\n",
       "    <tr>\n",
       "      <th>4</th>\n",
       "      <td>0.974937</td>\n",
       "      <td>0.000646</td>\n",
       "      <td>1.574798e-06</td>\n",
       "      <td>7.501717e-11</td>\n",
       "      <td>1.174156e-07</td>\n",
       "      <td>1.101184e-06</td>\n",
       "      <td>5.282567e-08</td>\n",
       "      <td>0.000033</td>\n",
       "      <td>0.000001</td>\n",
       "      <td>2.209078e-07</td>\n",
       "      <td>...</td>\n",
       "      <td>0.0</td>\n",
       "      <td>8.336725e-25</td>\n",
       "      <td>0.156951</td>\n",
       "      <td>4.034345e-08</td>\n",
       "      <td>2.957989e-11</td>\n",
       "      <td>0.168378</td>\n",
       "      <td>4.703598e-08</td>\n",
       "      <td>0.166633</td>\n",
       "      <td>0.197878</td>\n",
       "      <td>-93.411888</td>\n",
       "    </tr>\n",
       "  </tbody>\n",
       "</table>\n",
       "<p>5 rows × 164 columns</p>\n",
       "</div>"
      ],
      "text/plain": [
       "   ('BalabanJ', <class 'numpy.float64'>)  \\\n",
       "0                               0.000020   \n",
       "1                               0.000020   \n",
       "2                               0.000020   \n",
       "3                               0.974937   \n",
       "4                               0.974937   \n",
       "\n",
       "   ('BertzCT', <class 'numpy.float64'>)  ('Chi0', <class 'numpy.float64'>)  \\\n",
       "0                              0.000577                       3.875255e-15   \n",
       "1                              0.000577                       3.875255e-15   \n",
       "2                              0.000577                       3.875255e-15   \n",
       "3                              0.000625                       1.574798e-06   \n",
       "4                              0.000646                       1.574798e-06   \n",
       "\n",
       "   ('Chi0n', <class 'numpy.float64'>)  ('Chi0v', <class 'numpy.float64'>)  \\\n",
       "0                        2.722966e-11                        1.025154e-07   \n",
       "1                        2.722966e-11                        1.025154e-07   \n",
       "2                        2.722966e-11                        1.025154e-07   \n",
       "3                        2.191668e-09                        2.296717e-07   \n",
       "4                        7.501717e-11                        1.174156e-07   \n",
       "\n",
       "   ('Chi1', <class 'numpy.float64'>)  ('Chi1n', <class 'numpy.float64'>)  \\\n",
       "0                       4.102548e-13                        1.635214e-11   \n",
       "1                       4.102548e-13                        1.635214e-11   \n",
       "2                       4.102548e-13                        1.635214e-11   \n",
       "3                       1.101184e-06                        1.498512e-07   \n",
       "4                       1.101184e-06                        5.282567e-08   \n",
       "\n",
       "   ('Chi1v', <class 'numpy.float64'>)  ('Chi2n', <class 'numpy.float64'>)  \\\n",
       "0                            0.000019                            0.000001   \n",
       "1                            0.000019                            0.000001   \n",
       "2                            0.000019                            0.000001   \n",
       "3                            0.000038                            0.000001   \n",
       "4                            0.000033                            0.000001   \n",
       "\n",
       "   ('Chi2v', <class 'numpy.float64'>)  ...  \\\n",
       "0                        2.209078e-07  ...   \n",
       "1                        2.209078e-07  ...   \n",
       "2                        2.209078e-07  ...   \n",
       "3                        2.209078e-07  ...   \n",
       "4                        2.209078e-07  ...   \n",
       "\n",
       "   ('fr_piperzine', <class 'numpy.float64'>)  \\\n",
       "0                                        0.0   \n",
       "1                                        0.0   \n",
       "2                                        0.0   \n",
       "3                                        0.0   \n",
       "4                                        0.0   \n",
       "\n",
       "   ('fr_priamide', <class 'numpy.float64'>)  \\\n",
       "0                              8.336725e-25   \n",
       "1                              8.336725e-25   \n",
       "2                              8.336725e-25   \n",
       "3                              8.336725e-25   \n",
       "4                              8.336725e-25   \n",
       "\n",
       "   ('fr_pyridine', <class 'numpy.float64'>)  \\\n",
       "0                                  0.156951   \n",
       "1                                  0.156951   \n",
       "2                                  0.156951   \n",
       "3                                  0.156951   \n",
       "4                                  0.156951   \n",
       "\n",
       "   ('fr_quatN', <class 'numpy.float64'>)  \\\n",
       "0                           4.034345e-08   \n",
       "1                           4.034345e-08   \n",
       "2                           4.034345e-08   \n",
       "3                           4.034345e-08   \n",
       "4                           4.034345e-08   \n",
       "\n",
       "   ('fr_term_acetylene', <class 'numpy.float64'>)  \\\n",
       "0                                    2.957989e-11   \n",
       "1                                    2.957989e-11   \n",
       "2                                    2.957989e-11   \n",
       "3                                    1.000000e+00   \n",
       "4                                    2.957989e-11   \n",
       "\n",
       "   ('fr_tetrazole', <class 'numpy.float64'>)  \\\n",
       "0                                   0.168378   \n",
       "1                                   0.168378   \n",
       "2                                   0.168378   \n",
       "3                                   0.168378   \n",
       "4                                   0.168378   \n",
       "\n",
       "   ('fr_unbrch_alkane', <class 'numpy.float64'>)  \\\n",
       "0                                   4.703598e-08   \n",
       "1                                   4.703598e-08   \n",
       "2                                   4.703598e-08   \n",
       "3                                   4.703598e-08   \n",
       "4                                   4.703598e-08   \n",
       "\n",
       "   ('fr_urea', <class 'numpy.float64'>)  ('qed', <class 'numpy.float64'>)  \\\n",
       "0                              0.166633                          0.187493   \n",
       "1                              0.166633                          0.228070   \n",
       "2                              0.166633                          0.156089   \n",
       "3                              0.166633                          0.160976   \n",
       "4                              0.166633                          0.197878   \n",
       "\n",
       "       lable  \n",
       "0 -40.478930  \n",
       "1 -56.525887  \n",
       "2 -76.404702  \n",
       "3 -77.308427  \n",
       "4 -93.411888  \n",
       "\n",
       "[5 rows x 164 columns]"
      ]
     },
     "execution_count": 16,
     "metadata": {},
     "output_type": "execute_result"
    }
   ],
   "source": [
    "qm9.head()"
   ]
  },
  {
   "cell_type": "code",
   "execution_count": 53,
   "id": "1a9b5902",
   "metadata": {
    "ExecuteTime": {
     "end_time": "2022-02-25T00:23:54.512053Z",
     "start_time": "2022-02-25T00:23:54.378584Z"
    }
   },
   "outputs": [],
   "source": [
    "X = qm9.drop(['lable'], axis=1)\n",
    "y = qm9['lable']"
   ]
  },
  {
   "cell_type": "code",
   "execution_count": 54,
   "id": "4a94e39c",
   "metadata": {
    "ExecuteTime": {
     "end_time": "2022-02-25T00:23:55.703967Z",
     "start_time": "2022-02-25T00:23:55.544949Z"
    }
   },
   "outputs": [],
   "source": [
    "X_train, X_test, y_train, y_test = train_test_split(X,\n",
    "                                                    y,\n",
    "                                                    test_size=0.2,\n",
    "                                                    random_state=42)"
   ]
  },
  {
   "cell_type": "markdown",
   "id": "e2f3eda7",
   "metadata": {},
   "source": [
    "### Random Forrest Regressor"
   ]
  },
  {
   "cell_type": "code",
   "execution_count": 55,
   "id": "3e5daf31",
   "metadata": {
    "ExecuteTime": {
     "end_time": "2022-02-25T00:30:30.675838Z",
     "start_time": "2022-02-25T00:23:57.071732Z"
    }
   },
   "outputs": [],
   "source": [
    "rf_regressor = RandomForestRegressor()\n",
    "rf_regressor.fit(X_train, y_train)\n",
    "y_hat2 = rf_regressor.predict(X_test)"
   ]
  },
  {
   "cell_type": "code",
   "execution_count": 56,
   "id": "d2faecca",
   "metadata": {
    "ExecuteTime": {
     "end_time": "2022-02-25T00:30:33.670731Z",
     "start_time": "2022-02-25T00:30:30.831351Z"
    },
    "scrolled": true
   },
   "outputs": [
    {
     "name": "stdout",
     "output_type": "stream",
     "text": [
      "0.9999587606497973\n"
     ]
    }
   ],
   "source": [
    "print(r2_score(rf_regressor.predict(X_train) , y_train))"
   ]
  },
  {
   "cell_type": "code",
   "execution_count": 23,
   "id": "b4c3984f",
   "metadata": {
    "ExecuteTime": {
     "end_time": "2022-02-24T22:25:39.264136Z",
     "start_time": "2022-02-24T22:25:39.258318Z"
    },
    "scrolled": true
   },
   "outputs": [
    {
     "name": "stdout",
     "output_type": "stream",
     "text": [
      "0.9994079020222398\n"
     ]
    }
   ],
   "source": [
    "print(r2_score(y_hat2 , y_test))"
   ]
  },
  {
   "cell_type": "markdown",
   "id": "6bb92076",
   "metadata": {},
   "source": [
    "# Tox21"
   ]
  },
  {
   "cell_type": "code",
   "execution_count": 68,
   "id": "e948b689",
   "metadata": {
    "ExecuteTime": {
     "end_time": "2022-02-25T10:09:49.287547Z",
     "start_time": "2022-02-25T10:09:49.055428Z"
    }
   },
   "outputs": [],
   "source": [
    "X = pd.read_csv('tox21_x.csv')\n",
    "y = pd.read_csv('tox21_y.csv')"
   ]
  },
  {
   "cell_type": "code",
   "execution_count": 69,
   "id": "4d18fadd",
   "metadata": {
    "ExecuteTime": {
     "end_time": "2022-02-25T10:09:50.136835Z",
     "start_time": "2022-02-25T10:09:50.066889Z"
    },
    "scrolled": true
   },
   "outputs": [],
   "source": [
    "X_train, X_test, y_train, y_test = train_test_split(X,\n",
    "                                                    y['NR-AR'],\n",
    "                                                    stratify=y,\n",
    "                                                    test_size=0.2,\n",
    "                                                    random_state=42)"
   ]
  },
  {
   "cell_type": "markdown",
   "id": "ffd8e1c7",
   "metadata": {},
   "source": [
    "## Modeling"
   ]
  },
  {
   "cell_type": "markdown",
   "id": "d82a818b",
   "metadata": {},
   "source": [
    "### Random Forrest Classifier"
   ]
  },
  {
   "cell_type": "code",
   "execution_count": 16,
   "id": "1a62c1e3",
   "metadata": {
    "ExecuteTime": {
     "end_time": "2022-02-25T08:51:48.635666Z",
     "start_time": "2022-02-25T08:51:48.630830Z"
    }
   },
   "outputs": [],
   "source": [
    "grid = {'bootstrap': [True, False],\n",
    " 'max_depth': [10, 20],\n",
    " 'max_features': ['auto', 'sqrt'],\n",
    " 'min_samples_leaf': [1, 2],\n",
    " 'min_samples_split': [2, 5]}"
   ]
  },
  {
   "cell_type": "code",
   "execution_count": 17,
   "id": "c75206a5",
   "metadata": {
    "ExecuteTime": {
     "end_time": "2022-02-25T08:51:50.036569Z",
     "start_time": "2022-02-25T08:51:50.029705Z"
    }
   },
   "outputs": [],
   "source": [
    "cv = RepeatedStratifiedKFold(n_splits=5, n_repeats=3, random_state=1)\n",
    "\n",
    "random_forrest_grid_search = GridSearchCV(estimator=RandomForestClassifier(),\n",
    "                           param_grid=grid,\n",
    "                           n_jobs=-1,\n",
    "                           cv=cv,\n",
    "                           scoring='roc_auc',\n",
    "                           verbose=2)"
   ]
  },
  {
   "cell_type": "code",
   "execution_count": 18,
   "id": "ff075f2f",
   "metadata": {
    "ExecuteTime": {
     "end_time": "2022-02-25T08:54:16.469357Z",
     "start_time": "2022-02-25T08:51:52.375599Z"
    }
   },
   "outputs": [
    {
     "name": "stdout",
     "output_type": "stream",
     "text": [
      "Fitting 15 folds for each of 32 candidates, totalling 480 fits\n"
     ]
    },
    {
     "data": {
      "text/plain": [
       "GridSearchCV(cv=RepeatedStratifiedKFold(n_repeats=3, n_splits=5, random_state=1),\n",
       "             estimator=RandomForestClassifier(), n_jobs=-1,\n",
       "             param_grid={'bootstrap': [True, False], 'max_depth': [10, 20],\n",
       "                         'max_features': ['auto', 'sqrt'],\n",
       "                         'min_samples_leaf': [1, 2],\n",
       "                         'min_samples_split': [2, 5]},\n",
       "             scoring='roc_auc', verbose=2)"
      ]
     },
     "execution_count": 18,
     "metadata": {},
     "output_type": "execute_result"
    }
   ],
   "source": [
    "random_forrest_grid_search.fit(X_train, y_train)"
   ]
  },
  {
   "cell_type": "code",
   "execution_count": 28,
   "id": "6d15b893",
   "metadata": {
    "ExecuteTime": {
     "end_time": "2022-02-25T09:58:56.509933Z",
     "start_time": "2022-02-25T09:58:56.503076Z"
    }
   },
   "outputs": [
    {
     "data": {
      "text/plain": [
       "RandomForestClassifier(bootstrap=False, max_depth=10, max_features='sqrt')"
      ]
     },
     "execution_count": 28,
     "metadata": {},
     "output_type": "execute_result"
    }
   ],
   "source": [
    "random_forrest_grid_search.best_estimator_"
   ]
  },
  {
   "cell_type": "markdown",
   "id": "3cd4afac",
   "metadata": {},
   "source": [
    "#### Train Score"
   ]
  },
  {
   "cell_type": "code",
   "execution_count": 26,
   "id": "96a6f941",
   "metadata": {
    "ExecuteTime": {
     "end_time": "2022-02-25T09:58:35.320173Z",
     "start_time": "2022-02-25T09:58:35.258479Z"
    }
   },
   "outputs": [
    {
     "data": {
      "text/plain": [
       "0.7473700134990457"
      ]
     },
     "execution_count": 26,
     "metadata": {},
     "output_type": "execute_result"
    }
   ],
   "source": [
    "roc_auc_score(y_test, random_forrest_grid_search.predict_proba(X_test)[:, 1])"
   ]
  },
  {
   "cell_type": "markdown",
   "id": "d000d854",
   "metadata": {},
   "source": [
    "#### Test Score"
   ]
  },
  {
   "cell_type": "code",
   "execution_count": 27,
   "id": "462a3984",
   "metadata": {
    "ExecuteTime": {
     "end_time": "2022-02-25T09:58:36.527377Z",
     "start_time": "2022-02-25T09:58:36.437634Z"
    },
    "scrolled": true
   },
   "outputs": [
    {
     "data": {
      "text/plain": [
       "0.9985238340581355"
      ]
     },
     "execution_count": 27,
     "metadata": {},
     "output_type": "execute_result"
    }
   ],
   "source": [
    "roc_auc_score(y_train, random_forrest_grid_search.predict_proba(X_train)[:, 1])"
   ]
  },
  {
   "cell_type": "markdown",
   "id": "a5be4df4",
   "metadata": {},
   "source": [
    "#### Roc-Auc Curve"
   ]
  },
  {
   "cell_type": "code",
   "execution_count": 21,
   "id": "d41c386c",
   "metadata": {
    "ExecuteTime": {
     "end_time": "2022-02-25T08:54:16.810726Z",
     "start_time": "2022-02-25T08:54:16.675206Z"
    },
    "scrolled": true
   },
   "outputs": [
    {
     "data": {
      "image/png": "[encoded data removed]",
      "text/plain": [
       "<Figure size 600x400 with 1 Axes>"
      ]
     },
     "metadata": {},
     "output_type": "display_data"
    },
    {
     "name": "stdout",
     "output_type": "stream",
     "text": [
      "Accuracy =  0.9703038674033149\n",
      "Precision =  0.9130434782608695\n",
      "Recall =  0.3387096774193548\n",
      "F1 Score =  0.49411764705882344\n"
     ]
    },
    {
     "data": {
      "text/html": [
       "<div>\n",
       "<style scoped>\n",
       "    .dataframe tbody tr th:only-of-type {\n",
       "        vertical-align: middle;\n",
       "    }\n",
       "\n",
       "    .dataframe tbody tr th {\n",
       "        vertical-align: top;\n",
       "    }\n",
       "\n",
       "    .dataframe thead th {\n",
       "        text-align: right;\n",
       "    }\n",
       "</style>\n",
       "<table border=\"1\" class=\"dataframe\">\n",
       "  <thead>\n",
       "    <tr style=\"text-align: right;\">\n",
       "      <th>Predicted</th>\n",
       "      <th>0.0</th>\n",
       "      <th>1.0</th>\n",
       "    </tr>\n",
       "    <tr>\n",
       "      <th>Actual</th>\n",
       "      <th></th>\n",
       "      <th></th>\n",
       "    </tr>\n",
       "  </thead>\n",
       "  <tbody>\n",
       "    <tr>\n",
       "      <th>0.0</th>\n",
       "      <td>1384</td>\n",
       "      <td>2</td>\n",
       "    </tr>\n",
       "    <tr>\n",
       "      <th>1.0</th>\n",
       "      <td>41</td>\n",
       "      <td>21</td>\n",
       "    </tr>\n",
       "  </tbody>\n",
       "</table>\n",
       "</div>"
      ],
      "text/plain": [
       "Predicted   0.0  1.0\n",
       "Actual              \n",
       "0.0        1384    2\n",
       "1.0          41   21"
      ]
     },
     "metadata": {},
     "output_type": "display_data"
    }
   ],
   "source": [
    "y_hat = random_forrest_grid_search.predict(X_test)\n",
    "generate_auc_roc_curve(random_forrest_grid_search, X_test, y_test)\n",
    "generate_model_report(y_test, y_hat)"
   ]
  },
  {
   "cell_type": "markdown",
   "id": "d2d37b24",
   "metadata": {},
   "source": [
    "### Handle overfitting"
   ]
  },
  {
   "cell_type": "code",
   "execution_count": 77,
   "id": "68603889",
   "metadata": {
    "ExecuteTime": {
     "end_time": "2022-02-25T10:10:30.865930Z",
     "start_time": "2022-02-25T10:10:30.552473Z"
    },
    "scrolled": true
   },
   "outputs": [
    {
     "data": {
      "text/plain": [
       "RandomForestClassifier(bootstrap=False, max_depth=1, max_features='sqrt')"
      ]
     },
     "execution_count": 77,
     "metadata": {},
     "output_type": "execute_result"
    }
   ],
   "source": [
    "rf = RandomForestClassifier(bootstrap=False, max_depth=1, max_features='sqrt')\n",
    "rf.fit(X_train, y_train)"
   ]
  },
  {
   "cell_type": "code",
   "execution_count": 79,
   "id": "09934a26",
   "metadata": {
    "ExecuteTime": {
     "end_time": "2022-02-25T10:10:34.362664Z",
     "start_time": "2022-02-25T10:10:34.326111Z"
    }
   },
   "outputs": [
    {
     "data": {
      "text/plain": [
       "0.7897872736582413"
      ]
     },
     "execution_count": 79,
     "metadata": {},
     "output_type": "execute_result"
    }
   ],
   "source": [
    "roc_auc_score(y_test, rf.predict_proba(X_test)[:, 1])"
   ]
  },
  {
   "cell_type": "code",
   "execution_count": 78,
   "id": "671ca95c",
   "metadata": {
    "ExecuteTime": {
     "end_time": "2022-02-25T10:10:32.004902Z",
     "start_time": "2022-02-25T10:10:31.941832Z"
    }
   },
   "outputs": [
    {
     "data": {
      "text/plain": [
       "0.7967966798819357"
      ]
     },
     "execution_count": 78,
     "metadata": {},
     "output_type": "execute_result"
    }
   ],
   "source": [
    "roc_auc_score(y_train, rf.predict_proba(X_train)[:, 1])"
   ]
  }
 ],
 "metadata": {
  "kernelspec": {
   "display_name": "Python 3",
   "language": "python",
   "name": "python3"
  },
  "language_info": {
   "codemirror_mode": {
    "name": "ipython",
    "version": 3
   },
   "file_extension": ".py",
   "mimetype": "text/x-python",
   "name": "python",
   "nbconvert_exporter": "python",
   "pygments_lexer": "ipython3",
   "version": "3.8.8"
  },
  "toc": {
   "base_numbering": 1,
   "nav_menu": {},
   "number_sections": true,
   "sideBar": true,
   "skip_h1_title": false,
   "title_cell": "Table of Contents",
   "title_sidebar": "Contents",
   "toc_cell": false,
   "toc_position": {
    "height": "calc(100% - 180px)",
    "left": "10px",
    "top": "150px",
    "width": "320px"
   },
   "toc_section_display": true,
   "toc_window_display": true
  },
  "varInspector": {
   "cols": {
    "lenName": 16,
    "lenType": 16,
    "lenVar": 40
   },
   "kernels_config": {
    "python": {
     "delete_cmd_postfix": "",
     "delete_cmd_prefix": "del ",
     "library": "var_list.py",
     "varRefreshCmd": "print(var_dic_list())"
    },
    "r": {
     "delete_cmd_postfix": ") ",
     "delete_cmd_prefix": "rm(",
     "library": "var_list.r",
     "varRefreshCmd": "cat(var_dic_list()) "
    }
   },
   "types_to_exclude": [
    "module",
    "function",
    "builtin_function_or_method",
    "instance",
    "_Feature"
   ],
   "window_display": false
  }
 },
 "nbformat": 4,
 "nbformat_minor": 5
}
