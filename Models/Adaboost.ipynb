{
 "cells": [
  {
   "cell_type": "markdown",
   "id": "9576fe96",
   "metadata": {},
   "source": [
    "## imports"
   ]
  },
  {
   "cell_type": "code",
   "execution_count": 1,
   "id": "bc8e61fa",
   "metadata": {
    "ExecuteTime": {
     "end_time": "2022-02-25T07:56:14.865684Z",
     "start_time": "2022-02-25T07:56:13.424466Z"
    }
   },
   "outputs": [],
   "source": [
    "import pandas as pd\n",
    "import numpy as np\n",
    "import seaborn as sns\n",
    "import matplotlib.pyplot as plt\n",
    "\n",
    "import random\n",
    "from sklearn.model_selection import train_test_split\n",
    "\n",
    "from sklearn.ensemble import AdaBoostClassifier\n",
    "from sklearn.ensemble import RandomForestClassifier\n",
    "\n",
    "from sklearn.ensemble import RandomForestRegressor\n",
    "from sklearn.ensemble import AdaBoostRegressor\n",
    "\n",
    "from sklearn.metrics import precision_score, recall_score, confusion_matrix\n",
    "from sklearn.metrics import f1_score, roc_auc_score, roc_curve\n",
    "from sklearn.metrics import r2_score\n",
    "from sklearn.metrics import accuracy_score\n",
    "\n",
    "from sklearn.model_selection import RepeatedStratifiedKFold\n",
    "from sklearn.model_selection import GridSearchCV\n",
    "\n",
    "\n",
    "from sklearn.tree import DecisionTreeClassifier\n",
    "from sklearn.tree import DecisionTreeRegressor\n",
    "from sklearn.neighbors import KNeighborsClassifier"
   ]
  },
  {
   "cell_type": "markdown",
   "id": "3ef9a7a9",
   "metadata": {},
   "source": [
    "# ToxCast"
   ]
  },
  {
   "cell_type": "markdown",
   "id": "b0b1ede2",
   "metadata": {},
   "source": [
    "## Splitting Data"
   ]
  },
  {
   "cell_type": "code",
   "execution_count": 56,
   "id": "7ee7bc93",
   "metadata": {
    "ExecuteTime": {
     "end_time": "2022-02-25T10:21:34.646096Z",
     "start_time": "2022-02-25T10:21:34.462267Z"
    }
   },
   "outputs": [],
   "source": [
    "df = pd.read_csv('final_toxcast.csv')"
   ]
  },
  {
   "cell_type": "code",
   "execution_count": 57,
   "id": "f38cfa18",
   "metadata": {
    "ExecuteTime": {
     "end_time": "2022-02-25T10:21:35.477901Z",
     "start_time": "2022-02-25T10:21:35.431251Z"
    }
   },
   "outputs": [],
   "source": [
    "X = df.drop(['label'], axis=1)\n",
    "y = df['label']\n",
    "\n",
    "X_train, X_test, y_train, y_test = train_test_split(X,\n",
    "                                                    y,\n",
    "                                                    stratify=y,\n",
    "                                                    test_size=0.2,\n",
    "                                                    random_state=42)"
   ]
  },
  {
   "cell_type": "markdown",
   "id": "67d998bb",
   "metadata": {
    "ExecuteTime": {
     "end_time": "2022-02-09T11:13:20.589762Z",
     "start_time": "2022-02-09T11:13:20.586433Z"
    }
   },
   "source": [
    "## Modeling"
   ]
  },
  {
   "cell_type": "markdown",
   "id": "dc8e9d20",
   "metadata": {},
   "source": [
    "#### Metric Functions"
   ]
  },
  {
   "cell_type": "code",
   "execution_count": 58,
   "id": "dc439e14",
   "metadata": {
    "ExecuteTime": {
     "end_time": "2022-02-25T10:21:36.836033Z",
     "start_time": "2022-02-25T10:21:36.820412Z"
    }
   },
   "outputs": [],
   "source": [
    "def generate_model_report(y_actual, y_predicted):\n",
    "    print(\"Accuracy = \", accuracy_score(y_actual, y_predicted))\n",
    "    print(\"Precision = \", precision_score(y_actual, y_predicted))\n",
    "    print(\"Recall = \", recall_score(y_actual, y_predicted))\n",
    "    print(\"F1 Score = \", f1_score(y_actual, y_predicted))\n",
    "    display(\n",
    "        pd.crosstab(y_actual,\n",
    "                    y_predicted,\n",
    "                    rownames=[\"Actual\"],\n",
    "                    colnames=[\"Predicted\"]))\n",
    "\n",
    "\n",
    "def generate_auc_roc_curve(clf, X_test, y_test):\n",
    "    sns.set(style=\"darkgrid\")\n",
    "    y_pred_proba = clf.predict_proba(X_test)[:, 1]\n",
    "    fpr, tpr, thresholds = roc_curve(y_test, y_pred_proba)\n",
    "    auc = roc_auc_score(y_test, y_pred_proba)\n",
    "    plt.figure(dpi=100)\n",
    "    plt.plot(fpr,\n",
    "             tpr,\n",
    "             label=\"AUC ROC Curve with Area Under the curve =%.2f\" % auc)\n",
    "    plt.legend(loc=4)\n",
    "    plt.grid(True)\n",
    "    plt.show()"
   ]
  },
  {
   "cell_type": "markdown",
   "id": "c6b9de9c",
   "metadata": {},
   "source": [
    "### Adaboost Classifier"
   ]
  },
  {
   "cell_type": "code",
   "execution_count": 59,
   "id": "bbf87d60",
   "metadata": {
    "ExecuteTime": {
     "end_time": "2022-02-25T10:21:40.342557Z",
     "start_time": "2022-02-25T10:21:39.320449Z"
    },
    "scrolled": false
   },
   "outputs": [
    {
     "data": {
      "image/png": "[encoded data removed]",
      "text/plain": [
       "<Figure size 600x400 with 1 Axes>"
      ]
     },
     "metadata": {},
     "output_type": "display_data"
    },
    {
     "name": "stdout",
     "output_type": "stream",
     "text": [
      "Accuracy =  0.8213146139119336\n",
      "Precision =  0.6097560975609756\n",
      "Recall =  0.5102040816326531\n",
      "F1 Score =  0.5555555555555556\n"
     ]
    },
    {
     "data": {
      "text/html": [
       "<div>\n",
       "<style scoped>\n",
       "    .dataframe tbody tr th:only-of-type {\n",
       "        vertical-align: middle;\n",
       "    }\n",
       "\n",
       "    .dataframe tbody tr th {\n",
       "        vertical-align: top;\n",
       "    }\n",
       "\n",
       "    .dataframe thead th {\n",
       "        text-align: right;\n",
       "    }\n",
       "</style>\n",
       "<table border=\"1\" class=\"dataframe\">\n",
       "  <thead>\n",
       "    <tr style=\"text-align: right;\">\n",
       "      <th>Predicted</th>\n",
       "      <th>0.0</th>\n",
       "      <th>1.0</th>\n",
       "    </tr>\n",
       "    <tr>\n",
       "      <th>Actual</th>\n",
       "      <th></th>\n",
       "      <th></th>\n",
       "    </tr>\n",
       "  </thead>\n",
       "  <tbody>\n",
       "    <tr>\n",
       "      <th>0.0</th>\n",
       "      <td>1112</td>\n",
       "      <td>112</td>\n",
       "    </tr>\n",
       "    <tr>\n",
       "      <th>1.0</th>\n",
       "      <td>168</td>\n",
       "      <td>175</td>\n",
       "    </tr>\n",
       "  </tbody>\n",
       "</table>\n",
       "</div>"
      ],
      "text/plain": [
       "Predicted   0.0  1.0\n",
       "Actual              \n",
       "0.0        1112  112\n",
       "1.0         168  175"
      ]
     },
     "metadata": {},
     "output_type": "display_data"
    }
   ],
   "source": [
    "ada_clf = AdaBoostClassifier()\n",
    "ada_clf.fit(X_train, y_train)\n",
    "y_hat = ada_clf.predict(X_test)\n",
    "generate_auc_roc_curve(ada_clf, X_test, y_test)\n",
    "generate_model_report(y_test, y_hat)"
   ]
  },
  {
   "cell_type": "code",
   "execution_count": 25,
   "id": "4b03a66b",
   "metadata": {
    "ExecuteTime": {
     "end_time": "2022-02-25T08:02:59.814291Z",
     "start_time": "2022-02-25T08:02:59.719031Z"
    }
   },
   "outputs": [
    {
     "data": {
      "text/plain": [
       "0.866355405028499"
      ]
     },
     "execution_count": 25,
     "metadata": {},
     "output_type": "execute_result"
    }
   ],
   "source": [
    "roc_auc_score(y_train  ,ada_clf.predict_proba(X_train)[:, 1])"
   ]
  },
  {
   "cell_type": "code",
   "execution_count": 26,
   "id": "3c3bd3dc",
   "metadata": {
    "ExecuteTime": {
     "end_time": "2022-02-25T08:03:02.057132Z",
     "start_time": "2022-02-25T08:03:02.010759Z"
    },
    "scrolled": false
   },
   "outputs": [
    {
     "data": {
      "text/plain": [
       "0.8289506278701957"
      ]
     },
     "execution_count": 26,
     "metadata": {},
     "output_type": "execute_result"
    }
   ],
   "source": [
    "roc_auc_score(y_test  ,ada_clf.predict_proba(X_test)[:, 1])"
   ]
  },
  {
   "cell_type": "code",
   "execution_count": null,
   "id": "80e5d723",
   "metadata": {},
   "outputs": [],
   "source": []
  },
  {
   "cell_type": "markdown",
   "id": "f6073641",
   "metadata": {},
   "source": [
    "# QM9"
   ]
  },
  {
   "cell_type": "markdown",
   "id": "db08eeb8",
   "metadata": {},
   "source": [
    "## Modeling"
   ]
  },
  {
   "cell_type": "code",
   "execution_count": null,
   "id": "6b500f32",
   "metadata": {
    "ExecuteTime": {
     "end_time": "2022-02-25T00:09:47.294215Z",
     "start_time": "2022-02-25T00:09:44.758371Z"
    }
   },
   "outputs": [],
   "source": [
    "qm9 = pd.read_csv('final_qm9.csv')"
   ]
  },
  {
   "cell_type": "code",
   "execution_count": null,
   "id": "5f84d58b",
   "metadata": {
    "ExecuteTime": {
     "end_time": "2022-02-25T00:09:47.310740Z",
     "start_time": "2022-02-25T00:09:47.295563Z"
    }
   },
   "outputs": [],
   "source": [
    "qm9.head()"
   ]
  },
  {
   "cell_type": "code",
   "execution_count": null,
   "id": "1a9b5902",
   "metadata": {
    "ExecuteTime": {
     "end_time": "2022-02-25T00:09:47.396097Z",
     "start_time": "2022-02-25T00:09:47.312795Z"
    }
   },
   "outputs": [],
   "source": [
    "X = qm9.drop(['lable'], axis=1)\n",
    "y = qm9['lable']"
   ]
  },
  {
   "cell_type": "code",
   "execution_count": null,
   "id": "4a94e39c",
   "metadata": {
    "ExecuteTime": {
     "end_time": "2022-02-25T00:09:47.518555Z",
     "start_time": "2022-02-25T00:09:47.397927Z"
    }
   },
   "outputs": [],
   "source": [
    "X_train, X_test, y_train, y_test = train_test_split(X,\n",
    "                                                    y,\n",
    "                                                    test_size=0.2,\n",
    "                                                    random_state=42)"
   ]
  },
  {
   "cell_type": "markdown",
   "id": "a4fb49d4",
   "metadata": {},
   "source": [
    "### Adaboost Regressor"
   ]
  },
  {
   "cell_type": "code",
   "execution_count": null,
   "id": "ac1b5d3f",
   "metadata": {
    "ExecuteTime": {
     "end_time": "2022-02-25T00:10:48.046851Z",
     "start_time": "2022-02-25T00:09:47.519709Z"
    }
   },
   "outputs": [],
   "source": [
    "ada_regressor = AdaBoostRegressor()\n",
    "ada_regressor.fit(X_train, y_train)\n",
    "y_hat = ada_regressor.predict(X_test)"
   ]
  },
  {
   "cell_type": "code",
   "execution_count": null,
   "id": "9f0211c7",
   "metadata": {
    "ExecuteTime": {
     "end_time": "2022-02-25T00:11:33.748795Z",
     "start_time": "2022-02-25T00:11:32.956749Z"
    }
   },
   "outputs": [],
   "source": [
    "r2_score(ada_regressor.predict(X_train) , y_train)"
   ]
  },
  {
   "cell_type": "code",
   "execution_count": null,
   "id": "3bed9902",
   "metadata": {
    "ExecuteTime": {
     "end_time": "2022-02-25T00:11:34.863331Z",
     "start_time": "2022-02-25T00:11:34.853527Z"
    }
   },
   "outputs": [],
   "source": [
    "r2_score(y_hat , y_test)"
   ]
  },
  {
   "cell_type": "markdown",
   "id": "6bb92076",
   "metadata": {},
   "source": [
    "# Tox21"
   ]
  },
  {
   "cell_type": "code",
   "execution_count": 83,
   "id": "e948b689",
   "metadata": {
    "ExecuteTime": {
     "end_time": "2022-02-25T10:26:02.831846Z",
     "start_time": "2022-02-25T10:26:02.612317Z"
    }
   },
   "outputs": [],
   "source": [
    "X = pd.read_csv('tox21_x.csv')\n",
    "y = pd.read_csv('tox21_y.csv')"
   ]
  },
  {
   "cell_type": "code",
   "execution_count": 84,
   "id": "4d18fadd",
   "metadata": {
    "ExecuteTime": {
     "end_time": "2022-02-25T10:26:03.790198Z",
     "start_time": "2022-02-25T10:26:03.719967Z"
    },
    "scrolled": true
   },
   "outputs": [],
   "source": [
    "X_train, X_test, y_train, y_test = train_test_split(X,\n",
    "                                                    y['NR-AR'],\n",
    "                                                    stratify=y,\n",
    "                                                    test_size=0.2,\n",
    "                                                    random_state=42)"
   ]
  },
  {
   "cell_type": "markdown",
   "id": "ffd8e1c7",
   "metadata": {},
   "source": [
    "## Modeling"
   ]
  },
  {
   "cell_type": "markdown",
   "id": "b8d47ed8",
   "metadata": {},
   "source": [
    "### Adaboost Classifer"
   ]
  },
  {
   "cell_type": "code",
   "execution_count": 85,
   "id": "f5a7bc12",
   "metadata": {
    "ExecuteTime": {
     "end_time": "2022-02-25T10:26:04.747865Z",
     "start_time": "2022-02-25T10:26:04.740682Z"
    },
    "code_folding": []
   },
   "outputs": [],
   "source": [
    "grid = {\n",
    "    'n_estimators': [10, 50, 100],\n",
    "    'learning_rate': [0.01, 0.1, 1.0],\n",
    "    'base_estimator':\n",
    "    [DecisionTreeClassifier(max_depth=1),\n",
    "     DecisionTreeClassifier(max_depth=5)]\n",
    "}\n",
    "# define the evaluation procedure\n",
    "cv = RepeatedStratifiedKFold(n_splits=5, n_repeats=3, random_state=1)"
   ]
  },
  {
   "cell_type": "code",
   "execution_count": 86,
   "id": "94de77bf",
   "metadata": {
    "ExecuteTime": {
     "end_time": "2022-02-25T10:26:07.535680Z",
     "start_time": "2022-02-25T10:26:07.531624Z"
    },
    "code_folding": []
   },
   "outputs": [],
   "source": [
    "grid_search = GridSearchCV(estimator=AdaBoostClassifier(),\n",
    "                           param_grid=grid,\n",
    "                           n_jobs=-1,\n",
    "                           cv=cv,\n",
    "                           scoring='roc_auc',\n",
    "                           verbose=2)"
   ]
  },
  {
   "cell_type": "code",
   "execution_count": 87,
   "id": "2e91ef56",
   "metadata": {
    "ExecuteTime": {
     "end_time": "2022-02-25T10:29:27.060017Z",
     "start_time": "2022-02-25T10:26:13.100720Z"
    },
    "scrolled": false
   },
   "outputs": [
    {
     "name": "stdout",
     "output_type": "stream",
     "text": [
      "Fitting 15 folds for each of 18 candidates, totalling 270 fits\n"
     ]
    },
    {
     "data": {
      "text/plain": [
       "GridSearchCV(cv=RepeatedStratifiedKFold(n_repeats=3, n_splits=5, random_state=1),\n",
       "             estimator=AdaBoostClassifier(), n_jobs=-1,\n",
       "             param_grid={'base_estimator': [DecisionTreeClassifier(max_depth=1),\n",
       "                                            DecisionTreeClassifier(max_depth=5)],\n",
       "                         'learning_rate': [0.01, 0.1, 1.0],\n",
       "                         'n_estimators': [10, 50, 100]},\n",
       "             scoring='roc_auc', verbose=2)"
      ]
     },
     "execution_count": 87,
     "metadata": {},
     "output_type": "execute_result"
    }
   ],
   "source": [
    "grid_search.fit(X_train, y_train)"
   ]
  },
  {
   "cell_type": "markdown",
   "id": "e7773480",
   "metadata": {},
   "source": [
    "#### Train Score"
   ]
  },
  {
   "cell_type": "code",
   "execution_count": 88,
   "id": "cb10663e",
   "metadata": {
    "ExecuteTime": {
     "end_time": "2022-02-25T10:29:27.209066Z",
     "start_time": "2022-02-25T10:29:27.145601Z"
    }
   },
   "outputs": [
    {
     "name": "stdout",
     "output_type": "stream",
     "text": [
      "0.8797625181200551\n"
     ]
    }
   ],
   "source": [
    "print(roc_auc_score(y_train , grid_search.predict_proba(X_train)[:, 1]))"
   ]
  },
  {
   "cell_type": "markdown",
   "id": "09653e03",
   "metadata": {},
   "source": [
    "#### Test Score"
   ]
  },
  {
   "cell_type": "code",
   "execution_count": 89,
   "id": "ceba7ec1",
   "metadata": {
    "ExecuteTime": {
     "end_time": "2022-02-25T10:29:27.311169Z",
     "start_time": "2022-02-25T10:29:27.291489Z"
    }
   },
   "outputs": [
    {
     "name": "stdout",
     "output_type": "stream",
     "text": [
      "0.7528569101149746\n"
     ]
    }
   ],
   "source": [
    "print(roc_auc_score(y_test , grid_search.predict_proba(X_test)[:, 1]))"
   ]
  },
  {
   "cell_type": "markdown",
   "id": "c0cf4848",
   "metadata": {},
   "source": [
    "#### Roc-Auc Curve"
   ]
  },
  {
   "cell_type": "code",
   "execution_count": 90,
   "id": "e1ac47d1",
   "metadata": {
    "ExecuteTime": {
     "end_time": "2022-02-25T10:29:27.532309Z",
     "start_time": "2022-02-25T10:29:27.389364Z"
    },
    "scrolled": false
   },
   "outputs": [
    {
     "data": {
      "image/png": "[encoded data removed]",
      "text/plain": [
       "<Figure size 600x400 with 1 Axes>"
      ]
     },
     "metadata": {},
     "output_type": "display_data"
    },
    {
     "name": "stdout",
     "output_type": "stream",
     "text": [
      "Accuracy =  0.9661602209944752\n",
      "Precision =  0.8095238095238095\n",
      "Recall =  0.27419354838709675\n",
      "F1 Score =  0.4096385542168674\n"
     ]
    },
    {
     "data": {
      "text/html": [
       "<div>\n",
       "<style scoped>\n",
       "    .dataframe tbody tr th:only-of-type {\n",
       "        vertical-align: middle;\n",
       "    }\n",
       "\n",
       "    .dataframe tbody tr th {\n",
       "        vertical-align: top;\n",
       "    }\n",
       "\n",
       "    .dataframe thead th {\n",
       "        text-align: right;\n",
       "    }\n",
       "</style>\n",
       "<table border=\"1\" class=\"dataframe\">\n",
       "  <thead>\n",
       "    <tr style=\"text-align: right;\">\n",
       "      <th>Predicted</th>\n",
       "      <th>0.0</th>\n",
       "      <th>1.0</th>\n",
       "    </tr>\n",
       "    <tr>\n",
       "      <th>Actual</th>\n",
       "      <th></th>\n",
       "      <th></th>\n",
       "    </tr>\n",
       "  </thead>\n",
       "  <tbody>\n",
       "    <tr>\n",
       "      <th>0.0</th>\n",
       "      <td>1382</td>\n",
       "      <td>4</td>\n",
       "    </tr>\n",
       "    <tr>\n",
       "      <th>1.0</th>\n",
       "      <td>45</td>\n",
       "      <td>17</td>\n",
       "    </tr>\n",
       "  </tbody>\n",
       "</table>\n",
       "</div>"
      ],
      "text/plain": [
       "Predicted   0.0  1.0\n",
       "Actual              \n",
       "0.0        1382    4\n",
       "1.0          45   17"
      ]
     },
     "metadata": {},
     "output_type": "display_data"
    }
   ],
   "source": [
    "y_hat = grid_search.predict(X_test)\n",
    "generate_auc_roc_curve(grid_search, X_test, y_test)\n",
    "generate_model_report(y_test, y_hat)"
   ]
  },
  {
   "cell_type": "markdown",
   "id": "97be30b6",
   "metadata": {},
   "source": [
    "As seen in this model there is no overfitting and everything worked well"
   ]
  },
  {
   "cell_type": "code",
   "execution_count": 91,
   "id": "192874e3",
   "metadata": {
    "ExecuteTime": {
     "end_time": "2022-02-25T10:29:27.609432Z",
     "start_time": "2022-02-25T10:29:27.606922Z"
    }
   },
   "outputs": [
    {
     "data": {
      "text/plain": [
       "AdaBoostClassifier(base_estimator=DecisionTreeClassifier(max_depth=1),\n",
       "                   learning_rate=0.1)"
      ]
     },
     "execution_count": 91,
     "metadata": {},
     "output_type": "execute_result"
    }
   ],
   "source": [
    "grid_search.best_estimator_"
   ]
  },
  {
   "cell_type": "markdown",
   "id": "a5952dec",
   "metadata": {},
   "source": [
    "###  Handle overfitting"
   ]
  },
  {
   "cell_type": "code",
   "execution_count": 95,
   "id": "1ad17b36",
   "metadata": {
    "ExecuteTime": {
     "end_time": "2022-02-25T10:30:54.711062Z",
     "start_time": "2022-02-25T10:30:54.707659Z"
    }
   },
   "outputs": [],
   "source": [
    "ada = AdaBoostClassifier(base_estimator=DecisionTreeClassifier(max_depth=1),\n",
    "                   learning_rate=0.1 , n_estimators=20)"
   ]
  },
  {
   "cell_type": "code",
   "execution_count": 97,
   "id": "7a93aabb",
   "metadata": {
    "ExecuteTime": {
     "end_time": "2022-02-25T10:30:58.864228Z",
     "start_time": "2022-02-25T10:30:58.219482Z"
    }
   },
   "outputs": [
    {
     "data": {
      "text/plain": [
       "AdaBoostClassifier(base_estimator=DecisionTreeClassifier(max_depth=1),\n",
       "                   learning_rate=0.1, n_estimators=20)"
      ]
     },
     "execution_count": 97,
     "metadata": {},
     "output_type": "execute_result"
    }
   ],
   "source": [
    "ada.fit(X_train , y_train)"
   ]
  },
  {
   "cell_type": "code",
   "execution_count": 99,
   "id": "a45e396a",
   "metadata": {
    "ExecuteTime": {
     "end_time": "2022-02-25T10:31:05.267201Z",
     "start_time": "2022-02-25T10:31:05.198981Z"
    }
   },
   "outputs": [
    {
     "name": "stdout",
     "output_type": "stream",
     "text": [
      "0.8335956738914019\n"
     ]
    }
   ],
   "source": [
    "print(roc_auc_score(y_train , ada.predict_proba(X_train)[:, 1]))"
   ]
  },
  {
   "cell_type": "code",
   "execution_count": 98,
   "id": "f273a4f0",
   "metadata": {
    "ExecuteTime": {
     "end_time": "2022-02-25T10:31:03.326619Z",
     "start_time": "2022-02-25T10:31:03.293681Z"
    }
   },
   "outputs": [
    {
     "name": "stdout",
     "output_type": "stream",
     "text": [
      "0.7906426011264721\n"
     ]
    }
   ],
   "source": [
    "print(roc_auc_score(y_test , ada.predict_proba(X_test)[:, 1]))"
   ]
  }
 ],
 "metadata": {
  "kernelspec": {
   "display_name": "Python 3",
   "language": "python",
   "name": "python3"
  },
  "language_info": {
   "codemirror_mode": {
    "name": "ipython",
    "version": 3
   },
   "file_extension": ".py",
   "mimetype": "text/x-python",
   "name": "python",
   "nbconvert_exporter": "python",
   "pygments_lexer": "ipython3",
   "version": "3.8.8"
  },
  "toc": {
   "base_numbering": 1,
   "nav_menu": {},
   "number_sections": true,
   "sideBar": true,
   "skip_h1_title": false,
   "title_cell": "Table of Contents",
   "title_sidebar": "Contents",
   "toc_cell": false,
   "toc_position": {
    "height": "calc(100% - 180px)",
    "left": "10px",
    "top": "150px",
    "width": "320px"
   },
   "toc_section_display": true,
   "toc_window_display": true
  },
  "varInspector": {
   "cols": {
    "lenName": 16,
    "lenType": 16,
    "lenVar": 40
   },
   "kernels_config": {
    "python": {
     "delete_cmd_postfix": "",
     "delete_cmd_prefix": "del ",
     "library": "var_list.py",
     "varRefreshCmd": "print(var_dic_list())"
    },
    "r": {
     "delete_cmd_postfix": ") ",
     "delete_cmd_prefix": "rm(",
     "library": "var_list.r",
     "varRefreshCmd": "cat(var_dic_list()) "
    }
   },
   "types_to_exclude": [
    "module",
    "function",
    "builtin_function_or_method",
    "instance",
    "_Feature"
   ],
   "window_display": false
  }
 },
 "nbformat": 4,
 "nbformat_minor": 5
}
