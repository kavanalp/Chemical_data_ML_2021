{
  "nbformat": 4,
  "nbformat_minor": 0,
  "metadata": {
    "colab": {
      "name": "SVM.ipynb",
      "provenance": [],
      "collapsed_sections": [],
      "mount_file_id": "1JoKfmkWEcCpp73kJ27c-8Bfs8-fRjd9h",
      "authorship_tag": "ABX9TyO6d8KrDbW9Mwvi9K3W/iCX",
      "include_colab_link": true
    },
    "kernelspec": {
      "name": "python3",
      "display_name": "Python 3"
    },
    "language_info": {
      "name": "python"
    }
  },
  "cells": [
    {
      "cell_type": "markdown",
      "metadata": {
        "id": "view-in-github",
        "colab_type": "text"
      },
      "source": [
        "<a href=\"https://colab.research.google.com/github/panahiparham/mlclass_proj_f2021/blob/main/Models/SVM.ipynb\" target=\"_parent\"><img src=\"https://colab.research.google.com/assets/colab-badge.svg\" alt=\"Open In Colab\"/></a>"
      ]
    },
    {
      "cell_type": "markdown",
      "source": [
        "# SVM models\n"
      ],
      "metadata": {
        "id": "TFVrpZZ-P3yI"
      }
    },
    {
      "cell_type": "code",
      "execution_count": null,
      "metadata": {
        "id": "jFfrD-XmXcSo"
      },
      "outputs": [],
      "source": [
        "import numpy as np\n",
        "import pandas as pd\n",
        "import matplotlib.pyplot as plt"
      ]
    },
    {
      "cell_type": "code",
      "source": [
        "from sklearn.model_selection import train_test_split\n",
        "\n",
        "from sklearn.metrics import roc_auc_score, mean_absolute_error, confusion_matrix\n",
        "\n",
        "from sklearn.model_selection import cross_val_score\n",
        "from sklearn.model_selection import RepeatedStratifiedKFold\n",
        "from sklearn.model_selection import GridSearchCV"
      ],
      "metadata": {
        "id": "2ngXzl_M8O53"
      },
      "execution_count": null,
      "outputs": []
    },
    {
      "cell_type": "code",
      "source": [
        "from sklearn.svm import SVR\n",
        "from sklearn.svm import SVC"
      ],
      "metadata": {
        "id": "qWBiOgde-NTc"
      },
      "execution_count": null,
      "outputs": []
    },
    {
      "cell_type": "code",
      "source": [
        "from sklearn.decomposition import PCA\n",
        "from sklearn.pipeline import Pipeline"
      ],
      "metadata": {
        "id": "qVWtZqs0nWJi"
      },
      "execution_count": null,
      "outputs": []
    },
    {
      "cell_type": "code",
      "source": [
        "from sklearn.preprocessing import StandardScaler"
      ],
      "metadata": {
        "id": "Ql95kkgvtWwI"
      },
      "execution_count": null,
      "outputs": []
    },
    {
      "cell_type": "markdown",
      "source": [
        "## Support Vector Regression on QM9"
      ],
      "metadata": {
        "id": "IVXhXIPaQP5-"
      }
    },
    {
      "cell_type": "code",
      "source": [
        "# SVM are typically not used with large datasets\n",
        "# Because SVM stores the kernel matrix, which is of O(n^2) size "
      ],
      "metadata": {
        "id": "sXOoRXGfrF_z"
      },
      "execution_count": null,
      "outputs": []
    },
    {
      "cell_type": "code",
      "source": [
        "# import data\n",
        "qm9_features = np.load('/content/drive/MyDrive/Data Science @ SBU/Applied Machine Learning/project/qm9_preprocessed/qm9_features.npy')\n",
        "qm9_labels_df = pd.read_csv('/content/drive/MyDrive/Data Science @ SBU/Applied Machine Learning/project/qm9_preprocessed/qm9_labels.csv')"
      ],
      "metadata": {
        "id": "1QmidIBV8eaF"
      },
      "execution_count": null,
      "outputs": []
    },
    {
      "cell_type": "code",
      "source": [
        "# selecting 'gap' task\n",
        "gap_labels = qm9_labels_df['gap'].to_numpy()\n",
        "print('features shape:', qm9_features.shape)\n",
        "print('labels shape:', gap_labels.shape)"
      ],
      "metadata": {
        "id": "0aGiLCEp9LWj",
        "colab": {
          "base_uri": "https://localhost:8080/"
        },
        "outputId": "8b500aef-4af7-4991-f2a4-d61949e3a01d"
      },
      "execution_count": null,
      "outputs": [
        {
          "output_type": "stream",
          "name": "stdout",
          "text": [
            "features shape: (133885, 163)\n",
            "labels shape: (133885,)\n"
          ]
        }
      ]
    },
    {
      "cell_type": "code",
      "source": [
        "# Baseline - small train set"
      ],
      "metadata": {
        "id": "OjSyquMeeDuX"
      },
      "execution_count": null,
      "outputs": []
    },
    {
      "cell_type": "code",
      "source": [
        "# train/test split (random split 0.1)\n",
        "x_train, x_test, y_train, y_test =  train_test_split(qm9_features, gap_labels , test_size=0.9, random_state=42)"
      ],
      "metadata": {
        "id": "zAPzYrHD9ljU"
      },
      "execution_count": null,
      "outputs": []
    },
    {
      "cell_type": "code",
      "source": [
        "# train on x_train\n",
        "model = SVR(kernel='linear').fit(x_train, y_train)\n",
        "\n",
        "# score on x_train\n",
        "print('Train MAE score:', mean_absolute_error(y_train,model.predict(x_train)))\n",
        "print('Train r2 score:', model.score(x_train, y_train))\n",
        "print()\n",
        "# score on x_test\n",
        "print('Test MAE score:', mean_absolute_error(y_test,model.predict(x_test)))\n",
        "print('Test r2 score:', model.score(x_test, y_test))"
      ],
      "metadata": {
        "colab": {
          "base_uri": "https://localhost:8080/"
        },
        "id": "HJyQGCfl48KI",
        "outputId": "1bc759b5-65e5-450e-c3c2-020253ba3095"
      },
      "execution_count": null,
      "outputs": [
        {
          "output_type": "stream",
          "name": "stdout",
          "text": [
            "Train MAE score: 0.026566971452956053\n",
            "Train r2 score: 0.5096233512400322\n",
            "\n",
            "Test MAE score: 0.026506751978069586\n",
            "Test r2 score: 0.5103764028197942\n"
          ]
        }
      ]
    },
    {
      "cell_type": "code",
      "source": [
        "# Experiment 1. small train set + feature and label standardization"
      ],
      "metadata": {
        "id": "2WkApmXj7i-Z"
      },
      "execution_count": null,
      "outputs": []
    },
    {
      "cell_type": "code",
      "source": [
        "# Normalizing features\n",
        "x_scale = StandardScaler()\n",
        "\n",
        "x_train_scaled = x_scale.fit_transform(x_train)\n",
        "x_test_scaled = x_scale.transform(x_test)\n",
        "\n",
        "# Normalizing labels\n",
        "y_scale = StandardScaler()\n",
        "\n",
        "y_train_scaled = y_scale.fit_transform(y_train.reshape(-1,1)).squeeze()\n",
        "y_test_scaled = y_scale.transform(y_test.reshape(-1,1)).squeeze()"
      ],
      "metadata": {
        "id": "E1L4f1TDy2wy"
      },
      "execution_count": null,
      "outputs": []
    },
    {
      "cell_type": "code",
      "source": [
        "# Note that the scaler is fitted to the small train set"
      ],
      "metadata": {
        "id": "Wda9FPbf865M"
      },
      "execution_count": null,
      "outputs": []
    },
    {
      "cell_type": "code",
      "source": [
        "# train on x_train_scaled\n",
        "model = SVR(kernel='linear').fit(x_train_scaled, y_train_scaled)\n",
        "\n",
        "y_pred_train = model.predict(x_train_scaled)\n",
        "y_pred_test  = model.predict(x_test_scaled)"
      ],
      "metadata": {
        "id": "0KQvwdHmuXhy"
      },
      "execution_count": null,
      "outputs": []
    },
    {
      "cell_type": "code",
      "source": [
        "# inverse transform to get comparable MAE\n",
        "y_pred_train = y_scale.inverse_transform(y_pred_train.reshape(-1,1)).squeeze()\n",
        "y_pred_test = y_scale.inverse_transform(y_pred_test.reshape(-1,1)).squeeze()\n",
        "\n",
        "\n",
        "# score on x_train\n",
        "print('Train MAE score:', mean_absolute_error(y_train,y_pred_train))\n",
        "print('Train r2 score:', model.score(x_train_scaled, y_train_scaled))\n",
        "print()\n",
        "# score on x_test\n",
        "print('Test MAE score:', mean_absolute_error(y_test,y_pred_test))\n",
        "print('Test r2 score:', model.score(x_test_scaled, y_test_scaled))"
      ],
      "metadata": {
        "colab": {
          "base_uri": "https://localhost:8080/"
        },
        "id": "McHY_yXxf4mt",
        "outputId": "62d99cd2-fca8-41d7-ddbc-9dc096ee71e5"
      },
      "execution_count": null,
      "outputs": [
        {
          "output_type": "stream",
          "name": "stdout",
          "text": [
            "Train MAE score: 0.01400773210394252\n",
            "Train r2 score: 0.8352689467702423\n",
            "\n",
            "Test MAE score: 0.014181892793103798\n",
            "Test r2 score: 0.8280618808379323\n"
          ]
        }
      ]
    },
    {
      "cell_type": "code",
      "source": [
        "# Experiment 2. small train set + feature and label standardization + RBF kernel"
      ],
      "metadata": {
        "id": "Sn81qJ30BAV0"
      },
      "execution_count": null,
      "outputs": []
    },
    {
      "cell_type": "code",
      "source": [
        "# train on x_train_scaled\n",
        "model = SVR(kernel = 'rbf').fit(x_train_scaled, y_train_scaled)\n",
        "\n",
        "y_pred_train = model.predict(x_train_scaled)\n",
        "y_pred_test  = model.predict(x_test_scaled)"
      ],
      "metadata": {
        "id": "5x4NKY1F-mb0"
      },
      "execution_count": null,
      "outputs": []
    },
    {
      "cell_type": "code",
      "source": [
        "# inverse transform to get comparable MAE\n",
        "y_pred_train = y_scale.inverse_transform(y_pred_train.reshape(-1,1)).squeeze()\n",
        "y_pred_test = y_scale.inverse_transform(y_pred_test.reshape(-1,1)).squeeze()\n",
        "\n",
        "\n",
        "# score on x_train\n",
        "print('Train MAE score:', mean_absolute_error(y_train,y_pred_train))\n",
        "print('Train r2 score:', model.score(x_train_scaled, y_train_scaled))\n",
        "print()\n",
        "# score on x_test\n",
        "print('Test MAE score:', mean_absolute_error(y_test,y_pred_test))\n",
        "print('Test r2 score:', model.score(x_test_scaled, y_test_scaled))"
      ],
      "metadata": {
        "colab": {
          "base_uri": "https://localhost:8080/"
        },
        "id": "YnA3RDl6h9Aj",
        "outputId": "b327e460-9813-49bc-8706-f810aa2170fa"
      },
      "execution_count": null,
      "outputs": [
        {
          "output_type": "stream",
          "name": "stdout",
          "text": [
            "Train MAE score: 0.006802982800390955\n",
            "Train r2 score: 0.9538395863184784\n",
            "\n",
            "Test MAE score: 0.009678668928359158\n",
            "Test r2 score: 0.9112962153410129\n"
          ]
        }
      ]
    },
    {
      "cell_type": "code",
      "source": [
        "# Experiment 3 - small train set + standardization + PCA for dimensionality reduction"
      ],
      "metadata": {
        "id": "DND51YFTjiZa"
      },
      "execution_count": null,
      "outputs": []
    },
    {
      "cell_type": "code",
      "source": [
        "# feature pipeline\n",
        "pipe = Pipeline(\n",
        "    steps=[\n",
        "           ('scale', StandardScaler()),\n",
        "           ('pca', PCA(n_components = 0.9)),\n",
        "           ('svm', SVR(kernel='rbf'))\n",
        "    ]\n",
        ")\n",
        "\n",
        "# label scaler\n",
        "y_scale = StandardScaler()\n",
        "\n",
        "y_train_scaled = y_scale.fit_transform(y_train.reshape(-1,1)).squeeze()\n",
        "y_test_scaled = y_scale.transform(y_test.reshape(-1,1)).squeeze()"
      ],
      "metadata": {
        "id": "n2WQzbxQjiUj"
      },
      "execution_count": null,
      "outputs": []
    },
    {
      "cell_type": "code",
      "source": [
        "# train on x_train\n",
        "model = pipe.fit(x_train, y_train_scaled)\n",
        "\n",
        "y_pred_train = model.predict(x_train)\n",
        "y_pred_test  = model.predict(x_test)"
      ],
      "metadata": {
        "id": "bZc34cf1kNQF"
      },
      "execution_count": null,
      "outputs": []
    },
    {
      "cell_type": "code",
      "source": [
        "# inverse transform to get comparable MAE\n",
        "y_pred_train = y_scale.inverse_transform(y_pred_train.reshape(-1,1)).squeeze()\n",
        "y_pred_test = y_scale.inverse_transform(y_pred_test.reshape(-1,1)).squeeze()\n",
        "\n",
        "\n",
        "# score on x_train\n",
        "print('Train MAE score:', mean_absolute_error(y_train,y_pred_train))\n",
        "print('Train r2 score:', model.score(x_train, y_train_scaled))\n",
        "print()\n",
        "# score on x_test\n",
        "print('Test MAE score:', mean_absolute_error(y_test,y_pred_test))\n",
        "print('Test r2 score:', model.score(x_test, y_test_scaled))"
      ],
      "metadata": {
        "colab": {
          "base_uri": "https://localhost:8080/"
        },
        "id": "vbWmY4XDkNK2",
        "outputId": "929857c4-51a6-4563-f6ae-8ea1c15655c7"
      },
      "execution_count": null,
      "outputs": [
        {
          "output_type": "stream",
          "name": "stdout",
          "text": [
            "Train MAE score: 0.008536768124885522\n",
            "Train r2 score: 0.9290776592398109\n",
            "\n",
            "Test MAE score: 0.010975875981667854\n",
            "Test r2 score: 0.8893311481821348\n"
          ]
        }
      ]
    },
    {
      "cell_type": "code",
      "source": [
        "# Even though the final model has a lower score, the reduced computation time due to lower dimensionality makes up for it"
      ],
      "metadata": {
        "id": "wG6Wth0fo4hb"
      },
      "execution_count": null,
      "outputs": []
    },
    {
      "cell_type": "markdown",
      "source": [
        "![SVR Models Coefficients of determination.png](data:image/png;base64,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)"
      ],
      "metadata": {
        "id": "xA7tkkZQ9THU"
      }
    },
    {
      "cell_type": "markdown",
      "source": [
        "![Comparison of SVR Errors.png](data:image/png;base64,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)"
      ],
      "metadata": {
        "id": "-egF6MdB9S8c"
      }
    },
    {
      "cell_type": "markdown",
      "source": [
        "## Support Vector Classification on Tox21"
      ],
      "metadata": {
        "id": "rLuMfT57QeBj"
      }
    },
    {
      "cell_type": "code",
      "source": [
        "# dataset load\n",
        "tox21_path = '/content/drive/MyDrive/Data Science @ SBU/Applied Machine Learning/project/tox21_preprocessed'\n",
        "tox21_features = pd.read_csv(tox21_path + '/tox21_x.csv').to_numpy()\n",
        "tox21_label = pd.read_csv(tox21_path + '/tox21_y.csv').to_numpy()"
      ],
      "metadata": {
        "id": "Bgc-LPBe-46y"
      },
      "execution_count": null,
      "outputs": []
    },
    {
      "cell_type": "code",
      "source": [
        "# exploring features\n",
        "print('Tox21 features shape:', tox21_features.shape, 'dtype:', tox21_features.dtype)\n",
        "\n",
        "feature_range = tox21_features.max(axis=0) - tox21_features.min(axis=0)\n",
        "_ = plt.plot(feature_range)\n",
        "plt.title('range of features')"
      ],
      "metadata": {
        "colab": {
          "base_uri": "https://localhost:8080/",
          "height": 316
        },
        "id": "hoAxBOPu_Zor",
        "outputId": "d3ee7e13-8206-4ed6-cc5d-1f3714682fce"
      },
      "execution_count": null,
      "outputs": [
        {
          "output_type": "stream",
          "name": "stdout",
          "text": [
            "Tox21 features shape: (7237, 190) dtype: float64\n"
          ]
        },
        {
          "output_type": "execute_result",
          "data": {
            "text/plain": [
              "Text(0.5, 1.0, 'range of features')"
            ]
          },
          "metadata": {},
          "execution_count": 41
        },
        {
          "output_type": "display_data",
          "data": {
            "image/png": "[encoded data removed]",
            "text/plain": [
              "<Figure size 432x288 with 1 Axes>"
            ]
          },
          "metadata": {
            "needs_background": "light"
          }
        }
      ]
    },
    {
      "cell_type": "code",
      "source": [
        "# features are already scaled but serveral features are not in the [0, 1] range.\n",
        "# they occupy a smaller range such as [0, 0.8]"
      ],
      "metadata": {
        "id": "1J6gt6OZFQB9"
      },
      "execution_count": null,
      "outputs": []
    },
    {
      "cell_type": "code",
      "source": [
        "# exploring labels\n",
        "tox21_label = tox21_label.squeeze()\n",
        "print('Tox21 features shape:', tox21_label.shape, 'dtype:', tox21_label.dtype)\n",
        "\n",
        "num_pos_samples = np.count_nonzero(tox21_label)\n",
        "print('Number of positive samples:', num_pos_samples)\n",
        "print('Number of negative samples:', len(tox21_label) - num_pos_samples)"
      ],
      "metadata": {
        "id": "0-0Iun-6AXRe",
        "colab": {
          "base_uri": "https://localhost:8080/"
        },
        "outputId": "c8d5ef76-7f66-4a9d-e4dc-6f6de49353b9"
      },
      "execution_count": null,
      "outputs": [
        {
          "output_type": "stream",
          "name": "stdout",
          "text": [
            "Tox21 features shape: (7237,) dtype: float64\n",
            "Number of positive samples: 310\n",
            "Number of negative samples: 6927\n"
          ]
        }
      ]
    },
    {
      "cell_type": "code",
      "source": [
        "# labels are unbalanced, only a small portion of data is positive"
      ],
      "metadata": {
        "id": "8FmdaxoeFOtY"
      },
      "execution_count": null,
      "outputs": []
    },
    {
      "cell_type": "code",
      "source": [
        "# Training Overview\n",
        "#\n",
        "#   1. split data into train/test set by picking 20% of each label for test set (stratified split)\n",
        "#\n",
        "#   2. Baseline model -> Linear, soft SVM, without class weights\n",
        "#       Report: training set score, 5-fold cross validation on training set mean score, test set score, train and test confusion matrices\n",
        "#\n",
        "#   3. Gridsearch for hyperparameter tuning on training set (tuning on choice of kernel, class weight)\n",
        "#       CV method: 5-Fold Stratified CV on training set\n",
        "#\n",
        "#   4. Tuned model -> Kernelized, soft SVM with class weights\n",
        "#       Report: training set score, 5-fold cross validation on training set mean score, test set score, train and test confusion matrices\n",
        "#\n",
        "# Scoring metric: ROC-AUC\n",
        "# Dataset splitting method: Stratified on class label\n",
        "# Cross Validation method: 5-Fold, Stratified, Repeated 3 times"
      ],
      "metadata": {
        "id": "8iEORZrmEH7R"
      },
      "execution_count": null,
      "outputs": []
    },
    {
      "cell_type": "code",
      "source": [
        "# keep 20% of each class for final evaluation\n",
        "x_train, x_test, y_train, y_test =  train_test_split(tox21_features, tox21_label , test_size=0.2, stratify=tox21_label, random_state = 42)"
      ],
      "metadata": {
        "id": "hXVoywXWCct4"
      },
      "execution_count": null,
      "outputs": []
    },
    {
      "cell_type": "code",
      "source": [
        "# Baseline - linear SVM\n",
        "\n",
        "# cross validation score on x_train\n",
        "model = SVC()\n",
        "cv = RepeatedStratifiedKFold(n_splits = 5, n_repeats=3, random_state=42)\n",
        "cv_scores = cross_val_score(model, x_train, y_train, scoring='roc_auc', cv=cv, n_jobs=-1)\n",
        "\n",
        "# Training on x_train\n",
        "model = SVC()\n",
        "model.fit(x_train, y_train)\n",
        "\n",
        "# Testing on x_test\n",
        "y_pred = model.predict(x_test)\n",
        "\n",
        "print('Train Set Score:', roc_auc_score(y_train, model.decision_function(x_train)))\n",
        "print('Cross Validation Score:', np.mean(cv_scores))\n",
        "print('Test Set Score:', roc_auc_score(y_test, model.decision_function(x_test)))\n",
        "\n",
        "print('Training Confusion Matrix:')\n",
        "print(confusion_matrix(y_train, model.predict(x_train)))\n",
        "print()\n",
        "\n",
        "print('Test Confusion Matrix:')\n",
        "print(confusion_matrix(y_test, model.predict(x_test)))"
      ],
      "metadata": {
        "colab": {
          "base_uri": "https://localhost:8080/"
        },
        "id": "OuMWTCGdCJ56",
        "outputId": "cdfffd67-25e9-4f57-8594-01b4aaf353ff"
      },
      "execution_count": null,
      "outputs": [
        {
          "output_type": "stream",
          "name": "stdout",
          "text": [
            "Train Set Score: 0.9821713938907033\n",
            "Cross Validation Score: 0.7865734501240119\n",
            "Test Set Score: 0.6599636922217567\n",
            "Training Confusion Matrix:\n",
            "[[5533    8]\n",
            " [ 130  118]]\n",
            "\n",
            "Test Confusion Matrix:\n",
            "[[1384    2]\n",
            " [  43   19]]\n"
          ]
        }
      ]
    },
    {
      "cell_type": "code",
      "source": [
        "# Gridsearch for Hyperparameter tuning\n",
        "# Hyperparameters: kernel, class weights\n",
        "\n",
        "model = SVC()\n",
        "\n",
        "balance = [{0:1,1:1}, {0:1,1:10}, {0:1,1:100}, {0:1,1:1000}]\n",
        "kernel=['linear', 'poly', 'rbf']\n",
        "param_grid = dict(class_weight=balance, kernel=kernel)\n",
        "cv = RepeatedStratifiedKFold(n_splits=5, n_repeats=3, random_state=42)\n",
        "grid = GridSearchCV(estimator=model, param_grid=param_grid, n_jobs=-1, cv=cv, scoring='roc_auc')\n",
        "grid_result = grid.fit(x_train, y_train)\n",
        "\n",
        "# Report gridsearch result\n",
        "print(f\"Best score: {grid_result.best_score_} Best params: {grid_result.best_params_}\")\n",
        "print()\n",
        "means = grid_result.cv_results_['mean_test_score']\n",
        "params = grid_result.cv_results_['params']\n",
        "for mean, param in zip(means, params):\n",
        "    print(f\"score:{mean} params:{param}\")"
      ],
      "metadata": {
        "colab": {
          "base_uri": "https://localhost:8080/"
        },
        "id": "KitvuOpA10Fe",
        "outputId": "d6eb5efd-a343-4ffc-8183-28f3ffc384b3"
      },
      "execution_count": null,
      "outputs": [
        {
          "output_type": "stream",
          "name": "stdout",
          "text": [
            "Best score: 0.798677163889811 Best params: {'class_weight': {0: 1, 1: 10}, 'kernel': 'rbf'}\n",
            "\n",
            "score:0.7702337637414721 params:{'class_weight': {0: 1, 1: 1}, 'kernel': 'linear'}\n",
            "score:0.7535353472636838 params:{'class_weight': {0: 1, 1: 1}, 'kernel': 'poly'}\n",
            "score:0.7865734501240119 params:{'class_weight': {0: 1, 1: 1}, 'kernel': 'rbf'}\n",
            "score:0.7783401141310907 params:{'class_weight': {0: 1, 1: 10}, 'kernel': 'linear'}\n",
            "score:0.7504092914310709 params:{'class_weight': {0: 1, 1: 10}, 'kernel': 'poly'}\n",
            "score:0.798677163889811 params:{'class_weight': {0: 1, 1: 10}, 'kernel': 'rbf'}\n",
            "score:0.7536484074770429 params:{'class_weight': {0: 1, 1: 100}, 'kernel': 'linear'}\n",
            "score:0.7434819008617662 params:{'class_weight': {0: 1, 1: 100}, 'kernel': 'poly'}\n",
            "score:0.7881021334257922 params:{'class_weight': {0: 1, 1: 100}, 'kernel': 'rbf'}\n",
            "score:0.7515774432927018 params:{'class_weight': {0: 1, 1: 1000}, 'kernel': 'linear'}\n",
            "score:0.7434819008617662 params:{'class_weight': {0: 1, 1: 1000}, 'kernel': 'poly'}\n",
            "score:0.7881021334257922 params:{'class_weight': {0: 1, 1: 1000}, 'kernel': 'rbf'}\n"
          ]
        }
      ]
    },
    {
      "cell_type": "markdown",
      "source": [
        "![Class Weight and Kernel Gridsearch Results.png](data:image/png;base64,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)"
      ],
      "metadata": {
        "id": "KFNl1Fh52maO"
      }
    },
    {
      "cell_type": "code",
      "source": [
        "# Tuned Kernelized Weighted Soft SVM\n",
        "\n",
        "# cross validation on training set\n",
        "tox21_SVM_model = SVC(**grid_result.best_params_)\n",
        "cv = RepeatedStratifiedKFold(n_splits = 5, n_repeats=3, random_state=42)\n",
        "cv_scores = cross_val_score(tox21_SVM_model, x_train, y_train, scoring='roc_auc', cv=cv, n_jobs=-1)\n",
        "\n",
        "# training on x_train\n",
        "tox21_SVM_model = SVC(**grid_result.best_params_)\n",
        "tox21_SVM_model.fit(x_train, y_train)\n",
        "\n",
        "# testing on x_test\n",
        "y_pred = tox21_SVM_model.predict(x_test)\n",
        "\n",
        "\n",
        "print('Train Set Score:', roc_auc_score(y_train, tox21_SVM_model.decision_function(x_train)))\n",
        "print('Cross Validation Score:', np.mean(cv_scores))\n",
        "print('Test Set Score:', roc_auc_score(y_test, tox21_SVM_model.decision_function(x_test)))\n",
        "print()\n",
        "\n",
        "print('Training Confusion Matrix:')\n",
        "print(confusion_matrix(y_train, tox21_SVM_model.predict(x_train)))\n",
        "print()\n",
        "\n",
        "print('Test Confusion Matrix:')\n",
        "print(confusion_matrix(y_test, tox21_SVM_model.predict(x_test)))"
      ],
      "metadata": {
        "colab": {
          "base_uri": "https://localhost:8080/"
        },
        "id": "xevswyi520l0",
        "outputId": "4b178b48-760c-4d2c-af71-11c99f3196a0"
      },
      "execution_count": null,
      "outputs": [
        {
          "output_type": "stream",
          "name": "stdout",
          "text": [
            "Train Set Score: 0.994813952879124\n",
            "Cross Validation Score: 0.798677163889811\n",
            "Test Set Score: 0.731345715216683\n",
            "\n",
            "Training Confusion Matrix:\n",
            "[[5468   73]\n",
            " [  25  223]]\n",
            "\n",
            "Test Confusion Matrix:\n",
            "[[1357   29]\n",
            " [  39   23]]\n"
          ]
        }
      ]
    },
    {
      "cell_type": "markdown",
      "source": [
        "![ROC AUC Comparison of Baseline and Tuned Model.png](data:image/png;base64,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)"
      ],
      "metadata": {
        "id": "MCF9sic83N3Y"
      }
    },
    {
      "cell_type": "markdown",
      "source": [
        "## Support Vector Classification on TOXCAST"
      ],
      "metadata": {
        "id": "1KIWEtHgQskM"
      }
    },
    {
      "cell_type": "code",
      "source": [
        "# data load\n",
        "toxcast_data = pd.read_csv('/content/drive/MyDrive/Data Science @ SBU/Applied Machine Learning/project/toxcast_preprocessed/final_toxcast.csv')\n",
        "toxcast_label = toxcast_data['label'].to_numpy()\n",
        "toxcast_features = toxcast_data.drop(['label'], axis=1).to_numpy()"
      ],
      "metadata": {
        "id": "tOHOhMhKFMag"
      },
      "execution_count": null,
      "outputs": []
    },
    {
      "cell_type": "code",
      "source": [
        "# exploring features\n",
        "print('Tox21 features shape:', toxcast_features.shape, 'dtype:', toxcast_features.dtype)\n",
        "\n",
        "feature_range = toxcast_features.max(axis=0) - toxcast_features.min(axis=0)\n",
        "_ = plt.plot(feature_range)\n",
        "_ = plt.title('range of features')"
      ],
      "metadata": {
        "id": "_BlEYKuEFMY6",
        "colab": {
          "base_uri": "https://localhost:8080/",
          "height": 298
        },
        "outputId": "ee84bc11-9166-43f4-a932-ff45759db3e1"
      },
      "execution_count": null,
      "outputs": [
        {
          "output_type": "stream",
          "name": "stdout",
          "text": [
            "Tox21 features shape: (7831, 135) dtype: float64\n"
          ]
        },
        {
          "output_type": "display_data",
          "data": {
            "image/png": "[encoded data removed]",
            "text/plain": [
              "<Figure size 432x288 with 1 Axes>"
            ]
          },
          "metadata": {
            "needs_background": "light"
          }
        }
      ]
    },
    {
      "cell_type": "code",
      "source": [
        "# features are already scaled but serveral features are not in the [0, 1] range.\n",
        "# they occupy a smaller range such as [0, 0.8]"
      ],
      "metadata": {
        "id": "MLxkcSU0FMW_"
      },
      "execution_count": null,
      "outputs": []
    },
    {
      "cell_type": "code",
      "source": [
        "# exploring labels\n",
        "print('Tox21 features shape:', toxcast_label.shape, 'dtype:', toxcast_label.dtype)\n",
        "\n",
        "num_pos_samples = np.count_nonzero(toxcast_label)\n",
        "print('Number of positive samples:', num_pos_samples)\n",
        "print('Number of negative samples:', len(toxcast_label) - num_pos_samples)"
      ],
      "metadata": {
        "colab": {
          "base_uri": "https://localhost:8080/"
        },
        "id": "JPtVZiMNFMVc",
        "outputId": "7fdb81fd-00ba-4cff-8460-5e6ea3d7acf0"
      },
      "execution_count": null,
      "outputs": [
        {
          "output_type": "stream",
          "name": "stdout",
          "text": [
            "Tox21 features shape: (7831,) dtype: float64\n",
            "Number of positive samples: 1715\n",
            "Number of negative samples: 6116\n"
          ]
        }
      ]
    },
    {
      "cell_type": "code",
      "source": [
        "# labels are unbalanced, but it is not as bad as tox21!"
      ],
      "metadata": {
        "id": "OMfTuHIxNVCg"
      },
      "execution_count": null,
      "outputs": []
    },
    {
      "cell_type": "code",
      "source": [
        "# Training Overview\n",
        "#\n",
        "#   1. split data into train/test set by picking 20% of each label for test set (stratified split)\n",
        "#\n",
        "#   2. Baseline model -> Linear, soft SVM, without class weights\n",
        "#       Report: training set score, 5-fold cross validation on training set mean score, test set score, train and test confusion matrices\n",
        "#\n",
        "#   3. Gridsearch for hyperparameter tuning on training set (tuning on choice of kernel, class weight)\n",
        "#       CV method: 5-Fold Stratified CV on training set\n",
        "#\n",
        "#   4. Tuned model -> Kernelized, soft SVM with class weights\n",
        "#       Report: training set score, 5-fold cross validation on training set mean score, test set score, train and test confusion matrices\n",
        "#\n",
        "# Scoring metric: ROC-AUC\n",
        "# Dataset splitting method: Stratified on class label\n",
        "# Cross Validation method: 5-Fold, Stratified, Repeated 3 times"
      ],
      "metadata": {
        "id": "20pSBP3zM2aC"
      },
      "execution_count": null,
      "outputs": []
    },
    {
      "cell_type": "code",
      "source": [
        "# keep 20% of each class for final evaluation\n",
        "x_train, x_test, y_train, y_test =  train_test_split(toxcast_features, toxcast_label , test_size=0.2, stratify=toxcast_label, random_state = 42)"
      ],
      "metadata": {
        "id": "oxCq0sZZM3Nx"
      },
      "execution_count": null,
      "outputs": []
    },
    {
      "cell_type": "code",
      "source": [
        "# Baseline - linear SVM\n",
        "\n",
        "# cross validation score on x_train\n",
        "model = SVC()\n",
        "cv = RepeatedStratifiedKFold(n_splits = 5, n_repeats=3, random_state=42)\n",
        "cv_scores = cross_val_score(model, x_train, y_train, scoring='roc_auc', cv=cv, n_jobs=-1)\n",
        "\n",
        "# Training on x_train\n",
        "model = SVC()\n",
        "model.fit(x_train, y_train)\n",
        "\n",
        "# Testing on x_test\n",
        "y_pred = model.predict(x_test)\n",
        "\n",
        "print('Train Set Score:', roc_auc_score(y_train, model.decision_function(x_train)))\n",
        "print('Cross Validation Score:', np.mean(cv_scores))\n",
        "print('Test Set Score:', roc_auc_score(y_test, model.decision_function(x_test)))\n",
        "\n",
        "print('Training Confusion Matrix:')\n",
        "print(confusion_matrix(y_train, model.predict(x_train)))\n",
        "print()\n",
        "\n",
        "print('Test Confusion Matrix:')\n",
        "print(confusion_matrix(y_test, model.predict(x_test)))"
      ],
      "metadata": {
        "id": "1knab9SKFMT4",
        "colab": {
          "base_uri": "https://localhost:8080/"
        },
        "outputId": "9fc22535-d90b-4fa3-e34d-fc8a70dc84b0"
      },
      "execution_count": null,
      "outputs": [
        {
          "output_type": "stream",
          "name": "stdout",
          "text": [
            "Train Set Score: 0.9432829287537933\n",
            "Cross Validation Score: 0.8672893059312256\n",
            "Test Set Score: 0.8696026029459403\n",
            "Training Confusion Matrix:\n",
            "[[4796   96]\n",
            " [ 609  763]]\n",
            "\n",
            "Test Confusion Matrix:\n",
            "[[1165   59]\n",
            " [ 175  168]]\n"
          ]
        }
      ]
    },
    {
      "cell_type": "code",
      "source": [
        "# Gridsearch for Hyperparameter tuning\n",
        "# Hyperparameters: kernel, class weights\n",
        "\n",
        "model = SVC()\n",
        "\n",
        "balance = [{0:1,1:1}, {0:1,1:5}, {0:1,1:10}]\n",
        "kernel=['linear', 'poly', 'rbf']\n",
        "param_grid = dict(class_weight=balance, kernel=kernel)\n",
        "cv = RepeatedStratifiedKFold(n_splits=5, n_repeats=3, random_state=42)\n",
        "grid = GridSearchCV(estimator=model, param_grid=param_grid, n_jobs=-1, cv=cv, scoring='roc_auc')\n",
        "grid_result = grid.fit(x_train, y_train)\n",
        "\n",
        "# Report gridsearch result\n",
        "print(f\"Best score: {grid_result.best_score_} Best params: {grid_result.best_params_}\")\n",
        "print()\n",
        "means = grid_result.cv_results_['mean_test_score']\n",
        "params = grid_result.cv_results_['params']\n",
        "for mean, param in zip(means, params):\n",
        "    print(f\"score:{mean} params:{param}\")"
      ],
      "metadata": {
        "colab": {
          "base_uri": "https://localhost:8080/"
        },
        "id": "Etfvln-0FMRt",
        "outputId": "8da77cac-6bdf-412e-9ae4-ceb6131de92d"
      },
      "execution_count": null,
      "outputs": [
        {
          "output_type": "stream",
          "name": "stdout",
          "text": [
            "Best score: 0.8703792524611433 Best params: {'class_weight': {0: 1, 1: 5}, 'kernel': 'rbf'}\n",
            "\n",
            "score:0.8299356466084217 params:{'class_weight': {0: 1, 1: 1}, 'kernel': 'linear'}\n",
            "score:0.853887701747952 params:{'class_weight': {0: 1, 1: 1}, 'kernel': 'poly'}\n",
            "score:0.8672893059312256 params:{'class_weight': {0: 1, 1: 1}, 'kernel': 'rbf'}\n",
            "score:0.8315005578794967 params:{'class_weight': {0: 1, 1: 5}, 'kernel': 'linear'}\n",
            "score:0.8432960330632017 params:{'class_weight': {0: 1, 1: 5}, 'kernel': 'poly'}\n",
            "score:0.8703792524611433 params:{'class_weight': {0: 1, 1: 5}, 'kernel': 'rbf'}\n",
            "score:0.826261720222717 params:{'class_weight': {0: 1, 1: 10}, 'kernel': 'linear'}\n",
            "score:0.8325955588914226 params:{'class_weight': {0: 1, 1: 10}, 'kernel': 'poly'}\n",
            "score:0.8621561212156585 params:{'class_weight': {0: 1, 1: 10}, 'kernel': 'rbf'}\n"
          ]
        }
      ]
    },
    {
      "cell_type": "markdown",
      "source": [
        "![Class Weight and Kernel Gridsearch Results.png](data:image/png;base64,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)"
      ],
      "metadata": {
        "id": "SNXsGtMF3T5g"
      }
    },
    {
      "cell_type": "code",
      "source": [
        "# Tuned Kernelized Weighted Soft SVM\n",
        "\n",
        "# cross validation on training set\n",
        "toxcast_SVM_model = SVC(**grid_result.best_params_)\n",
        "cv = RepeatedStratifiedKFold(n_splits = 5, n_repeats=3, random_state=42)\n",
        "cv_scores = cross_val_score(toxcast_SVM_model, x_train, y_train, scoring='roc_auc', cv=cv, n_jobs=-1)\n",
        "\n",
        "# training on x_train\n",
        "toxcast_SVM_model = SVC(**grid_result.best_params_)\n",
        "toxcast_SVM_model.fit(x_train, y_train)\n",
        "\n",
        "# testing on x_test\n",
        "y_pred = toxcast_SVM_model.predict(x_test)\n",
        "\n",
        "\n",
        "print('Train Set Score:', roc_auc_score(y_train, toxcast_SVM_model.decision_function(x_train)))\n",
        "print('Cross Validation Score:', np.mean(cv_scores))\n",
        "print('Test Set Score:', roc_auc_score(y_test, toxcast_SVM_model.decision_function(x_test)))\n",
        "print()\n",
        "\n",
        "print('Training Confusion Matrix:')\n",
        "print(confusion_matrix(y_train, toxcast_SVM_model.predict(x_train)))\n",
        "print()\n",
        "\n",
        "print('Test Confusion Matrix:')\n",
        "print(confusion_matrix(y_test, toxcast_SVM_model.predict(x_test)))"
      ],
      "metadata": {
        "colab": {
          "base_uri": "https://localhost:8080/"
        },
        "id": "RAX8O7PMNtGE",
        "outputId": "0e9a1199-5106-4d9e-9813-bfd03e106e9b"
      },
      "execution_count": null,
      "outputs": [
        {
          "output_type": "stream",
          "name": "stdout",
          "text": [
            "Train Set Score: 0.9693543811637493\n",
            "Cross Validation Score: 0.8703792524611433\n",
            "Test Set Score: 0.8749952361897139\n",
            "\n",
            "Training Confusion Matrix:\n",
            "[[4186  706]\n",
            " [  55 1317]]\n",
            "\n",
            "Test Confusion Matrix:\n",
            "[[963 261]\n",
            " [ 61 282]]\n"
          ]
        }
      ]
    },
    {
      "cell_type": "markdown",
      "source": [
        "![ROC AUC Comparison of Baseline and Tuned Model.png](data:image/png;base64,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)"
      ],
      "metadata": {
        "id": "IA3Cgfdl3vUv"
      }
    },
    {
      "cell_type": "markdown",
      "source": [
        "# Further Explorations"
      ],
      "metadata": {
        "id": "IAwJdyVBPC4c"
      }
    },
    {
      "cell_type": "markdown",
      "source": [
        "## How does PCA interplay with different SVM kernels?"
      ],
      "metadata": {
        "id": "XOGwUN4lnOk4"
      }
    },
    {
      "cell_type": "code",
      "source": [
        "# TOXCAST task"
      ],
      "metadata": {
        "id": "0RdV6iidplyw"
      },
      "execution_count": null,
      "outputs": []
    },
    {
      "cell_type": "code",
      "source": [
        "pca = PCA()\n",
        "svm = SVC()\n",
        "\n",
        "pipe = Pipeline(\n",
        "    steps=[('pca',pca), ('svm', svm)]\n",
        ")\n",
        "\n",
        "param_grid = {\n",
        "    'pca__n_components': [0.5, 0.6, 0.7, 0.8, 0.9, 0.99, 0.999],\n",
        "    'svm__kernel': ['linear', 'poly', 'rbf', 'sigmoid']\n",
        "}\n",
        "\n",
        "cv = RepeatedStratifiedKFold(n_splits=5, n_repeats=3, random_state=42)\n",
        "\n",
        "grid = GridSearchCV(pipe, param_grid=param_grid, n_jobs=-1, scoring='roc_auc', cv=cv)\n",
        "\n",
        "\n",
        "grid_result = grid.fit(x_train, y_train)\n",
        "\n",
        "# Report gridsearch result\n",
        "print(f\"Best score: {grid_result.best_score_} Best params: {grid_result.best_params_}\")\n",
        "print()\n",
        "means = grid_result.cv_results_['mean_test_score']\n",
        "params = grid_result.cv_results_['params']\n",
        "for mean, param in zip(means, params):\n",
        "    print(f\"score:{mean} params:{param}\")"
      ],
      "metadata": {
        "id": "uPurBWHMCBQo",
        "colab": {
          "base_uri": "https://localhost:8080/"
        },
        "outputId": "1bc2bd53-93d2-48c6-eb47-1a08961617a6"
      },
      "execution_count": null,
      "outputs": [
        {
          "output_type": "stream",
          "name": "stdout",
          "text": [
            "Best score: 0.8711136641756579 Best params: {'pca__n_components': 0.99, 'svm__kernel': 'rbf'}\n",
            "\n",
            "score:0.7626965414256357 params:{'pca__n_components': 0.5, 'svm__kernel': 'linear'}\n",
            "score:0.7716755925759748 params:{'pca__n_components': 0.5, 'svm__kernel': 'poly'}\n",
            "score:0.8044535889314145 params:{'pca__n_components': 0.5, 'svm__kernel': 'rbf'}\n",
            "score:0.6252537579467811 params:{'pca__n_components': 0.5, 'svm__kernel': 'sigmoid'}\n",
            "score:0.7821566225918611 params:{'pca__n_components': 0.6, 'svm__kernel': 'linear'}\n",
            "score:0.8078071014650904 params:{'pca__n_components': 0.6, 'svm__kernel': 'poly'}\n",
            "score:0.8306715232359461 params:{'pca__n_components': 0.6, 'svm__kernel': 'rbf'}\n",
            "score:0.6357220453835575 params:{'pca__n_components': 0.6, 'svm__kernel': 'sigmoid'}\n",
            "score:0.7855307686799571 params:{'pca__n_components': 0.7, 'svm__kernel': 'linear'}\n",
            "score:0.8130091398772571 params:{'pca__n_components': 0.7, 'svm__kernel': 'poly'}\n",
            "score:0.8414249628304385 params:{'pca__n_components': 0.7, 'svm__kernel': 'rbf'}\n",
            "score:0.6411953063553699 params:{'pca__n_components': 0.7, 'svm__kernel': 'sigmoid'}\n",
            "score:0.7969066690714428 params:{'pca__n_components': 0.8, 'svm__kernel': 'linear'}\n",
            "score:0.828202418594077 params:{'pca__n_components': 0.8, 'svm__kernel': 'poly'}\n",
            "score:0.8545958580094665 params:{'pca__n_components': 0.8, 'svm__kernel': 'rbf'}\n",
            "score:0.6425013157986954 params:{'pca__n_components': 0.8, 'svm__kernel': 'sigmoid'}\n",
            "score:0.8080043073069482 params:{'pca__n_components': 0.9, 'svm__kernel': 'linear'}\n",
            "score:0.8446289823926793 params:{'pca__n_components': 0.9, 'svm__kernel': 'poly'}\n",
            "score:0.8668426961108113 params:{'pca__n_components': 0.9, 'svm__kernel': 'rbf'}\n",
            "score:0.6549025329541007 params:{'pca__n_components': 0.9, 'svm__kernel': 'sigmoid'}\n",
            "score:0.8286570578844951 params:{'pca__n_components': 0.99, 'svm__kernel': 'linear'}\n",
            "score:0.8554758477426643 params:{'pca__n_components': 0.99, 'svm__kernel': 'poly'}\n",
            "score:0.8711136641756579 params:{'pca__n_components': 0.99, 'svm__kernel': 'rbf'}\n",
            "score:0.6726859478267567 params:{'pca__n_components': 0.99, 'svm__kernel': 'sigmoid'}\n",
            "score:0.8306355223509827 params:{'pca__n_components': 0.999, 'svm__kernel': 'linear'}\n",
            "score:0.8553965375086501 params:{'pca__n_components': 0.999, 'svm__kernel': 'poly'}\n",
            "score:0.8707503366272351 params:{'pca__n_components': 0.999, 'svm__kernel': 'rbf'}\n",
            "score:0.6758948371470377 params:{'pca__n_components': 0.999, 'svm__kernel': 'sigmoid'}\n"
          ]
        }
      ]
    },
    {
      "cell_type": "markdown",
      "source": [
        "![PCA Interplay With Different Kernels.png](data:image/png;base64,iVBORw0KGgoAAAANSUhEUgAAAlgAAAFzCAYAAADi5Xe0AABcqElEQVR4Xu29B5xU1d3/70sfbGjU/EyM5p8njy0oIcnzGE3sEUxswYJGig1sMQZLElEUFQui2AtdwIYU6R1FOii9L70tXdhdWGD77sz3v59z9wx3z5SdvXtn98zdz5vXeTFz7pl7z8znnpnPnvI9RwkhhBBCCPGVo8wMQgghhBBSM2iwCCGEEEJ8hgaLEEIIIcRnaLAIIYQQQnyGBosQQgghxGdosAghhBBCfIYGixBCCCHEZ2iwCCGEEEJ8hgaLEEIIIcRnaLAIIYQQQnyGBosQQgghxGdosAghhBBCfIYGixBCCCHEZ2iwCCGEEEJ8hgaLEEIIIcRnaLAIIYQQQnyGBosQQgghxGdosAghhBBCfIYGixBCCCHEZ2iwCCGEEEJ8hgaLEEIIIcRnaLAIIYQQQnwmJQbr6aefjkodO3aUV155RT7//HPZs2eP+ZIImzZtki+//FJef/11eeGFF+TTTz+VZcuWSSgUMotWori4WDp16qSuhf/xvLrounohHA7L0qVLzew6oSbvoya8+uqr6rq5ubnmIdm/f3+l+yFWmQMHDqhjXbp0Uc/N9xHvMzbLecFdN6RnnnlG3UdvvvmmjB07Vg4fPmy+JOZ18b5wj3fu3FndvyNHjkyYbyvxPutExPo8wKJFiyLHRowYYR62knjvhRBCkqXWDJY7vfjii7Jv375KrykrK5NRo0ZFldXprbfekszMzEqvcbNkyZJK5av74wD0a73w7rvven6t39TkfdSEAQMGqOuuWbPGPCTz589Xx2Bc8D9+dE1Wr16tjuE8wHwf8T5js5wX9DniJfxxkJ2dHfM1bvr06VPpdaNHj06YbyvxPutExPo88JnBUCK/R48eqp2nA7HeCyGEVIeUGiw36IHCl22vXr3UsSFDhlQ6PmHCBJWPv/BnzZqlejxKSkpUb9egQYPUseeffz7KmGn69++vyqD3C//rH+nqEKveyVKT1/pNXdVl8uTJ6rrffvuteUgGDhyojg0dOlT9D01NpkyZoo59/fXX5iFFvPcVL786mOdAD05RUZFs3bpVPvzwQ3Xs/fffV/mJeO6551TZDRs2KDNRWlqaMN9WzM8jGczXoM13795d5aFX8uDBg67SdmO+F0IIqS61ZrA0MEw4huEkd54ektm5c6er9BG++OIL9ToYKJO8vDw1BIm/lPPz89X/eI786pCo3lVRk9f6TV3VZeXKleq6GApzA1Py0ksvybPPPquGyqDNyy+/HGVWMByM169atapSvibe+4qXXx0SnaOgoEBee+01dRy9bInQ5zHfW7x8W0n0ecTDfA2MMp5D90S9zzZivhdCCKkutW6w0Culv3Q1EydOVHmY6xKPvXv3St++fVUvh8l3332nXq97xQYPHqyeI786xKq3zkPPGXrJYAJhDsaPHx8Z7tBl3MkNyqFXp1u3bup9Y34ZenvMXgz9WsxF+uCDD9S1Pvvss0rHcC7MY8EwK3oFMNRUWFgY8zxuYH4wTIXXoQ5du3ZVn7eeq/bDDz+o16COsUwAeh9x/I033jAPRcjJyVFl8P7cbN++XeX37t1bPe/Zs6d6vmPHjkrlUCfk4zzA/T70Y3fS6OfoccI9gJ5OGPhJkyZVOXdPY57TZO7cuer4V199Fcmrqn6JksaPewNU9zw1uZ/j4S67ZcsWZaTxHMPD8ahuvWO9/2Tek6a613Mzb9481ZuJP+Bwj6F3LtZQNyGEgFo3WPrHFj+mGnxhIm/z5s2uksmjhyHWrl2rnmMOEJ5jzkd1iFVvnQczox/rpM2eme8+B8yKnptkpo8//riSmXHn43/06mFemvsYJkeb5/noo48qGQmzDvhBMV+jkz4/gAFCnv4c3cyZM0cdgxlOBAwcyqHXRzN16lSVh/+Brs+0adMiZdDziDwMEWvc78Ost853H9PDxO4Uy5DHwjynCQw+jr/99tuRvKrqlygBv+4NL+fxej8nQpeF4YdxweNEk/m91DvW+9fHEr0n4OV6Gm2wY6XZs2dHyhFCiKbWDBZ6SjBM8N5776ljw4cPjxzDX5vIc/8oJ4vuNcEQlP5rFf/jOfJ1b0gyxKq3zsOkXwxfYtgRPT/Iw1/BZjmTxYsXq3z85QtziR48nEebwgULFkTKuq+VlZXlOsuRY/jrGRP68SOG4Sr9Pt29BGZdYFrw/Pvvv1c64LUwN8jD6zXLly9XeTAqJv369VPHzF4nE23SsBrUzMP7B9u2bVPPdY8WwNwk5KGXTWO+D/O5mQ/zs3v3bvUe9XwutyFKRLxza3TPazwDmCgvXr5f94bX83i5nxOhX6PnTMIEYS5lPLzW23z/yb4nL9fT6BWyWDyD1+EeQ3tCntljSwghIKUGK17Cj5T7ixdd9chPdjjHje4dMf9SxjAa8nWvSTKYX6ruPLdhwGRd5LmHOWO9FmBYE/nm5Hw95OY2GfocsVbh6WMzZsyolI9hC+TjOpp4dXGDIRGUwY+gBp8/egGQ5/4Rww8KJmkn80Mybtw4dV4sVAD4IcLnBM11DwGug+fI10OUeF94HYZ1NOb7MJ+b+Rs3bozk6R4xDBclQ7xza1BnHMewlybWa2Llxcv3697wch6v93Mi9GvcCcY81pAz8FLvWO8/2ffk5XoaDAniuduEEUJIImrNYOGHCT/emB9lfsHpvw6rOykdoIfC/HIFeI78ZHswgPml6s7D/B6N/rF1lzWfa3QPU7zk7kHSebE+B33M7JHTsaPQC6iJVxf0PqGnC0Mr+nMzy+meH/d8OD3kipWeVaHDZej5cPq1WKTgRi9a0D+YutcDr9eY9TOfm/lujfCjHq98LKoqi14/HMcQqCbWa2Llxcv3697wch6v93Mi9GtgRmCU9XMML8fCS71jvX99rKr35OV6GvS46zz08GKOGdqTOXeLEEI0KTVYyaK76BPNwUIvCrrn3T1f6N43vyRjpV27drnOFJ9Y9Y6VFyvffK7RE33jpVg9IrH+4tfHzC903ROVqPcBf81jPpp5bbOcLos6wUjo3iVMpEc5PcSXCL1K9J133lHP9VCNOdFZx8XSRg5xzvAck+01Zv3M517zY1FVWfyY4jiGuDWxXhMrL16+X/eGl/OYmPnm82TQr8FQHNAmGr2fbl01Xuod6/3Hq6uZ7+V6Gnz/oHdWx/TSCX/YpNsKSUJI7WCFwfrmm29UeffwkImeH4QfYo37r+REKZmeFxCr3rHyYuWbzzV60vehQ4fMQ1HEOwfQx8wI6DpCuo5+Dszz6B86rADEZ4YfQD1pG8n80dLlsUIKxzA0mMzwIEDPAYbl8GOFHyXdU2bOxdH1xnEYOR2mI9FkffO51/xYVFV25syZ6rh77mCs18TKi5fv173hx3nMfPN5MpivQa8f5kAhD8bUXNHnR71BvGNmvh/Xw726YsUKFc8NwWdRBot0CCHExAqDhR97/CDjBxaPTfClhh4RnFMHscQPv45NFOuvY6B7U1DONBGxiFXvWHmx8s3nGh2SYOHCheahKOKdA+hj5rJwvbrJvWTfPI+eP+IO9KgnmiOZvWJ6eBVzUrBNER4nMr8mWNWI12hTjO1mYoF8HNfXQE+mG/N9mM+95sciUVncfzqExLp16yL5sV4TKy9evl/3hh/nMfPN58kQ6zXoZdZBVs0/dPyoN4h3zMz363oabJ+EMnh/hBBiYoXBAnpSOuZBYOI2/srEnApMXNY/2PiR0zGfkI88fGkmQg+NmXO0YhGr3rHyYuXr4QczUKqO0YX3hQCa+LHGpFodud4dcd48pxt9DH8140cenwPOp1cIuoNzmufRqzQxvwlmCvNH9DJ6pFgRtmFo0aukFyDAkCWLDiWByOf43x0Kwo0eeoxXznwf8T5js1xV+bGIVRb3H+4bPYSN+zDRUv54efHy/bo3/DiPmR/vs06EeQ6NXm2H+8ndDv2oN4h3zMyvyfX0H3h4L7gv8Fos5EAeVi8SQoiJNQYLw0k6FECshKEkd++WnnRa1Z6Demm2e2gnHrHqHSsvVr7u4UByR6nHkJcOU2AmmCP3xtfmOd3oY/qvcHcyI6eb53FP0I2VYkUn1z9GSHhvyfQAavT8Kp0yMjLMIgq996BO5jwtna+J9xmb5arKj4W7HrEShmCT2YswVl68fL/uDT/OY+bH+6wTYZ7Djd7CCufV4Vj8qDeId8zMr8n1zL1O3Qk9tYQQYmKNwQL4AsQXGb4E8YOGCaUIAIi/Gt1zc9ALgy9E/CVqDm+ZwLihLFJVZWPVO1ZerHwE58T8MB0l3Q3qgG1DMAcKx/HesGrOHNo0z+lGH0P4AQwHYjgV81umT58eFd7CPA96uxCBHD1Z+BzQq4cfBR0aAcbWBD2I+jyY3FsddDBZJPSEmJHmNTqEgy5rxtgy30e8z9gsV1V+LHRZd8JnjJ4L9HAkWr1WVV6ifD/uDVDT85j58T7rRJjncINeHz0k7N6Hsqb1BvGOxcqvyfUwlI3eTLQh3Bt4HO+PB0IISYnBIv4T6ws/leh5URjWSXYVJiGEEEIcaLDShNoyWOghQ6wtPecE+/kRQgghpHrQYKUJtWWw9HWQMPncXFpPCCGEkKqhwUoTastgYV4X5pdgRZUZc4sQQgghyUGDRQghhBDiMzRYhBBCCCE+Q4NFCCGEEOIzNFiEEEIIIT5Dg0UIIYQQ4jM0WIQQQgghPkODRQghhBDiMzRYhBBCCCE+Q4NFCCGEEOIzNFiEEEIIIT5Dg0UIIYQQ4jM0WIQQQgghPkODRQghhBDiMzRYhBBCCCE+Q4NFCCEkKUpLS80sUk+g9tWHBqsGnHXWWTEf10fWrVsnzZs3l7PPPlv9v2nTJrNIXJL97JItly7Y8H6SrUOy5dINL204Xrl4+TXByzknTZokv/zlL6VLly7moRrzpz/9KfLYS93Smdp+v4muF+8YtbcLGqwawJvsCH/5y19k6NChcujQIenfv78yWcmS7OeYbLl0IZ3eTzrVtTp4eV/xXhMvv7b57//+b/VDGwqFzEM1xpb3WN+JpwO1t4t6Y7D25IarlZLBfcOZjz/++GO59NJL1Q0/efLkyDEYkIceekgaNWokDzzwgBw+fDhybOnSpXLzzTfLeeedJ//7v/8rw4cPjxzDOT/44AO57rrrInleKduzu1qpuuTl5ameLI1Z95ycHLnzzjvVZzB48OC4DTdRuUSf4/79++WOO+6Q3/3ud/LZZ59FaeOuS6LzJDrmBuccN26cKteiRQvJysqKHDtw4IDcd9996ljbtm0lNze30uvAVVddJZmZmerx1q1bI38pJrqPqjrvV199JU2aNFHpm2++kRkzZqh7yjyP+7Op6v7zg3BhZrVSMpiaJnofie6pmn4WyM/IyJBmzZrJvffeW0mTROfDDyJ0QZv561//KvPnz48cc18rUTkNyuukn5vH3Y/j3V9btmyRpk2bym9+8xuZOnVqpHy8c1d1P8a7Tk3Ynbe3WikZEn3G7vdb1XdMsu2vqs9Nk+i+1STSx3yeSJN00D5dqDcGq1nXvGqlZDBvWPfj559/XvLz82XixInqxtJ07txZ1q5dK0VFRTJ69OhKXbn4YZ0wYYI6NmTIENU4NTjn559/LgcPHozkeWXftZdUK1UHvOc333xT7r///kieWfennnpKPv30U2Vg8Nj8ItAkKpfoc3zmmWfUDy5e969//StKG3ddEp0n0TE3OOcTTzyhrocvk//85z+RY506dVI9ejCdOPbcc89Veh147bXXVBkwYMAAefnllyPH491HVZ0X7xuGEPcTjMe7776ryprncX82Vd1/flA69b+qlZLB1DTR+0h0T9X0s9D3AfSaNm1aJU0SnQ96oP5lZWWqzOWXXx455r5WonJu4r0n83mi+wt/WPTu3VsZg8suu6zSa2I9rup+jHedmnDx0DuqlZIh0Wfsfr9Vfcck2/6q+tw0ie5bN2Y93JjH4mmSDtqnCzRYcVIyxLvh8Njdi+E+9oc//CEyWRDduO4b2A3KJDpnTTANVFUpWfCF8utf/1o1IvzVpjHrjr/k9I/htm3bor4INInKJfocL7roIsnOzlaPzdeZdUl0nkTH3OCc6HkC+GsO9db88Y9/jPxFh2O///3vI8d0vRYtWiStW7dWj++55x6ZPXt25Hi8+6iq8+rX6fsIZdzHYz12E+v+8wPTQFWVksH8nNyY7yPRPRXvPZrniFcO+TgnKCwslIsvvtgo4WCeD9rjR23OnDlSUFDgKln5WonKuUlUV/NYvPsLBlC3ITfm6zXJ3o/6uR+YBqqqlAyJPmN3vZP9jqmq/VX1uWkS3bduzHq4MY/F0yQdtE8XaLDipGSId8OZN5H7+f/8z/+o5zphQqIG3c74qwgNHF2q5jnD4eSGLqvCNFBVpeoyZsyYqEbmrjsMGP5CBCUlJVGflyZRuUSfI16njZH5OrMuic6T6JgbHMN1AK7r/isN59DzIfBeYvUe4Th+jPGl9tvf/laKi4srHdeY7z/Red3vMdF53I+ruv/8wDRQVaVkMN9voveR6J6q6WeBfPRQAWjjHiZPdD7ofvvtt6v7C0OIK1asiBxLtpybRHVN9pj7c3IT7/VV3Y9uzOdeMQ1UVSkZEn3G5ueT7HeM+X69fG6J7ls3Zj3cJHssHbRPF+qNwbqrR361UjLEu+HMm8j9HH/5xFvuetttt6muZAwvYGgq0TlrQs7dt1QrVRd0FZ9zzjmR52bd8RngBwfs2rUr6rgmUblEn+Mll1wS+Qtsx44dCT/HROdJdMwNzrlnzx71GPV191zAaOLz0McwZ0PjrkuHDh3khRdekHbt2sU8bj5P9rxVPXc/ro37r2zuudVKyWDWLdH7SHRP1fSzQP68efPUY/R+wEhpEp1PA3M2aNCgSj2gyZZzE6+umMcT75j5HEZff05u4r2+JvejV24e/2i1UnWI9Rm7612d75hEz5P93BLdt27i1SNo2qcL9cZgpYJ4N5x5E7mfY+x+9erVqpdi4MCBauKrBpME8RcTuoIxjyfROW0DE7UXLFig/rrCvIO77747csysO8boe/XqpeYTPPvss1HHNYnKJfocX3zxRfnwww/V61Du5z//eeSYea1E50l0zA3OiXkIGCLt06ePMkoanAMTXjEHAfMTnnzyyUqv03z77bfqL78vvvgi5nHzebLnreq5+3G63n9m3RK9j0T3VE0/C+RjYjR+bL7++mt55ZVXIscSne+aa65RiyRg5vUka02y5dy4X4MyKAvDh3sm0ftwP3/44YfV5G0YRvfQOM63b98+9dhdvib3o00k+ozd9a7Od0yi58l+bonuWzfU3i5osGpAvBvWvInczzFGjQng559/vlx//fWyfv36yDEYExgV/LWCGzXROW1j2bJl8uc//1l1q7dp00Z27z6y+tCsO74kYMDw1yEapnlck6hcos8Rf0VhhQ/mEuBzxI+bxrxWovMkOuYG5+zbt68qh/KotwZ/OWJeFT6Xu+66Sz13v06D1+A5/hqOddx8nux5q3rufpyu959Zt0TvI9E9VdPPAvkw5FdffbU8+OCDlVadJjrfkiVLVNvBD5j+UdQkW86N+zV6YvGFF16ozHui9+F+jpVkWA2J3gj0umn+8Y9/yLnnOj2L7vI1uR9tItFn7K53db5jEj1P9nNLdN+6ofZ2QYNFAgv+CsWqvFatWpmHfMWPL41Zs2apWGKEkPShtr5jSHpCg0UCB4Zg8FcbJqpi7ote4Zcq/DBYjRs3lilTppjZhBALqe3vGJKe0GARQgghhPgMDRYhhBBCiM/QYBFCCCGE+AwNFiGEEEKIz9BgEUIIIYT4DA0WIYQQQojP0GARQgghhPgMDRYhhBBCiM/QYBFCCCGE+AwNFiGEEEKIz9BgEUIIIYT4DA0WIYQQQojP0GARQgghhPgMDRYhhBBCiM/QYBFCCCGE+EzgDVZGRoY0atRIjj32WLnoootk4cKFZhHF7t27pVmzZnLSSSdJmzZtpKCgwCxCCCGEEJIUgTdYbdu2lW7duklubq507NhRWrZsaRZR3HnnndKvXz/Jz8+XIUOGSKdOncwihBBCCCFJEXiDhd6rrKws9TgzM1MaN25slHD48Y9/rMwVKCwslAsvvNAoQQghhBCSHIE3WBjyKy0tVY+LiorkxBNPNEo4nHLKKVJcXKweZ2dnS8OGDY0ShBBCCCHJEXiDdcwxx0Qeh8NhOfroo11Hj9C8eXMZNmyY7NmzR1q0aBG3HCGEEEJIVQTeYJ1++ulSUlKiHqMHCz1asdiyZYtccsklqifr/fffl+OPP94sEmH9+vWyePFiJiYmJiYmpgAlLHjzi8AbrCZNmsjOnTvV4+3bt8sFF1xglIhm7dq1ctZZZ5nZESACsQtqYh/UxD6oiX1Qk+ASeIPVvn176dKli+Tl5Unnzp2lXbt2ZhHF+eefL6NHj5YDBw7IG2+8Ia1btzaLRGCDsA9qYh/UxD6oiX1Qk+ASeIO1aNEiOe+886RBgwZqRSHiYmmOOurI258+fbqce+65aggRoRxycnIix0zYIOyDmtgHNbEPamIf1CS4BN5gpQI2CPugJvZBTeyDmtgHNQkuNFgeYIOwD2piH9TEPqiJfVCT4EKD5QE2CPugJvZBTeyDmtgHNQkuNFgeYIOwD2piH9TEPqiJfVCT4EKD5QE2CPugJvZBTeyDmtgHNQkuNFgeYIOwD2piH9TEPqiJfVCT4EKD5QE2CPugJvZBTeyDmtgHNQkuNFgeYIOwD2piH9TEPqiJfVCT4EKD5QE2CPugJvZBTeyDmtgHNQkuNFgeYIOwD2piH9TEPqiJfVCT4EKD5QE2CPugJvZBTeyDmtgHNfFIYaaEzbR/VnmaWTnt/qI8fR47ZX8dVd5PaLA8wAZhH9TEPqiJfVAT+7BSk3BZtHkp2BJlRsL7p0eZltDuzyS05dXKafPLElr9QKVUhrTk2ug099yoVDr1v2ot+QkNlgesbBD1HGpiH9TEPqiJZZRky4qF4x0Dk78h2sDkTIk2MDv7RxuYTS9GG5iM+6LNy+I/RZuXOf8TZTLSIsUwYmWLm0a/59X3R302kc9o2U1R5f2EBssD/JKyD2piH9TEPqiJz4RLK5sjDDnBBO3o4xifDc84P+Qr73R+wBdc7Jiamf8v2jDYlKYdF21evjs/yoyULflLlGkJrX4w2gCWJ9MoqmQaSiSz56w8pSs0WB7gl5R9UBP7oCb2QU1iULzX+SE/uMD5gf9hiGOStr7umIM1Dzsmacmfy1MzxyDNPTvalHhJM38iBdN/4RiY7y+MNjBLb4g2MGsfiTIvqGuUednzZbR5OTA32rwUbjc/EeITNFge4JeUfVAT+6Am9hFITUJFjlnIW1vRizSpohepZ0Uv0lOOQVpxu2Na5v+fY5JmnBpteKqbdE/Pd40qDNGNFSbon861M992zM7eEU7dDi11TE3p/kj1A6kJUdBgeYANwj6oiX1QE/uwVpOi3Y5Jyv3eMSLofYFJ2tLFMSowSKvvd0xMxTyi0jm/jDY8XtKsnzkmaeFlzvlX3eWYpE3PO9feNaBiOGu6U7eCrWoFm19YqwmpMTRYHmCDsA9qYh/UxD5SpklZvmOQDmc4JiRrvGOQtn/kmJT1/3JM0vLbHBMz77eOSZp+crThqW6afmLFEFtj59zLmjsGad3jzrW3vecYpH2jnbodXlHRi3TQfBd1Qso0IXUODZYH2CDsg5rYBzWxj4SaFO10TNKBOY4RgUHSS+43v+QYJL0ybdGVjkGa/f9FGx4vafbPHZOE8+L8Gfc6JmlzZ+f65fWITIo+MNsxSEU7zHeQliTUhPhGuLhYyvbsTpjChw6ZL6sRNFgeYIOwD2piH9SkDtBDbQi4mPNtxVykXpFepH2zb5WyZTdX9CL9uqIX6cRow1PdNP0kxyDN+41z7uW3OgYJPVe49vYPHYOUNa6iFynDMUlleeY7qHewnSRJOOQYod07pWT5YileulAKv5kghRPHSP7nH0veJ73k0FuvyMGuL8iB//xDDjz+gOTcfYtk33mD7Lv2kqSTn9BgeYANwj6oiX1QE4+ECiuG21Y6ZgQTpNWqtjcktPkVpydp1T2OkVnwh4oJ26dFm57qpjn/7ZgkzHFSvUjtKnqRXlFzoZyVaQMrepG+q+hF2m3WnlST+tROQln7lEkqWbVMmaTCKROVScof2F+ZpENvv6pMkjJI5QkGKeeuW6JMkJeUdcMVzvkSpKzbmplVrhE0WB6oTw0iXaAm9lHvNdHL/7E0viLidWhn38or25bf4piZ7xpJ6dxzok1PdZMealt8jZQtva5iLtJjFb1IH8mW71+RcNZExyRh1R1MUrmhI3VHOrWTUO5+ZZBK161WBqlo5reOQRryuTJIhz94Qxmk3I6POwap7R3KuOy7/rIow+MlOUboVseAdXhUXevQ213UtfO/HKDqUjR1sqpbScZyVddQ9j7zbdQaNFgeSKcGUV+gJvYRCE3CJRUhAFY7pgQTpWGUMt9yTMuah6Qso61jkrAKDb1JM0+PNj7VSXrS9vzfOeddeWfFqrZOR+Yj7Rnk1OfgoooJ27lmzWMSCE0CRm1qEs7PcwzSpg2OQZo7U5mSghGDHYPU4x3HIL3wH2Vi9j/UxunZaf6nKLPjJWW3vEmd78ATD6rzH3z9RXW9vE96q+sXThqr6lOydJGqX9meXaq+6QoNlgdqs0GQ5KAm9mGVJiXZFWEA5h2ZwK23HNnwdOUVbliNBqM0tUG0+alO0sv/F18tCFLpxEd6tGJl2/sVc5ImOPVBJHAfl/7HwypNiKI6mkQmam/f6sxDWvCdY5DGDnfmIfX9yJmH9MqzjkF69N6Koa9ro8yOl5Td4s/qfPsfvc8xSK8+6xik8uvi+gXjRqj6FC/83jFI5fVUk8dLis23Ui+gwfJAdRoEqR2oiX34rkk4VNGbtK4iFMA4xyhte9cxLWsfObKBrF7lNuuMaONTnaQDSc5r4px3xe2OUdrY0RUj6QunPrnzHZNUkmPW3Bp814R4AnORSrdsVCZk7cc9Vc9NzInaTzyoDE32nTdGmR0vKevmPzkG6aE26vy5Lz6lrne457uOQRox2Blm+26mqlvp5o2OQcrPN98CSQIaLA/wS8o+qIl9xNWk9IBjlA4udIzJni/LjconjmHZ+KzTm7TijoqVbr9xjNK046PNT3XSrJ9WhAG4wjkvNoBd83fnmpnvVMRJGlt5blK4zKx52hNXE1Ij9NCbGnabMyNimA5/9FbELOW0u1Oy77guyvRUK11/uTMPqd3fHIP07BOOQfrgDWce0tAvHIM0c6pjkNatduYh5R4wq0xqARosD/BLyj6oSS1StKPCIC2q3JO08+OKmEnOSjcVEmDJX45E3p59VrTxqWZSJknv2aZDAWzo4Fy3/PpOrKQZR1a5lWSZta/XsJ0kSTjszFVav1aKlyxwJnKXm5e8fj0qJnE/Jvv/2daZwP2XP0YboSoSeqT2P9hKmaTMpx87MlF7YH8n9MC3kypP1M6qu4naxDs0WB7gl5R9UJMkKMmpPGE7Z6pjSGCOtrzmmJR17Sv3IC283DFHfm1uizTz/zlGaeGlFeEA7iu/5oPO9be+6dRp76jK8ZJC9XMOh9/U53aCXpyyndudXqYZU6Rg3EgnNMC7XSNzlnLuuU2ybm0WZYiqSpgEriZv/+thOfhiB2XC1JDb6K8iZqksc4uEcrLNatVrTYIODZYH2CDsI9CahAocY1SwxTEdalhtUOX5R+jFccdHQoKJgTma3jDa5NQk6XhJiMHk7kla+4hTl4qVbiokQM40JzI4TFLxD+Y7I7VMkNoJJk6rYbk1q6R4/lynl+nLT+Rw7/edWEpP/UP2//0uyW5zc5QhSiYh/tL+v98dCQdwuM8Hkj/oE2cS94Lv1HXVCrfSErNq1SJImpDK0GB5gA3CPqzVBMZIrV6bX3mZ/47eFcNpnR1zAnO09LqKeUdNHGNU0+X+Zpr5k4oJ2xXRtnWcJCS9JUl5vZz5SBX7tumJ2x5WuFmrST3Gdk0Qs6h06+ZIEMqCUUMlD71MGJZ78Sk58OTDzqq4v14dZYiqSlhJl3NviyOr39573QkNMH6kiuekepl2bpfQweRCXviF7ZoQ79BgeYANwj5810QHicTGsDAa2V87xkjvzVaxas1Z3o+5Rtceiao957+jzU1N0vSGkd6oSO/Uqnsq5h897dRFb2i7Z/CRXq6CrRXDa3UTSNJ3TUiNqW1NsPpM9TKtWOrEXJo8zpn83f1tFQNJDcvdf2e1tzNR6frLnBVx7dtFJnvn9e8p+V8NdHqZli6U0o3rrI+jVNuakNqDBssDbBD2EdGk7LBjjPI3HjEaWEbvDg65/t+OMVrZ2jErFZOwndVqx0UbnJqkuedUzDe63LnWijscY4S5TsqovRaZB6XmRKlVbKutX+6fDGwn9uGHJmU/7FbGBcEg1bBcuaHJG+CEF4DRgeHxGr07+2/XK8Olepm6vqCMmOplmjxWGbSSFUsCFzbAD02IndBgeYANog4p3Kbm9YR29lNL+stWtpSyBb+XommnRJubmiQdJHL+/zrGaNlNR4bTdA9WeR2cYJHjHWN0cLFjjIp2mrWul7Cd2EcsTcKHDh6Z/D1zqhoyU5O/339DDaWpXqb7bvcUrDLrpqucyd9PPqyig6teJkz+HjlEDQGqUAJbN9XpdiZ1TSxNSOoIh0X25IZl+bYymbKqVAZ9VyLvTy6STl8VykP9CsziNYIGywNsECkkVOzEIcqaIKHt3SW0/l/Ofm3zfi2l006INkJmmnGKY4y+a3RkOE1vWosYSzBG2z90jNEPXznG6MBsp9cL5ihcswmr5AhsJ3VD6MD+I4ZpznQp/Hq8MyzX+33Z2vEJNWl7/yP3eN5EN7t1czV5HMZLTf4uP6/eBw6TzUtWr6zX0burC9uJv+QXhWXLvpDM21gmYxaXSN9pxdJldJE89lmBtPwoX5p1zUuY/IQGywNsEDWk9GD5X83LJLx3hDNshwjcS/6SXCgArGBbfI3aAy609Q3HJB1cLMsWTTevQuoYtpOao1fKIWAk5hQ5+8YNcnqY3n5VDr7cMdLDhOE10wwlkxCWAOEJ1LBc+fkQtkBve4JwBmry945tDFaZIthOqsf+vLCs3RWSmWtKZdj8Eun+TbG8MKxQ/t6/QG59t2oDhdSmR7488UWhvDamSD6eXqyM2HcbymTjDyHzcjWCBssDbBBJUPyDhHO/d6J0b35JyjLuVfOQMPQWZZrcadqxUvb9BVK27K8SWve4s2cbImwfzlDhCuJBTeyDmkSDOEgwK6p3adbUI5O+e73nhBZA79Kj9zkr5W64IsoMJZOyb//LEcPU2YnJlPdpHzVXam3fHlK8eL4KoKkmf2O8hNQpbCdHwN2oh+++WVkqX8wpkbcnFMnTgwvlvt4Fcn23aLNkphvfypN2fQuk45BCeW9SkRoCnLqqVFZtL5O9B2v3fqfB8gAbhINapZbzrYR29lV7s5WtvFPK5l8kpTNOjTZO7jTjR87cJkz4xiq4HX3KzzOl/HybcFbzMklBTewj6JqEi4qOxGEqNy2qd2n4oEhYgYMvPe30Lt3bwvsWKXql3KP3qrhOakiuxzvOxO9JYyNbopRtz0xqHlPQNUlH6pMmRSUi27JCsnBzmYxfWir9ZxRL17FF8uQXhdK6e3K9Ty3ez5d/DCiQziMKpee3xTJiQYnMXlcq6/eEJDff2+9HqqDB8kC9aRChIgnnrVGTuDFvKbTuCSlb1lzKvm9c9d5ws86QsoWXSdmquyW06UVnztOB70SK95hX8YV6o0kakW6awKCUbd9aMdn72yP7yZUbGtW7VG6W9v/jXs8r5JBgtDCcp3qXXnrmyKTvcmOm5jAtWSClazOcOUzlBs5v0k2T+kCQNIHB2VBudOasK1PGp1e5AXppRJEyRDBGplmKlVp1d4bvYLxgwGDEYMhgzArTbIosDZYHgtQg1Ma7h5ZIeO9wtU0JNsAtW9JMSuf8Mto0mam8DMqqTXOxxckPw9S5cM7aJlCaBIS61CRcWOD0Lq1eKcWL5h0JJ/BpH6d36cUOTu/S3beqITXTCCWTMISnepf+2VZyO/zT6V3q9V5FWIFxUjR72pHglTnZZhXrhLrUhMQmnTTZdzCshtow5IahNwzBYSju/r4FctNb0WbJTBjiw1Bfh8GFaugPQ4AYClyeWaaGBu3qf6o5NFgeSKcGoSje42x+i1hQm150tlNZeJnqZYoyTe407XhnY91lzVXvlVp9h5AEeWvqLHhlPNJOk3qAn5qE9u1Ve7mp3qXp30jhxNGRgJWHur3k9C79/W7Pm+8iIdhlTts7nN6lV55Vk8jVZO8Rg5VBQ9yn0vVr0nqFnJ+aEH+wRZOSMpGdOSFZsqVMJi0vlU9nFUu3cUXy7y8L5a4e+XJtDMNkplvezZeH+xWoSecffVMsX80vUZPRMSk9Jy9o9qlqaLA8YEuDOEK58y/YrOYxYT4T5jWpzXrn/68KWxBlnNxpxqlq3hTmT4U2PKPmU2FeFfa9Syfs04TE0yQS3TtjudrTTfUuDf1C8j6pCFb5wn/kwL8fcSZ6e4i9hJR105VO/KXH7pfcZx47Ek4AvUvl1yuaM8PpXdq1Q4U1qC/E04TUHbWlyeHCsGzaG1Kr5UYvKpE+U4vllVFF0v7TAvnbB8kN3935Yb4Kd/Dq6CIV/gCr7xAOYUv5eREegVSGBssDtdUgKoENfw9nqBV1oW0fqBV2WGmHFXdYeRdlnNwJQTMRSTzjXrWiL7xnoFrhF6TNd+tEkwASLnbCArgT5gTBjOikwwW4kw4d4E5bn31SDr3R2elderiN07v05z9EmaFkUnbLmySnXUWE71efk0PvdHF6l0YNdXqXELByQ8XKuNJS822RCthO7MMvTbIPh2X1zpDMWF0qQ+eVyIdfF6vgmQ/2K5Dm71RtoP78ep7c3TNf/vNlobw5vkg+m10sk1eUytKtZbJzf0hK/Y1gUC+gwfKAXw0iitL9TjTwH75SMZ4Q6wkxn5La227u2SqWlNofL/MtFWMKsaaktHY3Lq0rUqZJigll7atsaLY5k6zdSU24dhuaiWOizIyeiO1OMCPuhJVoMDnu5HWydk0SNupVvUuPPyC5HR93Jnr3/VDyB/Z3epe+m+n0Lu3ZxdhLPpOu7STIJKNJKCyy+0BYlmU64Qs+n10ib5WboKcGFcq9vQrkujeiDZOZmr+dLw9+XCDPDS2UDyYXy5DvS2RaRqlk7CiTrEPsfUoFNFgeSKZBxKVol4QPzJHQrk8ltOkFKVt1l5Qt/KOUzvpptGlyp2knqGjmiGqO6Oah7R+paOeIeo7o5/WdZDQJ5+dF9c6UrFpWuXemYsjKnfKHfF7JzOihLHdSw1qGoTHNjNfhrtpMWTc6E7fdCZO43e9LT+h2Jz25253W9v7oyHYom9Y7vUsh/hlclyTTTkjtAk3yi8OydV9I5m8qk7FLSqTf9GIVBPPxzwulVRLRx5Fu/yBfHv2kQF4eWSS9phbLyIUlMne9EzzzUAENVF0QeIOVkZEhjRo1kmOPPVYuuugiWbhwoVlEsW7dOrn88sulYcOGcvXVV8umTYjJFJuEX1LhkLPRcPbXEtrRS0IbOkjZitulbP7vpHT6ydHGyZ1mnKb21cP+empbF+x1lzNNBFu4kEqEDx1Sk44xNIVhqF1331bZGHjcBqS2U3armyrXu50zDOZOakjMbWgqhsfcSQ+VuVPJsso9YTq4pDtJaerWPSdsJ6ROoCapobjUCZCJoTSsiENCTxMSVtuhxwlDdhh6wwRwTBxH6AJMHv/rWwejzFKshLL/Hlgob4wtkk9mFsvEZaWyaEuZbM8OqesT+wi8wWrbtq1069ZNcnNzpWPHjtKyZUuziOKKK66QCRPKf5gKC2XMmDFyzTXXmEUi4EsqfHiVhPeNkdC29yS0rr2ULb1R7X9XOrVBtHFyp9lnSdmiK6Us4z61L154zyAJ584vb6FVBwmsr4T27lHDRjASiEzt1Txl3XxNVO8MNqGt1Dvz3JNRvTN5/bpXNjRffhJlZoq/mxU1tGeamdDB+jFcq+GPuX1Qk2jQewRzhDhLMEZYRafNEYwR0rsTi5Q5enaoY46wKTAMz23vJde7VFW68c08adfHiT6Oa305t0S+XVUqK7aVyQ+57H1KVwJvsNB7lZWVpR5nZmZK48aNjRIOxx9/vOTn56vHeXl5csIJJxgljoAvqSjj5E7YbHjp9RJa+6iEMt+W8N6REj60XKTskHkq4iYcktItG6Vo6mS14gtDUVm3NYsySsos/fVqtUIMy/QLx4+UlWNGVTY0P+w2z05qGf6Y20fQNMHQF8zR5r2OOVqwyTFH6N3R5gjGCAmxl2COsI0KzFEyE7+TTYjvhHNikjiugYQQB7gugmWiHlhxh7ph2A51Xbc7pOo+8/tl5tsiASHwBuukk06S0opVRUVFRXLiiScaJRyuuuoqmThxoiozadIkufLKK80iEfAlVTaviZQtv1VC6/8toe09JJw9ScL567E7q1mcxACBILE6rWDMMDn8wRtq/zUsrTeNFBICQeY++4SaCI0J34iHZBK0H44gQE3swyZNsGkvDAa2OIHhQPgAGBDMQYIhGTDTGVLTsZiQMKEbRgY9PqbJ8Zr++na+OmfbPgXqGh0GOavokBALCnVBNHHUDSEJUFeEO0Dd/diaxSZNiL8E3mAdc8wxkcfhcFiOPvpo19EjLFiwQM3TOuqoo6RBgwZx52oBNojqgaExRNNGJO2DXTrJ/gdbRZkonbBvG7YQyR/0iRR/P1tCOU7vY1VQE/ugJvbhlyb7DjnmCGEBYDhmrXUMCCZWw5AgRhIMStcxFeZooBOsEukvSax4Szbd+q5zTqyOw3UwxIbrIkq47sFCqAHUDfOVUNfMLMcc5VkSt8kvTYh9BN5gnX766VJS4vQqoXcKPVqxuOSSS1TPlZ6DVVUPFlPstPybybL6s/6yseuLsu3xB2VPi9jbkOy97lLZeU8L2drxCVn/wVuyatgQWfrd3KjzMTEx+ZcWlacpc1aoNOLb1TJsyhoZMGGD9B23Ud4bsUXeGJopL325XZ75bJf8a8Aeeaj3Prm/Z5b87b0Dckd5Mg1OTdIt7xxU573no2x1nfYf/6Cu2+mLHaoebw7LVPVC+qq8nqjr17NXqrrPW7A06r0xMfmRdu/2b3pJ4A1WkyZNZOfOnerx9u3b5YILLjBKOLiHEpOZg1XvKSuT0k0b1ATvwz3flQP//rtk3dI0ykghYXI5JpMjVlPh5LFSunGd76vXqIl9UBP/QTBJ9L5g6xF3zxE21kVvDZbnowcHEbrRo4Oo2+jhaZnkUv9kE86H8/7zU6fnqPMIp+eo+zfOkBpiLKFemKitV9XtOeDUnQErK8N2ElwCb7Dat28vXbp0Uaapc+fO0q5dO7OIomnTpjJnzhwpKChQPVkI2RCP+tYgsLUJtjUpGP2VChGw/5F7ZN/1l0cZKaTsv10vuc//W/L69VCb3WKj29qgvmmSDlCTyhwqrDwhG/N5YELGLXEmZMeac3RXT/+H1fRQ3ROfO9d4dZQz3wjmDPUYPt8xR4gIjnpic1/UG4n4D9tJcAm8wVq0aJGcd955al4VVhQiLpYG8600Og4WJsHjfzyPR5AbRGh/jhTPnyv5Qz6Tgy93VJvfmiZKJ8Rswqa4+V99oV4Tyq27Pd2CrEm6EiRNInGOchxzhO1DzKX8mPcDo/KMsVoNk6hNk+M1Yc84nBMBJXGNl0Y41+wxxTFHwwxzhCjdqPe+g445CpImQYGaBJfAG6xUEJQGUbZ9qxTNmip5H38kuZ3+Jdm3XxdlotQQ3w1XyP5/3CuH3u2qerFKVq+UcIET0sIWgqJJkLBJE90Ds3K7M1w1NcMxRxjKgjHRQSBfHO6Yo0cqgkDe/r5/5ujmdypPyEZMJVzzvUnOhOyBcx1zhKSH1bA9ip/DajZpQhyoSXChwfJAujWIcEmx2ggXe9ghbtSBJx6UrJv/FGWklJm6tZkceOofcrjX+2qbk9LNG9Nie5N006Q+4Jcmejk/4gbBdMxZ5/Qe6RVrfSrmHb062hlaw/YiMDKtuvtnjnScI4QJwDX0hrjupfyIvYR6LdzsmCNsfYJ651uyWg34pQnxD2oSXGiwPGBzgwjnHVZRxAtGDJZD3V6S/X+/S/Zdd2mUkULKbv1XyX3xKcn7tI8UzZ3pbJ2SptisSX0FmmApPEzGln2VA0EirhBMCbb8MOcd3VMR6+i6btFGx2tq3b3yvKMuox1zhHACqMeoRZWDQCI2E+p9IM8ec+QHbCf2QU2CCw2WB2xpEKGsfWqLlvyB/eXgS09Lzt23Rpkolf78B9n/YGs52PUFKRg+SIoXz5fwoYPm6dIaWzTxit6uI1ZCT4geMjKTNiyxkjYxsRKiS+seGDN1HXvE7JjpyS+OxDMyU5se/vUYuRM2scX5sXcb6oBhPNRTr1gbOs8xR9P1pOyKeUfcYiSadG8nQYSaBBcaLA/UeoMIh6V062Ypmv6NHO7zgeR2fEyyW/w52khhiO+mq2T/P9vK4Q/flIJxI6R0/RoJFxWZZwwU+CEdNW11lPlAwmRf03johB9m03jo9NE38Q2I3qw1Vvp7f6f3JVZCUETTPAQ9Na+Ikn1/38qBIN+Z6Mw7+mLOkXlHyyo0w4a5MEglZabSpKbU+ncXqRJqElxosDyQygYBMwRTBHMEkwSzBNNkGik1xFdusnKfeUyZLpiv0q2blBkLCjl5Ydn4Q0j10kxa7vTG4Ie501fOTvR3fhgcw6KNSKz0QMWk6FhJT5SOlfTk6Vhp0HdHjI2ZprpiF5kJk8TNHjadzB6jVLYT4g1qYh/UJLjQYHnArwaBYToM12HYDsN3GMbDcJ5ppJAw/IdhQAwHYlgwtG+vebq0AfGAsF2FXuqOneOxiuvlkUWRCcrXxjAh8VKrj/Llvu5ZUeYDCROfTeOhU9+K+Tex0uiKOTmxEvZMM42HTjCEpvHQCRvT1if8aifEP6iJfVCT4EKD5QEvDQITyDGRPO+zvmpieXbr5lEmSqXrLlUT0zFBHRPVMWE9fPiQeTorKSoR2bXfmS+EXpCv5juRpV+r2I8MQRNvqMYmrVgi/1C/AhVXCIbos9nFal4RDA4iWevYPsCLJiS1UBP7oCb2QU2CCw2WBxI2iFBIhTZAiAOEOkDIA4Q+iDJS5Smr+Z/kwOMPqNAJhRNHq1AKCKlgG6GwE0cIEZ2xNQdWXOlJ0jBO7foUqBg/pkGKl5q/c2Tnepyj3/RiteR+5prSyBBUWTUjQyTUhNQJ1MQ+qIl9UJPgQoPlAd0gEGyzZM0qZwuZd7uqYJxZN14RZaSQEMQTwTwR1BPBPRHk0wb2HXLiC32/oSyy6gymB5ORH+5XoFZwmQYpXtKxgmCc0GvV69tiNZFc70eG3q1Cf7cgjMAvKfugJvZBTeyDmgQXGiwPoEHk3H9nlInSCdvLYJsZbDejtpDZn2OeIuUcyHf2PEPQQ8wbgnHCpGesgMMGrdUNwgjjhI1jsTUH5kvpqNNLtpap+VR1Pb+IX1L2QU3sg5rYBzUJLjRYHkCDUGbq+svVxsfYALlg1FC1ITI2Rk4liAq9PduZ5wSDM/j7ErUP2SujiuSJihhF1dkYFivxsC0IVuZhLzUYMazYm7/JmbCdfbhujVOy8EvKPqiJfVAT+6AmwYUGywNoEKWbNoiUlpqHPIOYP5h7BOM0LaNUhi8oUavcXq8I+ojo1je9FW2Q4qVb33OW93eomCCOiNljFpeobUZW73RWugUJfknZBzWxD2piH9QkuNBgeaC6DQJmBqZm9rpSZXL09iAdBhWqAIwwQ6ZBipdgsvR+aG+MdUINwIypKNbbnAnipfUwQGN1NSGph5rYBzWxD2oSXGiwPKAbBIbPNuwJybyNZWqjVwyvYZjtuaFORO/qBMLEsB6G97AVyaujitSwH4b/MAyIXq0dOSG1nQqJDb+k7IOa2Ac1sQ9qElxosDyABmEapEQJE8oxsRx7qL0/2ZnnBOO0aEuZbNkbktx8Gqeawi8p+6Am9kFN7IOaBBcaLA9og3XHB/kqlAFCGrw13jFOCHWAkAcIfZB1iMaptuCXlH1QE/ugJvZBTYILDZYH0CACtOVfIOCXlH1QE/ugJvZBTYILDZYH2CDsg5rYBzWxD2piH9QkuNBgeYANwj6oiX1QE/ugJvZBTYILDZYH2CDsg5rYBzWxD2piH9QkuNBgeYANwj6oiX1QE/ugJvZBTYILDZYH2CDsg5rYBzWxD2piH9QkuNBgeYANwj6oiX1QE/ugJvZBTYILDZYH2CDsg5rYBzWxD2piH9QkuNBgeYANwj6oiX1QE/ugJvZBTYILDZYH2CDsg5rYBzWxD2piH9QkuNBgeYANwj6oiX1QE/ugJvZBTYILDZYH2CDsg5rYBzWxD2piH9QkuKTMYPXv318eeuihyPOcnBxp3LixfPLJJ65S6QkbhH1QE/ugJvZBTeyDmgSXlBiszMxMadasmWzcuDGSFw6HZebMmXL++edLjx49XKXTDzYI+6Am9kFN7IOa2Ac1CS4pMVjoudq0aZOZrViwYIGcc845ZnZawQZhH9TEPqiJfVAT+6AmwSUlBuvkk0+W/Px8M1uB/BNOOMHMTivYIOyDmtgHNbEPamIf1CS4pMRgNW3aVMaMGWNmK8aPHy8XX3yxmZ1WsEHYBzWxD2piH9TEPqhJcEmJwcIw4JlnnqkmumOosLi4WHbt2iX9+vWTn/3sZzJlyhTzJWkFG4R9UBP7oCb2QU3sg5oEl5QYLLBq1Spp2bKlnHHGGdKgQQM566yz5K677pJly5aZRdMONgj7oCb2QU3sg5rYBzUJLikzWEGGDcI+qIl9UBP7oCb2QU2CCw2WB9gg7IOa2Ac1sQ9qYh/UJLikxGAdddRRUemkk06Sq6++WubMmWMWTzvYIOyDmtgHNbEPamIf1CS4pMRgxaK0tFTWrFkjN954o4wcOdI8nFawQdgHNbEPamIf1MQ+qElwqTWDpcnIyJDzzjvPzE4r2CDsg5rYBzWxD2piH9QkuNS6wSoqKpLjjjvOzE4r2CDsg5rYBzWxD2piH9QkuNS6wdqwYYOce+65ZnZawQZhH9TEPqiJfVAT+6AmwaXWDFZJSYmsW7dOrrvuOhk6dKh5OK1gg7APamIf1MQ+qIl9UJPgkhKDZa4gRGrYsKFcccUVMm3aNLN4SsGcr0aNGsmxxx4rF110kSxcuNAsojDre8wxx5hFIrBB2Ac1sQ9qYh/UxD6oSXBJicGqCvRm1RZt27aVbt26SW5urnTs2FFFl6+KQYMGSadOnczsCGwQ9kFN7IOa2Ac1sQ9qElxqzWAVFhbK2LFj5d5775Wzzz7bPJwy0HuVlZWlHmdmZkrjxo2NEpXJycmR3/72t6q+8WCDsA9qYh/UxD6oiX1Qk+CSUoOVn58vw4cPl9atW6tAo02bNpUvv/wyoXnxG1wXMbgAVjCeeOKJRonKPPPMM9KzZ08zuxJsEPZBTeyDmtgHNbEPahJcUmKwBg8eLLfffruceuqpcsMNN0jv3r3VvKa6wD2XKhwOy9FHH+06Wpm8vDz5xS9+IYcPHzYPVYINwj6oiX1QE/ugJvZBTYJLSlwPzFSLFi1k165dlfLqgtNPPz0y5ws9WOjRigdWN7Zq1crMjgINgomJiYmJiSlYaffu3eZPvmdS4nowSRwG67TTTpObbrpJ+vbtW2cGq0mTJrJz5071ePv27XLBBRcYJY6ACfEDBgwws6OACMQuqIl9UBP7oCb2QU2CS0pdD4bchg0bpnqF0HPUrFkz1UtUXFxsFk0Z7du3ly5duqi6dO7cWdq1a2cWiYAJ8PPmzTOzo2CDsA9qYh/UxD6oiX1Qk+CSUoPlBhPbx4wZI/fcc0+t7kW4aNEidb0GDRqoFYWIi6Uxe9UwAR6rCKuCDcI+qIl9UBP7oCb2QU2CS60ZLDe12YOVCtgg7IOa2Ac1sQ9qYh/UJLjUmsEye4vSGTYI+6Am9kFN7IOa2Ac1CS615nposEgqoSb2QU3sg5rYBzUJLrXmemiwSCqhJvZBTeyDmtgHNQkuwXE9tQgbhH1QE/ugJvZBTeyDmgSXlBms/v37y0MPPRR5jtV5CIPwySefuEqlJ2wQ9kFN7IOa2Ac1sQ9qElxSYrCwqTJiXm3cuDGSh21qZs6cKeeff7706NHDVTr9YIOwD2piH9TEPqiJfVCT4JISg4Weq02bNpnZigULFsg555xjZqcVbBD2QU3sg5rYBzWxD2oSXFJisE4++WTJz883sxXIP+GEE8zstIINwj6oiX1QE/ugJvZBTeqW3Xl7ZebOhfJxxlfSYc6b5uEakRKD1bRpUxW1PRbjx4+Xiy++2MxOK9gg7IOa2Ac1sQ9qYh/UpHY4XJIv6w9slfFbpsu7Sz+VR6Z3lqYj75OLh95RKflJSgwWhgHPPPNMNdEdQ4WI3L5r1y7p16+f/OxnP5MpU6aYL0kr2CDsg5rYBzWxD2piH9SkZpSFy1Qv1NJ9a+Tb7d/J4PXj5aPlA6Xz/I+UibptQnu5cvhdUUZKp7+Mvl+emPWafLj8C/V6P0mJwQKrVq2Sli1byhlnnKH2ATzrrLPkrrvukmXLlplF0w42CPugJvZBTeyDmtgHNYlPduEBWbd/i8zZtVhGb56qhvFeXdBTHi83RG2+fkquG/NAlGGKl64ecY/cOelJefa7d+SLtWPUOXMKc81L+krKDFaQYYOwD2piH9TEPqiJfdRHTfJLC2XboV2yeG+GjN86Qz5dM0reXjJAOpabnwenPi83j39ULhn6tyiTFCuhHMo/MLWTej3O8+makeq8OD+uk19aYFahVqDB8kB9bBC2Q03sg5rYBzWxjyBpEi7/h+G6FVnrZNqOeTJ0w0TpsWKQvLyghxquu33i46onyTRJ8RKG79BThR6rV8rPgR4s9GSh92nt/s2qh8tmUmawli9fLq1bt1ZzsTBEiLlXrVq1UvnpTpAaRFCgJvZBTeyDmthHumiyv+igbDiQKd/vXirjtkxXZue1hb3lX7Nfl3u+eVpuGPtQlEGKlzAnCnOjYLpenPehmjOFuVNTts1Vc6lg0jC3Kt1JicGaNm2amnvVq1cv2blzp5rkvm3bNvnoo4/kpz/9qcyYMcN8SVqRLg2iPkFN7IOa2Ac1sY+61qSorFh2HN6jhtMmZc5S85Owyu6579+Th6e9qIbf/vhVyyiTFC81H/eItPv2Wekw9y3ptvhj6b96uBquW/jDStlycIccKskzqxBYUmKwfv/738ukSZPMbMXo0aPlkksuMbPTirpuECQaamIf1MQ+qIl9pFKTPflZsip7g8zYuUCGb/xaeq8coobrHp3xsprwHStMQbzUbFRbaTn5X9J+5qvqHH1WDZURm76RWTsXyuqcjbKvIMe8fL0nJQbruOOOk7y82C41NzeXgUaJ71AT+6Am9kFN7MOLJgeLD8vm3O0yf89y1TvUL2OYvLGor/xnTje5b0pHuWnc36MMUrx02bBWqpcKw3XPf/++vL/sMxm4bqxMzpyterV25e2V4lCJWQWSBCkxWE2aNJFx48aZ2QoEIEUPVzrjpUGQ1EJN7IOa2Ac1sQ+3JiWhUjX/CMbm621z5Mt14+SDZZ/LC/M+UAbolnIjdPmw1lEmKV66cezDcu+UZ+Tfs9+Q1xf1UfOmYMjmlRuzTbnbJLf4kKsmxG9SYrAmTpyoJrcPHDhQ9u7dK6WlpWouVu/evdVk9+nTp5svSSv4JWUf1MQ+qIl9UJPa42BxnjJLa/ZvVoYJQSx1SAJngngvNdR2z7inpNXkf8u1o9pFGaR46ZqR98rfJj2hhvpwjl4rB8uwDZNlxo75sjJ7ffl195nVIXVASgwWWLlypbRp00Zt7IwhQ0x6xyrCFStWmEXTDn5J2Qc1sQ9qYh/UpHrszc9WJmnJvtWyaO8qZZB0wEsdfuDZ795VvUvoKcJQG+YqmYYo2fSHr+5U53h42gvqvO8s/UQ+XztaJm6dqUza9sN7pLCsyKwmsZSUGawgwy8p+6Am9kFN7KO+aYK5QzBIWL0GgzJ712Jlkoasn6BM0jtLByiThFADMEmY+A2Dg3lJpvmpbkIvE86FEAY4N4Jg4lrdVwxU1x61aYqqy5ezR8iGA1tTHlWc1D51YrDy8/PNrLSivn1JpQPUxD6oiX2koyaYJwSThJVqMEnfbJurjMknq0dGtk7RgSzR8wNTg7lHpuHxknAe3aOE8+M6uB6uO2D1CFUP1Af1yiivH+pZ3XlN6agJSY6UGKx169bJZZddJieeeKI0bdpUzb/SjBo1Si688EJX6fSDDcI+qIl9UBP7qCtNEC5AT95GPCRnqO1bZVTQo+MMtb2jTAx6fGBqqhNCIF7SK+QwXwnnRk8VroXtVHBt9GShLrN3LVJ1Q08X6llcVnur5upKE5J6UmKwrr76aunUqZMcPnxYPvjgA2nRooXs379fbrvtNrn22mtl8+bN5kvSCjYI+6Am9kFN7MOrJghGCeOBlWcwIoh9BGMyaN14ZVTeWtJfGZcnZr2mjMwdEx+vdoDKeKnZqPvUuTDHCefG3CRcC3Og9NYpOpAl5kqhnj+UG7p0wasmxH5SYrAaNmwoOTlO0DFEcUdP1m9+8xvp2bOnUTI9YYOwD2piH9SkdgiFnf3fkknfzJuqAk/qMAAwJoi0DaOCvd5emv+RMjEPVWy4W53tTxIlxGXC+f4+7UX5x/SXlEHCKjpcV2/Mi1V2qNeanE2qrliFVx9gOwkuKTFYRx1V+bR4PmzYsEp56QwbhH1Qk9SSU3ig0g81ghzix9Cd8CPpTq9/62zOWtOEH378INc0YcNYmIeaJmw+C7NQ03TdmAeijIit6fLhrVWdMQkcnwHiKuEzxSo3aIRNfaE5NuF1D7UhrhNJDL+7gkutGaxQKFQpL51hg7CPIGqCPbvcpgZLtE1To3shdBqyfmIlc6K3xkhkNO6tmPOiE/YSM39gmexNeml/Mun6kQ+qSN/QvdP376n7oedKZ6ht7JZp6h7CfaU33OX2J6kniN9dxKHWDFaQYIOwD7800XNN3Ak/Nm5TM33H/EqmZuSmKVG9Ll0qggjq9NScbpVMzQNTO0X9+F06rObzVVKV0Nviriv2JDN7dkwj99w3b0V9Ll7S+C3To3rHvKTvdy+NMqheEpbUm/eIl1QXy/L9aifEP6hJcEmJ84GhqiqlM2wQtUtpqCzyo7Qsa636kZu2Y5760cQGpvgRfnnK+2rndvcPvA4A6E7YasJtFK4ecXeUmbAl6Tg6OrWY0D7q/WDvMPd71qujdOqX4exkn8hoINJ05R9/f6JAs53YBzWxD2oSXNLb6dQRbBDJUVBapH6wdx7+IfJjroe0Bq93Vh/1WPFlxBxo06CD/dUkIrLXpOeauJOOgaPT03PfqmRqulbs8eVOemWTTjN3LqxkalZkrYvq0QjafBW2E/ugJvZBTYILDZYHgt4g9B5aWw/ujBgCbRSwbQMMBHZch7nQm5Ai3TahfUp6hbDUW5udB6c+X8nkoNdK92BhLy63qdGrktwJO8O7TU1+aaH59olPBL2dpCPUxD6oSXChwfKArQ1Cr/TacCBTmYn5e5ZHzIZeiq3j1WDbBhgVHfkYyY/tIdzpyuF3qfNiWE6bMD2xVq8+0ku0kRDHBvXGCjW8j+pERLZVk/oMNbEPamIf1CS40GB5wO8GgaB4MBSI/wKDgaXOMBxY1aOHnDAMBWPyn4rJ0u2+fTZijExjU9OECMo4L4IFamOE+Di4/ofLv1D1GbhurKrjpMxZkd6h7Yd2V/QKFZhvMeX4rQmpOdTEPqiJfVCT4EKD5QE0iFA4FBlmwnwaGIwZFavLRmz6JmKM9DwdHeH47m86KPPi115Z7qRXerWe/G91rX/OeCVy/V4rB6v66Hg1evhMRz5Gwsao6Qq/pOyDmtgHNbEPahJcaLA8gAZhmpuaJB3lGPGIYIyenNVVmSIEWNRGDaEAYIxm7FygjNHK7PURYxQu/1ff4ZeUfVAT+6Am9kFNggsNlgfQIP7w1d8iQ3T3f/ucMkYd5rypjNHrrlVl4ypi+MzdvUQZI70kfm9+tnlaUgP4JWUf1MQ+qIl9UJPgQoPlATYI+6Am9kFN7IOa2Ac1CS40WB5gg7APamIf1MQ+qIl9UJPgQoPlATYI+6Am9kFN7IOa2Ac1CS40WB5gg7APamIf1MQ+qIl9UJPgQoPlATYI+6Am9kFN7IOa2Ac1CS40WB5gg7APamIf1MQ+qIl9UJPgQoPlATYI+6Am9kFN7IOa2Ac1CS6BN1gZGRnSqFEjOfbYY+Wiiy6ShQsXmkUUZWVl8uijj0rDhg3lvPPOk5kzZ5pFIrBB2Ac1sQ9qYh/UxD6oSXAJvMFq27atdOvWTXJzc6Vjx47SsmVLs4iie/fu8txzz0l+fr4MHz5cmax4sEHYBzWxD2piH9TEPqhJcAm8wULvVVZWlnqcmZkpjRs3Nko4XHHFFUnf6MmWI7UHNbEPamIf1MQ+qElwCbzBOumkk6S0tFQ9LioqkhNPPNEo4XDaaadJ165d5ZRTTpGLL75YtmzZYhaJwAZhH9TEPqiJfVAT+6AmwSXwBuuYY46JPA6Hw3L00Ue7jh4B+R06dJDDhw+rIcLmzZubRSKwQdgHNbEPamIf1MQ+qElwCbzBOv3006WkpEQ9Rg8WerRicfzxx6t5WqC4uFj1ZMUDDYKJiYmJiYkpWGn37t3mT75nAm+wmjRpIjt37lSPt2/fLhdccIFRwgH5OA4KCwvl1FNPNUocASIQu6Am9kFN7IOa2Ac1CS6BN1jt27eXLl26SF5ennTu3FnatWtnFlFgheHrr7+uermGDBkirVu3NotEYIOwD2piH9TEPqiJfVCT4BJ4g7Vo0SIVcqFBgwZqRSHiYmmOOurI2y8oKJD77rtPfvSjH6kVhbt27YocM2GDsA9qYh/UxD6oiX1Qk+ASeIOVCtgg7IOa2Ac1sQ9qYh/UJLjQYHmADcI+qIl9UBP7oCb2QU2CCw2WB9gg7IOa2Ac1sQ9qYh/UJLjQYHmADcI+qIl9UBP7oCb2QU2CCw2WB9gg7IOa2Ac1sQ9qYh/UJLjQYHmADcI+qIl9UBP7oCb2QU2CCw2WB9gg7IOa2Ac1sQ9qYh/UJLjQYHmADcI+qIl9UBP7oCb2QU2CCw2WB9gg7IOa2Ac1sQ9qYh/UJLjQYHmADcI+qIl9UBP7oCb2QU2CCw2WB9gg7IOa2Ac1sQ9qYh/UJLjQYHmADcI+qIl9UBP7oCb2QU2CCw2WB9gg7IOa2Ac1sQ9qYh/UJLjQYHmADcI+qIl9UBP7oCb2QU2CCw2WB9gg7IOa2Ac1sQ9qYh/UJLjQYHmADcI+qIl9UBP7oCb2QU2CCw2WB9gg7IOa2Ac1sQ9qYh/UJLjQYHmADcI+qIl9UBP7oCb2QU2CCw2WB9gg7IOa2Ac1sQ9qYh/UJLjQYHmADcI+qIl9UBP7oCb2QU2CCw2WB9gg7IOa2Ac1sQ9qYh/UJLjQYHmADcI+qIl9UBP7oCb2QU2CCw2WB9gg7IOa2Ac1sQ9qYh/UJLjQYHmADcI+qIl9UBP7oCb2QU2CCw2WB9gg7IOa2Ac1sQ9qYh/UJLjQYHmADcI+qIl9UBP7oCb2QU2CCw2WB9gg7IOa2Ac1sQ9qYh/UJLjQYHmADcI+qIl9UBP7oCb2QU2CCw2WB9gg7IOa2Ac1sQ9qYh/UJLjQYHmADcI+qIl9UBP7oCb2QU2CCw2WB9gg7IOa2Ac1sQ9qYh/UJLjQYHmADcI+qIl9UBP7oCb2QU2CCw2WB9gg7IOa2Ac1sQ9qYh/UJLjQYHmADcI+qIl9UBP7oCb2QU2CCw2WB9gg7IOa2Ac1sQ9qYh/UJLjQYHmADcI+qIl9UBP7oCb2QU2CCw2WB9gg7IOa2Ac1sQ9qYh/UJLjQYHmADcI+qIl9UBP7oCb2QU2CCw2WB9gg7IOa2Ac1sQ9qYh/UJLjQYHmADcI+qIl9UBP7oCb2QU2CCw2WB9gg7IOa2Ac1sQ9qYh/UJLjQYHmADcI+qIl9UBP7oCb2QU2CCw2WB9gg7IOa2Ac1sQ9qYh/UJLjQYHmADcI+qIl9UBP7oCb2QU2CS+ANVkZGhjRq1EiOPfZYueiii2ThwoVmEcXu3bvlqKOOqpTiwQZhH9TEPqiJfVAT+6AmwSW+iwgIbdu2lW7duklubq507NhRWrZsaRZRjBs3Tm655RYzOyZsEPZBTeyDmtgHNbEPahJcAm+w0HuVlZWlHmdmZkrjxo2NEg4vvfSSvPLKK2Z2TNgg7IOa2Ac1sQ9qYh/UJLgE3mCddNJJUlpaqh4XFRXJiSeeaJRwaN68uVx66aVyyimnyBVXXCHbtm0zi0Rgg7APamIf1MQ+qIl9UJPgEniDdcwxx0Qeh8NhOfroo11Hj3DmmWfK119/rczYvHnz5OabbzaLRGCDsA9qYh/UxD6oiX1Qk+ASeIN1+umnS0lJiXqMHiz0aFVFKBSSH/3oR2Z2hPXr16tGwcTExMTExBSchAVvfhF4g9WkSRPZuXOnerx9+3a54IILjBLRoBfrJz/5iZlNCCGEEJIUgTdY7du3ly5dukheXp507txZ2rVrZxZR/OpXv1JDgzBXc+fOlYcfftgsQgghhBCSFIE3WIsWLZLzzjtPGjRooFYUIi6Wxh3rCubqt7/9rRx33HFy4403yv79+yPHCCGEEEKqQ+ANFiGEEEJIbUODRQghhBDiMzRYhBBCCCE+Q4NFCCGEEOIzNFhxSMUm0aRmJKtJWVmZPProo9KwYUO1wGHmzJlmEeITyWpithF3AGDiL8lqsm7dOrn88stVO7n66qtl06ZNZhHiE8lqgt+TZs2aqXiNbdq0kYKCArMISSPoBuKQik2iSc1IVpPu3bvLc889J/n5+TJ8+HBlskhqSFYTN4MGDZJOnTqZ2cQnktUEW4JNmDBBCgsLZcyYMXLNNdeYRYhPJKvJnXfeKf369VPfXUOGDGE7SXNosOKQik2iSc1IVhP8cCAiL0k9yWqiycnJUeFQ8KNOUkOymhx//PHqhxwgTuAJJ5xglCB+kawmP/7xjyOaoI1ceOGFRgmSTtBgxSEVm0STmpGsJqeddpp07dpVaXLxxRfLli1bzCLEJ5LVRPPMM89Iz549zWziI8lqctVVV8nEiRNVmUmTJsmVV15pFiE+kawm+M4qLi5Wj7Ozs9XwLUlfaLDikIpNoknNSFYT5Hfo0EEOHz6shghhgklqSFYTgF6SX/ziF0oXkjqS1WTBggVqThDmxCEQc7x5QaTmJKsJvquGDRsme/bskRYtWsQtR9IDGqw4pGKTaFIzktUEQx+Y6wDw1yD+KiSpIVlNwNChQ6VVq1ZmNvGZZDW55JJLVM+VnoPFHqzUkawm6G2HLvjOev/999V3GUlfaLDiwE2i7SNZTZCP4wA/HqeeeqpRgvhFspoATPQdMGCAmU18JllN3MNWnIOVWpLVxM3atWvlrLPOMrNJGkGDFQduEm0fyWqCVTqvv/66+ksRK3Fat25tFiE+kawmABN70VZIaklWk6ZNm8qcOXNUKAD0ZCFkA0kNyWpy/vnny+jRo+XAgQPyxhtv8LsrzaHBigM3ibaPZDXBD8Z9992nhmux8GDXrl2RY8RfktUEYGIvVhGS1JKsJjoOFnTB/3hOUkOymkyfPl3OPfdc1buIUA5sL+kNDRYhhBBCiM/QYBFCCCGE+AwNFiGEEEKIz9BgEUIIIYT4DA0WIYQQQojP0GARQgghhPgMDRYhhBBCiM/QYBFCCCGE+AwNFiGEEEKIz9BgEUIIIYT4DA0WIYQQQojP0GARQgghhPgMDRYhhBBCiM/QYBFCCCGE+AwNFiGEEEKIz9BgEUIIIYT4DA0WIYQQQojP0GARQgghhPgMDRYhhBBCiM/QYBFCCCGE+AwNFiGEEEKIz9BgEUIIIYT4DA0WIYQQQojP0GARQuqUo446KpIaNGggl19+uWRkZFQqs2jRIrn22mvl5JNPlocfflgyMzMrHQeDBg1S5xg8eLB5KMKoUaPUNZBGjx6t8lavXi2/+93vjJI1B3UhhNRf+A1ACKlT3EakpKREevfuLVdccUUkD2brZz/7mYwcOVLy8vJkw4YNcs0110j//v0jZUCLFi1Uuv322yvlu9HGCufCY3D//ffL559/bpQkhJCaQYNFCKlTzJ6e/Px8OemkkyLPW7ZsKf369XOVEGWyHnzwwchzvOa0006TXbt2yamnnqqex8J9LTzes2ePnH322crYuTnvvPNk06ZN6vHmzZulUaNG6vH8+fPlsssuk4YNG8qZZ55ZyZjhfF26dJH/+7//izzXVPW69957T9XD3bMG8D5//etfy09+8hOZMGFCJP/gwYPKSJ5yyily2223yaFDhyLHCCF2QINFCKlT3EYEPVRvv/22XHXVVZG8M844I2J24jFs2DC56aab1OMbbrhBhg8fbpRwgIHBMCFMDB536tRJunXrZhaTJ598Unr16qUeo0ft6aefVo8vvPBCGTFihBQWFsqAAQPk9NNPj7wG7wOvOXDgQOS5pqrXPfbYY+q9u3vWAEwUPo+vv/5azj333Eg+6rdy5Up1PgyJ6voRQuyBBosQUqe452Add9xxqqfHPQcLhqO4uNj1imhatWolffr0UY9hiFq3bm2UcNAGBmngwIHyy1/+Uj755JOoeVlTpkxRPUMAJmfOnDnu0yjQ62X2iO3du7fS81hU53UwYvv27Ys816DepaWl6nEoFJJzzjnHKEEIqWtifwMQQkgtEc+IaM466yw19OcmHA5LTk6OeoxeHAwpuo0aJsMjPxHdu3dXPUGx5mXB0OG6RUVFcv755ysTA7Kzs9UwIEwXhvRMo4R6uZ9rqnqdG/fz//qv/5KysjLXUQcYUff7PfbYY80ihJA6JvE3GyGEpBjTYJi0adMmag7WzJkzpXHjxurxmDFj1ApDN5gEP3bs2Ep5bmCYfvWrX8nWrVvjmh30YL3wwgvSrl27SN6VV14pL7/8skyaNEkN0cV7rfnc6+t++tOfKnNm8vOf/zxq3hghxC4Sf7MRQkiKMQ2GydKlS9U8rPHjx0tBQYEK2YBJ5xjaA/fcc48MHTq00mu+/PJLuffeeyvlucF8KEyeB+a8LA1MHeqGYxpMKl+8eLGaZ/XAAw8kbZS8vu6OO+6Qnj17yqxZsyrNwXrkkUdk+fLlqocNQ6MYViWE2EXibzZCCEkxpsGIxeTJk+X3v/+9nHDCCWqIDcN7AEN5MB7mHC0MD6Kcma+BIVm4cKF67J6X5TZTGJbE9TD5XANjBnOHHiSs/EvWKHl9HVYRNmnSRBlM9H5pMDx66623qqHRiy66SMXyIoTYRdXfbIQQQgghpFrQYBFCCCGE+AwNFiGEEEKIz9BgEUIIIYT4DA0WIYQQQojP0GARQgghhPgMDRYhhBBCiM/QYBFCCCGE+AwNFiGEEEKIz9BgEUIIIYT4DA0WIYQQQojP0GARQgghhPgMDRYhhBBCiM/QYBFCCCGE+AwNFiGEEEKIz9BgEUIIIYT4DA0WIYQQQojP0GARQgghhPgMDRYhhBBCiM/QYBFCCCGE+AwNFiGEEEKIz9BgEUIIIYT4zP8P0lDI/BCX9tIAAAAASUVORK5CYII=)"
      ],
      "metadata": {
        "id": "vrXR16tI30DZ"
      }
    }
  ]
}