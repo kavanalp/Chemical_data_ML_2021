{
  "nbformat": 4,
  "nbformat_minor": 0,
  "metadata": {
    "colab": {
      "name": "SVM.ipynb",
      "provenance": [],
      "collapsed_sections": [],
      "mount_file_id": "1JoKfmkWEcCpp73kJ27c-8Bfs8-fRjd9h",
      "authorship_tag": "ABX9TyP7joHMTs6tQmutAMp17tmQ",
      "include_colab_link": true
    },
    "kernelspec": {
      "name": "python3",
      "display_name": "Python 3"
    },
    "language_info": {
      "name": "python"
    }
  },
  "cells": [
    {
      "cell_type": "markdown",
      "metadata": {
        "id": "view-in-github",
        "colab_type": "text"
      },
      "source": [
        "<a href=\"https://colab.research.google.com/github/panahiparham/mlclass_proj_f2021/blob/main/Models/SVM.ipynb\" target=\"_parent\"><img src=\"https://colab.research.google.com/assets/colab-badge.svg\" alt=\"Open In Colab\"/></a>"
      ]
    },
    {
      "cell_type": "markdown",
      "source": [
        "# SVM models\n"
      ],
      "metadata": {
        "id": "TFVrpZZ-P3yI"
      }
    },
    {
      "cell_type": "code",
      "execution_count": 1,
      "metadata": {
        "id": "jFfrD-XmXcSo"
      },
      "outputs": [],
      "source": [
        "import numpy as np\n",
        "import pandas as pd\n",
        "import matplotlib.pyplot as plt"
      ]
    },
    {
      "cell_type": "code",
      "source": [
        "from sklearn.model_selection import train_test_split\n",
        "\n",
        "from sklearn.metrics import roc_auc_score, mean_absolute_error, confusion_matrix\n",
        "\n",
        "from sklearn.model_selection import cross_val_score\n",
        "from sklearn.model_selection import RepeatedStratifiedKFold\n",
        "from sklearn.model_selection import GridSearchCV"
      ],
      "metadata": {
        "id": "2ngXzl_M8O53"
      },
      "execution_count": 2,
      "outputs": []
    },
    {
      "cell_type": "code",
      "source": [
        "from sklearn.svm import SVR\n",
        "from sklearn.svm import SVC"
      ],
      "metadata": {
        "id": "qWBiOgde-NTc"
      },
      "execution_count": 3,
      "outputs": []
    },
    {
      "cell_type": "code",
      "source": [
        "from sklearn.decomposition import PCA\n",
        "from sklearn.pipeline import Pipeline"
      ],
      "metadata": {
        "id": "qVWtZqs0nWJi"
      },
      "execution_count": 4,
      "outputs": []
    },
    {
      "cell_type": "code",
      "source": [
        "from sklearn.preprocessing import StandardScaler"
      ],
      "metadata": {
        "id": "Ql95kkgvtWwI"
      },
      "execution_count": 5,
      "outputs": []
    },
    {
      "cell_type": "markdown",
      "source": [
        "## Support Vector Regression on QM9"
      ],
      "metadata": {
        "id": "IVXhXIPaQP5-"
      }
    },
    {
      "cell_type": "code",
      "source": [
        "# SVM are typically not used with large datasets\n",
        "# Because SVM stores the kernel matrix, which is of O(n^2) size "
      ],
      "metadata": {
        "id": "sXOoRXGfrF_z"
      },
      "execution_count": 6,
      "outputs": []
    },
    {
      "cell_type": "code",
      "source": [
        "# import data\n",
        "qm9_features = np.load('/content/drive/MyDrive/Data Science @ SBU/Applied Machine Learning/project/qm9_preprocessed/qm9_features.npy')\n",
        "qm9_labels_df = pd.read_csv('/content/drive/MyDrive/Data Science @ SBU/Applied Machine Learning/project/qm9_preprocessed/qm9_labels.csv')"
      ],
      "metadata": {
        "id": "1QmidIBV8eaF"
      },
      "execution_count": 7,
      "outputs": []
    },
    {
      "cell_type": "code",
      "source": [
        "# selecting 'gap' task\n",
        "gap_labels = qm9_labels_df['gap'].to_numpy()\n",
        "print('features shape:', qm9_features.shape)\n",
        "print('labels shape:', gap_labels.shape)"
      ],
      "metadata": {
        "id": "0aGiLCEp9LWj",
        "colab": {
          "base_uri": "https://localhost:8080/"
        },
        "outputId": "8b500aef-4af7-4991-f2a4-d61949e3a01d"
      },
      "execution_count": 8,
      "outputs": [
        {
          "output_type": "stream",
          "name": "stdout",
          "text": [
            "features shape: (133885, 163)\n",
            "labels shape: (133885,)\n"
          ]
        }
      ]
    },
    {
      "cell_type": "code",
      "source": [
        "# Baseline - small train set"
      ],
      "metadata": {
        "id": "OjSyquMeeDuX"
      },
      "execution_count": 25,
      "outputs": []
    },
    {
      "cell_type": "code",
      "source": [
        "# train/test split (random split 0.1)\n",
        "x_train, x_test, y_train, y_test =  train_test_split(qm9_features, gap_labels , test_size=0.9, random_state=42)"
      ],
      "metadata": {
        "id": "zAPzYrHD9ljU"
      },
      "execution_count": 26,
      "outputs": []
    },
    {
      "cell_type": "code",
      "source": [
        "# train on x_train\n",
        "model = SVR(kernel='linear').fit(x_train, y_train)\n",
        "\n",
        "# score on x_train\n",
        "print('Train MAE score:', mean_absolute_error(y_train,model.predict(x_train)))\n",
        "print('Train r2 score:', model.score(x_train, y_train))\n",
        "print()\n",
        "# score on x_test\n",
        "print('Test MAE score:', mean_absolute_error(y_test,model.predict(x_test)))\n",
        "print('Test r2 score:', model.score(x_test, y_test))"
      ],
      "metadata": {
        "colab": {
          "base_uri": "https://localhost:8080/"
        },
        "id": "HJyQGCfl48KI",
        "outputId": "1bc759b5-65e5-450e-c3c2-020253ba3095"
      },
      "execution_count": 29,
      "outputs": [
        {
          "output_type": "stream",
          "name": "stdout",
          "text": [
            "Train MAE score: 0.026566971452956053\n",
            "Train r2 score: 0.5096233512400322\n",
            "\n",
            "Test MAE score: 0.026506751978069586\n",
            "Test r2 score: 0.5103764028197942\n"
          ]
        }
      ]
    },
    {
      "cell_type": "code",
      "source": [
        "# Experiment 1. small train set + feature and label standardization"
      ],
      "metadata": {
        "id": "2WkApmXj7i-Z"
      },
      "execution_count": 30,
      "outputs": []
    },
    {
      "cell_type": "code",
      "source": [
        "# Normalizing features\n",
        "x_scale = StandardScaler()\n",
        "\n",
        "x_train_scaled = x_scale.fit_transform(x_train)\n",
        "x_test_scaled = x_scale.transform(x_test)\n",
        "\n",
        "# Normalizing labels\n",
        "y_scale = StandardScaler()\n",
        "\n",
        "y_train_scaled = y_scale.fit_transform(y_train.reshape(-1,1)).squeeze()\n",
        "y_test_scaled = y_scale.transform(y_test.reshape(-1,1)).squeeze()"
      ],
      "metadata": {
        "id": "E1L4f1TDy2wy"
      },
      "execution_count": 31,
      "outputs": []
    },
    {
      "cell_type": "code",
      "source": [
        "# Note that the scaler is fitted to the small train set"
      ],
      "metadata": {
        "id": "Wda9FPbf865M"
      },
      "execution_count": 32,
      "outputs": []
    },
    {
      "cell_type": "code",
      "source": [
        "# train on x_train_scaled\n",
        "model = SVR(kernel='linear').fit(x_train_scaled, y_train_scaled)\n",
        "\n",
        "y_pred_train = model.predict(x_train_scaled)\n",
        "y_pred_test  = model.predict(x_test_scaled)"
      ],
      "metadata": {
        "id": "0KQvwdHmuXhy"
      },
      "execution_count": 33,
      "outputs": []
    },
    {
      "cell_type": "code",
      "source": [
        "# inverse transform to get comparable MAE\n",
        "y_pred_train = y_scale.inverse_transform(y_pred_train.reshape(-1,1)).squeeze()\n",
        "y_pred_test = y_scale.inverse_transform(y_pred_test.reshape(-1,1)).squeeze()\n",
        "\n",
        "\n",
        "# score on x_train\n",
        "print('Train MAE score:', mean_absolute_error(y_train,y_pred_train))\n",
        "print('Train r2 score:', model.score(x_train_scaled, y_train_scaled))\n",
        "print()\n",
        "# score on x_test\n",
        "print('Test MAE score:', mean_absolute_error(y_test,y_pred_test))\n",
        "print('Test r2 score:', model.score(x_test_scaled, y_test_scaled))"
      ],
      "metadata": {
        "colab": {
          "base_uri": "https://localhost:8080/"
        },
        "id": "McHY_yXxf4mt",
        "outputId": "62d99cd2-fca8-41d7-ddbc-9dc096ee71e5"
      },
      "execution_count": 34,
      "outputs": [
        {
          "output_type": "stream",
          "name": "stdout",
          "text": [
            "Train MAE score: 0.01400773210394252\n",
            "Train r2 score: 0.8352689467702423\n",
            "\n",
            "Test MAE score: 0.014181892793103798\n",
            "Test r2 score: 0.8280618808379323\n"
          ]
        }
      ]
    },
    {
      "cell_type": "code",
      "source": [
        "# Experiment 2. small train set + feature and label standardization + RBF kernel"
      ],
      "metadata": {
        "id": "Sn81qJ30BAV0"
      },
      "execution_count": 21,
      "outputs": []
    },
    {
      "cell_type": "code",
      "source": [
        "# train on x_train_scaled\n",
        "model = SVR(kernel = 'rbf').fit(x_train_scaled, y_train_scaled)\n",
        "\n",
        "y_pred_train = model.predict(x_train_scaled)\n",
        "y_pred_test  = model.predict(x_test_scaled)"
      ],
      "metadata": {
        "id": "5x4NKY1F-mb0"
      },
      "execution_count": 22,
      "outputs": []
    },
    {
      "cell_type": "code",
      "source": [
        "# inverse transform to get comparable MAE\n",
        "y_pred_train = y_scale.inverse_transform(y_pred_train.reshape(-1,1)).squeeze()\n",
        "y_pred_test = y_scale.inverse_transform(y_pred_test.reshape(-1,1)).squeeze()\n",
        "\n",
        "\n",
        "# score on x_train\n",
        "print('Train MAE score:', mean_absolute_error(y_train,y_pred_train))\n",
        "print('Train r2 score:', model.score(x_train_scaled, y_train_scaled))\n",
        "print()\n",
        "# score on x_test\n",
        "print('Test MAE score:', mean_absolute_error(y_test,y_pred_test))\n",
        "print('Test r2 score:', model.score(x_test_scaled, y_test_scaled))"
      ],
      "metadata": {
        "colab": {
          "base_uri": "https://localhost:8080/"
        },
        "id": "YnA3RDl6h9Aj",
        "outputId": "b327e460-9813-49bc-8706-f810aa2170fa"
      },
      "execution_count": 24,
      "outputs": [
        {
          "output_type": "stream",
          "name": "stdout",
          "text": [
            "Train MAE score: 0.006802982800390955\n",
            "Train r2 score: 0.9538395863184784\n",
            "\n",
            "Test MAE score: 0.009678668928359158\n",
            "Test r2 score: 0.9112962153410129\n"
          ]
        }
      ]
    },
    {
      "cell_type": "code",
      "source": [
        "# Experiment 3 - small train set + standardization + PCA for dimensionality reduction"
      ],
      "metadata": {
        "id": "DND51YFTjiZa"
      },
      "execution_count": 35,
      "outputs": []
    },
    {
      "cell_type": "code",
      "source": [
        "# train/test split (random split 0.5)\n",
        "# x_train, x_test, y_train, y_test =  train_test_split(qm9_features, gap_labels , test_size=0.9, random_state=42)"
      ],
      "metadata": {
        "id": "_ZcVFtyojiWo"
      },
      "execution_count": 36,
      "outputs": []
    },
    {
      "cell_type": "code",
      "source": [
        "# feature pipeline\n",
        "pipe = Pipeline(\n",
        "    steps=[\n",
        "           ('scale', StandardScaler()),\n",
        "           ('pca', PCA(n_components = 0.9)),\n",
        "           ('svm', SVR(kernel='rbf'))\n",
        "    ]\n",
        ")\n",
        "\n",
        "# label scaler\n",
        "y_scale = StandardScaler()\n",
        "\n",
        "y_train_scaled = y_scale.fit_transform(y_train.reshape(-1,1)).squeeze()\n",
        "y_test_scaled = y_scale.transform(y_test.reshape(-1,1)).squeeze()"
      ],
      "metadata": {
        "id": "n2WQzbxQjiUj"
      },
      "execution_count": 37,
      "outputs": []
    },
    {
      "cell_type": "code",
      "source": [
        "# train on x_train\n",
        "model = pipe.fit(x_train, y_train_scaled)\n",
        "\n",
        "y_pred_train = model.predict(x_train)\n",
        "y_pred_test  = model.predict(x_test)"
      ],
      "metadata": {
        "id": "bZc34cf1kNQF"
      },
      "execution_count": 38,
      "outputs": []
    },
    {
      "cell_type": "code",
      "source": [
        "# inverse transform to get comparable MAE\n",
        "y_pred_train = y_scale.inverse_transform(y_pred_train.reshape(-1,1)).squeeze()\n",
        "y_pred_test = y_scale.inverse_transform(y_pred_test.reshape(-1,1)).squeeze()\n",
        "\n",
        "\n",
        "# score on x_train\n",
        "print('Train MAE score:', mean_absolute_error(y_train,y_pred_train))\n",
        "print('Train r2 score:', model.score(x_train, y_train_scaled))\n",
        "print()\n",
        "# score on x_test\n",
        "print('Test MAE score:', mean_absolute_error(y_test,y_pred_test))\n",
        "print('Test r2 score:', model.score(x_test, y_test_scaled))"
      ],
      "metadata": {
        "colab": {
          "base_uri": "https://localhost:8080/"
        },
        "id": "vbWmY4XDkNK2",
        "outputId": "929857c4-51a6-4563-f6ae-8ea1c15655c7"
      },
      "execution_count": 39,
      "outputs": [
        {
          "output_type": "stream",
          "name": "stdout",
          "text": [
            "Train MAE score: 0.008536768124885522\n",
            "Train r2 score: 0.9290776592398109\n",
            "\n",
            "Test MAE score: 0.010975875981667854\n",
            "Test r2 score: 0.8893311481821348\n"
          ]
        }
      ]
    },
    {
      "cell_type": "code",
      "source": [
        "# Even though the final model has a lower score, the reduced computation time due to lower dimensionality makes up for it"
      ],
      "metadata": {
        "id": "wG6Wth0fo4hb"
      },
      "execution_count": null,
      "outputs": []
    },
    {
      "cell_type": "markdown",
      "source": [
        "## Support Vector Classification on Tox21"
      ],
      "metadata": {
        "id": "rLuMfT57QeBj"
      }
    },
    {
      "cell_type": "code",
      "source": [
        "# dataset load\n",
        "tox21_path = '/content/drive/MyDrive/Data Science @ SBU/Applied Machine Learning/project/tox21_preprocessed'\n",
        "tox21_features = pd.read_csv(tox21_path + '/tox21_x.csv').to_numpy()\n",
        "tox21_label = pd.read_csv(tox21_path + '/tox21_y.csv').to_numpy()"
      ],
      "metadata": {
        "id": "Bgc-LPBe-46y"
      },
      "execution_count": 40,
      "outputs": []
    },
    {
      "cell_type": "code",
      "source": [
        "# exploring features\n",
        "print('Tox21 features shape:', tox21_features.shape, 'dtype:', tox21_features.dtype)\n",
        "\n",
        "feature_range = tox21_features.max(axis=0) - tox21_features.min(axis=0)\n",
        "_ = plt.plot(feature_range)\n",
        "plt.title('range of features')"
      ],
      "metadata": {
        "colab": {
          "base_uri": "https://localhost:8080/",
          "height": 316
        },
        "id": "hoAxBOPu_Zor",
        "outputId": "d3ee7e13-8206-4ed6-cc5d-1f3714682fce"
      },
      "execution_count": 41,
      "outputs": [
        {
          "output_type": "stream",
          "name": "stdout",
          "text": [
            "Tox21 features shape: (7237, 190) dtype: float64\n"
          ]
        },
        {
          "output_type": "execute_result",
          "data": {
            "text/plain": [
              "Text(0.5, 1.0, 'range of features')"
            ]
          },
          "metadata": {},
          "execution_count": 41
        },
        {
          "output_type": "display_data",
          "data": {
            "image/png": "[encoded data removed]",
            "text/plain": [
              "<Figure size 432x288 with 1 Axes>"
            ]
          },
          "metadata": {
            "needs_background": "light"
          }
        }
      ]
    },
    {
      "cell_type": "code",
      "source": [
        "# features are already scaled but serveral features are not in the [0, 1] range.\n",
        "# they occupy a smaller range such as [0, 0.8]"
      ],
      "metadata": {
        "id": "1J6gt6OZFQB9"
      },
      "execution_count": 42,
      "outputs": []
    },
    {
      "cell_type": "code",
      "source": [
        "# exploring labels\n",
        "tox21_label = tox21_label.squeeze()\n",
        "print('Tox21 features shape:', tox21_label.shape, 'dtype:', tox21_label.dtype)\n",
        "\n",
        "num_pos_samples = np.count_nonzero(tox21_label)\n",
        "print('Number of positive samples:', num_pos_samples)\n",
        "print('Number of negative samples:', len(tox21_label) - num_pos_samples)"
      ],
      "metadata": {
        "id": "0-0Iun-6AXRe",
        "colab": {
          "base_uri": "https://localhost:8080/"
        },
        "outputId": "c8d5ef76-7f66-4a9d-e4dc-6f6de49353b9"
      },
      "execution_count": 43,
      "outputs": [
        {
          "output_type": "stream",
          "name": "stdout",
          "text": [
            "Tox21 features shape: (7237,) dtype: float64\n",
            "Number of positive samples: 310\n",
            "Number of negative samples: 6927\n"
          ]
        }
      ]
    },
    {
      "cell_type": "code",
      "source": [
        "# labels are unbalanced, only a small portion of data is positive"
      ],
      "metadata": {
        "id": "8FmdaxoeFOtY"
      },
      "execution_count": 44,
      "outputs": []
    },
    {
      "cell_type": "code",
      "source": [
        "# Training Overview\n",
        "#\n",
        "#   1. split data into train/test set by picking 20% of each label for test set (stratified split)\n",
        "#\n",
        "#   2. Baseline model -> Linear, soft SVM, without class weights\n",
        "#       Report: training set score, 5-fold cross validation on training set mean score, test set score, train and test confusion matrices\n",
        "#\n",
        "#   3. Gridsearch for hyperparameter tuning on training set (tuning on choice of kernel, class weight)\n",
        "#       CV method: 5-Fold Stratified CV on training set\n",
        "#\n",
        "#   4. Tuned model -> Kernelized, soft SVM with class weights\n",
        "#       Report: training set score, 5-fold cross validation on training set mean score, test set score, train and test confusion matrices\n",
        "#\n",
        "# Scoring metric: ROC-AUC\n",
        "# Dataset splitting method: Stratified on class label\n",
        "# Cross Validation method: 5-Fold, Stratified, Repeated 3 times"
      ],
      "metadata": {
        "id": "8iEORZrmEH7R"
      },
      "execution_count": 45,
      "outputs": []
    },
    {
      "cell_type": "code",
      "source": [
        "# keep 20% of each class for final evaluation\n",
        "x_train, x_test, y_train, y_test =  train_test_split(tox21_features, tox21_label , test_size=0.2, stratify=tox21_label, random_state = 42)"
      ],
      "metadata": {
        "id": "hXVoywXWCct4"
      },
      "execution_count": 50,
      "outputs": []
    },
    {
      "cell_type": "code",
      "source": [
        "# Baseline - linear SVM\n",
        "\n",
        "# cross validation score on x_train\n",
        "model = SVC()\n",
        "cv = RepeatedStratifiedKFold(n_splits = 5, n_repeats=3, random_state=42)\n",
        "cv_scores = cross_val_score(model, x_train, y_train, scoring='roc_auc', cv=cv, n_jobs=-1)\n",
        "\n",
        "# Training on x_train\n",
        "model = SVC()\n",
        "model.fit(x_train, y_train)\n",
        "\n",
        "# Testing on x_test\n",
        "y_pred = model.predict(x_test)\n",
        "\n",
        "print('Train Set Score:', roc_auc_score(y_train, model.decision_function(x_train)))\n",
        "print('Cross Validation Score:', np.mean(cv_scores))\n",
        "print('Test Set Score:', roc_auc_score(y_test, model.decision_function(x_test)))\n",
        "\n",
        "print('Training Confusion Matrix:')\n",
        "print(confusion_matrix(y_train, model.predict(x_train)))\n",
        "print()\n",
        "\n",
        "print('Test Confusion Matrix:')\n",
        "print(confusion_matrix(y_test, model.predict(x_test)))"
      ],
      "metadata": {
        "colab": {
          "base_uri": "https://localhost:8080/"
        },
        "id": "OuMWTCGdCJ56",
        "outputId": "cdfffd67-25e9-4f57-8594-01b4aaf353ff"
      },
      "execution_count": 51,
      "outputs": [
        {
          "output_type": "stream",
          "name": "stdout",
          "text": [
            "Train Set Score: 0.9821713938907033\n",
            "Cross Validation Score: 0.7865734501240119\n",
            "Test Set Score: 0.6599636922217567\n",
            "Training Confusion Matrix:\n",
            "[[5533    8]\n",
            " [ 130  118]]\n",
            "\n",
            "Test Confusion Matrix:\n",
            "[[1384    2]\n",
            " [  43   19]]\n"
          ]
        }
      ]
    },
    {
      "cell_type": "code",
      "source": [
        "# Gridsearch for Hyperparameter tuning\n",
        "# Hyperparameters: kernel, class weights\n",
        "\n",
        "model = SVC()\n",
        "\n",
        "balance = [{0:1,1:1}, {0:1,1:10}, {0:1,1:100}, {0:1,1:1000}]\n",
        "kernel=['linear', 'poly', 'rbf']\n",
        "param_grid = dict(class_weight=balance, kernel=kernel)\n",
        "cv = RepeatedStratifiedKFold(n_splits=5, n_repeats=3, random_state=42)\n",
        "grid = GridSearchCV(estimator=model, param_grid=param_grid, n_jobs=-1, cv=cv, scoring='roc_auc')\n",
        "grid_result = grid.fit(x_train, y_train)\n",
        "\n",
        "# Report gridsearch result\n",
        "print(f\"Best score: {grid_result.best_score_} Best params: {grid_result.best_params_}\")\n",
        "print()\n",
        "means = grid_result.cv_results_['mean_test_score']\n",
        "params = grid_result.cv_results_['params']\n",
        "for mean, param in zip(means, params):\n",
        "    print(f\"score:{mean} params:{param}\")"
      ],
      "metadata": {
        "colab": {
          "base_uri": "https://localhost:8080/"
        },
        "id": "KitvuOpA10Fe",
        "outputId": "d6eb5efd-a343-4ffc-8183-28f3ffc384b3"
      },
      "execution_count": 52,
      "outputs": [
        {
          "output_type": "stream",
          "name": "stdout",
          "text": [
            "Best score: 0.798677163889811 Best params: {'class_weight': {0: 1, 1: 10}, 'kernel': 'rbf'}\n",
            "\n",
            "score:0.7702337637414721 params:{'class_weight': {0: 1, 1: 1}, 'kernel': 'linear'}\n",
            "score:0.7535353472636838 params:{'class_weight': {0: 1, 1: 1}, 'kernel': 'poly'}\n",
            "score:0.7865734501240119 params:{'class_weight': {0: 1, 1: 1}, 'kernel': 'rbf'}\n",
            "score:0.7783401141310907 params:{'class_weight': {0: 1, 1: 10}, 'kernel': 'linear'}\n",
            "score:0.7504092914310709 params:{'class_weight': {0: 1, 1: 10}, 'kernel': 'poly'}\n",
            "score:0.798677163889811 params:{'class_weight': {0: 1, 1: 10}, 'kernel': 'rbf'}\n",
            "score:0.7536484074770429 params:{'class_weight': {0: 1, 1: 100}, 'kernel': 'linear'}\n",
            "score:0.7434819008617662 params:{'class_weight': {0: 1, 1: 100}, 'kernel': 'poly'}\n",
            "score:0.7881021334257922 params:{'class_weight': {0: 1, 1: 100}, 'kernel': 'rbf'}\n",
            "score:0.7515774432927018 params:{'class_weight': {0: 1, 1: 1000}, 'kernel': 'linear'}\n",
            "score:0.7434819008617662 params:{'class_weight': {0: 1, 1: 1000}, 'kernel': 'poly'}\n",
            "score:0.7881021334257922 params:{'class_weight': {0: 1, 1: 1000}, 'kernel': 'rbf'}\n"
          ]
        }
      ]
    },
    {
      "cell_type": "code",
      "source": [
        "# Tuned Kernelized Weighted Soft SVM\n",
        "\n",
        "# cross validation on training set\n",
        "tox21_SVM_model = SVC(**grid_result.best_params_)\n",
        "cv = RepeatedStratifiedKFold(n_splits = 5, n_repeats=3, random_state=42)\n",
        "cv_scores = cross_val_score(tox21_SVM_model, x_train, y_train, scoring='roc_auc', cv=cv, n_jobs=-1)\n",
        "\n",
        "# training on x_train\n",
        "tox21_SVM_model = SVC(**grid_result.best_params_)\n",
        "tox21_SVM_model.fit(x_train, y_train)\n",
        "\n",
        "# testing on x_test\n",
        "y_pred = tox21_SVM_model.predict(x_test)\n",
        "\n",
        "\n",
        "print('Train Set Score:', roc_auc_score(y_train, tox21_SVM_model.decision_function(x_train)))\n",
        "print('Cross Validation Score:', np.mean(cv_scores))\n",
        "print('Test Set Score:', roc_auc_score(y_test, tox21_SVM_model.decision_function(x_test)))\n",
        "print()\n",
        "\n",
        "print('Training Confusion Matrix:')\n",
        "print(confusion_matrix(y_train, tox21_SVM_model.predict(x_train)))\n",
        "print()\n",
        "\n",
        "print('Test Confusion Matrix:')\n",
        "print(confusion_matrix(y_test, tox21_SVM_model.predict(x_test)))"
      ],
      "metadata": {
        "colab": {
          "base_uri": "https://localhost:8080/"
        },
        "id": "xevswyi520l0",
        "outputId": "4b178b48-760c-4d2c-af71-11c99f3196a0"
      },
      "execution_count": 53,
      "outputs": [
        {
          "output_type": "stream",
          "name": "stdout",
          "text": [
            "Train Set Score: 0.994813952879124\n",
            "Cross Validation Score: 0.798677163889811\n",
            "Test Set Score: 0.731345715216683\n",
            "\n",
            "Training Confusion Matrix:\n",
            "[[5468   73]\n",
            " [  25  223]]\n",
            "\n",
            "Test Confusion Matrix:\n",
            "[[1357   29]\n",
            " [  39   23]]\n"
          ]
        }
      ]
    },
    {
      "cell_type": "markdown",
      "source": [
        "## Support Vector Classification on TOXCAST"
      ],
      "metadata": {
        "id": "1KIWEtHgQskM"
      }
    },
    {
      "cell_type": "code",
      "source": [
        "# data load\n",
        "toxcast_data = pd.read_csv('/content/drive/MyDrive/Data Science @ SBU/Applied Machine Learning/project/toxcast_preprocessed/final_toxcast.csv')\n",
        "toxcast_label = toxcast_data['label'].to_numpy()\n",
        "toxcast_features = toxcast_data.drop(['label'], axis=1).to_numpy()"
      ],
      "metadata": {
        "id": "tOHOhMhKFMag"
      },
      "execution_count": 54,
      "outputs": []
    },
    {
      "cell_type": "code",
      "source": [
        "# exploring features\n",
        "print('Tox21 features shape:', toxcast_features.shape, 'dtype:', toxcast_features.dtype)\n",
        "\n",
        "feature_range = toxcast_features.max(axis=0) - toxcast_features.min(axis=0)\n",
        "_ = plt.plot(feature_range)\n",
        "_ = plt.title('range of features')"
      ],
      "metadata": {
        "id": "_BlEYKuEFMY6",
        "colab": {
          "base_uri": "https://localhost:8080/",
          "height": 298
        },
        "outputId": "ee84bc11-9166-43f4-a932-ff45759db3e1"
      },
      "execution_count": 55,
      "outputs": [
        {
          "output_type": "stream",
          "name": "stdout",
          "text": [
            "Tox21 features shape: (7831, 135) dtype: float64\n"
          ]
        },
        {
          "output_type": "display_data",
          "data": {
            "image/png": "[encoded data removed]",
            "text/plain": [
              "<Figure size 432x288 with 1 Axes>"
            ]
          },
          "metadata": {
            "needs_background": "light"
          }
        }
      ]
    },
    {
      "cell_type": "code",
      "source": [
        "# features are already scaled but serveral features are not in the [0, 1] range.\n",
        "# they occupy a smaller range such as [0, 0.8]"
      ],
      "metadata": {
        "id": "MLxkcSU0FMW_"
      },
      "execution_count": 56,
      "outputs": []
    },
    {
      "cell_type": "code",
      "source": [
        "# exploring labels\n",
        "print('Tox21 features shape:', toxcast_label.shape, 'dtype:', toxcast_label.dtype)\n",
        "\n",
        "num_pos_samples = np.count_nonzero(toxcast_label)\n",
        "print('Number of positive samples:', num_pos_samples)\n",
        "print('Number of negative samples:', len(toxcast_label) - num_pos_samples)"
      ],
      "metadata": {
        "colab": {
          "base_uri": "https://localhost:8080/"
        },
        "id": "JPtVZiMNFMVc",
        "outputId": "7fdb81fd-00ba-4cff-8460-5e6ea3d7acf0"
      },
      "execution_count": 57,
      "outputs": [
        {
          "output_type": "stream",
          "name": "stdout",
          "text": [
            "Tox21 features shape: (7831,) dtype: float64\n",
            "Number of positive samples: 1715\n",
            "Number of negative samples: 6116\n"
          ]
        }
      ]
    },
    {
      "cell_type": "code",
      "source": [
        "# labels are unbalanced, but it is not as bad as tox21!"
      ],
      "metadata": {
        "id": "OMfTuHIxNVCg"
      },
      "execution_count": 58,
      "outputs": []
    },
    {
      "cell_type": "code",
      "source": [
        "# Training Overview\n",
        "#\n",
        "#   1. split data into train/test set by picking 20% of each label for test set (stratified split)\n",
        "#\n",
        "#   2. Baseline model -> Linear, soft SVM, without class weights\n",
        "#       Report: training set score, 5-fold cross validation on training set mean score, test set score, train and test confusion matrices\n",
        "#\n",
        "#   3. Gridsearch for hyperparameter tuning on training set (tuning on choice of kernel, class weight)\n",
        "#       CV method: 5-Fold Stratified CV on training set\n",
        "#\n",
        "#   4. Tuned model -> Kernelized, soft SVM with class weights\n",
        "#       Report: training set score, 5-fold cross validation on training set mean score, test set score, train and test confusion matrices\n",
        "#\n",
        "# Scoring metric: ROC-AUC\n",
        "# Dataset splitting method: Stratified on class label\n",
        "# Cross Validation method: 5-Fold, Stratified, Repeated 3 times"
      ],
      "metadata": {
        "id": "20pSBP3zM2aC"
      },
      "execution_count": 59,
      "outputs": []
    },
    {
      "cell_type": "code",
      "source": [
        "# keep 20% of each class for final evaluation\n",
        "x_train, x_test, y_train, y_test =  train_test_split(toxcast_features, toxcast_label , test_size=0.2, stratify=toxcast_label, random_state = 42)"
      ],
      "metadata": {
        "id": "oxCq0sZZM3Nx"
      },
      "execution_count": 60,
      "outputs": []
    },
    {
      "cell_type": "code",
      "source": [
        "# Baseline - linear SVM\n",
        "\n",
        "# cross validation score on x_train\n",
        "model = SVC()\n",
        "cv = RepeatedStratifiedKFold(n_splits = 5, n_repeats=3, random_state=42)\n",
        "cv_scores = cross_val_score(model, x_train, y_train, scoring='roc_auc', cv=cv, n_jobs=-1)\n",
        "\n",
        "# Training on x_train\n",
        "model = SVC()\n",
        "model.fit(x_train, y_train)\n",
        "\n",
        "# Testing on x_test\n",
        "y_pred = model.predict(x_test)\n",
        "\n",
        "print('Train Set Score:', roc_auc_score(y_train, model.decision_function(x_train)))\n",
        "print('Cross Validation Score:', np.mean(cv_scores))\n",
        "print('Test Set Score:', roc_auc_score(y_test, model.decision_function(x_test)))\n",
        "\n",
        "print('Training Confusion Matrix:')\n",
        "print(confusion_matrix(y_train, model.predict(x_train)))\n",
        "print()\n",
        "\n",
        "print('Test Confusion Matrix:')\n",
        "print(confusion_matrix(y_test, model.predict(x_test)))"
      ],
      "metadata": {
        "id": "1knab9SKFMT4",
        "colab": {
          "base_uri": "https://localhost:8080/"
        },
        "outputId": "9fc22535-d90b-4fa3-e34d-fc8a70dc84b0"
      },
      "execution_count": 61,
      "outputs": [
        {
          "output_type": "stream",
          "name": "stdout",
          "text": [
            "Train Set Score: 0.9432829287537933\n",
            "Cross Validation Score: 0.8672893059312256\n",
            "Test Set Score: 0.8696026029459403\n",
            "Training Confusion Matrix:\n",
            "[[4796   96]\n",
            " [ 609  763]]\n",
            "\n",
            "Test Confusion Matrix:\n",
            "[[1165   59]\n",
            " [ 175  168]]\n"
          ]
        }
      ]
    },
    {
      "cell_type": "code",
      "source": [
        "# Gridsearch for Hyperparameter tuning\n",
        "# Hyperparameters: kernel, class weights\n",
        "\n",
        "model = SVC()\n",
        "\n",
        "balance = [{0:1,1:1}, {0:1,1:5}, {0:1,1:10}]\n",
        "kernel=['linear', 'poly', 'rbf']\n",
        "param_grid = dict(class_weight=balance, kernel=kernel)\n",
        "cv = RepeatedStratifiedKFold(n_splits=5, n_repeats=3, random_state=42)\n",
        "grid = GridSearchCV(estimator=model, param_grid=param_grid, n_jobs=-1, cv=cv, scoring='roc_auc')\n",
        "grid_result = grid.fit(x_train, y_train)\n",
        "\n",
        "# Report gridsearch result\n",
        "print(f\"Best score: {grid_result.best_score_} Best params: {grid_result.best_params_}\")\n",
        "print()\n",
        "means = grid_result.cv_results_['mean_test_score']\n",
        "params = grid_result.cv_results_['params']\n",
        "for mean, param in zip(means, params):\n",
        "    print(f\"score:{mean} params:{param}\")"
      ],
      "metadata": {
        "colab": {
          "base_uri": "https://localhost:8080/"
        },
        "id": "Etfvln-0FMRt",
        "outputId": "8da77cac-6bdf-412e-9ae4-ceb6131de92d"
      },
      "execution_count": 62,
      "outputs": [
        {
          "output_type": "stream",
          "name": "stdout",
          "text": [
            "Best score: 0.8703792524611433 Best params: {'class_weight': {0: 1, 1: 5}, 'kernel': 'rbf'}\n",
            "\n",
            "score:0.8299356466084217 params:{'class_weight': {0: 1, 1: 1}, 'kernel': 'linear'}\n",
            "score:0.853887701747952 params:{'class_weight': {0: 1, 1: 1}, 'kernel': 'poly'}\n",
            "score:0.8672893059312256 params:{'class_weight': {0: 1, 1: 1}, 'kernel': 'rbf'}\n",
            "score:0.8315005578794967 params:{'class_weight': {0: 1, 1: 5}, 'kernel': 'linear'}\n",
            "score:0.8432960330632017 params:{'class_weight': {0: 1, 1: 5}, 'kernel': 'poly'}\n",
            "score:0.8703792524611433 params:{'class_weight': {0: 1, 1: 5}, 'kernel': 'rbf'}\n",
            "score:0.826261720222717 params:{'class_weight': {0: 1, 1: 10}, 'kernel': 'linear'}\n",
            "score:0.8325955588914226 params:{'class_weight': {0: 1, 1: 10}, 'kernel': 'poly'}\n",
            "score:0.8621561212156585 params:{'class_weight': {0: 1, 1: 10}, 'kernel': 'rbf'}\n"
          ]
        }
      ]
    },
    {
      "cell_type": "code",
      "source": [
        "# Tuned Kernelized Weighted Soft SVM\n",
        "\n",
        "# cross validation on training set\n",
        "toxcast_SVM_model = SVC(**grid_result.best_params_)\n",
        "cv = RepeatedStratifiedKFold(n_splits = 5, n_repeats=3, random_state=42)\n",
        "cv_scores = cross_val_score(toxcast_SVM_model, x_train, y_train, scoring='roc_auc', cv=cv, n_jobs=-1)\n",
        "\n",
        "# training on x_train\n",
        "toxcast_SVM_model = SVC(**grid_result.best_params_)\n",
        "toxcast_SVM_model.fit(x_train, y_train)\n",
        "\n",
        "# testing on x_test\n",
        "y_pred = toxcast_SVM_model.predict(x_test)\n",
        "\n",
        "\n",
        "print('Train Set Score:', roc_auc_score(y_train, toxcast_SVM_model.decision_function(x_train)))\n",
        "print('Cross Validation Score:', np.mean(cv_scores))\n",
        "print('Test Set Score:', roc_auc_score(y_test, toxcast_SVM_model.decision_function(x_test)))\n",
        "print()\n",
        "\n",
        "print('Training Confusion Matrix:')\n",
        "print(confusion_matrix(y_train, toxcast_SVM_model.predict(x_train)))\n",
        "print()\n",
        "\n",
        "print('Test Confusion Matrix:')\n",
        "print(confusion_matrix(y_test, toxcast_SVM_model.predict(x_test)))"
      ],
      "metadata": {
        "colab": {
          "base_uri": "https://localhost:8080/"
        },
        "id": "RAX8O7PMNtGE",
        "outputId": "0e9a1199-5106-4d9e-9813-bfd03e106e9b"
      },
      "execution_count": 63,
      "outputs": [
        {
          "output_type": "stream",
          "name": "stdout",
          "text": [
            "Train Set Score: 0.9693543811637493\n",
            "Cross Validation Score: 0.8703792524611433\n",
            "Test Set Score: 0.8749952361897139\n",
            "\n",
            "Training Confusion Matrix:\n",
            "[[4186  706]\n",
            " [  55 1317]]\n",
            "\n",
            "Test Confusion Matrix:\n",
            "[[963 261]\n",
            " [ 61 282]]\n"
          ]
        }
      ]
    },
    {
      "cell_type": "markdown",
      "source": [
        "# Further Explorations"
      ],
      "metadata": {
        "id": "IAwJdyVBPC4c"
      }
    },
    {
      "cell_type": "markdown",
      "source": [
        "## How does PCA interplay with different SVM kernels?"
      ],
      "metadata": {
        "id": "XOGwUN4lnOk4"
      }
    },
    {
      "cell_type": "code",
      "source": [
        "# TOXCAST task"
      ],
      "metadata": {
        "id": "0RdV6iidplyw"
      },
      "execution_count": 64,
      "outputs": []
    },
    {
      "cell_type": "code",
      "source": [
        "pca = PCA()\n",
        "svm = SVC()\n",
        "\n",
        "pipe = Pipeline(\n",
        "    steps=[('pca',pca), ('svm', svm)]\n",
        ")\n",
        "\n",
        "param_grid = {\n",
        "    'pca__n_components': [0.5, 0.6, 0.7, 0.8, 0.9, 0.99, 0.999],\n",
        "    'svm__kernel': ['linear', 'poly', 'rbf', 'sigmoid']\n",
        "}\n",
        "\n",
        "cv = RepeatedStratifiedKFold(n_splits=5, n_repeats=3, random_state=42)\n",
        "\n",
        "grid = GridSearchCV(pipe, param_grid=param_grid, n_jobs=-1, scoring='roc_auc', cv=cv)\n",
        "\n",
        "\n",
        "grid_result = grid.fit(x_train, y_train)\n",
        "\n",
        "# Report gridsearch result\n",
        "print(f\"Best score: {grid_result.best_score_} Best params: {grid_result.best_params_}\")\n",
        "print()\n",
        "means = grid_result.cv_results_['mean_test_score']\n",
        "params = grid_result.cv_results_['params']\n",
        "for mean, param in zip(means, params):\n",
        "    print(f\"score:{mean} params:{param}\")"
      ],
      "metadata": {
        "id": "uPurBWHMCBQo",
        "colab": {
          "base_uri": "https://localhost:8080/"
        },
        "outputId": "1bc2bd53-93d2-48c6-eb47-1a08961617a6"
      },
      "execution_count": 65,
      "outputs": [
        {
          "output_type": "stream",
          "name": "stdout",
          "text": [
            "Best score: 0.8711136641756579 Best params: {'pca__n_components': 0.99, 'svm__kernel': 'rbf'}\n",
            "\n",
            "score:0.7626965414256357 params:{'pca__n_components': 0.5, 'svm__kernel': 'linear'}\n",
            "score:0.7716755925759748 params:{'pca__n_components': 0.5, 'svm__kernel': 'poly'}\n",
            "score:0.8044535889314145 params:{'pca__n_components': 0.5, 'svm__kernel': 'rbf'}\n",
            "score:0.6252537579467811 params:{'pca__n_components': 0.5, 'svm__kernel': 'sigmoid'}\n",
            "score:0.7821566225918611 params:{'pca__n_components': 0.6, 'svm__kernel': 'linear'}\n",
            "score:0.8078071014650904 params:{'pca__n_components': 0.6, 'svm__kernel': 'poly'}\n",
            "score:0.8306715232359461 params:{'pca__n_components': 0.6, 'svm__kernel': 'rbf'}\n",
            "score:0.6357220453835575 params:{'pca__n_components': 0.6, 'svm__kernel': 'sigmoid'}\n",
            "score:0.7855307686799571 params:{'pca__n_components': 0.7, 'svm__kernel': 'linear'}\n",
            "score:0.8130091398772571 params:{'pca__n_components': 0.7, 'svm__kernel': 'poly'}\n",
            "score:0.8414249628304385 params:{'pca__n_components': 0.7, 'svm__kernel': 'rbf'}\n",
            "score:0.6411953063553699 params:{'pca__n_components': 0.7, 'svm__kernel': 'sigmoid'}\n",
            "score:0.7969066690714428 params:{'pca__n_components': 0.8, 'svm__kernel': 'linear'}\n",
            "score:0.828202418594077 params:{'pca__n_components': 0.8, 'svm__kernel': 'poly'}\n",
            "score:0.8545958580094665 params:{'pca__n_components': 0.8, 'svm__kernel': 'rbf'}\n",
            "score:0.6425013157986954 params:{'pca__n_components': 0.8, 'svm__kernel': 'sigmoid'}\n",
            "score:0.8080043073069482 params:{'pca__n_components': 0.9, 'svm__kernel': 'linear'}\n",
            "score:0.8446289823926793 params:{'pca__n_components': 0.9, 'svm__kernel': 'poly'}\n",
            "score:0.8668426961108113 params:{'pca__n_components': 0.9, 'svm__kernel': 'rbf'}\n",
            "score:0.6549025329541007 params:{'pca__n_components': 0.9, 'svm__kernel': 'sigmoid'}\n",
            "score:0.8286570578844951 params:{'pca__n_components': 0.99, 'svm__kernel': 'linear'}\n",
            "score:0.8554758477426643 params:{'pca__n_components': 0.99, 'svm__kernel': 'poly'}\n",
            "score:0.8711136641756579 params:{'pca__n_components': 0.99, 'svm__kernel': 'rbf'}\n",
            "score:0.6726859478267567 params:{'pca__n_components': 0.99, 'svm__kernel': 'sigmoid'}\n",
            "score:0.8306355223509827 params:{'pca__n_components': 0.999, 'svm__kernel': 'linear'}\n",
            "score:0.8553965375086501 params:{'pca__n_components': 0.999, 'svm__kernel': 'poly'}\n",
            "score:0.8707503366272351 params:{'pca__n_components': 0.999, 'svm__kernel': 'rbf'}\n",
            "score:0.6758948371470377 params:{'pca__n_components': 0.999, 'svm__kernel': 'sigmoid'}\n"
          ]
        }
      ]
    },
    {
      "cell_type": "code",
      "source": [
        ""
      ],
      "metadata": {
        "id": "uvJBajKY7S96"
      },
      "execution_count": null,
      "outputs": []
    }
  ]
}