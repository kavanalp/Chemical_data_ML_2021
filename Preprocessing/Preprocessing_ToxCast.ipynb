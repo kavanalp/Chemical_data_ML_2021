{
 "cells": [
  {
   "cell_type": "code",
   "execution_count": 1,
   "id": "b56ab5c5",
   "metadata": {
    "ExecuteTime": {
     "end_time": "2022-02-01T19:32:18.537647Z",
     "start_time": "2022-02-01T19:32:17.746181Z"
    }
   },
   "outputs": [],
   "source": [
    "import pandas as pd\n",
    "import numpy as np\n",
    "import seaborn as sns\n",
    "import matplotlib.pyplot as plt"
   ]
  },
  {
   "cell_type": "markdown",
   "id": "e5534918",
   "metadata": {},
   "source": [
    "# Data preprocessing"
   ]
  },
  {
   "cell_type": "markdown",
   "id": "ffe1ea33",
   "metadata": {},
   "source": [
    "## Let's take a look at the data"
   ]
  },
  {
   "cell_type": "code",
   "execution_count": 2,
   "id": "73f10c4a",
   "metadata": {
    "ExecuteTime": {
     "end_time": "2022-02-01T19:32:18.756072Z",
     "start_time": "2022-02-01T19:32:18.538921Z"
    }
   },
   "outputs": [],
   "source": [
    "toxcast_data = pd.read_csv('toxcast_global_cdf_rdkit.csv')"
   ]
  },
  {
   "cell_type": "code",
   "execution_count": 3,
   "id": "6c717877",
   "metadata": {
    "ExecuteTime": {
     "end_time": "2022-02-01T19:32:18.775427Z",
     "start_time": "2022-02-01T19:32:18.757519Z"
    },
    "scrolled": false
   },
   "outputs": [
    {
     "data": {
      "text/html": [
       "<div>\n",
       "<style scoped>\n",
       "    .dataframe tbody tr th:only-of-type {\n",
       "        vertical-align: middle;\n",
       "    }\n",
       "\n",
       "    .dataframe tbody tr th {\n",
       "        vertical-align: top;\n",
       "    }\n",
       "\n",
       "    .dataframe thead th {\n",
       "        text-align: right;\n",
       "    }\n",
       "</style>\n",
       "<table border=\"1\" class=\"dataframe\">\n",
       "  <thead>\n",
       "    <tr style=\"text-align: right;\">\n",
       "      <th></th>\n",
       "      <th>('RDKit2DNormalized_calculated', &lt;class 'bool'&gt;)</th>\n",
       "      <th>('BalabanJ', &lt;class 'numpy.float64'&gt;)</th>\n",
       "      <th>('BertzCT', &lt;class 'numpy.float64'&gt;)</th>\n",
       "      <th>('Chi0', &lt;class 'numpy.float64'&gt;)</th>\n",
       "      <th>('Chi0n', &lt;class 'numpy.float64'&gt;)</th>\n",
       "      <th>('Chi0v', &lt;class 'numpy.float64'&gt;)</th>\n",
       "      <th>('Chi1', &lt;class 'numpy.float64'&gt;)</th>\n",
       "      <th>('Chi1n', &lt;class 'numpy.float64'&gt;)</th>\n",
       "      <th>('Chi1v', &lt;class 'numpy.float64'&gt;)</th>\n",
       "      <th>('Chi2n', &lt;class 'numpy.float64'&gt;)</th>\n",
       "      <th>...</th>\n",
       "      <th>('fr_sulfonamd', &lt;class 'numpy.float64'&gt;)</th>\n",
       "      <th>('fr_sulfone', &lt;class 'numpy.float64'&gt;)</th>\n",
       "      <th>('fr_term_acetylene', &lt;class 'numpy.float64'&gt;)</th>\n",
       "      <th>('fr_tetrazole', &lt;class 'numpy.float64'&gt;)</th>\n",
       "      <th>('fr_thiazole', &lt;class 'numpy.float64'&gt;)</th>\n",
       "      <th>('fr_thiocyan', &lt;class 'numpy.float64'&gt;)</th>\n",
       "      <th>('fr_thiophene', &lt;class 'numpy.float64'&gt;)</th>\n",
       "      <th>('fr_unbrch_alkane', &lt;class 'numpy.float64'&gt;)</th>\n",
       "      <th>('fr_urea', &lt;class 'numpy.float64'&gt;)</th>\n",
       "      <th>('qed', &lt;class 'numpy.float64'&gt;)</th>\n",
       "    </tr>\n",
       "  </thead>\n",
       "  <tbody>\n",
       "    <tr>\n",
       "      <th>0</th>\n",
       "      <td>True</td>\n",
       "      <td>0.975099</td>\n",
       "      <td>0.013842</td>\n",
       "      <td>0.003617</td>\n",
       "      <td>0.001544</td>\n",
       "      <td>0.002240</td>\n",
       "      <td>0.003400</td>\n",
       "      <td>0.001898</td>\n",
       "      <td>0.002740</td>\n",
       "      <td>0.002258</td>\n",
       "      <td>...</td>\n",
       "      <td>1.593061e-17</td>\n",
       "      <td>5.766101e-14</td>\n",
       "      <td>2.957989e-11</td>\n",
       "      <td>0.168378</td>\n",
       "      <td>0.16738</td>\n",
       "      <td>1.481515e-18</td>\n",
       "      <td>2.324150e-16</td>\n",
       "      <td>4.703598e-08</td>\n",
       "      <td>0.166633</td>\n",
       "      <td>0.307979</td>\n",
       "    </tr>\n",
       "    <tr>\n",
       "      <th>1</th>\n",
       "      <td>True</td>\n",
       "      <td>0.996567</td>\n",
       "      <td>0.006574</td>\n",
       "      <td>0.059485</td>\n",
       "      <td>0.147276</td>\n",
       "      <td>0.457648</td>\n",
       "      <td>0.019493</td>\n",
       "      <td>0.076205</td>\n",
       "      <td>0.957788</td>\n",
       "      <td>0.220093</td>\n",
       "      <td>...</td>\n",
       "      <td>1.593061e-17</td>\n",
       "      <td>5.766101e-14</td>\n",
       "      <td>2.957989e-11</td>\n",
       "      <td>0.168378</td>\n",
       "      <td>0.16738</td>\n",
       "      <td>1.481515e-18</td>\n",
       "      <td>2.324150e-16</td>\n",
       "      <td>4.703598e-08</td>\n",
       "      <td>0.166633</td>\n",
       "      <td>0.673632</td>\n",
       "    </tr>\n",
       "    <tr>\n",
       "      <th>2</th>\n",
       "      <td>True</td>\n",
       "      <td>0.627583</td>\n",
       "      <td>0.010335</td>\n",
       "      <td>0.026948</td>\n",
       "      <td>0.068241</td>\n",
       "      <td>0.048620</td>\n",
       "      <td>0.033934</td>\n",
       "      <td>0.125366</td>\n",
       "      <td>0.085699</td>\n",
       "      <td>0.180002</td>\n",
       "      <td>...</td>\n",
       "      <td>1.593061e-17</td>\n",
       "      <td>5.766101e-14</td>\n",
       "      <td>2.957989e-11</td>\n",
       "      <td>0.168378</td>\n",
       "      <td>0.16738</td>\n",
       "      <td>1.481515e-18</td>\n",
       "      <td>2.324150e-16</td>\n",
       "      <td>4.703598e-08</td>\n",
       "      <td>0.166633</td>\n",
       "      <td>0.591018</td>\n",
       "    </tr>\n",
       "    <tr>\n",
       "      <th>3</th>\n",
       "      <td>True</td>\n",
       "      <td>0.975099</td>\n",
       "      <td>0.013568</td>\n",
       "      <td>0.003617</td>\n",
       "      <td>0.001953</td>\n",
       "      <td>0.001234</td>\n",
       "      <td>0.003400</td>\n",
       "      <td>0.002277</td>\n",
       "      <td>0.001882</td>\n",
       "      <td>0.002913</td>\n",
       "      <td>...</td>\n",
       "      <td>1.593061e-17</td>\n",
       "      <td>5.766101e-14</td>\n",
       "      <td>2.957989e-11</td>\n",
       "      <td>0.168378</td>\n",
       "      <td>0.16738</td>\n",
       "      <td>1.481515e-18</td>\n",
       "      <td>2.324150e-16</td>\n",
       "      <td>4.703598e-08</td>\n",
       "      <td>0.166633</td>\n",
       "      <td>0.187246</td>\n",
       "    </tr>\n",
       "    <tr>\n",
       "      <th>4</th>\n",
       "      <td>True</td>\n",
       "      <td>0.975099</td>\n",
       "      <td>0.013472</td>\n",
       "      <td>0.003617</td>\n",
       "      <td>0.001677</td>\n",
       "      <td>0.001063</td>\n",
       "      <td>0.003400</td>\n",
       "      <td>0.002024</td>\n",
       "      <td>0.001720</td>\n",
       "      <td>0.002471</td>\n",
       "      <td>...</td>\n",
       "      <td>1.593061e-17</td>\n",
       "      <td>5.766101e-14</td>\n",
       "      <td>2.957989e-11</td>\n",
       "      <td>0.168378</td>\n",
       "      <td>0.16738</td>\n",
       "      <td>1.481515e-18</td>\n",
       "      <td>2.324150e-16</td>\n",
       "      <td>4.703598e-08</td>\n",
       "      <td>0.166633</td>\n",
       "      <td>0.317261</td>\n",
       "    </tr>\n",
       "  </tbody>\n",
       "</table>\n",
       "<p>5 rows × 201 columns</p>\n",
       "</div>"
      ],
      "text/plain": [
       "   ('RDKit2DNormalized_calculated', <class 'bool'>)  \\\n",
       "0                                              True   \n",
       "1                                              True   \n",
       "2                                              True   \n",
       "3                                              True   \n",
       "4                                              True   \n",
       "\n",
       "   ('BalabanJ', <class 'numpy.float64'>)  \\\n",
       "0                               0.975099   \n",
       "1                               0.996567   \n",
       "2                               0.627583   \n",
       "3                               0.975099   \n",
       "4                               0.975099   \n",
       "\n",
       "   ('BertzCT', <class 'numpy.float64'>)  ('Chi0', <class 'numpy.float64'>)  \\\n",
       "0                              0.013842                           0.003617   \n",
       "1                              0.006574                           0.059485   \n",
       "2                              0.010335                           0.026948   \n",
       "3                              0.013568                           0.003617   \n",
       "4                              0.013472                           0.003617   \n",
       "\n",
       "   ('Chi0n', <class 'numpy.float64'>)  ('Chi0v', <class 'numpy.float64'>)  \\\n",
       "0                            0.001544                            0.002240   \n",
       "1                            0.147276                            0.457648   \n",
       "2                            0.068241                            0.048620   \n",
       "3                            0.001953                            0.001234   \n",
       "4                            0.001677                            0.001063   \n",
       "\n",
       "   ('Chi1', <class 'numpy.float64'>)  ('Chi1n', <class 'numpy.float64'>)  \\\n",
       "0                           0.003400                            0.001898   \n",
       "1                           0.019493                            0.076205   \n",
       "2                           0.033934                            0.125366   \n",
       "3                           0.003400                            0.002277   \n",
       "4                           0.003400                            0.002024   \n",
       "\n",
       "   ('Chi1v', <class 'numpy.float64'>)  ('Chi2n', <class 'numpy.float64'>)  \\\n",
       "0                            0.002740                            0.002258   \n",
       "1                            0.957788                            0.220093   \n",
       "2                            0.085699                            0.180002   \n",
       "3                            0.001882                            0.002913   \n",
       "4                            0.001720                            0.002471   \n",
       "\n",
       "   ...  ('fr_sulfonamd', <class 'numpy.float64'>)  \\\n",
       "0  ...                               1.593061e-17   \n",
       "1  ...                               1.593061e-17   \n",
       "2  ...                               1.593061e-17   \n",
       "3  ...                               1.593061e-17   \n",
       "4  ...                               1.593061e-17   \n",
       "\n",
       "   ('fr_sulfone', <class 'numpy.float64'>)  \\\n",
       "0                             5.766101e-14   \n",
       "1                             5.766101e-14   \n",
       "2                             5.766101e-14   \n",
       "3                             5.766101e-14   \n",
       "4                             5.766101e-14   \n",
       "\n",
       "   ('fr_term_acetylene', <class 'numpy.float64'>)  \\\n",
       "0                                    2.957989e-11   \n",
       "1                                    2.957989e-11   \n",
       "2                                    2.957989e-11   \n",
       "3                                    2.957989e-11   \n",
       "4                                    2.957989e-11   \n",
       "\n",
       "   ('fr_tetrazole', <class 'numpy.float64'>)  \\\n",
       "0                                   0.168378   \n",
       "1                                   0.168378   \n",
       "2                                   0.168378   \n",
       "3                                   0.168378   \n",
       "4                                   0.168378   \n",
       "\n",
       "   ('fr_thiazole', <class 'numpy.float64'>)  \\\n",
       "0                                   0.16738   \n",
       "1                                   0.16738   \n",
       "2                                   0.16738   \n",
       "3                                   0.16738   \n",
       "4                                   0.16738   \n",
       "\n",
       "   ('fr_thiocyan', <class 'numpy.float64'>)  \\\n",
       "0                              1.481515e-18   \n",
       "1                              1.481515e-18   \n",
       "2                              1.481515e-18   \n",
       "3                              1.481515e-18   \n",
       "4                              1.481515e-18   \n",
       "\n",
       "   ('fr_thiophene', <class 'numpy.float64'>)  \\\n",
       "0                               2.324150e-16   \n",
       "1                               2.324150e-16   \n",
       "2                               2.324150e-16   \n",
       "3                               2.324150e-16   \n",
       "4                               2.324150e-16   \n",
       "\n",
       "   ('fr_unbrch_alkane', <class 'numpy.float64'>)  \\\n",
       "0                                   4.703598e-08   \n",
       "1                                   4.703598e-08   \n",
       "2                                   4.703598e-08   \n",
       "3                                   4.703598e-08   \n",
       "4                                   4.703598e-08   \n",
       "\n",
       "   ('fr_urea', <class 'numpy.float64'>)  ('qed', <class 'numpy.float64'>)  \n",
       "0                              0.166633                          0.307979  \n",
       "1                              0.166633                          0.673632  \n",
       "2                              0.166633                          0.591018  \n",
       "3                              0.166633                          0.187246  \n",
       "4                              0.166633                          0.317261  \n",
       "\n",
       "[5 rows x 201 columns]"
      ]
     },
     "execution_count": 3,
     "metadata": {},
     "output_type": "execute_result"
    }
   ],
   "source": [
    "toxcast_data.head()"
   ]
  },
  {
   "cell_type": "code",
   "execution_count": 55,
   "id": "624f35d7",
   "metadata": {
    "ExecuteTime": {
     "end_time": "2022-02-01T19:58:51.230950Z",
     "start_time": "2022-02-01T19:58:51.007435Z"
    },
    "scrolled": true
   },
   "outputs": [
    {
     "data": {
      "text/html": [
       "<div>\n",
       "<style scoped>\n",
       "    .dataframe tbody tr th:only-of-type {\n",
       "        vertical-align: middle;\n",
       "    }\n",
       "\n",
       "    .dataframe tbody tr th {\n",
       "        vertical-align: top;\n",
       "    }\n",
       "\n",
       "    .dataframe thead th {\n",
       "        text-align: right;\n",
       "    }\n",
       "</style>\n",
       "<table border=\"1\" class=\"dataframe\">\n",
       "  <thead>\n",
       "    <tr style=\"text-align: right;\">\n",
       "      <th></th>\n",
       "      <th>0</th>\n",
       "      <th>1</th>\n",
       "      <th>2</th>\n",
       "      <th>3</th>\n",
       "      <th>4</th>\n",
       "      <th>5</th>\n",
       "      <th>6</th>\n",
       "      <th>7</th>\n",
       "      <th>8</th>\n",
       "      <th>9</th>\n",
       "      <th>...</th>\n",
       "      <th>180</th>\n",
       "      <th>181</th>\n",
       "      <th>182</th>\n",
       "      <th>183</th>\n",
       "      <th>184</th>\n",
       "      <th>185</th>\n",
       "      <th>186</th>\n",
       "      <th>187</th>\n",
       "      <th>188</th>\n",
       "      <th>189</th>\n",
       "    </tr>\n",
       "  </thead>\n",
       "  <tbody>\n",
       "    <tr>\n",
       "      <th>count</th>\n",
       "      <td>8467.000000</td>\n",
       "      <td>8467.000000</td>\n",
       "      <td>8.467000e+03</td>\n",
       "      <td>8.467000e+03</td>\n",
       "      <td>8.467000e+03</td>\n",
       "      <td>8.467000e+03</td>\n",
       "      <td>8.467000e+03</td>\n",
       "      <td>8467.000000</td>\n",
       "      <td>8467.000000</td>\n",
       "      <td>8.467000e+03</td>\n",
       "      <td>...</td>\n",
       "      <td>8.467000e+03</td>\n",
       "      <td>8.467000e+03</td>\n",
       "      <td>8.467000e+03</td>\n",
       "      <td>8467.000000</td>\n",
       "      <td>8467.000000</td>\n",
       "      <td>8.467000e+03</td>\n",
       "      <td>8.467000e+03</td>\n",
       "      <td>8.467000e+03</td>\n",
       "      <td>8467.000000</td>\n",
       "      <td>8467.000000</td>\n",
       "    </tr>\n",
       "    <tr>\n",
       "      <th>mean</th>\n",
       "      <td>0.663297</td>\n",
       "      <td>0.172258</td>\n",
       "      <td>2.051307e-01</td>\n",
       "      <td>2.130877e-01</td>\n",
       "      <td>2.265167e-01</td>\n",
       "      <td>1.902296e-01</td>\n",
       "      <td>2.104624e-01</td>\n",
       "      <td>0.219256</td>\n",
       "      <td>0.223233</td>\n",
       "      <td>2.388964e-01</td>\n",
       "      <td>...</td>\n",
       "      <td>3.200544e-02</td>\n",
       "      <td>7.913074e-03</td>\n",
       "      <td>5.550963e-03</td>\n",
       "      <td>0.172209</td>\n",
       "      <td>0.179377</td>\n",
       "      <td>1.771584e-03</td>\n",
       "      <td>1.098382e-02</td>\n",
       "      <td>1.298351e-01</td>\n",
       "      <td>0.188681</td>\n",
       "      <td>0.439094</td>\n",
       "    </tr>\n",
       "    <tr>\n",
       "      <th>std</th>\n",
       "      <td>0.392566</td>\n",
       "      <td>0.247984</td>\n",
       "      <td>2.853323e-01</td>\n",
       "      <td>2.871024e-01</td>\n",
       "      <td>2.979085e-01</td>\n",
       "      <td>2.732450e-01</td>\n",
       "      <td>2.854928e-01</td>\n",
       "      <td>0.289753</td>\n",
       "      <td>0.295816</td>\n",
       "      <td>3.054413e-01</td>\n",
       "      <td>...</td>\n",
       "      <td>1.760215e-01</td>\n",
       "      <td>8.860804e-02</td>\n",
       "      <td>7.430210e-02</td>\n",
       "      <td>0.056314</td>\n",
       "      <td>0.099228</td>\n",
       "      <td>4.205537e-02</td>\n",
       "      <td>1.042327e-01</td>\n",
       "      <td>3.339923e-01</td>\n",
       "      <td>0.133752</td>\n",
       "      <td>0.256134</td>\n",
       "    </tr>\n",
       "    <tr>\n",
       "      <th>min</th>\n",
       "      <td>0.000020</td>\n",
       "      <td>0.000577</td>\n",
       "      <td>3.875255e-15</td>\n",
       "      <td>2.722966e-11</td>\n",
       "      <td>8.228063e-07</td>\n",
       "      <td>4.102548e-13</td>\n",
       "      <td>1.635214e-11</td>\n",
       "      <td>0.000019</td>\n",
       "      <td>0.000001</td>\n",
       "      <td>2.209078e-07</td>\n",
       "      <td>...</td>\n",
       "      <td>1.593061e-17</td>\n",
       "      <td>5.766101e-14</td>\n",
       "      <td>2.957989e-11</td>\n",
       "      <td>0.168378</td>\n",
       "      <td>0.167380</td>\n",
       "      <td>1.481515e-18</td>\n",
       "      <td>2.324150e-16</td>\n",
       "      <td>4.703598e-08</td>\n",
       "      <td>0.166633</td>\n",
       "      <td>0.001335</td>\n",
       "    </tr>\n",
       "    <tr>\n",
       "      <th>25%</th>\n",
       "      <td>0.311317</td>\n",
       "      <td>0.007930</td>\n",
       "      <td>6.487968e-03</td>\n",
       "      <td>7.455658e-03</td>\n",
       "      <td>7.651234e-03</td>\n",
       "      <td>5.603177e-03</td>\n",
       "      <td>7.523662e-03</td>\n",
       "      <td>0.007717</td>\n",
       "      <td>0.008585</td>\n",
       "      <td>7.711138e-03</td>\n",
       "      <td>...</td>\n",
       "      <td>1.593061e-17</td>\n",
       "      <td>5.766101e-14</td>\n",
       "      <td>2.957989e-11</td>\n",
       "      <td>0.168378</td>\n",
       "      <td>0.167380</td>\n",
       "      <td>1.481515e-18</td>\n",
       "      <td>2.324150e-16</td>\n",
       "      <td>4.703598e-08</td>\n",
       "      <td>0.166633</td>\n",
       "      <td>0.243050</td>\n",
       "    </tr>\n",
       "    <tr>\n",
       "      <th>50%</th>\n",
       "      <td>0.885970</td>\n",
       "      <td>0.046853</td>\n",
       "      <td>5.158158e-02</td>\n",
       "      <td>5.817363e-02</td>\n",
       "      <td>6.254305e-02</td>\n",
       "      <td>4.461432e-02</td>\n",
       "      <td>5.723188e-02</td>\n",
       "      <td>0.059519</td>\n",
       "      <td>0.065124</td>\n",
       "      <td>7.096006e-02</td>\n",
       "      <td>...</td>\n",
       "      <td>1.593061e-17</td>\n",
       "      <td>5.766101e-14</td>\n",
       "      <td>2.957989e-11</td>\n",
       "      <td>0.168378</td>\n",
       "      <td>0.167380</td>\n",
       "      <td>1.481515e-18</td>\n",
       "      <td>2.324150e-16</td>\n",
       "      <td>4.703598e-08</td>\n",
       "      <td>0.166633</td>\n",
       "      <td>0.409941</td>\n",
       "    </tr>\n",
       "    <tr>\n",
       "      <th>75%</th>\n",
       "      <td>0.971800</td>\n",
       "      <td>0.240439</td>\n",
       "      <td>3.099746e-01</td>\n",
       "      <td>3.345259e-01</td>\n",
       "      <td>3.685068e-01</td>\n",
       "      <td>2.723521e-01</td>\n",
       "      <td>3.300480e-01</td>\n",
       "      <td>0.366439</td>\n",
       "      <td>0.353272</td>\n",
       "      <td>4.129467e-01</td>\n",
       "      <td>...</td>\n",
       "      <td>1.593061e-17</td>\n",
       "      <td>5.766101e-14</td>\n",
       "      <td>2.957989e-11</td>\n",
       "      <td>0.168378</td>\n",
       "      <td>0.167380</td>\n",
       "      <td>1.481515e-18</td>\n",
       "      <td>2.324150e-16</td>\n",
       "      <td>4.703598e-08</td>\n",
       "      <td>0.166633</td>\n",
       "      <td>0.627980</td>\n",
       "    </tr>\n",
       "    <tr>\n",
       "      <th>max</th>\n",
       "      <td>0.999740</td>\n",
       "      <td>1.000000</td>\n",
       "      <td>9.998770e-01</td>\n",
       "      <td>9.997699e-01</td>\n",
       "      <td>9.998784e-01</td>\n",
       "      <td>9.998790e-01</td>\n",
       "      <td>9.997379e-01</td>\n",
       "      <td>0.999994</td>\n",
       "      <td>0.999653</td>\n",
       "      <td>9.999777e-01</td>\n",
       "      <td>...</td>\n",
       "      <td>9.999919e-01</td>\n",
       "      <td>1.000000e+00</td>\n",
       "      <td>1.000000e+00</td>\n",
       "      <td>1.000000</td>\n",
       "      <td>1.000000</td>\n",
       "      <td>1.000000e+00</td>\n",
       "      <td>1.000000e+00</td>\n",
       "      <td>1.000000e+00</td>\n",
       "      <td>1.000000</td>\n",
       "      <td>0.998881</td>\n",
       "    </tr>\n",
       "  </tbody>\n",
       "</table>\n",
       "<p>8 rows × 190 columns</p>\n",
       "</div>"
      ],
      "text/plain": [
       "               0            1             2             3             4    \\\n",
       "count  8467.000000  8467.000000  8.467000e+03  8.467000e+03  8.467000e+03   \n",
       "mean      0.663297     0.172258  2.051307e-01  2.130877e-01  2.265167e-01   \n",
       "std       0.392566     0.247984  2.853323e-01  2.871024e-01  2.979085e-01   \n",
       "min       0.000020     0.000577  3.875255e-15  2.722966e-11  8.228063e-07   \n",
       "25%       0.311317     0.007930  6.487968e-03  7.455658e-03  7.651234e-03   \n",
       "50%       0.885970     0.046853  5.158158e-02  5.817363e-02  6.254305e-02   \n",
       "75%       0.971800     0.240439  3.099746e-01  3.345259e-01  3.685068e-01   \n",
       "max       0.999740     1.000000  9.998770e-01  9.997699e-01  9.998784e-01   \n",
       "\n",
       "                5             6            7            8             9    \\\n",
       "count  8.467000e+03  8.467000e+03  8467.000000  8467.000000  8.467000e+03   \n",
       "mean   1.902296e-01  2.104624e-01     0.219256     0.223233  2.388964e-01   \n",
       "std    2.732450e-01  2.854928e-01     0.289753     0.295816  3.054413e-01   \n",
       "min    4.102548e-13  1.635214e-11     0.000019     0.000001  2.209078e-07   \n",
       "25%    5.603177e-03  7.523662e-03     0.007717     0.008585  7.711138e-03   \n",
       "50%    4.461432e-02  5.723188e-02     0.059519     0.065124  7.096006e-02   \n",
       "75%    2.723521e-01  3.300480e-01     0.366439     0.353272  4.129467e-01   \n",
       "max    9.998790e-01  9.997379e-01     0.999994     0.999653  9.999777e-01   \n",
       "\n",
       "       ...           180           181           182          183  \\\n",
       "count  ...  8.467000e+03  8.467000e+03  8.467000e+03  8467.000000   \n",
       "mean   ...  3.200544e-02  7.913074e-03  5.550963e-03     0.172209   \n",
       "std    ...  1.760215e-01  8.860804e-02  7.430210e-02     0.056314   \n",
       "min    ...  1.593061e-17  5.766101e-14  2.957989e-11     0.168378   \n",
       "25%    ...  1.593061e-17  5.766101e-14  2.957989e-11     0.168378   \n",
       "50%    ...  1.593061e-17  5.766101e-14  2.957989e-11     0.168378   \n",
       "75%    ...  1.593061e-17  5.766101e-14  2.957989e-11     0.168378   \n",
       "max    ...  9.999919e-01  1.000000e+00  1.000000e+00     1.000000   \n",
       "\n",
       "               184           185           186           187          188  \\\n",
       "count  8467.000000  8.467000e+03  8.467000e+03  8.467000e+03  8467.000000   \n",
       "mean      0.179377  1.771584e-03  1.098382e-02  1.298351e-01     0.188681   \n",
       "std       0.099228  4.205537e-02  1.042327e-01  3.339923e-01     0.133752   \n",
       "min       0.167380  1.481515e-18  2.324150e-16  4.703598e-08     0.166633   \n",
       "25%       0.167380  1.481515e-18  2.324150e-16  4.703598e-08     0.166633   \n",
       "50%       0.167380  1.481515e-18  2.324150e-16  4.703598e-08     0.166633   \n",
       "75%       0.167380  1.481515e-18  2.324150e-16  4.703598e-08     0.166633   \n",
       "max       1.000000  1.000000e+00  1.000000e+00  1.000000e+00     1.000000   \n",
       "\n",
       "               189  \n",
       "count  8467.000000  \n",
       "mean      0.439094  \n",
       "std       0.256134  \n",
       "min       0.001335  \n",
       "25%       0.243050  \n",
       "50%       0.409941  \n",
       "75%       0.627980  \n",
       "max       0.998881  \n",
       "\n",
       "[8 rows x 190 columns]"
      ]
     },
     "execution_count": 55,
     "metadata": {},
     "output_type": "execute_result"
    }
   ],
   "source": [
    "toxcast_data.describe()"
   ]
  },
  {
   "cell_type": "code",
   "execution_count": 52,
   "id": "72940242",
   "metadata": {
    "ExecuteTime": {
     "end_time": "2022-02-01T19:54:35.584998Z",
     "start_time": "2022-02-01T19:54:35.577077Z"
    }
   },
   "outputs": [
    {
     "data": {
      "text/plain": [
       "(1.0, 0.0)"
      ]
     },
     "execution_count": 52,
     "metadata": {},
     "output_type": "execute_result"
    }
   ],
   "source": [
    "# all the values are between 0 ,1 (no need to touch them)\n",
    "toxcast_data.to_numpy().max() , toxcast_data.to_numpy().min()"
   ]
  },
  {
   "cell_type": "code",
   "execution_count": 53,
   "id": "4f649fa4",
   "metadata": {
    "ExecuteTime": {
     "end_time": "2022-02-01T19:57:14.086552Z",
     "start_time": "2022-02-01T19:57:14.081443Z"
    }
   },
   "outputs": [
    {
     "data": {
      "text/plain": [
       "(8467, 190)"
      ]
     },
     "execution_count": 53,
     "metadata": {},
     "output_type": "execute_result"
    }
   ],
   "source": [
    "#(number of features is a bit large)\n",
    "toxcast_data.shape"
   ]
  },
  {
   "cell_type": "markdown",
   "id": "16b8c212",
   "metadata": {},
   "source": [
    "## Handling Nans values"
   ]
  },
  {
   "cell_type": "code",
   "execution_count": 6,
   "id": "fc6565a5",
   "metadata": {
    "ExecuteTime": {
     "end_time": "2022-02-01T19:32:18.795907Z",
     "start_time": "2022-02-01T19:32:18.790162Z"
    }
   },
   "outputs": [
    {
     "data": {
      "text/plain": [
       "436"
      ]
     },
     "execution_count": 6,
     "metadata": {},
     "output_type": "execute_result"
    }
   ],
   "source": [
    "toxcast_data.isna().sum().sum()"
   ]
  },
  {
   "cell_type": "code",
   "execution_count": 7,
   "id": "d7f50fc3",
   "metadata": {
    "ExecuteTime": {
     "end_time": "2022-02-01T19:32:18.803545Z",
     "start_time": "2022-02-01T19:32:18.798428Z"
    }
   },
   "outputs": [
    {
     "data": {
      "text/plain": [
       "[109, 109, 109, 109]"
      ]
     },
     "execution_count": 7,
     "metadata": {},
     "output_type": "execute_result"
    }
   ],
   "source": [
    "list(filter((0).__ne__, toxcast_data.isna().sum()))"
   ]
  },
  {
   "cell_type": "code",
   "execution_count": 8,
   "id": "b761d548",
   "metadata": {
    "ExecuteTime": {
     "end_time": "2022-02-01T19:32:18.821271Z",
     "start_time": "2022-02-01T19:32:18.805116Z"
    }
   },
   "outputs": [],
   "source": [
    "#There are onlt 4 columns have nan values and they are a small percentage among all data\n",
    "#We remove that rows with no doubt\n",
    "\n",
    "toxcast_data.dropna(inplace=True)\n",
    "toxcast_data.reset_index(drop=True, inplace=True)"
   ]
  },
  {
   "cell_type": "code",
   "execution_count": 9,
   "id": "82c77ab1",
   "metadata": {
    "ExecuteTime": {
     "end_time": "2022-02-01T19:32:18.828587Z",
     "start_time": "2022-02-01T19:32:18.822209Z"
    }
   },
   "outputs": [
    {
     "data": {
      "text/plain": [
       "0"
      ]
     },
     "execution_count": 9,
     "metadata": {},
     "output_type": "execute_result"
    }
   ],
   "source": [
    "toxcast_data.isna().sum().sum()"
   ]
  },
  {
   "cell_type": "markdown",
   "id": "405ac2e0",
   "metadata": {},
   "source": [
    "## Seeking for one variable features"
   ]
  },
  {
   "cell_type": "code",
   "execution_count": 10,
   "id": "597c3d7c",
   "metadata": {
    "ExecuteTime": {
     "end_time": "2022-02-01T19:32:18.862171Z",
     "start_time": "2022-02-01T19:32:18.829479Z"
    },
    "code_folding": [],
    "scrolled": true
   },
   "outputs": [
    {
     "name": "stdout",
     "output_type": "stream",
     "text": [
      "('RDKit2DNormalized_calculated', <class 'bool'>)\n",
      "('Ipc', <class 'numpy.float64'>)\n",
      "('SMR_VSA8', <class 'numpy.float64'>)\n",
      "('SlogP_VSA9', <class 'numpy.float64'>)\n",
      "('VSA_EState1', <class 'numpy.float64'>)\n",
      "('VSA_EState3', <class 'numpy.float64'>)\n",
      "('VSA_EState4', <class 'numpy.float64'>)\n",
      "('VSA_EState6', <class 'numpy.float64'>)\n",
      "('VSA_EState7', <class 'numpy.float64'>)\n",
      "('fr_diazo', <class 'numpy.float64'>)\n",
      "('fr_prisulfonamd', <class 'numpy.float64'>)\n"
     ]
    }
   ],
   "source": [
    "unique_columns = []\n",
    "for i in toxcast_data:\n",
    "    if len(toxcast_data[i].unique()) == 1:\n",
    "        print(i)\n",
    "        unique_columns.append(i)"
   ]
  },
  {
   "cell_type": "code",
   "execution_count": 11,
   "id": "cd35a4f4",
   "metadata": {
    "ExecuteTime": {
     "end_time": "2022-02-01T19:32:18.865693Z",
     "start_time": "2022-02-01T19:32:18.863160Z"
    }
   },
   "outputs": [
    {
     "data": {
      "text/plain": [
       "[\"('RDKit2DNormalized_calculated', <class 'bool'>)\",\n",
       " \"('Ipc', <class 'numpy.float64'>)\",\n",
       " \"('SMR_VSA8', <class 'numpy.float64'>)\",\n",
       " \"('SlogP_VSA9', <class 'numpy.float64'>)\",\n",
       " \"('VSA_EState1', <class 'numpy.float64'>)\",\n",
       " \"('VSA_EState3', <class 'numpy.float64'>)\",\n",
       " \"('VSA_EState4', <class 'numpy.float64'>)\",\n",
       " \"('VSA_EState6', <class 'numpy.float64'>)\",\n",
       " \"('VSA_EState7', <class 'numpy.float64'>)\",\n",
       " \"('fr_diazo', <class 'numpy.float64'>)\",\n",
       " \"('fr_prisulfonamd', <class 'numpy.float64'>)\"]"
      ]
     },
     "execution_count": 11,
     "metadata": {},
     "output_type": "execute_result"
    }
   ],
   "source": [
    "unique_columns"
   ]
  },
  {
   "cell_type": "code",
   "execution_count": 12,
   "id": "50f669a6",
   "metadata": {
    "ExecuteTime": {
     "end_time": "2022-02-01T19:32:18.872430Z",
     "start_time": "2022-02-01T19:32:18.866704Z"
    }
   },
   "outputs": [],
   "source": [
    "#One variable features hold no informaiton in our dataset so we remove that columns\n",
    "toxcast_data.drop(unique_columns, axis=1, inplace=True)"
   ]
  },
  {
   "cell_type": "code",
   "execution_count": 13,
   "id": "69dfd1b8",
   "metadata": {
    "ExecuteTime": {
     "end_time": "2022-02-01T19:32:18.903420Z",
     "start_time": "2022-02-01T19:32:18.873428Z"
    }
   },
   "outputs": [],
   "source": [
    "#check one variable features again\n",
    "for i in toxcast_data:\n",
    "    if len(toxcast_data[i].unique()) == 1:\n",
    "        print(i)"
   ]
  },
  {
   "cell_type": "markdown",
   "id": "b2a50f09",
   "metadata": {},
   "source": [
    "##  Changing column names"
   ]
  },
  {
   "cell_type": "code",
   "execution_count": 14,
   "id": "23e29027",
   "metadata": {
    "ExecuteTime": {
     "end_time": "2022-02-01T19:32:18.916555Z",
     "start_time": "2022-02-01T19:32:18.904468Z"
    },
    "scrolled": true
   },
   "outputs": [
    {
     "data": {
      "text/html": [
       "<div>\n",
       "<style scoped>\n",
       "    .dataframe tbody tr th:only-of-type {\n",
       "        vertical-align: middle;\n",
       "    }\n",
       "\n",
       "    .dataframe tbody tr th {\n",
       "        vertical-align: top;\n",
       "    }\n",
       "\n",
       "    .dataframe thead th {\n",
       "        text-align: right;\n",
       "    }\n",
       "</style>\n",
       "<table border=\"1\" class=\"dataframe\">\n",
       "  <thead>\n",
       "    <tr style=\"text-align: right;\">\n",
       "      <th></th>\n",
       "      <th>0</th>\n",
       "      <th>1</th>\n",
       "      <th>2</th>\n",
       "      <th>3</th>\n",
       "      <th>4</th>\n",
       "      <th>5</th>\n",
       "      <th>6</th>\n",
       "      <th>7</th>\n",
       "      <th>8</th>\n",
       "      <th>9</th>\n",
       "      <th>...</th>\n",
       "      <th>180</th>\n",
       "      <th>181</th>\n",
       "      <th>182</th>\n",
       "      <th>183</th>\n",
       "      <th>184</th>\n",
       "      <th>185</th>\n",
       "      <th>186</th>\n",
       "      <th>187</th>\n",
       "      <th>188</th>\n",
       "      <th>189</th>\n",
       "    </tr>\n",
       "  </thead>\n",
       "  <tbody>\n",
       "    <tr>\n",
       "      <th>0</th>\n",
       "      <td>0.975099</td>\n",
       "      <td>0.013842</td>\n",
       "      <td>0.003617</td>\n",
       "      <td>0.001544</td>\n",
       "      <td>0.002240</td>\n",
       "      <td>0.003400</td>\n",
       "      <td>0.001898</td>\n",
       "      <td>0.002740</td>\n",
       "      <td>0.002258</td>\n",
       "      <td>0.002597</td>\n",
       "      <td>...</td>\n",
       "      <td>1.593061e-17</td>\n",
       "      <td>5.766101e-14</td>\n",
       "      <td>2.957989e-11</td>\n",
       "      <td>0.168378</td>\n",
       "      <td>0.16738</td>\n",
       "      <td>1.481515e-18</td>\n",
       "      <td>2.324150e-16</td>\n",
       "      <td>4.703598e-08</td>\n",
       "      <td>0.166633</td>\n",
       "      <td>0.307979</td>\n",
       "    </tr>\n",
       "    <tr>\n",
       "      <th>1</th>\n",
       "      <td>0.996567</td>\n",
       "      <td>0.006574</td>\n",
       "      <td>0.059485</td>\n",
       "      <td>0.147276</td>\n",
       "      <td>0.457648</td>\n",
       "      <td>0.019493</td>\n",
       "      <td>0.076205</td>\n",
       "      <td>0.957788</td>\n",
       "      <td>0.220093</td>\n",
       "      <td>0.989140</td>\n",
       "      <td>...</td>\n",
       "      <td>1.593061e-17</td>\n",
       "      <td>5.766101e-14</td>\n",
       "      <td>2.957989e-11</td>\n",
       "      <td>0.168378</td>\n",
       "      <td>0.16738</td>\n",
       "      <td>1.481515e-18</td>\n",
       "      <td>2.324150e-16</td>\n",
       "      <td>4.703598e-08</td>\n",
       "      <td>0.166633</td>\n",
       "      <td>0.673632</td>\n",
       "    </tr>\n",
       "    <tr>\n",
       "      <th>2</th>\n",
       "      <td>0.627583</td>\n",
       "      <td>0.010335</td>\n",
       "      <td>0.026948</td>\n",
       "      <td>0.068241</td>\n",
       "      <td>0.048620</td>\n",
       "      <td>0.033934</td>\n",
       "      <td>0.125366</td>\n",
       "      <td>0.085699</td>\n",
       "      <td>0.180002</td>\n",
       "      <td>0.115258</td>\n",
       "      <td>...</td>\n",
       "      <td>1.593061e-17</td>\n",
       "      <td>5.766101e-14</td>\n",
       "      <td>2.957989e-11</td>\n",
       "      <td>0.168378</td>\n",
       "      <td>0.16738</td>\n",
       "      <td>1.481515e-18</td>\n",
       "      <td>2.324150e-16</td>\n",
       "      <td>4.703598e-08</td>\n",
       "      <td>0.166633</td>\n",
       "      <td>0.591018</td>\n",
       "    </tr>\n",
       "    <tr>\n",
       "      <th>3</th>\n",
       "      <td>0.975099</td>\n",
       "      <td>0.013568</td>\n",
       "      <td>0.003617</td>\n",
       "      <td>0.001953</td>\n",
       "      <td>0.001234</td>\n",
       "      <td>0.003400</td>\n",
       "      <td>0.002277</td>\n",
       "      <td>0.001882</td>\n",
       "      <td>0.002913</td>\n",
       "      <td>0.001287</td>\n",
       "      <td>...</td>\n",
       "      <td>1.593061e-17</td>\n",
       "      <td>5.766101e-14</td>\n",
       "      <td>2.957989e-11</td>\n",
       "      <td>0.168378</td>\n",
       "      <td>0.16738</td>\n",
       "      <td>1.481515e-18</td>\n",
       "      <td>2.324150e-16</td>\n",
       "      <td>4.703598e-08</td>\n",
       "      <td>0.166633</td>\n",
       "      <td>0.187246</td>\n",
       "    </tr>\n",
       "    <tr>\n",
       "      <th>4</th>\n",
       "      <td>0.975099</td>\n",
       "      <td>0.013472</td>\n",
       "      <td>0.003617</td>\n",
       "      <td>0.001677</td>\n",
       "      <td>0.001063</td>\n",
       "      <td>0.003400</td>\n",
       "      <td>0.002024</td>\n",
       "      <td>0.001720</td>\n",
       "      <td>0.002471</td>\n",
       "      <td>0.001076</td>\n",
       "      <td>...</td>\n",
       "      <td>1.593061e-17</td>\n",
       "      <td>5.766101e-14</td>\n",
       "      <td>2.957989e-11</td>\n",
       "      <td>0.168378</td>\n",
       "      <td>0.16738</td>\n",
       "      <td>1.481515e-18</td>\n",
       "      <td>2.324150e-16</td>\n",
       "      <td>4.703598e-08</td>\n",
       "      <td>0.166633</td>\n",
       "      <td>0.317261</td>\n",
       "    </tr>\n",
       "  </tbody>\n",
       "</table>\n",
       "<p>5 rows × 190 columns</p>\n",
       "</div>"
      ],
      "text/plain": [
       "        0         1         2         3         4         5         6    \\\n",
       "0  0.975099  0.013842  0.003617  0.001544  0.002240  0.003400  0.001898   \n",
       "1  0.996567  0.006574  0.059485  0.147276  0.457648  0.019493  0.076205   \n",
       "2  0.627583  0.010335  0.026948  0.068241  0.048620  0.033934  0.125366   \n",
       "3  0.975099  0.013568  0.003617  0.001953  0.001234  0.003400  0.002277   \n",
       "4  0.975099  0.013472  0.003617  0.001677  0.001063  0.003400  0.002024   \n",
       "\n",
       "        7         8         9    ...           180           181  \\\n",
       "0  0.002740  0.002258  0.002597  ...  1.593061e-17  5.766101e-14   \n",
       "1  0.957788  0.220093  0.989140  ...  1.593061e-17  5.766101e-14   \n",
       "2  0.085699  0.180002  0.115258  ...  1.593061e-17  5.766101e-14   \n",
       "3  0.001882  0.002913  0.001287  ...  1.593061e-17  5.766101e-14   \n",
       "4  0.001720  0.002471  0.001076  ...  1.593061e-17  5.766101e-14   \n",
       "\n",
       "            182       183      184           185           186           187  \\\n",
       "0  2.957989e-11  0.168378  0.16738  1.481515e-18  2.324150e-16  4.703598e-08   \n",
       "1  2.957989e-11  0.168378  0.16738  1.481515e-18  2.324150e-16  4.703598e-08   \n",
       "2  2.957989e-11  0.168378  0.16738  1.481515e-18  2.324150e-16  4.703598e-08   \n",
       "3  2.957989e-11  0.168378  0.16738  1.481515e-18  2.324150e-16  4.703598e-08   \n",
       "4  2.957989e-11  0.168378  0.16738  1.481515e-18  2.324150e-16  4.703598e-08   \n",
       "\n",
       "        188       189  \n",
       "0  0.166633  0.307979  \n",
       "1  0.166633  0.673632  \n",
       "2  0.166633  0.591018  \n",
       "3  0.166633  0.187246  \n",
       "4  0.166633  0.317261  \n",
       "\n",
       "[5 rows x 190 columns]"
      ]
     },
     "execution_count": 14,
     "metadata": {},
     "output_type": "execute_result"
    }
   ],
   "source": [
    "#The columns are a little bit dizzy better to change their names to numbers\n",
    "toxcast_data.columns = range(toxcast_data.shape[1])\n",
    "toxcast_data.head()"
   ]
  },
  {
   "cell_type": "markdown",
   "id": "d09b329f",
   "metadata": {},
   "source": [
    "## Removing correlated data"
   ]
  },
  {
   "cell_type": "code",
   "execution_count": 15,
   "id": "3ff78f78",
   "metadata": {
    "ExecuteTime": {
     "end_time": "2022-02-01T19:32:19.612252Z",
     "start_time": "2022-02-01T19:32:18.917454Z"
    },
    "code_folding": [],
    "scrolled": true
   },
   "outputs": [
    {
     "name": "stdout",
     "output_type": "stream",
     "text": [
      "Top Absolute Correlations\n",
      "17955\n",
      "                    0\n",
      "112 127  1.000000e+00\n",
      "37  39   9.999830e-01\n",
      "25  47   9.999724e-01\n",
      "32  47   9.979768e-01\n",
      "25  32   9.978617e-01\n",
      "...               ...\n",
      "16  74   2.300211e-05\n",
      "99  134  8.782197e-06\n",
      "51  75   7.741857e-06\n",
      "77  181  6.376192e-06\n",
      "81  185  7.819862e-07\n",
      "\n",
      "[17955 rows x 1 columns]\n"
     ]
    }
   ],
   "source": [
    "def get_redundant_pairs(df):\n",
    "    '''Get diagonal and lower triangular pairs of correlation matrix'''\n",
    "    pairs_to_drop = set()\n",
    "    cols = df.columns\n",
    "    for i in range(0, df.shape[1]):\n",
    "        for j in range(0, i + 1):\n",
    "            pairs_to_drop.add((cols[i], cols[j]))\n",
    "    return pairs_to_drop\n",
    "\n",
    "\n",
    "def get_top_abs_correlations(df):\n",
    "    au_corr = df.corr().abs().unstack()\n",
    "    labels_to_drop = get_redundant_pairs(df)\n",
    "    au_corr = au_corr.drop(labels=labels_to_drop).sort_values(ascending=False)\n",
    "    print(len(au_corr))\n",
    "    return pd.DataFrame(au_corr)\n",
    "\n",
    "\n",
    "print(\"Top Absolute Correlations\")\n",
    "print(get_top_abs_correlations(toxcast_data))"
   ]
  },
  {
   "cell_type": "markdown",
   "id": "93572835",
   "metadata": {},
   "source": [
    "Wow there are too many correlated data\n",
    "Lets take take a look at plot"
   ]
  },
  {
   "cell_type": "code",
   "execution_count": 16,
   "id": "23facee0",
   "metadata": {
    "ExecuteTime": {
     "end_time": "2022-02-01T19:32:20.294223Z",
     "start_time": "2022-02-01T19:32:19.613186Z"
    }
   },
   "outputs": [
    {
     "name": "stdout",
     "output_type": "stream",
     "text": [
      "17955\n"
     ]
    }
   ],
   "source": [
    "relations = get_top_abs_correlations(toxcast_data)[0].values"
   ]
  },
  {
   "cell_type": "code",
   "execution_count": 40,
   "id": "7ebf2d72",
   "metadata": {
    "ExecuteTime": {
     "end_time": "2022-02-01T19:40:26.709624Z",
     "start_time": "2022-02-01T19:40:26.477714Z"
    }
   },
   "outputs": [
    {
     "data": {
      "image/png": "[encoded data removed]",
      "text/plain": [
       "<Figure size 600x400 with 1 Axes>"
      ]
     },
     "metadata": {},
     "output_type": "display_data"
    }
   ],
   "source": [
    "plt.figure(dpi=100)\n",
    "sns.histplot(relations, kde=True, stat=\"count\", linewidth=0)\n",
    "sns.set_style(\"whitegrid\")\n",
    "plt.xticks()\n",
    "plt.show()"
   ]
  },
  {
   "cell_type": "code",
   "execution_count": 41,
   "id": "d01485fe",
   "metadata": {
    "ExecuteTime": {
     "end_time": "2022-02-01T19:40:32.107869Z",
     "start_time": "2022-02-01T19:40:31.963936Z"
    },
    "scrolled": false
   },
   "outputs": [
    {
     "data": {
      "image/png": "[encoded data removed]",
      "text/plain": [
       "<Figure size 600x400 with 1 Axes>"
      ]
     },
     "metadata": {},
     "output_type": "display_data"
    }
   ],
   "source": [
    "#zoom in greater then 0.4\n",
    "bounded_correlation = [i for i in relations if i > 0.4]\n",
    "\n",
    "plt.figure(dpi=100)\n",
    "sns.histplot(bounded_correlation, kde=True, stat=\"count\", linewidth=0)\n",
    "sns.set_style(\"whitegrid\")\n",
    "plt.xticks()\n",
    "plt.show()"
   ]
  },
  {
   "cell_type": "markdown",
   "id": "62cc940c",
   "metadata": {
    "ExecuteTime": {
     "end_time": "2022-02-01T19:32:20.970861Z",
     "start_time": "2022-02-01T19:32:20.969491Z"
    }
   },
   "source": [
    "we have a lot of columns with over 0.8 correlation with removing \n",
    "these columns the information would not be changed\n",
    "But for achieving more accurate models we don't do this"
   ]
  },
  {
   "cell_type": "code",
   "execution_count": 21,
   "id": "a28ae292",
   "metadata": {
    "ExecuteTime": {
     "end_time": "2022-02-01T19:32:21.510628Z",
     "start_time": "2022-02-01T19:32:20.971609Z"
    }
   },
   "outputs": [],
   "source": [
    "#This approach is fatsitc it looks at the previous column if the correlation is high it removes it\n",
    "\n",
    "# Create correlation matrix\n",
    "corr_matrix = toxcast_data.corr().abs()\n",
    "\n",
    "# Select upper triangle of correlation matrix\n",
    "upper = corr_matrix.where(\n",
    "    np.triu(np.ones(corr_matrix.shape), k=1).astype(bool))\n",
    "\n",
    "# Find features with correlation greater than 0.8\n",
    "to_drop = [column for column in upper.columns if any(upper[column] > 0.80)]\n",
    "\n",
    "# Drop features\n",
    "final_toxcast_data = toxcast_data.drop(to_drop, axis=1)"
   ]
  },
  {
   "cell_type": "code",
   "execution_count": 44,
   "id": "8d7c642c",
   "metadata": {
    "ExecuteTime": {
     "end_time": "2022-02-01T19:41:30.441777Z",
     "start_time": "2022-02-01T19:41:29.956930Z"
    },
    "scrolled": false
   },
   "outputs": [
    {
     "name": "stdout",
     "output_type": "stream",
     "text": [
      "9045\n"
     ]
    },
    {
     "data": {
      "image/png": "[encoded data removed]",
      "text/plain": [
       "<Figure size 600x400 with 1 Axes>"
      ]
     },
     "metadata": {},
     "output_type": "display_data"
    }
   ],
   "source": [
    "#zoom in greater then 0.4\n",
    "final_relations = get_top_abs_correlations(final_toxcast_data)[0].values\n",
    "bounded_correlation = [i for i in final_relations if i > 0.4]\n",
    "plt.figure(dpi=100)\n",
    "sns.histplot(bounded_correlation, kde=True, stat=\"count\", linewidth=0)\n",
    "sns.set_style(\"whitegrid\")\n",
    "plt.title('Correlation')\n",
    "plt.xticks()\n",
    "plt.show()"
   ]
  },
  {
   "cell_type": "markdown",
   "id": "cc621fb2",
   "metadata": {
    "ExecuteTime": {
     "end_time": "2022-02-01T19:35:58.519111Z",
     "start_time": "2022-02-01T19:35:58.516466Z"
    }
   },
   "source": [
    "Wow it looks like a normal correlation"
   ]
  },
  {
   "cell_type": "markdown",
   "id": "328476ac",
   "metadata": {},
   "source": [
    "# Splitting Data"
   ]
  }
 ],
 "metadata": {
  "kernelspec": {
   "display_name": "Python 3",
   "language": "python",
   "name": "python3"
  },
  "language_info": {
   "codemirror_mode": {
    "name": "ipython",
    "version": 3
   },
   "file_extension": ".py",
   "mimetype": "text/x-python",
   "name": "python",
   "nbconvert_exporter": "python",
   "pygments_lexer": "ipython3",
   "version": "3.8.8"
  },
  "toc": {
   "base_numbering": 1,
   "nav_menu": {},
   "number_sections": true,
   "sideBar": true,
   "skip_h1_title": false,
   "title_cell": "Table of Contents",
   "title_sidebar": "Contents",
   "toc_cell": false,
   "toc_position": {
    "height": "calc(100% - 180px)",
    "left": "10px",
    "top": "150px",
    "width": "288px"
   },
   "toc_section_display": true,
   "toc_window_display": true
  },
  "varInspector": {
   "cols": {
    "lenName": 16,
    "lenType": 16,
    "lenVar": 40
   },
   "kernels_config": {
    "python": {
     "delete_cmd_postfix": "",
     "delete_cmd_prefix": "del ",
     "library": "var_list.py",
     "varRefreshCmd": "print(var_dic_list())"
    },
    "r": {
     "delete_cmd_postfix": ") ",
     "delete_cmd_prefix": "rm(",
     "library": "var_list.r",
     "varRefreshCmd": "cat(var_dic_list()) "
    }
   },
   "types_to_exclude": [
    "module",
    "function",
    "builtin_function_or_method",
    "instance",
    "_Feature"
   ],
   "window_display": false
  }
 },
 "nbformat": 4,
 "nbformat_minor": 5
}
