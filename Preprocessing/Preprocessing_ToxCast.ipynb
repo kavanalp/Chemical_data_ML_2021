{
 "cells": [
  {
   "cell_type": "markdown",
   "id": "9576fe96",
   "metadata": {},
   "source": [
    "## imports"
   ]
  },
  {
   "cell_type": "code",
   "execution_count": 14,
   "id": "bc8e61fa",
   "metadata": {
    "ExecuteTime": {
     "end_time": "2022-02-09T14:23:25.231387Z",
     "start_time": "2022-02-09T14:23:25.225375Z"
    }
   },
   "outputs": [],
   "source": [
    "import pandas as pd\n",
    "import numpy as np\n",
    "import seaborn as sns\n",
    "import matplotlib.pyplot as plt\n",
    "\n",
    "import random\n",
    "from sklearn.model_selection import train_test_split\n",
    "\n",
    "from sklearn.ensemble import AdaBoostClassifier\n",
    "from sklearn.ensemble import RandomForestClassifier\n",
    "\n",
    "from sklearn.ensemble import RandomForestRegressor\n",
    "from sklearn.ensemble import AdaBoostRegressor\n",
    "\n",
    "from sklearn.metrics import precision_score, recall_score, confusion_matrix\n",
    "from sklearn.metrics import f1_score, roc_auc_score, roc_curve\n",
    "from sklearn.metrics import accuracy_score"
   ]
  },
  {
   "cell_type": "markdown",
   "id": "3ef9a7a9",
   "metadata": {},
   "source": [
    "# ToxCast"
   ]
  },
  {
   "cell_type": "markdown",
   "id": "fbe4dc20",
   "metadata": {},
   "source": [
    "## Data preprocessing"
   ]
  },
  {
   "cell_type": "markdown",
   "id": "0cf36cfd",
   "metadata": {},
   "source": [
    "### Let's take a look at the data"
   ]
  },
  {
   "cell_type": "code",
   "execution_count": 3,
   "id": "31e3b837",
   "metadata": {
    "ExecuteTime": {
     "end_time": "2022-02-09T14:20:43.339221Z",
     "start_time": "2022-02-09T14:20:43.038635Z"
    }
   },
   "outputs": [],
   "source": [
    "toxcast_data = pd.read_csv('toxcast_global_cdf_rdkit.csv')"
   ]
  },
  {
   "cell_type": "code",
   "execution_count": 4,
   "id": "9eec9529",
   "metadata": {
    "ExecuteTime": {
     "end_time": "2022-02-09T14:20:43.360200Z",
     "start_time": "2022-02-09T14:20:43.340560Z"
    },
    "scrolled": false
   },
   "outputs": [
    {
     "data": {
      "text/html": [
       "<div>\n",
       "<style scoped>\n",
       "    .dataframe tbody tr th:only-of-type {\n",
       "        vertical-align: middle;\n",
       "    }\n",
       "\n",
       "    .dataframe tbody tr th {\n",
       "        vertical-align: top;\n",
       "    }\n",
       "\n",
       "    .dataframe thead th {\n",
       "        text-align: right;\n",
       "    }\n",
       "</style>\n",
       "<table border=\"1\" class=\"dataframe\">\n",
       "  <thead>\n",
       "    <tr style=\"text-align: right;\">\n",
       "      <th></th>\n",
       "      <th>('RDKit2DNormalized_calculated', &lt;class 'bool'&gt;)</th>\n",
       "      <th>('BalabanJ', &lt;class 'numpy.float64'&gt;)</th>\n",
       "      <th>('BertzCT', &lt;class 'numpy.float64'&gt;)</th>\n",
       "      <th>('Chi0', &lt;class 'numpy.float64'&gt;)</th>\n",
       "      <th>('Chi0n', &lt;class 'numpy.float64'&gt;)</th>\n",
       "      <th>('Chi0v', &lt;class 'numpy.float64'&gt;)</th>\n",
       "      <th>('Chi1', &lt;class 'numpy.float64'&gt;)</th>\n",
       "      <th>('Chi1n', &lt;class 'numpy.float64'&gt;)</th>\n",
       "      <th>('Chi1v', &lt;class 'numpy.float64'&gt;)</th>\n",
       "      <th>('Chi2n', &lt;class 'numpy.float64'&gt;)</th>\n",
       "      <th>...</th>\n",
       "      <th>('fr_sulfonamd', &lt;class 'numpy.float64'&gt;)</th>\n",
       "      <th>('fr_sulfone', &lt;class 'numpy.float64'&gt;)</th>\n",
       "      <th>('fr_term_acetylene', &lt;class 'numpy.float64'&gt;)</th>\n",
       "      <th>('fr_tetrazole', &lt;class 'numpy.float64'&gt;)</th>\n",
       "      <th>('fr_thiazole', &lt;class 'numpy.float64'&gt;)</th>\n",
       "      <th>('fr_thiocyan', &lt;class 'numpy.float64'&gt;)</th>\n",
       "      <th>('fr_thiophene', &lt;class 'numpy.float64'&gt;)</th>\n",
       "      <th>('fr_unbrch_alkane', &lt;class 'numpy.float64'&gt;)</th>\n",
       "      <th>('fr_urea', &lt;class 'numpy.float64'&gt;)</th>\n",
       "      <th>('qed', &lt;class 'numpy.float64'&gt;)</th>\n",
       "    </tr>\n",
       "  </thead>\n",
       "  <tbody>\n",
       "    <tr>\n",
       "      <th>0</th>\n",
       "      <td>True</td>\n",
       "      <td>0.975099</td>\n",
       "      <td>0.013842</td>\n",
       "      <td>0.003617</td>\n",
       "      <td>0.001544</td>\n",
       "      <td>0.002240</td>\n",
       "      <td>0.003400</td>\n",
       "      <td>0.001898</td>\n",
       "      <td>0.002740</td>\n",
       "      <td>0.002258</td>\n",
       "      <td>...</td>\n",
       "      <td>1.593061e-17</td>\n",
       "      <td>5.766101e-14</td>\n",
       "      <td>2.957989e-11</td>\n",
       "      <td>0.168378</td>\n",
       "      <td>0.16738</td>\n",
       "      <td>1.481515e-18</td>\n",
       "      <td>2.324150e-16</td>\n",
       "      <td>4.703598e-08</td>\n",
       "      <td>0.166633</td>\n",
       "      <td>0.307979</td>\n",
       "    </tr>\n",
       "    <tr>\n",
       "      <th>1</th>\n",
       "      <td>True</td>\n",
       "      <td>0.996567</td>\n",
       "      <td>0.006574</td>\n",
       "      <td>0.059485</td>\n",
       "      <td>0.147276</td>\n",
       "      <td>0.457648</td>\n",
       "      <td>0.019493</td>\n",
       "      <td>0.076205</td>\n",
       "      <td>0.957788</td>\n",
       "      <td>0.220093</td>\n",
       "      <td>...</td>\n",
       "      <td>1.593061e-17</td>\n",
       "      <td>5.766101e-14</td>\n",
       "      <td>2.957989e-11</td>\n",
       "      <td>0.168378</td>\n",
       "      <td>0.16738</td>\n",
       "      <td>1.481515e-18</td>\n",
       "      <td>2.324150e-16</td>\n",
       "      <td>4.703598e-08</td>\n",
       "      <td>0.166633</td>\n",
       "      <td>0.673632</td>\n",
       "    </tr>\n",
       "    <tr>\n",
       "      <th>2</th>\n",
       "      <td>True</td>\n",
       "      <td>0.627583</td>\n",
       "      <td>0.010335</td>\n",
       "      <td>0.026948</td>\n",
       "      <td>0.068241</td>\n",
       "      <td>0.048620</td>\n",
       "      <td>0.033934</td>\n",
       "      <td>0.125366</td>\n",
       "      <td>0.085699</td>\n",
       "      <td>0.180002</td>\n",
       "      <td>...</td>\n",
       "      <td>1.593061e-17</td>\n",
       "      <td>5.766101e-14</td>\n",
       "      <td>2.957989e-11</td>\n",
       "      <td>0.168378</td>\n",
       "      <td>0.16738</td>\n",
       "      <td>1.481515e-18</td>\n",
       "      <td>2.324150e-16</td>\n",
       "      <td>4.703598e-08</td>\n",
       "      <td>0.166633</td>\n",
       "      <td>0.591018</td>\n",
       "    </tr>\n",
       "    <tr>\n",
       "      <th>3</th>\n",
       "      <td>True</td>\n",
       "      <td>0.975099</td>\n",
       "      <td>0.013568</td>\n",
       "      <td>0.003617</td>\n",
       "      <td>0.001953</td>\n",
       "      <td>0.001234</td>\n",
       "      <td>0.003400</td>\n",
       "      <td>0.002277</td>\n",
       "      <td>0.001882</td>\n",
       "      <td>0.002913</td>\n",
       "      <td>...</td>\n",
       "      <td>1.593061e-17</td>\n",
       "      <td>5.766101e-14</td>\n",
       "      <td>2.957989e-11</td>\n",
       "      <td>0.168378</td>\n",
       "      <td>0.16738</td>\n",
       "      <td>1.481515e-18</td>\n",
       "      <td>2.324150e-16</td>\n",
       "      <td>4.703598e-08</td>\n",
       "      <td>0.166633</td>\n",
       "      <td>0.187246</td>\n",
       "    </tr>\n",
       "    <tr>\n",
       "      <th>4</th>\n",
       "      <td>True</td>\n",
       "      <td>0.975099</td>\n",
       "      <td>0.013472</td>\n",
       "      <td>0.003617</td>\n",
       "      <td>0.001677</td>\n",
       "      <td>0.001063</td>\n",
       "      <td>0.003400</td>\n",
       "      <td>0.002024</td>\n",
       "      <td>0.001720</td>\n",
       "      <td>0.002471</td>\n",
       "      <td>...</td>\n",
       "      <td>1.593061e-17</td>\n",
       "      <td>5.766101e-14</td>\n",
       "      <td>2.957989e-11</td>\n",
       "      <td>0.168378</td>\n",
       "      <td>0.16738</td>\n",
       "      <td>1.481515e-18</td>\n",
       "      <td>2.324150e-16</td>\n",
       "      <td>4.703598e-08</td>\n",
       "      <td>0.166633</td>\n",
       "      <td>0.317261</td>\n",
       "    </tr>\n",
       "  </tbody>\n",
       "</table>\n",
       "<p>5 rows × 201 columns</p>\n",
       "</div>"
      ],
      "text/plain": [
       "   ('RDKit2DNormalized_calculated', <class 'bool'>)  \\\n",
       "0                                              True   \n",
       "1                                              True   \n",
       "2                                              True   \n",
       "3                                              True   \n",
       "4                                              True   \n",
       "\n",
       "   ('BalabanJ', <class 'numpy.float64'>)  \\\n",
       "0                               0.975099   \n",
       "1                               0.996567   \n",
       "2                               0.627583   \n",
       "3                               0.975099   \n",
       "4                               0.975099   \n",
       "\n",
       "   ('BertzCT', <class 'numpy.float64'>)  ('Chi0', <class 'numpy.float64'>)  \\\n",
       "0                              0.013842                           0.003617   \n",
       "1                              0.006574                           0.059485   \n",
       "2                              0.010335                           0.026948   \n",
       "3                              0.013568                           0.003617   \n",
       "4                              0.013472                           0.003617   \n",
       "\n",
       "   ('Chi0n', <class 'numpy.float64'>)  ('Chi0v', <class 'numpy.float64'>)  \\\n",
       "0                            0.001544                            0.002240   \n",
       "1                            0.147276                            0.457648   \n",
       "2                            0.068241                            0.048620   \n",
       "3                            0.001953                            0.001234   \n",
       "4                            0.001677                            0.001063   \n",
       "\n",
       "   ('Chi1', <class 'numpy.float64'>)  ('Chi1n', <class 'numpy.float64'>)  \\\n",
       "0                           0.003400                            0.001898   \n",
       "1                           0.019493                            0.076205   \n",
       "2                           0.033934                            0.125366   \n",
       "3                           0.003400                            0.002277   \n",
       "4                           0.003400                            0.002024   \n",
       "\n",
       "   ('Chi1v', <class 'numpy.float64'>)  ('Chi2n', <class 'numpy.float64'>)  \\\n",
       "0                            0.002740                            0.002258   \n",
       "1                            0.957788                            0.220093   \n",
       "2                            0.085699                            0.180002   \n",
       "3                            0.001882                            0.002913   \n",
       "4                            0.001720                            0.002471   \n",
       "\n",
       "   ...  ('fr_sulfonamd', <class 'numpy.float64'>)  \\\n",
       "0  ...                               1.593061e-17   \n",
       "1  ...                               1.593061e-17   \n",
       "2  ...                               1.593061e-17   \n",
       "3  ...                               1.593061e-17   \n",
       "4  ...                               1.593061e-17   \n",
       "\n",
       "   ('fr_sulfone', <class 'numpy.float64'>)  \\\n",
       "0                             5.766101e-14   \n",
       "1                             5.766101e-14   \n",
       "2                             5.766101e-14   \n",
       "3                             5.766101e-14   \n",
       "4                             5.766101e-14   \n",
       "\n",
       "   ('fr_term_acetylene', <class 'numpy.float64'>)  \\\n",
       "0                                    2.957989e-11   \n",
       "1                                    2.957989e-11   \n",
       "2                                    2.957989e-11   \n",
       "3                                    2.957989e-11   \n",
       "4                                    2.957989e-11   \n",
       "\n",
       "   ('fr_tetrazole', <class 'numpy.float64'>)  \\\n",
       "0                                   0.168378   \n",
       "1                                   0.168378   \n",
       "2                                   0.168378   \n",
       "3                                   0.168378   \n",
       "4                                   0.168378   \n",
       "\n",
       "   ('fr_thiazole', <class 'numpy.float64'>)  \\\n",
       "0                                   0.16738   \n",
       "1                                   0.16738   \n",
       "2                                   0.16738   \n",
       "3                                   0.16738   \n",
       "4                                   0.16738   \n",
       "\n",
       "   ('fr_thiocyan', <class 'numpy.float64'>)  \\\n",
       "0                              1.481515e-18   \n",
       "1                              1.481515e-18   \n",
       "2                              1.481515e-18   \n",
       "3                              1.481515e-18   \n",
       "4                              1.481515e-18   \n",
       "\n",
       "   ('fr_thiophene', <class 'numpy.float64'>)  \\\n",
       "0                               2.324150e-16   \n",
       "1                               2.324150e-16   \n",
       "2                               2.324150e-16   \n",
       "3                               2.324150e-16   \n",
       "4                               2.324150e-16   \n",
       "\n",
       "   ('fr_unbrch_alkane', <class 'numpy.float64'>)  \\\n",
       "0                                   4.703598e-08   \n",
       "1                                   4.703598e-08   \n",
       "2                                   4.703598e-08   \n",
       "3                                   4.703598e-08   \n",
       "4                                   4.703598e-08   \n",
       "\n",
       "   ('fr_urea', <class 'numpy.float64'>)  ('qed', <class 'numpy.float64'>)  \n",
       "0                              0.166633                          0.307979  \n",
       "1                              0.166633                          0.673632  \n",
       "2                              0.166633                          0.591018  \n",
       "3                              0.166633                          0.187246  \n",
       "4                              0.166633                          0.317261  \n",
       "\n",
       "[5 rows x 201 columns]"
      ]
     },
     "execution_count": 4,
     "metadata": {},
     "output_type": "execute_result"
    }
   ],
   "source": [
    "toxcast_data.head()"
   ]
  },
  {
   "cell_type": "code",
   "execution_count": 5,
   "id": "1acc76e2",
   "metadata": {
    "ExecuteTime": {
     "end_time": "2022-02-09T14:20:43.565959Z",
     "start_time": "2022-02-09T14:20:43.361434Z"
    },
    "scrolled": true
   },
   "outputs": [
    {
     "data": {
      "text/html": [
       "<div>\n",
       "<style scoped>\n",
       "    .dataframe tbody tr th:only-of-type {\n",
       "        vertical-align: middle;\n",
       "    }\n",
       "\n",
       "    .dataframe tbody tr th {\n",
       "        vertical-align: top;\n",
       "    }\n",
       "\n",
       "    .dataframe thead th {\n",
       "        text-align: right;\n",
       "    }\n",
       "</style>\n",
       "<table border=\"1\" class=\"dataframe\">\n",
       "  <thead>\n",
       "    <tr style=\"text-align: right;\">\n",
       "      <th></th>\n",
       "      <th>('BalabanJ', &lt;class 'numpy.float64'&gt;)</th>\n",
       "      <th>('BertzCT', &lt;class 'numpy.float64'&gt;)</th>\n",
       "      <th>('Chi0', &lt;class 'numpy.float64'&gt;)</th>\n",
       "      <th>('Chi0n', &lt;class 'numpy.float64'&gt;)</th>\n",
       "      <th>('Chi0v', &lt;class 'numpy.float64'&gt;)</th>\n",
       "      <th>('Chi1', &lt;class 'numpy.float64'&gt;)</th>\n",
       "      <th>('Chi1n', &lt;class 'numpy.float64'&gt;)</th>\n",
       "      <th>('Chi1v', &lt;class 'numpy.float64'&gt;)</th>\n",
       "      <th>('Chi2n', &lt;class 'numpy.float64'&gt;)</th>\n",
       "      <th>('Chi2v', &lt;class 'numpy.float64'&gt;)</th>\n",
       "      <th>...</th>\n",
       "      <th>('fr_sulfonamd', &lt;class 'numpy.float64'&gt;)</th>\n",
       "      <th>('fr_sulfone', &lt;class 'numpy.float64'&gt;)</th>\n",
       "      <th>('fr_term_acetylene', &lt;class 'numpy.float64'&gt;)</th>\n",
       "      <th>('fr_tetrazole', &lt;class 'numpy.float64'&gt;)</th>\n",
       "      <th>('fr_thiazole', &lt;class 'numpy.float64'&gt;)</th>\n",
       "      <th>('fr_thiocyan', &lt;class 'numpy.float64'&gt;)</th>\n",
       "      <th>('fr_thiophene', &lt;class 'numpy.float64'&gt;)</th>\n",
       "      <th>('fr_unbrch_alkane', &lt;class 'numpy.float64'&gt;)</th>\n",
       "      <th>('fr_urea', &lt;class 'numpy.float64'&gt;)</th>\n",
       "      <th>('qed', &lt;class 'numpy.float64'&gt;)</th>\n",
       "    </tr>\n",
       "  </thead>\n",
       "  <tbody>\n",
       "    <tr>\n",
       "      <th>count</th>\n",
       "      <td>8576.000000</td>\n",
       "      <td>8576.000000</td>\n",
       "      <td>8.576000e+03</td>\n",
       "      <td>8.576000e+03</td>\n",
       "      <td>8.576000e+03</td>\n",
       "      <td>8.576000e+03</td>\n",
       "      <td>8.576000e+03</td>\n",
       "      <td>8576.000000</td>\n",
       "      <td>8576.000000</td>\n",
       "      <td>8.576000e+03</td>\n",
       "      <td>...</td>\n",
       "      <td>8.576000e+03</td>\n",
       "      <td>8.576000e+03</td>\n",
       "      <td>8.576000e+03</td>\n",
       "      <td>8576.000000</td>\n",
       "      <td>8576.000000</td>\n",
       "      <td>8.576000e+03</td>\n",
       "      <td>8.576000e+03</td>\n",
       "      <td>8.576000e+03</td>\n",
       "      <td>8576.000000</td>\n",
       "      <td>8576.000000</td>\n",
       "    </tr>\n",
       "    <tr>\n",
       "      <th>mean</th>\n",
       "      <td>0.664186</td>\n",
       "      <td>0.170554</td>\n",
       "      <td>2.034590e-01</td>\n",
       "      <td>2.114490e-01</td>\n",
       "      <td>2.258747e-01</td>\n",
       "      <td>1.886194e-01</td>\n",
       "      <td>2.087913e-01</td>\n",
       "      <td>0.222319</td>\n",
       "      <td>0.221245</td>\n",
       "      <td>2.428282e-01</td>\n",
       "      <td>...</td>\n",
       "      <td>3.159866e-02</td>\n",
       "      <td>7.812500e-03</td>\n",
       "      <td>5.480410e-03</td>\n",
       "      <td>0.172160</td>\n",
       "      <td>0.179225</td>\n",
       "      <td>1.749067e-03</td>\n",
       "      <td>1.084422e-02</td>\n",
       "      <td>1.283015e-01</td>\n",
       "      <td>0.188498</td>\n",
       "      <td>0.438306</td>\n",
       "    </tr>\n",
       "    <tr>\n",
       "      <th>std</th>\n",
       "      <td>0.392411</td>\n",
       "      <td>0.247064</td>\n",
       "      <td>2.845194e-01</td>\n",
       "      <td>2.863702e-01</td>\n",
       "      <td>2.973350e-01</td>\n",
       "      <td>2.723250e-01</td>\n",
       "      <td>2.846640e-01</td>\n",
       "      <td>0.292042</td>\n",
       "      <td>0.294871</td>\n",
       "      <td>3.087062e-01</td>\n",
       "      <td>...</td>\n",
       "      <td>1.749360e-01</td>\n",
       "      <td>8.804754e-02</td>\n",
       "      <td>7.383096e-02</td>\n",
       "      <td>0.055957</td>\n",
       "      <td>0.098605</td>\n",
       "      <td>4.178770e-02</td>\n",
       "      <td>1.035754e-01</td>\n",
       "      <td>3.323119e-01</td>\n",
       "      <td>0.133210</td>\n",
       "      <td>0.255540</td>\n",
       "    </tr>\n",
       "    <tr>\n",
       "      <th>min</th>\n",
       "      <td>0.000020</td>\n",
       "      <td>0.000577</td>\n",
       "      <td>3.875255e-15</td>\n",
       "      <td>2.722966e-11</td>\n",
       "      <td>8.228063e-07</td>\n",
       "      <td>4.102548e-13</td>\n",
       "      <td>1.635214e-11</td>\n",
       "      <td>0.000019</td>\n",
       "      <td>0.000001</td>\n",
       "      <td>2.209078e-07</td>\n",
       "      <td>...</td>\n",
       "      <td>1.593061e-17</td>\n",
       "      <td>5.766101e-14</td>\n",
       "      <td>2.957989e-11</td>\n",
       "      <td>0.168378</td>\n",
       "      <td>0.167380</td>\n",
       "      <td>1.481515e-18</td>\n",
       "      <td>2.324150e-16</td>\n",
       "      <td>4.703598e-08</td>\n",
       "      <td>0.166633</td>\n",
       "      <td>0.001335</td>\n",
       "    </tr>\n",
       "    <tr>\n",
       "      <th>25%</th>\n",
       "      <td>0.316180</td>\n",
       "      <td>0.007618</td>\n",
       "      <td>6.107565e-03</td>\n",
       "      <td>7.245959e-03</td>\n",
       "      <td>7.658955e-03</td>\n",
       "      <td>5.310135e-03</td>\n",
       "      <td>7.229403e-03</td>\n",
       "      <td>0.007852</td>\n",
       "      <td>0.008206</td>\n",
       "      <td>7.844741e-03</td>\n",
       "      <td>...</td>\n",
       "      <td>1.593061e-17</td>\n",
       "      <td>5.766101e-14</td>\n",
       "      <td>2.957989e-11</td>\n",
       "      <td>0.168378</td>\n",
       "      <td>0.167380</td>\n",
       "      <td>1.481515e-18</td>\n",
       "      <td>2.324150e-16</td>\n",
       "      <td>4.703598e-08</td>\n",
       "      <td>0.166633</td>\n",
       "      <td>0.242871</td>\n",
       "    </tr>\n",
       "    <tr>\n",
       "      <th>50%</th>\n",
       "      <td>0.887037</td>\n",
       "      <td>0.045325</td>\n",
       "      <td>4.998923e-02</td>\n",
       "      <td>5.707925e-02</td>\n",
       "      <td>6.245923e-02</td>\n",
       "      <td>4.325545e-02</td>\n",
       "      <td>5.584382e-02</td>\n",
       "      <td>0.061127</td>\n",
       "      <td>0.063788</td>\n",
       "      <td>7.366013e-02</td>\n",
       "      <td>...</td>\n",
       "      <td>1.593061e-17</td>\n",
       "      <td>5.766101e-14</td>\n",
       "      <td>2.957989e-11</td>\n",
       "      <td>0.168378</td>\n",
       "      <td>0.167380</td>\n",
       "      <td>1.481515e-18</td>\n",
       "      <td>2.324150e-16</td>\n",
       "      <td>4.703598e-08</td>\n",
       "      <td>0.166633</td>\n",
       "      <td>0.408772</td>\n",
       "    </tr>\n",
       "    <tr>\n",
       "      <th>75%</th>\n",
       "      <td>0.972095</td>\n",
       "      <td>0.235537</td>\n",
       "      <td>3.048897e-01</td>\n",
       "      <td>3.314346e-01</td>\n",
       "      <td>3.672524e-01</td>\n",
       "      <td>2.690613e-01</td>\n",
       "      <td>3.250502e-01</td>\n",
       "      <td>0.371586</td>\n",
       "      <td>0.349220</td>\n",
       "      <td>4.199528e-01</td>\n",
       "      <td>...</td>\n",
       "      <td>1.593061e-17</td>\n",
       "      <td>5.766101e-14</td>\n",
       "      <td>2.957989e-11</td>\n",
       "      <td>0.168378</td>\n",
       "      <td>0.167380</td>\n",
       "      <td>1.481515e-18</td>\n",
       "      <td>2.324150e-16</td>\n",
       "      <td>4.703598e-08</td>\n",
       "      <td>0.166633</td>\n",
       "      <td>0.626745</td>\n",
       "    </tr>\n",
       "    <tr>\n",
       "      <th>max</th>\n",
       "      <td>0.999740</td>\n",
       "      <td>1.000000</td>\n",
       "      <td>9.998770e-01</td>\n",
       "      <td>9.997699e-01</td>\n",
       "      <td>9.998784e-01</td>\n",
       "      <td>9.998790e-01</td>\n",
       "      <td>9.997379e-01</td>\n",
       "      <td>0.999994</td>\n",
       "      <td>0.999653</td>\n",
       "      <td>9.999777e-01</td>\n",
       "      <td>...</td>\n",
       "      <td>9.999919e-01</td>\n",
       "      <td>1.000000e+00</td>\n",
       "      <td>1.000000e+00</td>\n",
       "      <td>1.000000</td>\n",
       "      <td>1.000000</td>\n",
       "      <td>1.000000e+00</td>\n",
       "      <td>1.000000e+00</td>\n",
       "      <td>1.000000e+00</td>\n",
       "      <td>1.000000</td>\n",
       "      <td>0.998881</td>\n",
       "    </tr>\n",
       "  </tbody>\n",
       "</table>\n",
       "<p>8 rows × 200 columns</p>\n",
       "</div>"
      ],
      "text/plain": [
       "       ('BalabanJ', <class 'numpy.float64'>)  \\\n",
       "count                            8576.000000   \n",
       "mean                                0.664186   \n",
       "std                                 0.392411   \n",
       "min                                 0.000020   \n",
       "25%                                 0.316180   \n",
       "50%                                 0.887037   \n",
       "75%                                 0.972095   \n",
       "max                                 0.999740   \n",
       "\n",
       "       ('BertzCT', <class 'numpy.float64'>)  \\\n",
       "count                           8576.000000   \n",
       "mean                               0.170554   \n",
       "std                                0.247064   \n",
       "min                                0.000577   \n",
       "25%                                0.007618   \n",
       "50%                                0.045325   \n",
       "75%                                0.235537   \n",
       "max                                1.000000   \n",
       "\n",
       "       ('Chi0', <class 'numpy.float64'>)  ('Chi0n', <class 'numpy.float64'>)  \\\n",
       "count                       8.576000e+03                        8.576000e+03   \n",
       "mean                        2.034590e-01                        2.114490e-01   \n",
       "std                         2.845194e-01                        2.863702e-01   \n",
       "min                         3.875255e-15                        2.722966e-11   \n",
       "25%                         6.107565e-03                        7.245959e-03   \n",
       "50%                         4.998923e-02                        5.707925e-02   \n",
       "75%                         3.048897e-01                        3.314346e-01   \n",
       "max                         9.998770e-01                        9.997699e-01   \n",
       "\n",
       "       ('Chi0v', <class 'numpy.float64'>)  ('Chi1', <class 'numpy.float64'>)  \\\n",
       "count                        8.576000e+03                       8.576000e+03   \n",
       "mean                         2.258747e-01                       1.886194e-01   \n",
       "std                          2.973350e-01                       2.723250e-01   \n",
       "min                          8.228063e-07                       4.102548e-13   \n",
       "25%                          7.658955e-03                       5.310135e-03   \n",
       "50%                          6.245923e-02                       4.325545e-02   \n",
       "75%                          3.672524e-01                       2.690613e-01   \n",
       "max                          9.998784e-01                       9.998790e-01   \n",
       "\n",
       "       ('Chi1n', <class 'numpy.float64'>)  ('Chi1v', <class 'numpy.float64'>)  \\\n",
       "count                        8.576000e+03                         8576.000000   \n",
       "mean                         2.087913e-01                            0.222319   \n",
       "std                          2.846640e-01                            0.292042   \n",
       "min                          1.635214e-11                            0.000019   \n",
       "25%                          7.229403e-03                            0.007852   \n",
       "50%                          5.584382e-02                            0.061127   \n",
       "75%                          3.250502e-01                            0.371586   \n",
       "max                          9.997379e-01                            0.999994   \n",
       "\n",
       "       ('Chi2n', <class 'numpy.float64'>)  ('Chi2v', <class 'numpy.float64'>)  \\\n",
       "count                         8576.000000                        8.576000e+03   \n",
       "mean                             0.221245                        2.428282e-01   \n",
       "std                              0.294871                        3.087062e-01   \n",
       "min                              0.000001                        2.209078e-07   \n",
       "25%                              0.008206                        7.844741e-03   \n",
       "50%                              0.063788                        7.366013e-02   \n",
       "75%                              0.349220                        4.199528e-01   \n",
       "max                              0.999653                        9.999777e-01   \n",
       "\n",
       "       ...  ('fr_sulfonamd', <class 'numpy.float64'>)  \\\n",
       "count  ...                               8.576000e+03   \n",
       "mean   ...                               3.159866e-02   \n",
       "std    ...                               1.749360e-01   \n",
       "min    ...                               1.593061e-17   \n",
       "25%    ...                               1.593061e-17   \n",
       "50%    ...                               1.593061e-17   \n",
       "75%    ...                               1.593061e-17   \n",
       "max    ...                               9.999919e-01   \n",
       "\n",
       "       ('fr_sulfone', <class 'numpy.float64'>)  \\\n",
       "count                             8.576000e+03   \n",
       "mean                              7.812500e-03   \n",
       "std                               8.804754e-02   \n",
       "min                               5.766101e-14   \n",
       "25%                               5.766101e-14   \n",
       "50%                               5.766101e-14   \n",
       "75%                               5.766101e-14   \n",
       "max                               1.000000e+00   \n",
       "\n",
       "       ('fr_term_acetylene', <class 'numpy.float64'>)  \\\n",
       "count                                    8.576000e+03   \n",
       "mean                                     5.480410e-03   \n",
       "std                                      7.383096e-02   \n",
       "min                                      2.957989e-11   \n",
       "25%                                      2.957989e-11   \n",
       "50%                                      2.957989e-11   \n",
       "75%                                      2.957989e-11   \n",
       "max                                      1.000000e+00   \n",
       "\n",
       "       ('fr_tetrazole', <class 'numpy.float64'>)  \\\n",
       "count                                8576.000000   \n",
       "mean                                    0.172160   \n",
       "std                                     0.055957   \n",
       "min                                     0.168378   \n",
       "25%                                     0.168378   \n",
       "50%                                     0.168378   \n",
       "75%                                     0.168378   \n",
       "max                                     1.000000   \n",
       "\n",
       "       ('fr_thiazole', <class 'numpy.float64'>)  \\\n",
       "count                               8576.000000   \n",
       "mean                                   0.179225   \n",
       "std                                    0.098605   \n",
       "min                                    0.167380   \n",
       "25%                                    0.167380   \n",
       "50%                                    0.167380   \n",
       "75%                                    0.167380   \n",
       "max                                    1.000000   \n",
       "\n",
       "       ('fr_thiocyan', <class 'numpy.float64'>)  \\\n",
       "count                              8.576000e+03   \n",
       "mean                               1.749067e-03   \n",
       "std                                4.178770e-02   \n",
       "min                                1.481515e-18   \n",
       "25%                                1.481515e-18   \n",
       "50%                                1.481515e-18   \n",
       "75%                                1.481515e-18   \n",
       "max                                1.000000e+00   \n",
       "\n",
       "       ('fr_thiophene', <class 'numpy.float64'>)  \\\n",
       "count                               8.576000e+03   \n",
       "mean                                1.084422e-02   \n",
       "std                                 1.035754e-01   \n",
       "min                                 2.324150e-16   \n",
       "25%                                 2.324150e-16   \n",
       "50%                                 2.324150e-16   \n",
       "75%                                 2.324150e-16   \n",
       "max                                 1.000000e+00   \n",
       "\n",
       "       ('fr_unbrch_alkane', <class 'numpy.float64'>)  \\\n",
       "count                                   8.576000e+03   \n",
       "mean                                    1.283015e-01   \n",
       "std                                     3.323119e-01   \n",
       "min                                     4.703598e-08   \n",
       "25%                                     4.703598e-08   \n",
       "50%                                     4.703598e-08   \n",
       "75%                                     4.703598e-08   \n",
       "max                                     1.000000e+00   \n",
       "\n",
       "       ('fr_urea', <class 'numpy.float64'>)  ('qed', <class 'numpy.float64'>)  \n",
       "count                           8576.000000                       8576.000000  \n",
       "mean                               0.188498                          0.438306  \n",
       "std                                0.133210                          0.255540  \n",
       "min                                0.166633                          0.001335  \n",
       "25%                                0.166633                          0.242871  \n",
       "50%                                0.166633                          0.408772  \n",
       "75%                                0.166633                          0.626745  \n",
       "max                                1.000000                          0.998881  \n",
       "\n",
       "[8 rows x 200 columns]"
      ]
     },
     "execution_count": 5,
     "metadata": {},
     "output_type": "execute_result"
    }
   ],
   "source": [
    "toxcast_data.describe()"
   ]
  },
  {
   "cell_type": "code",
   "execution_count": 6,
   "id": "8d99b9f4",
   "metadata": {
    "ExecuteTime": {
     "end_time": "2022-02-09T14:20:43.714941Z",
     "start_time": "2022-02-09T14:20:43.567316Z"
    }
   },
   "outputs": [
    {
     "data": {
      "text/plain": [
       "(1.0, 0.0)"
      ]
     },
     "execution_count": 6,
     "metadata": {},
     "output_type": "execute_result"
    }
   ],
   "source": [
    "# all the values are between 0 ,1 (no need to touch them)\n",
    "toxcast_data.to_numpy().max(), toxcast_data.to_numpy().min()"
   ]
  },
  {
   "cell_type": "code",
   "execution_count": 7,
   "id": "50d4e0d1",
   "metadata": {
    "ExecuteTime": {
     "end_time": "2022-02-09T14:20:43.718228Z",
     "start_time": "2022-02-09T14:20:43.715904Z"
    }
   },
   "outputs": [
    {
     "data": {
      "text/plain": [
       "(8576, 201)"
      ]
     },
     "execution_count": 7,
     "metadata": {},
     "output_type": "execute_result"
    }
   ],
   "source": [
    "#(number of features is a bit large)\n",
    "toxcast_data.shape"
   ]
  },
  {
   "cell_type": "markdown",
   "id": "8d6fae30",
   "metadata": {},
   "source": [
    "### Assigning Labels"
   ]
  },
  {
   "cell_type": "code",
   "execution_count": 8,
   "id": "2afaa9f3",
   "metadata": {
    "ExecuteTime": {
     "end_time": "2022-02-09T14:20:43.949554Z",
     "start_time": "2022-02-09T14:20:43.719141Z"
    }
   },
   "outputs": [],
   "source": [
    "labels_df = pd.read_csv('toxcast.csv')"
   ]
  },
  {
   "cell_type": "code",
   "execution_count": 9,
   "id": "4fc2cc80",
   "metadata": {
    "ExecuteTime": {
     "end_time": "2022-02-09T14:20:43.965566Z",
     "start_time": "2022-02-09T14:20:43.951802Z"
    }
   },
   "outputs": [
    {
     "data": {
      "text/html": [
       "<div>\n",
       "<style scoped>\n",
       "    .dataframe tbody tr th:only-of-type {\n",
       "        vertical-align: middle;\n",
       "    }\n",
       "\n",
       "    .dataframe tbody tr th {\n",
       "        vertical-align: top;\n",
       "    }\n",
       "\n",
       "    .dataframe thead th {\n",
       "        text-align: right;\n",
       "    }\n",
       "</style>\n",
       "<table border=\"1\" class=\"dataframe\">\n",
       "  <thead>\n",
       "    <tr style=\"text-align: right;\">\n",
       "      <th></th>\n",
       "      <th>smiles</th>\n",
       "      <th>ACEA_T47D_80hr_Negative</th>\n",
       "      <th>ACEA_T47D_80hr_Positive</th>\n",
       "      <th>APR_HepG2_CellCycleArrest_24h_dn</th>\n",
       "      <th>APR_HepG2_CellCycleArrest_24h_up</th>\n",
       "      <th>APR_HepG2_CellCycleArrest_72h_dn</th>\n",
       "      <th>APR_HepG2_CellLoss_24h_dn</th>\n",
       "      <th>APR_HepG2_CellLoss_72h_dn</th>\n",
       "      <th>APR_HepG2_MicrotubuleCSK_24h_dn</th>\n",
       "      <th>APR_HepG2_MicrotubuleCSK_24h_up</th>\n",
       "      <th>...</th>\n",
       "      <th>Tanguay_ZF_120hpf_OTIC_up</th>\n",
       "      <th>Tanguay_ZF_120hpf_PE_up</th>\n",
       "      <th>Tanguay_ZF_120hpf_PFIN_up</th>\n",
       "      <th>Tanguay_ZF_120hpf_PIG_up</th>\n",
       "      <th>Tanguay_ZF_120hpf_SNOU_up</th>\n",
       "      <th>Tanguay_ZF_120hpf_SOMI_up</th>\n",
       "      <th>Tanguay_ZF_120hpf_SWIM_up</th>\n",
       "      <th>Tanguay_ZF_120hpf_TRUN_up</th>\n",
       "      <th>Tanguay_ZF_120hpf_TR_up</th>\n",
       "      <th>Tanguay_ZF_120hpf_YSE_up</th>\n",
       "    </tr>\n",
       "  </thead>\n",
       "  <tbody>\n",
       "    <tr>\n",
       "      <th>0</th>\n",
       "      <td>[O-][N+](=O)C1=CC=C(Cl)C=C1</td>\n",
       "      <td>0.0</td>\n",
       "      <td>0.0</td>\n",
       "      <td>NaN</td>\n",
       "      <td>NaN</td>\n",
       "      <td>NaN</td>\n",
       "      <td>NaN</td>\n",
       "      <td>NaN</td>\n",
       "      <td>NaN</td>\n",
       "      <td>NaN</td>\n",
       "      <td>...</td>\n",
       "      <td>0.0</td>\n",
       "      <td>0.0</td>\n",
       "      <td>0.0</td>\n",
       "      <td>0.0</td>\n",
       "      <td>0.0</td>\n",
       "      <td>0.0</td>\n",
       "      <td>0.0</td>\n",
       "      <td>0.0</td>\n",
       "      <td>0.0</td>\n",
       "      <td>0.0</td>\n",
       "    </tr>\n",
       "    <tr>\n",
       "      <th>1</th>\n",
       "      <td>C[SiH](C)O[Si](C)(C)O[Si](C)(C)O[SiH](C)C</td>\n",
       "      <td>NaN</td>\n",
       "      <td>NaN</td>\n",
       "      <td>NaN</td>\n",
       "      <td>NaN</td>\n",
       "      <td>NaN</td>\n",
       "      <td>NaN</td>\n",
       "      <td>NaN</td>\n",
       "      <td>NaN</td>\n",
       "      <td>NaN</td>\n",
       "      <td>...</td>\n",
       "      <td>NaN</td>\n",
       "      <td>NaN</td>\n",
       "      <td>NaN</td>\n",
       "      <td>NaN</td>\n",
       "      <td>NaN</td>\n",
       "      <td>NaN</td>\n",
       "      <td>NaN</td>\n",
       "      <td>NaN</td>\n",
       "      <td>NaN</td>\n",
       "      <td>NaN</td>\n",
       "    </tr>\n",
       "    <tr>\n",
       "      <th>2</th>\n",
       "      <td>CN1CCN(CC1)C(=O)C1CCCCC1</td>\n",
       "      <td>NaN</td>\n",
       "      <td>NaN</td>\n",
       "      <td>NaN</td>\n",
       "      <td>NaN</td>\n",
       "      <td>NaN</td>\n",
       "      <td>NaN</td>\n",
       "      <td>NaN</td>\n",
       "      <td>NaN</td>\n",
       "      <td>NaN</td>\n",
       "      <td>...</td>\n",
       "      <td>NaN</td>\n",
       "      <td>NaN</td>\n",
       "      <td>NaN</td>\n",
       "      <td>NaN</td>\n",
       "      <td>NaN</td>\n",
       "      <td>NaN</td>\n",
       "      <td>NaN</td>\n",
       "      <td>NaN</td>\n",
       "      <td>NaN</td>\n",
       "      <td>NaN</td>\n",
       "    </tr>\n",
       "    <tr>\n",
       "      <th>3</th>\n",
       "      <td>NC1=CC=C(C=C1)[N+]([O-])=O</td>\n",
       "      <td>1.0</td>\n",
       "      <td>0.0</td>\n",
       "      <td>0.0</td>\n",
       "      <td>0.0</td>\n",
       "      <td>0.0</td>\n",
       "      <td>0.0</td>\n",
       "      <td>0.0</td>\n",
       "      <td>0.0</td>\n",
       "      <td>0.0</td>\n",
       "      <td>...</td>\n",
       "      <td>0.0</td>\n",
       "      <td>0.0</td>\n",
       "      <td>0.0</td>\n",
       "      <td>0.0</td>\n",
       "      <td>0.0</td>\n",
       "      <td>0.0</td>\n",
       "      <td>0.0</td>\n",
       "      <td>0.0</td>\n",
       "      <td>0.0</td>\n",
       "      <td>0.0</td>\n",
       "    </tr>\n",
       "    <tr>\n",
       "      <th>4</th>\n",
       "      <td>OC1=CC=C(C=C1)[N+]([O-])=O</td>\n",
       "      <td>0.0</td>\n",
       "      <td>0.0</td>\n",
       "      <td>0.0</td>\n",
       "      <td>0.0</td>\n",
       "      <td>0.0</td>\n",
       "      <td>0.0</td>\n",
       "      <td>0.0</td>\n",
       "      <td>0.0</td>\n",
       "      <td>0.0</td>\n",
       "      <td>...</td>\n",
       "      <td>0.0</td>\n",
       "      <td>0.0</td>\n",
       "      <td>0.0</td>\n",
       "      <td>0.0</td>\n",
       "      <td>0.0</td>\n",
       "      <td>0.0</td>\n",
       "      <td>0.0</td>\n",
       "      <td>0.0</td>\n",
       "      <td>0.0</td>\n",
       "      <td>0.0</td>\n",
       "    </tr>\n",
       "  </tbody>\n",
       "</table>\n",
       "<p>5 rows × 618 columns</p>\n",
       "</div>"
      ],
      "text/plain": [
       "                                      smiles  ACEA_T47D_80hr_Negative  \\\n",
       "0                [O-][N+](=O)C1=CC=C(Cl)C=C1                      0.0   \n",
       "1  C[SiH](C)O[Si](C)(C)O[Si](C)(C)O[SiH](C)C                      NaN   \n",
       "2                   CN1CCN(CC1)C(=O)C1CCCCC1                      NaN   \n",
       "3                 NC1=CC=C(C=C1)[N+]([O-])=O                      1.0   \n",
       "4                 OC1=CC=C(C=C1)[N+]([O-])=O                      0.0   \n",
       "\n",
       "   ACEA_T47D_80hr_Positive  APR_HepG2_CellCycleArrest_24h_dn  \\\n",
       "0                      0.0                               NaN   \n",
       "1                      NaN                               NaN   \n",
       "2                      NaN                               NaN   \n",
       "3                      0.0                               0.0   \n",
       "4                      0.0                               0.0   \n",
       "\n",
       "   APR_HepG2_CellCycleArrest_24h_up  APR_HepG2_CellCycleArrest_72h_dn  \\\n",
       "0                               NaN                               NaN   \n",
       "1                               NaN                               NaN   \n",
       "2                               NaN                               NaN   \n",
       "3                               0.0                               0.0   \n",
       "4                               0.0                               0.0   \n",
       "\n",
       "   APR_HepG2_CellLoss_24h_dn  APR_HepG2_CellLoss_72h_dn  \\\n",
       "0                        NaN                        NaN   \n",
       "1                        NaN                        NaN   \n",
       "2                        NaN                        NaN   \n",
       "3                        0.0                        0.0   \n",
       "4                        0.0                        0.0   \n",
       "\n",
       "   APR_HepG2_MicrotubuleCSK_24h_dn  APR_HepG2_MicrotubuleCSK_24h_up  ...  \\\n",
       "0                              NaN                              NaN  ...   \n",
       "1                              NaN                              NaN  ...   \n",
       "2                              NaN                              NaN  ...   \n",
       "3                              0.0                              0.0  ...   \n",
       "4                              0.0                              0.0  ...   \n",
       "\n",
       "   Tanguay_ZF_120hpf_OTIC_up  Tanguay_ZF_120hpf_PE_up  \\\n",
       "0                        0.0                      0.0   \n",
       "1                        NaN                      NaN   \n",
       "2                        NaN                      NaN   \n",
       "3                        0.0                      0.0   \n",
       "4                        0.0                      0.0   \n",
       "\n",
       "   Tanguay_ZF_120hpf_PFIN_up  Tanguay_ZF_120hpf_PIG_up  \\\n",
       "0                        0.0                       0.0   \n",
       "1                        NaN                       NaN   \n",
       "2                        NaN                       NaN   \n",
       "3                        0.0                       0.0   \n",
       "4                        0.0                       0.0   \n",
       "\n",
       "   Tanguay_ZF_120hpf_SNOU_up  Tanguay_ZF_120hpf_SOMI_up  \\\n",
       "0                        0.0                        0.0   \n",
       "1                        NaN                        NaN   \n",
       "2                        NaN                        NaN   \n",
       "3                        0.0                        0.0   \n",
       "4                        0.0                        0.0   \n",
       "\n",
       "   Tanguay_ZF_120hpf_SWIM_up  Tanguay_ZF_120hpf_TRUN_up  \\\n",
       "0                        0.0                        0.0   \n",
       "1                        NaN                        NaN   \n",
       "2                        NaN                        NaN   \n",
       "3                        0.0                        0.0   \n",
       "4                        0.0                        0.0   \n",
       "\n",
       "   Tanguay_ZF_120hpf_TR_up  Tanguay_ZF_120hpf_YSE_up  \n",
       "0                      0.0                       0.0  \n",
       "1                      NaN                       NaN  \n",
       "2                      NaN                       NaN  \n",
       "3                      0.0                       0.0  \n",
       "4                      0.0                       0.0  \n",
       "\n",
       "[5 rows x 618 columns]"
      ]
     },
     "execution_count": 9,
     "metadata": {},
     "output_type": "execute_result"
    }
   ],
   "source": [
    "labels_df.head()"
   ]
  },
  {
   "cell_type": "code",
   "execution_count": 10,
   "id": "5f2d53c4",
   "metadata": {
    "ExecuteTime": {
     "end_time": "2022-02-09T14:20:47.287544Z",
     "start_time": "2022-02-09T14:20:47.256196Z"
    }
   },
   "outputs": [
    {
     "data": {
      "text/plain": [
       "[0, 645, 645, 645]"
      ]
     },
     "execution_count": 10,
     "metadata": {},
     "output_type": "execute_result"
    }
   ],
   "source": [
    "sorted(labels_df.isna().sum())[:4]"
   ]
  },
  {
   "cell_type": "markdown",
   "id": "e18f8c3a",
   "metadata": {},
   "source": [
    "So we will chose random column with least number of NAN values(645) as our labels"
   ]
  },
  {
   "cell_type": "code",
   "execution_count": 10,
   "id": "24f368dd",
   "metadata": {
    "ExecuteTime": {
     "end_time": "2022-02-09T11:23:58.405849Z",
     "start_time": "2022-02-09T11:23:57.998464Z"
    }
   },
   "outputs": [],
   "source": [
    "labels = []\n",
    "for i in labels_df:\n",
    "    if sum(labels_df[i].isna()) == 645:\n",
    "        labels.append(i)"
   ]
  },
  {
   "cell_type": "code",
   "execution_count": 11,
   "id": "08375606",
   "metadata": {
    "ExecuteTime": {
     "end_time": "2022-02-09T11:23:58.439368Z",
     "start_time": "2022-02-09T11:23:58.406763Z"
    },
    "scrolled": true
   },
   "outputs": [
    {
     "name": "stdout",
     "output_type": "stream",
     "text": [
      "0.0    7907\n",
      "1.0      24\n",
      "Name: TOX21_AR_BLA_Agonist_ch1, dtype: int64\n",
      "0.0    7543\n",
      "1.0     388\n",
      "Name: TOX21_AR_BLA_Agonist_ch2, dtype: int64\n",
      "0.0    7521\n",
      "1.0     410\n",
      "Name: TOX21_AR_BLA_Agonist_ratio, dtype: int64\n",
      "0.0    7889\n",
      "1.0      42\n",
      "Name: TOX21_AR_BLA_Antagonist_ch1, dtype: int64\n",
      "0.0    7727\n",
      "1.0     204\n",
      "Name: TOX21_AR_BLA_Antagonist_ch2, dtype: int64\n",
      "0.0    6756\n",
      "1.0    1175\n",
      "Name: TOX21_AR_BLA_Antagonist_ratio, dtype: int64\n",
      "0.0    7332\n",
      "1.0     599\n",
      "Name: TOX21_AR_BLA_Antagonist_viability, dtype: int64\n",
      "0.0    7546\n",
      "1.0     385\n",
      "Name: TOX21_AR_LUC_MDAKB2_Agonist, dtype: int64\n",
      "0.0    7081\n",
      "1.0     850\n",
      "Name: TOX21_AR_LUC_MDAKB2_Antagonist, dtype: int64\n",
      "0.0    7123\n",
      "1.0     808\n",
      "Name: TOX21_AhR_LUC_Agonist, dtype: int64\n",
      "0.0    6658\n",
      "1.0    1273\n",
      "Name: TOX21_Aromatase_Inhibition, dtype: int64\n",
      "0.0    7881\n",
      "1.0      50\n",
      "Name: TOX21_AutoFluor_HEK293_Cell_blue, dtype: int64\n",
      "0.0    7879\n",
      "1.0      52\n",
      "Name: TOX21_AutoFluor_HEK293_Media_blue, dtype: int64\n",
      "0.0    7880\n",
      "1.0      51\n",
      "Name: TOX21_AutoFluor_HEPG2_Cell_blue, dtype: int64\n",
      "0.0    7907\n",
      "1.0      24\n",
      "Name: TOX21_AutoFluor_HEPG2_Cell_green, dtype: int64\n",
      "0.0    7882\n",
      "1.0      49\n",
      "Name: TOX21_AutoFluor_HEPG2_Media_blue, dtype: int64\n",
      "0.0    7908\n",
      "1.0      23\n",
      "Name: TOX21_AutoFluor_HEPG2_Media_green, dtype: int64\n",
      "0.0    7634\n",
      "1.0     297\n",
      "Name: TOX21_ERa_BLA_Agonist_ch1, dtype: int64\n",
      "0.0    7463\n",
      "1.0     468\n",
      "Name: TOX21_ERa_BLA_Agonist_ch2, dtype: int64\n",
      "0.0    7461\n",
      "1.0     470\n",
      "Name: TOX21_ERa_BLA_Agonist_ratio, dtype: int64\n",
      "0.0    7631\n",
      "1.0     300\n",
      "Name: TOX21_ERa_BLA_Antagonist_ch1, dtype: int64\n",
      "0.0    7675\n",
      "1.0     256\n",
      "Name: TOX21_ERa_BLA_Antagonist_ch2, dtype: int64\n",
      "0.0    6901\n",
      "1.0    1030\n",
      "Name: TOX21_ERa_BLA_Antagonist_ratio, dtype: int64\n",
      "0.0    7731\n",
      "1.0     200\n",
      "Name: TOX21_ERa_BLA_Antagonist_viability, dtype: int64\n",
      "0.0    6675\n",
      "1.0    1256\n",
      "Name: TOX21_ERa_LUC_BG1_Agonist, dtype: int64\n",
      "0.0    7216\n",
      "1.0     715\n",
      "Name: TOX21_ERa_LUC_BG1_Antagonist, dtype: int64\n",
      "0.0    7601\n",
      "1.0     330\n",
      "Name: TOX21_GR_BLA_Agonist_ch1, dtype: int64\n",
      "0.0    7702\n",
      "1.0     229\n",
      "Name: TOX21_GR_BLA_Agonist_ch2, dtype: int64\n",
      "0.0    7429\n",
      "1.0     502\n",
      "Name: TOX21_GR_BLA_Agonist_ratio, dtype: int64\n",
      "0.0    7394\n",
      "1.0     537\n",
      "Name: TOX21_GR_BLA_Antagonist_ch2, dtype: int64\n",
      "0.0    7473\n",
      "1.0     458\n",
      "Name: TOX21_GR_BLA_Antagonist_ratio, dtype: int64\n",
      "0.0    7531\n",
      "1.0     400\n",
      "Name: TOX21_GR_BLA_Antagonist_viability, dtype: int64\n",
      "0.0    7907\n",
      "1.0      24\n",
      "Name: TOX21_PPARg_BLA_Agonist_ch1, dtype: int64\n",
      "0.0    7697\n",
      "1.0     234\n",
      "Name: TOX21_PPARg_BLA_Agonist_ch2, dtype: int64\n",
      "0.0    7577\n",
      "1.0     354\n",
      "Name: TOX21_PPARg_BLA_Agonist_ratio, dtype: int64\n",
      "0.0    7893\n",
      "1.0      38\n",
      "Name: TOX21_TR_LUC_GH3_Agonist, dtype: int64\n",
      "0.0    6170\n",
      "1.0    1761\n",
      "Name: TOX21_TR_LUC_GH3_Antagonist, dtype: int64\n",
      "0.0    7361\n",
      "1.0     570\n",
      "Name: TOX21_p53_BLA_p1_ch1, dtype: int64\n",
      "0.0    7460\n",
      "1.0     471\n",
      "Name: TOX21_p53_BLA_p1_ch2, dtype: int64\n",
      "0.0    7117\n",
      "1.0     814\n",
      "Name: TOX21_p53_BLA_p1_ratio, dtype: int64\n",
      "0.0    7537\n",
      "1.0     394\n",
      "Name: TOX21_p53_BLA_p1_viability, dtype: int64\n",
      "0.0    7404\n",
      "1.0     527\n",
      "Name: TOX21_p53_BLA_p2_ch1, dtype: int64\n",
      "0.0    7130\n",
      "1.0     801\n",
      "Name: TOX21_p53_BLA_p2_ch2, dtype: int64\n",
      "0.0    6900\n",
      "1.0    1031\n",
      "Name: TOX21_p53_BLA_p2_ratio, dtype: int64\n",
      "0.0    7133\n",
      "1.0     798\n",
      "Name: TOX21_p53_BLA_p2_viability, dtype: int64\n",
      "0.0    7252\n",
      "1.0     679\n",
      "Name: TOX21_p53_BLA_p3_ch1, dtype: int64\n",
      "0.0    7220\n",
      "1.0     711\n",
      "Name: TOX21_p53_BLA_p3_ch2, dtype: int64\n",
      "0.0    6972\n",
      "1.0     959\n",
      "Name: TOX21_p53_BLA_p3_ratio, dtype: int64\n",
      "0.0    7498\n",
      "1.0     433\n",
      "Name: TOX21_p53_BLA_p3_viability, dtype: int64\n",
      "0.0    7273\n",
      "1.0     658\n",
      "Name: TOX21_p53_BLA_p4_ch1, dtype: int64\n",
      "0.0    7360\n",
      "1.0     571\n",
      "Name: TOX21_p53_BLA_p4_ch2, dtype: int64\n",
      "0.0    6982\n",
      "1.0     949\n",
      "Name: TOX21_p53_BLA_p4_ratio, dtype: int64\n",
      "0.0    7260\n",
      "1.0     671\n",
      "Name: TOX21_p53_BLA_p4_viability, dtype: int64\n",
      "0.0    7577\n",
      "1.0     354\n",
      "Name: TOX21_p53_BLA_p5_ch1, dtype: int64\n",
      "0.0    7288\n",
      "1.0     643\n",
      "Name: TOX21_p53_BLA_p5_ch2, dtype: int64\n",
      "0.0    7048\n",
      "1.0     883\n",
      "Name: TOX21_p53_BLA_p5_ratio, dtype: int64\n",
      "0.0    7603\n",
      "1.0     328\n",
      "Name: TOX21_p53_BLA_p5_viability, dtype: int64\n"
     ]
    }
   ],
   "source": [
    "# Checking how balance our labesl are:\n",
    "for i in labels:\n",
    "    print(labels_df[i].value_counts())"
   ]
  },
  {
   "cell_type": "code",
   "execution_count": 12,
   "id": "c757be55",
   "metadata": {
    "ExecuteTime": {
     "end_time": "2022-02-09T11:23:58.454863Z",
     "start_time": "2022-02-09T11:23:58.440316Z"
    }
   },
   "outputs": [],
   "source": [
    "#All of labels are badly imbalced hence we will chose the best one\n",
    "portion = 0\n",
    "for i in labels:\n",
    "    zero, one = labels_df[i].value_counts()\n",
    "    if one / zero > portion:\n",
    "        final_label = i\n",
    "        portion = one / zero"
   ]
  },
  {
   "cell_type": "code",
   "execution_count": 13,
   "id": "9113c4b6",
   "metadata": {
    "ExecuteTime": {
     "end_time": "2022-02-09T11:23:58.459205Z",
     "start_time": "2022-02-09T11:23:58.455878Z"
    }
   },
   "outputs": [
    {
     "data": {
      "text/plain": [
       "(0.2854132901134522, 'TOX21_TR_LUC_GH3_Antagonist')"
      ]
     },
     "execution_count": 13,
     "metadata": {},
     "output_type": "execute_result"
    }
   ],
   "source": [
    "portion, final_label"
   ]
  },
  {
   "cell_type": "code",
   "execution_count": null,
   "id": "b21bd347",
   "metadata": {},
   "outputs": [],
   "source": []
  },
  {
   "cell_type": "code",
   "execution_count": 14,
   "id": "6fd8ee0f",
   "metadata": {
    "ExecuteTime": {
     "end_time": "2022-02-09T11:23:58.462464Z",
     "start_time": "2022-02-09T11:23:58.460366Z"
    },
    "scrolled": true
   },
   "outputs": [],
   "source": [
    "#assing final label as our label\n",
    "toxcast_data['label'] = labels_df[final_label]"
   ]
  },
  {
   "cell_type": "markdown",
   "id": "89a5115d",
   "metadata": {},
   "source": [
    "### Handling Nans values"
   ]
  },
  {
   "cell_type": "code",
   "execution_count": 15,
   "id": "093a38db",
   "metadata": {
    "ExecuteTime": {
     "end_time": "2022-02-09T11:23:58.469046Z",
     "start_time": "2022-02-09T11:23:58.463422Z"
    }
   },
   "outputs": [
    {
     "data": {
      "text/plain": [
       "1081"
      ]
     },
     "execution_count": 15,
     "metadata": {},
     "output_type": "execute_result"
    }
   ],
   "source": [
    "toxcast_data.isna().sum().sum()"
   ]
  },
  {
   "cell_type": "code",
   "execution_count": 16,
   "id": "e680ce0b",
   "metadata": {
    "ExecuteTime": {
     "end_time": "2022-02-09T11:23:58.475646Z",
     "start_time": "2022-02-09T11:23:58.469934Z"
    }
   },
   "outputs": [
    {
     "data": {
      "text/plain": [
       "[109, 109, 109, 109, 645]"
      ]
     },
     "execution_count": 16,
     "metadata": {},
     "output_type": "execute_result"
    }
   ],
   "source": [
    "list(filter((0).__ne__, toxcast_data.isna().sum()))"
   ]
  },
  {
   "cell_type": "code",
   "execution_count": 17,
   "id": "163e7428",
   "metadata": {
    "ExecuteTime": {
     "end_time": "2022-02-09T11:23:58.492972Z",
     "start_time": "2022-02-09T11:23:58.476766Z"
    }
   },
   "outputs": [],
   "source": [
    "#There are onlt 4 columns have nan values and they are a small percentage among all data\n",
    "#We remove that rows with no doubt\n",
    "\n",
    "toxcast_data.dropna(inplace=True)\n",
    "toxcast_data.reset_index(drop=True, inplace=True)"
   ]
  },
  {
   "cell_type": "code",
   "execution_count": 18,
   "id": "cf503127",
   "metadata": {
    "ExecuteTime": {
     "end_time": "2022-02-09T11:23:58.499041Z",
     "start_time": "2022-02-09T11:23:58.493949Z"
    }
   },
   "outputs": [
    {
     "data": {
      "text/plain": [
       "0"
      ]
     },
     "execution_count": 18,
     "metadata": {},
     "output_type": "execute_result"
    }
   ],
   "source": [
    "toxcast_data.isna().sum().sum()"
   ]
  },
  {
   "cell_type": "markdown",
   "id": "1b504411",
   "metadata": {},
   "source": [
    "### Seeking for one variable features"
   ]
  },
  {
   "cell_type": "code",
   "execution_count": 19,
   "id": "d9742d2c",
   "metadata": {
    "ExecuteTime": {
     "end_time": "2022-02-09T11:23:58.536434Z",
     "start_time": "2022-02-09T11:23:58.499913Z"
    },
    "code_folding": [],
    "scrolled": true
   },
   "outputs": [
    {
     "name": "stdout",
     "output_type": "stream",
     "text": [
      "('RDKit2DNormalized_calculated', <class 'bool'>)\n",
      "('Ipc', <class 'numpy.float64'>)\n",
      "('SMR_VSA8', <class 'numpy.float64'>)\n",
      "('SlogP_VSA9', <class 'numpy.float64'>)\n",
      "('VSA_EState1', <class 'numpy.float64'>)\n",
      "('VSA_EState3', <class 'numpy.float64'>)\n",
      "('VSA_EState4', <class 'numpy.float64'>)\n",
      "('VSA_EState6', <class 'numpy.float64'>)\n",
      "('VSA_EState7', <class 'numpy.float64'>)\n",
      "('fr_diazo', <class 'numpy.float64'>)\n",
      "('fr_prisulfonamd', <class 'numpy.float64'>)\n"
     ]
    }
   ],
   "source": [
    "unique_columns = []\n",
    "for i in toxcast_data:\n",
    "    if len(toxcast_data[i].unique()) == 1:\n",
    "        print(i)\n",
    "        unique_columns.append(i)"
   ]
  },
  {
   "cell_type": "code",
   "execution_count": 20,
   "id": "5d82406a",
   "metadata": {
    "ExecuteTime": {
     "end_time": "2022-02-09T11:23:58.540003Z",
     "start_time": "2022-02-09T11:23:58.537442Z"
    }
   },
   "outputs": [
    {
     "data": {
      "text/plain": [
       "[\"('RDKit2DNormalized_calculated', <class 'bool'>)\",\n",
       " \"('Ipc', <class 'numpy.float64'>)\",\n",
       " \"('SMR_VSA8', <class 'numpy.float64'>)\",\n",
       " \"('SlogP_VSA9', <class 'numpy.float64'>)\",\n",
       " \"('VSA_EState1', <class 'numpy.float64'>)\",\n",
       " \"('VSA_EState3', <class 'numpy.float64'>)\",\n",
       " \"('VSA_EState4', <class 'numpy.float64'>)\",\n",
       " \"('VSA_EState6', <class 'numpy.float64'>)\",\n",
       " \"('VSA_EState7', <class 'numpy.float64'>)\",\n",
       " \"('fr_diazo', <class 'numpy.float64'>)\",\n",
       " \"('fr_prisulfonamd', <class 'numpy.float64'>)\"]"
      ]
     },
     "execution_count": 20,
     "metadata": {},
     "output_type": "execute_result"
    }
   ],
   "source": [
    "unique_columns"
   ]
  },
  {
   "cell_type": "code",
   "execution_count": 21,
   "id": "816bb9c0",
   "metadata": {
    "ExecuteTime": {
     "end_time": "2022-02-09T11:23:58.547060Z",
     "start_time": "2022-02-09T11:23:58.543852Z"
    }
   },
   "outputs": [],
   "source": [
    "#One variable features hold no informaiton in our dataset so we remove that columns\n",
    "toxcast_data.drop(unique_columns, axis=1, inplace=True)"
   ]
  },
  {
   "cell_type": "code",
   "execution_count": 22,
   "id": "a98ea8f2",
   "metadata": {
    "ExecuteTime": {
     "end_time": "2022-02-09T11:23:58.581630Z",
     "start_time": "2022-02-09T11:23:58.549735Z"
    }
   },
   "outputs": [],
   "source": [
    "#check one variable features again\n",
    "for i in toxcast_data:\n",
    "    if len(toxcast_data[i].unique()) == 1:\n",
    "        print(i)"
   ]
  },
  {
   "cell_type": "markdown",
   "id": "875c4f29",
   "metadata": {},
   "source": [
    "### Split features and labels"
   ]
  },
  {
   "cell_type": "code",
   "execution_count": 23,
   "id": "0758343b",
   "metadata": {
    "ExecuteTime": {
     "end_time": "2022-02-09T11:23:58.584259Z",
     "start_time": "2022-02-09T11:23:58.582557Z"
    }
   },
   "outputs": [],
   "source": [
    "label = toxcast_data['label']"
   ]
  },
  {
   "cell_type": "code",
   "execution_count": 24,
   "id": "aa096bc1",
   "metadata": {
    "ExecuteTime": {
     "end_time": "2022-02-09T11:23:58.588352Z",
     "start_time": "2022-02-09T11:23:58.585443Z"
    }
   },
   "outputs": [],
   "source": [
    "toxcast_data = toxcast_data.drop(['label'], axis=1)"
   ]
  },
  {
   "cell_type": "markdown",
   "id": "5447cb67",
   "metadata": {},
   "source": [
    "###  Changing column names"
   ]
  },
  {
   "cell_type": "code",
   "execution_count": 25,
   "id": "f166e6a7",
   "metadata": {
    "ExecuteTime": {
     "end_time": "2022-02-09T11:23:58.601236Z",
     "start_time": "2022-02-09T11:23:58.589308Z"
    },
    "scrolled": true
   },
   "outputs": [
    {
     "data": {
      "text/html": [
       "<div>\n",
       "<style scoped>\n",
       "    .dataframe tbody tr th:only-of-type {\n",
       "        vertical-align: middle;\n",
       "    }\n",
       "\n",
       "    .dataframe tbody tr th {\n",
       "        vertical-align: top;\n",
       "    }\n",
       "\n",
       "    .dataframe thead th {\n",
       "        text-align: right;\n",
       "    }\n",
       "</style>\n",
       "<table border=\"1\" class=\"dataframe\">\n",
       "  <thead>\n",
       "    <tr style=\"text-align: right;\">\n",
       "      <th></th>\n",
       "      <th>0</th>\n",
       "      <th>1</th>\n",
       "      <th>2</th>\n",
       "      <th>3</th>\n",
       "      <th>4</th>\n",
       "      <th>5</th>\n",
       "      <th>6</th>\n",
       "      <th>7</th>\n",
       "      <th>8</th>\n",
       "      <th>9</th>\n",
       "      <th>...</th>\n",
       "      <th>180</th>\n",
       "      <th>181</th>\n",
       "      <th>182</th>\n",
       "      <th>183</th>\n",
       "      <th>184</th>\n",
       "      <th>185</th>\n",
       "      <th>186</th>\n",
       "      <th>187</th>\n",
       "      <th>188</th>\n",
       "      <th>189</th>\n",
       "    </tr>\n",
       "  </thead>\n",
       "  <tbody>\n",
       "    <tr>\n",
       "      <th>0</th>\n",
       "      <td>0.975099</td>\n",
       "      <td>0.013842</td>\n",
       "      <td>0.003617</td>\n",
       "      <td>0.001544</td>\n",
       "      <td>0.002240</td>\n",
       "      <td>0.003400</td>\n",
       "      <td>0.001898</td>\n",
       "      <td>0.002740</td>\n",
       "      <td>0.002258</td>\n",
       "      <td>0.002597</td>\n",
       "      <td>...</td>\n",
       "      <td>1.593061e-17</td>\n",
       "      <td>5.766101e-14</td>\n",
       "      <td>2.957989e-11</td>\n",
       "      <td>0.168378</td>\n",
       "      <td>0.16738</td>\n",
       "      <td>1.481515e-18</td>\n",
       "      <td>2.324150e-16</td>\n",
       "      <td>4.703598e-08</td>\n",
       "      <td>0.166633</td>\n",
       "      <td>0.307979</td>\n",
       "    </tr>\n",
       "    <tr>\n",
       "      <th>1</th>\n",
       "      <td>0.996567</td>\n",
       "      <td>0.006574</td>\n",
       "      <td>0.059485</td>\n",
       "      <td>0.147276</td>\n",
       "      <td>0.457648</td>\n",
       "      <td>0.019493</td>\n",
       "      <td>0.076205</td>\n",
       "      <td>0.957788</td>\n",
       "      <td>0.220093</td>\n",
       "      <td>0.989140</td>\n",
       "      <td>...</td>\n",
       "      <td>1.593061e-17</td>\n",
       "      <td>5.766101e-14</td>\n",
       "      <td>2.957989e-11</td>\n",
       "      <td>0.168378</td>\n",
       "      <td>0.16738</td>\n",
       "      <td>1.481515e-18</td>\n",
       "      <td>2.324150e-16</td>\n",
       "      <td>4.703598e-08</td>\n",
       "      <td>0.166633</td>\n",
       "      <td>0.673632</td>\n",
       "    </tr>\n",
       "    <tr>\n",
       "      <th>2</th>\n",
       "      <td>0.627583</td>\n",
       "      <td>0.010335</td>\n",
       "      <td>0.026948</td>\n",
       "      <td>0.068241</td>\n",
       "      <td>0.048620</td>\n",
       "      <td>0.033934</td>\n",
       "      <td>0.125366</td>\n",
       "      <td>0.085699</td>\n",
       "      <td>0.180002</td>\n",
       "      <td>0.115258</td>\n",
       "      <td>...</td>\n",
       "      <td>1.593061e-17</td>\n",
       "      <td>5.766101e-14</td>\n",
       "      <td>2.957989e-11</td>\n",
       "      <td>0.168378</td>\n",
       "      <td>0.16738</td>\n",
       "      <td>1.481515e-18</td>\n",
       "      <td>2.324150e-16</td>\n",
       "      <td>4.703598e-08</td>\n",
       "      <td>0.166633</td>\n",
       "      <td>0.591018</td>\n",
       "    </tr>\n",
       "    <tr>\n",
       "      <th>3</th>\n",
       "      <td>0.975099</td>\n",
       "      <td>0.013568</td>\n",
       "      <td>0.003617</td>\n",
       "      <td>0.001953</td>\n",
       "      <td>0.001234</td>\n",
       "      <td>0.003400</td>\n",
       "      <td>0.002277</td>\n",
       "      <td>0.001882</td>\n",
       "      <td>0.002913</td>\n",
       "      <td>0.001287</td>\n",
       "      <td>...</td>\n",
       "      <td>1.593061e-17</td>\n",
       "      <td>5.766101e-14</td>\n",
       "      <td>2.957989e-11</td>\n",
       "      <td>0.168378</td>\n",
       "      <td>0.16738</td>\n",
       "      <td>1.481515e-18</td>\n",
       "      <td>2.324150e-16</td>\n",
       "      <td>4.703598e-08</td>\n",
       "      <td>0.166633</td>\n",
       "      <td>0.187246</td>\n",
       "    </tr>\n",
       "    <tr>\n",
       "      <th>4</th>\n",
       "      <td>0.975099</td>\n",
       "      <td>0.013472</td>\n",
       "      <td>0.003617</td>\n",
       "      <td>0.001677</td>\n",
       "      <td>0.001063</td>\n",
       "      <td>0.003400</td>\n",
       "      <td>0.002024</td>\n",
       "      <td>0.001720</td>\n",
       "      <td>0.002471</td>\n",
       "      <td>0.001076</td>\n",
       "      <td>...</td>\n",
       "      <td>1.593061e-17</td>\n",
       "      <td>5.766101e-14</td>\n",
       "      <td>2.957989e-11</td>\n",
       "      <td>0.168378</td>\n",
       "      <td>0.16738</td>\n",
       "      <td>1.481515e-18</td>\n",
       "      <td>2.324150e-16</td>\n",
       "      <td>4.703598e-08</td>\n",
       "      <td>0.166633</td>\n",
       "      <td>0.317261</td>\n",
       "    </tr>\n",
       "  </tbody>\n",
       "</table>\n",
       "<p>5 rows × 190 columns</p>\n",
       "</div>"
      ],
      "text/plain": [
       "        0         1         2         3         4         5         6    \\\n",
       "0  0.975099  0.013842  0.003617  0.001544  0.002240  0.003400  0.001898   \n",
       "1  0.996567  0.006574  0.059485  0.147276  0.457648  0.019493  0.076205   \n",
       "2  0.627583  0.010335  0.026948  0.068241  0.048620  0.033934  0.125366   \n",
       "3  0.975099  0.013568  0.003617  0.001953  0.001234  0.003400  0.002277   \n",
       "4  0.975099  0.013472  0.003617  0.001677  0.001063  0.003400  0.002024   \n",
       "\n",
       "        7         8         9    ...           180           181  \\\n",
       "0  0.002740  0.002258  0.002597  ...  1.593061e-17  5.766101e-14   \n",
       "1  0.957788  0.220093  0.989140  ...  1.593061e-17  5.766101e-14   \n",
       "2  0.085699  0.180002  0.115258  ...  1.593061e-17  5.766101e-14   \n",
       "3  0.001882  0.002913  0.001287  ...  1.593061e-17  5.766101e-14   \n",
       "4  0.001720  0.002471  0.001076  ...  1.593061e-17  5.766101e-14   \n",
       "\n",
       "            182       183      184           185           186           187  \\\n",
       "0  2.957989e-11  0.168378  0.16738  1.481515e-18  2.324150e-16  4.703598e-08   \n",
       "1  2.957989e-11  0.168378  0.16738  1.481515e-18  2.324150e-16  4.703598e-08   \n",
       "2  2.957989e-11  0.168378  0.16738  1.481515e-18  2.324150e-16  4.703598e-08   \n",
       "3  2.957989e-11  0.168378  0.16738  1.481515e-18  2.324150e-16  4.703598e-08   \n",
       "4  2.957989e-11  0.168378  0.16738  1.481515e-18  2.324150e-16  4.703598e-08   \n",
       "\n",
       "        188       189  \n",
       "0  0.166633  0.307979  \n",
       "1  0.166633  0.673632  \n",
       "2  0.166633  0.591018  \n",
       "3  0.166633  0.187246  \n",
       "4  0.166633  0.317261  \n",
       "\n",
       "[5 rows x 190 columns]"
      ]
     },
     "execution_count": 25,
     "metadata": {},
     "output_type": "execute_result"
    }
   ],
   "source": [
    "#The columns are a little bit dizzy better to change their names to numbers\n",
    "toxcast_data.columns = range(toxcast_data.shape[1])\n",
    "toxcast_data.head()"
   ]
  },
  {
   "cell_type": "markdown",
   "id": "b238e169",
   "metadata": {},
   "source": [
    "### Removing correlated data"
   ]
  },
  {
   "cell_type": "code",
   "execution_count": 26,
   "id": "c25ab589",
   "metadata": {
    "ExecuteTime": {
     "end_time": "2022-02-09T11:23:59.271744Z",
     "start_time": "2022-02-09T11:23:58.602723Z"
    },
    "code_folding": [],
    "scrolled": true
   },
   "outputs": [
    {
     "name": "stdout",
     "output_type": "stream",
     "text": [
      "Top Absolute Correlations\n",
      "17955\n",
      "                0\n",
      "112 127  1.000000\n",
      "37  39   0.999982\n",
      "25  47   0.999973\n",
      "32  47   0.997984\n",
      "25  32   0.997873\n",
      "...           ...\n",
      "157 186  0.000021\n",
      "60  82   0.000019\n",
      "96  153  0.000018\n",
      "9   103  0.000017\n",
      "119 125  0.000003\n",
      "\n",
      "[17955 rows x 1 columns]\n"
     ]
    }
   ],
   "source": [
    "def get_redundant_pairs(df):\n",
    "    '''Get diagonal and lower triangular pairs of correlation matrix'''\n",
    "    pairs_to_drop = set()\n",
    "    cols = df.columns\n",
    "    for i in range(0, df.shape[1]):\n",
    "        for j in range(0, i + 1):\n",
    "            pairs_to_drop.add((cols[i], cols[j]))\n",
    "    return pairs_to_drop\n",
    "\n",
    "\n",
    "def get_top_abs_correlations(df):\n",
    "    au_corr = df.corr().abs().unstack()\n",
    "    labels_to_drop = get_redundant_pairs(df)\n",
    "    au_corr = au_corr.drop(labels=labels_to_drop).sort_values(ascending=False)\n",
    "    print(len(au_corr))\n",
    "    return pd.DataFrame(au_corr)\n",
    "\n",
    "\n",
    "print(\"Top Absolute Correlations\")\n",
    "print(get_top_abs_correlations(toxcast_data))"
   ]
  },
  {
   "cell_type": "markdown",
   "id": "5ea3f9a8",
   "metadata": {},
   "source": [
    "Wow there are too many correlated data\n",
    "Lets take take a look at plot"
   ]
  },
  {
   "cell_type": "code",
   "execution_count": 27,
   "id": "00bf13d0",
   "metadata": {
    "ExecuteTime": {
     "end_time": "2022-02-09T11:23:59.906483Z",
     "start_time": "2022-02-09T11:23:59.272675Z"
    }
   },
   "outputs": [
    {
     "name": "stdout",
     "output_type": "stream",
     "text": [
      "17955\n"
     ]
    }
   ],
   "source": [
    "relations = get_top_abs_correlations(toxcast_data)[0].values"
   ]
  },
  {
   "cell_type": "code",
   "execution_count": 28,
   "id": "fbd23164",
   "metadata": {
    "ExecuteTime": {
     "end_time": "2022-02-09T11:24:00.117279Z",
     "start_time": "2022-02-09T11:23:59.907384Z"
    }
   },
   "outputs": [
    {
     "data": {
      "image/png": "[encoded data removed]",
      "text/plain": [
       "<Figure size 600x400 with 1 Axes>"
      ]
     },
     "metadata": {
      "needs_background": "light"
     },
     "output_type": "display_data"
    }
   ],
   "source": [
    "plt.figure(dpi=100)\n",
    "sns.histplot(relations, kde=True, stat=\"count\", linewidth=0)\n",
    "sns.set_style(\"whitegrid\")\n",
    "plt.xlabel('value')\n",
    "plt.xticks()\n",
    "plt.show()"
   ]
  },
  {
   "cell_type": "code",
   "execution_count": 29,
   "id": "3c159e0a",
   "metadata": {
    "ExecuteTime": {
     "end_time": "2022-02-09T11:24:00.222302Z",
     "start_time": "2022-02-09T11:24:00.118398Z"
    },
    "scrolled": false
   },
   "outputs": [
    {
     "data": {
      "image/png": "[encoded data removed]",
      "text/plain": [
       "<Figure size 600x400 with 1 Axes>"
      ]
     },
     "metadata": {},
     "output_type": "display_data"
    }
   ],
   "source": [
    "#zoom in greater then 0.4\n",
    "bounded_correlation = [i for i in relations if i > 0.4]\n",
    "\n",
    "plt.figure(dpi=100)\n",
    "sns.histplot(bounded_correlation, kde=True, stat=\"count\", linewidth=0)\n",
    "sns.set_style(\"whitegrid\")\n",
    "plt.xlabel('value')\n",
    "plt.xticks()\n",
    "plt.show()"
   ]
  },
  {
   "cell_type": "markdown",
   "id": "17245bde",
   "metadata": {
    "ExecuteTime": {
     "end_time": "2022-02-01T19:32:20.970861Z",
     "start_time": "2022-02-01T19:32:20.969491Z"
    }
   },
   "source": [
    "we have a lot of columns with over 0.8 correlation with removing \n",
    "these columns the information would not be changed\n",
    "But for achieving more accurate models we don't do this"
   ]
  },
  {
   "cell_type": "code",
   "execution_count": 30,
   "id": "614dbc4e",
   "metadata": {
    "ExecuteTime": {
     "end_time": "2022-02-09T11:24:00.720783Z",
     "start_time": "2022-02-09T11:24:00.223249Z"
    }
   },
   "outputs": [],
   "source": [
    "#This approach is fatsitc it looks at the previous column if the correlation is high it removes it\n",
    "\n",
    "# Create correlation matrix\n",
    "corr_matrix = toxcast_data.corr().abs()\n",
    "\n",
    "# Select upper triangle of correlation matrix\n",
    "upper = corr_matrix.where(\n",
    "    np.triu(np.ones(corr_matrix.shape), k=1).astype(bool))\n",
    "\n",
    "# Find features with correlation greater than 0.8\n",
    "to_drop = [column for column in upper.columns if any(upper[column] > 0.80)]\n",
    "\n",
    "# Drop features\n",
    "final_toxcast_data = toxcast_data.drop(to_drop, axis=1)"
   ]
  },
  {
   "cell_type": "code",
   "execution_count": 31,
   "id": "30a0b8c0",
   "metadata": {
    "ExecuteTime": {
     "end_time": "2022-02-09T11:24:01.148668Z",
     "start_time": "2022-02-09T11:24:00.721739Z"
    },
    "scrolled": true
   },
   "outputs": [
    {
     "name": "stdout",
     "output_type": "stream",
     "text": [
      "9045\n"
     ]
    },
    {
     "data": {
      "image/png": "[encoded data removed]",
      "text/plain": [
       "<Figure size 600x400 with 1 Axes>"
      ]
     },
     "metadata": {},
     "output_type": "display_data"
    }
   ],
   "source": [
    "#zoom in greater then 0.4\n",
    "final_relations = get_top_abs_correlations(final_toxcast_data)[0].values\n",
    "bounded_correlation = [i for i in final_relations if i > 0.4]\n",
    "plt.figure(dpi=100)\n",
    "sns.histplot(bounded_correlation, kde=True, stat=\"count\", linewidth=0)\n",
    "sns.set_style(\"whitegrid\")\n",
    "plt.title('Correlation')\n",
    "plt.xlabel('value')\n",
    "plt.xticks()\n",
    "plt.show()"
   ]
  },
  {
   "cell_type": "markdown",
   "id": "4cc04991",
   "metadata": {
    "ExecuteTime": {
     "end_time": "2022-02-01T19:35:58.519111Z",
     "start_time": "2022-02-01T19:35:58.516466Z"
    }
   },
   "source": [
    "Wow it looks like a normal correlation"
   ]
  },
  {
   "cell_type": "code",
   "execution_count": 32,
   "id": "04f8ddef",
   "metadata": {
    "ExecuteTime": {
     "end_time": "2022-02-09T11:24:01.151628Z",
     "start_time": "2022-02-09T11:24:01.149483Z"
    },
    "scrolled": true
   },
   "outputs": [
    {
     "data": {
      "text/plain": [
       "135"
      ]
     },
     "execution_count": 32,
     "metadata": {},
     "output_type": "execute_result"
    }
   ],
   "source": [
    "final_toxcast_data.shape[1]"
   ]
  },
  {
   "cell_type": "code",
   "execution_count": 33,
   "id": "24577c6f",
   "metadata": {
    "ExecuteTime": {
     "end_time": "2022-02-09T11:24:01.168890Z",
     "start_time": "2022-02-09T11:24:01.152399Z"
    }
   },
   "outputs": [
    {
     "data": {
      "text/html": [
       "<div>\n",
       "<style scoped>\n",
       "    .dataframe tbody tr th:only-of-type {\n",
       "        vertical-align: middle;\n",
       "    }\n",
       "\n",
       "    .dataframe tbody tr th {\n",
       "        vertical-align: top;\n",
       "    }\n",
       "\n",
       "    .dataframe thead th {\n",
       "        text-align: right;\n",
       "    }\n",
       "</style>\n",
       "<table border=\"1\" class=\"dataframe\">\n",
       "  <thead>\n",
       "    <tr style=\"text-align: right;\">\n",
       "      <th></th>\n",
       "      <th>0</th>\n",
       "      <th>1</th>\n",
       "      <th>14</th>\n",
       "      <th>15</th>\n",
       "      <th>16</th>\n",
       "      <th>17</th>\n",
       "      <th>18</th>\n",
       "      <th>19</th>\n",
       "      <th>20</th>\n",
       "      <th>21</th>\n",
       "      <th>...</th>\n",
       "      <th>180</th>\n",
       "      <th>181</th>\n",
       "      <th>182</th>\n",
       "      <th>183</th>\n",
       "      <th>184</th>\n",
       "      <th>185</th>\n",
       "      <th>186</th>\n",
       "      <th>187</th>\n",
       "      <th>188</th>\n",
       "      <th>189</th>\n",
       "    </tr>\n",
       "  </thead>\n",
       "  <tbody>\n",
       "    <tr>\n",
       "      <th>0</th>\n",
       "      <td>0.975099</td>\n",
       "      <td>0.013842</td>\n",
       "      <td>5.438167e-01</td>\n",
       "      <td>5.346966e-01</td>\n",
       "      <td>6.893569e-07</td>\n",
       "      <td>0.212674</td>\n",
       "      <td>0.117444</td>\n",
       "      <td>2.509948e-11</td>\n",
       "      <td>8.947108e-01</td>\n",
       "      <td>5.856109e-17</td>\n",
       "      <td>...</td>\n",
       "      <td>1.593061e-17</td>\n",
       "      <td>5.766101e-14</td>\n",
       "      <td>2.957989e-11</td>\n",
       "      <td>0.168378</td>\n",
       "      <td>0.16738</td>\n",
       "      <td>1.481515e-18</td>\n",
       "      <td>2.324150e-16</td>\n",
       "      <td>4.703598e-08</td>\n",
       "      <td>0.166633</td>\n",
       "      <td>0.307979</td>\n",
       "    </tr>\n",
       "    <tr>\n",
       "      <th>1</th>\n",
       "      <td>0.996567</td>\n",
       "      <td>0.006574</td>\n",
       "      <td>9.228296e-01</td>\n",
       "      <td>2.175235e-08</td>\n",
       "      <td>6.893569e-07</td>\n",
       "      <td>0.100218</td>\n",
       "      <td>0.019674</td>\n",
       "      <td>2.509948e-11</td>\n",
       "      <td>9.258417e-11</td>\n",
       "      <td>5.856109e-17</td>\n",
       "      <td>...</td>\n",
       "      <td>1.593061e-17</td>\n",
       "      <td>5.766101e-14</td>\n",
       "      <td>2.957989e-11</td>\n",
       "      <td>0.168378</td>\n",
       "      <td>0.16738</td>\n",
       "      <td>1.481515e-18</td>\n",
       "      <td>2.324150e-16</td>\n",
       "      <td>4.703598e-08</td>\n",
       "      <td>0.166633</td>\n",
       "      <td>0.673632</td>\n",
       "    </tr>\n",
       "    <tr>\n",
       "      <th>2</th>\n",
       "      <td>0.627583</td>\n",
       "      <td>0.010335</td>\n",
       "      <td>4.074888e-10</td>\n",
       "      <td>2.648697e-01</td>\n",
       "      <td>6.893569e-07</td>\n",
       "      <td>0.100218</td>\n",
       "      <td>0.323450</td>\n",
       "      <td>8.085811e-01</td>\n",
       "      <td>8.568377e-01</td>\n",
       "      <td>5.856109e-17</td>\n",
       "      <td>...</td>\n",
       "      <td>1.593061e-17</td>\n",
       "      <td>5.766101e-14</td>\n",
       "      <td>2.957989e-11</td>\n",
       "      <td>0.168378</td>\n",
       "      <td>0.16738</td>\n",
       "      <td>1.481515e-18</td>\n",
       "      <td>2.324150e-16</td>\n",
       "      <td>4.703598e-08</td>\n",
       "      <td>0.166633</td>\n",
       "      <td>0.591018</td>\n",
       "    </tr>\n",
       "    <tr>\n",
       "      <th>3</th>\n",
       "      <td>0.975099</td>\n",
       "      <td>0.013568</td>\n",
       "      <td>5.438167e-01</td>\n",
       "      <td>5.346966e-01</td>\n",
       "      <td>6.893569e-07</td>\n",
       "      <td>0.212674</td>\n",
       "      <td>0.135223</td>\n",
       "      <td>2.509948e-11</td>\n",
       "      <td>8.947108e-01</td>\n",
       "      <td>5.856109e-17</td>\n",
       "      <td>...</td>\n",
       "      <td>1.593061e-17</td>\n",
       "      <td>5.766101e-14</td>\n",
       "      <td>2.957989e-11</td>\n",
       "      <td>0.168378</td>\n",
       "      <td>0.16738</td>\n",
       "      <td>1.481515e-18</td>\n",
       "      <td>2.324150e-16</td>\n",
       "      <td>4.703598e-08</td>\n",
       "      <td>0.166633</td>\n",
       "      <td>0.187246</td>\n",
       "    </tr>\n",
       "    <tr>\n",
       "      <th>4</th>\n",
       "      <td>0.975099</td>\n",
       "      <td>0.013472</td>\n",
       "      <td>5.438167e-01</td>\n",
       "      <td>5.346966e-01</td>\n",
       "      <td>6.893569e-07</td>\n",
       "      <td>0.405153</td>\n",
       "      <td>0.019674</td>\n",
       "      <td>2.509948e-11</td>\n",
       "      <td>8.947108e-01</td>\n",
       "      <td>5.856109e-17</td>\n",
       "      <td>...</td>\n",
       "      <td>1.593061e-17</td>\n",
       "      <td>5.766101e-14</td>\n",
       "      <td>2.957989e-11</td>\n",
       "      <td>0.168378</td>\n",
       "      <td>0.16738</td>\n",
       "      <td>1.481515e-18</td>\n",
       "      <td>2.324150e-16</td>\n",
       "      <td>4.703598e-08</td>\n",
       "      <td>0.166633</td>\n",
       "      <td>0.317261</td>\n",
       "    </tr>\n",
       "    <tr>\n",
       "      <th>...</th>\n",
       "      <td>...</td>\n",
       "      <td>...</td>\n",
       "      <td>...</td>\n",
       "      <td>...</td>\n",
       "      <td>...</td>\n",
       "      <td>...</td>\n",
       "      <td>...</td>\n",
       "      <td>...</td>\n",
       "      <td>...</td>\n",
       "      <td>...</td>\n",
       "      <td>...</td>\n",
       "      <td>...</td>\n",
       "      <td>...</td>\n",
       "      <td>...</td>\n",
       "      <td>...</td>\n",
       "      <td>...</td>\n",
       "      <td>...</td>\n",
       "      <td>...</td>\n",
       "      <td>...</td>\n",
       "      <td>...</td>\n",
       "      <td>...</td>\n",
       "    </tr>\n",
       "    <tr>\n",
       "      <th>7826</th>\n",
       "      <td>0.989697</td>\n",
       "      <td>0.054932</td>\n",
       "      <td>4.074888e-10</td>\n",
       "      <td>5.390041e-01</td>\n",
       "      <td>6.893569e-07</td>\n",
       "      <td>0.615115</td>\n",
       "      <td>0.155749</td>\n",
       "      <td>4.810067e-01</td>\n",
       "      <td>9.999396e-01</td>\n",
       "      <td>5.856109e-17</td>\n",
       "      <td>...</td>\n",
       "      <td>1.593061e-17</td>\n",
       "      <td>5.766101e-14</td>\n",
       "      <td>2.957989e-11</td>\n",
       "      <td>0.168378</td>\n",
       "      <td>0.16738</td>\n",
       "      <td>1.481515e-18</td>\n",
       "      <td>2.324150e-16</td>\n",
       "      <td>1.000000e+00</td>\n",
       "      <td>0.166633</td>\n",
       "      <td>0.008322</td>\n",
       "    </tr>\n",
       "    <tr>\n",
       "      <th>7827</th>\n",
       "      <td>0.000020</td>\n",
       "      <td>0.089503</td>\n",
       "      <td>8.294955e-01</td>\n",
       "      <td>6.547047e-01</td>\n",
       "      <td>6.893569e-07</td>\n",
       "      <td>0.100218</td>\n",
       "      <td>0.019674</td>\n",
       "      <td>1.734398e-01</td>\n",
       "      <td>8.501810e-01</td>\n",
       "      <td>5.856109e-17</td>\n",
       "      <td>...</td>\n",
       "      <td>1.593061e-17</td>\n",
       "      <td>5.766101e-14</td>\n",
       "      <td>2.957989e-11</td>\n",
       "      <td>0.168378</td>\n",
       "      <td>0.16738</td>\n",
       "      <td>1.481515e-18</td>\n",
       "      <td>2.324150e-16</td>\n",
       "      <td>4.703598e-08</td>\n",
       "      <td>0.166633</td>\n",
       "      <td>0.340066</td>\n",
       "    </tr>\n",
       "    <tr>\n",
       "      <th>7828</th>\n",
       "      <td>0.000020</td>\n",
       "      <td>0.042283</td>\n",
       "      <td>6.802820e-01</td>\n",
       "      <td>9.062810e-01</td>\n",
       "      <td>6.893569e-07</td>\n",
       "      <td>0.100218</td>\n",
       "      <td>0.019674</td>\n",
       "      <td>1.734398e-01</td>\n",
       "      <td>8.501810e-01</td>\n",
       "      <td>5.856109e-17</td>\n",
       "      <td>...</td>\n",
       "      <td>1.593061e-17</td>\n",
       "      <td>5.766101e-14</td>\n",
       "      <td>2.957989e-11</td>\n",
       "      <td>0.168378</td>\n",
       "      <td>0.16738</td>\n",
       "      <td>1.481515e-18</td>\n",
       "      <td>2.324150e-16</td>\n",
       "      <td>4.703598e-08</td>\n",
       "      <td>0.166633</td>\n",
       "      <td>0.225839</td>\n",
       "    </tr>\n",
       "    <tr>\n",
       "      <th>7829</th>\n",
       "      <td>0.000020</td>\n",
       "      <td>0.027747</td>\n",
       "      <td>8.294955e-01</td>\n",
       "      <td>6.547047e-01</td>\n",
       "      <td>6.893569e-07</td>\n",
       "      <td>0.100218</td>\n",
       "      <td>0.019674</td>\n",
       "      <td>2.509948e-11</td>\n",
       "      <td>9.664136e-01</td>\n",
       "      <td>5.856109e-17</td>\n",
       "      <td>...</td>\n",
       "      <td>1.593061e-17</td>\n",
       "      <td>5.766101e-14</td>\n",
       "      <td>2.957989e-11</td>\n",
       "      <td>0.168378</td>\n",
       "      <td>0.16738</td>\n",
       "      <td>1.481515e-18</td>\n",
       "      <td>2.324150e-16</td>\n",
       "      <td>4.703598e-08</td>\n",
       "      <td>0.166633</td>\n",
       "      <td>0.275985</td>\n",
       "    </tr>\n",
       "    <tr>\n",
       "      <th>7830</th>\n",
       "      <td>0.000020</td>\n",
       "      <td>0.461010</td>\n",
       "      <td>8.460056e-01</td>\n",
       "      <td>6.476650e-01</td>\n",
       "      <td>6.893569e-07</td>\n",
       "      <td>0.192410</td>\n",
       "      <td>0.328551</td>\n",
       "      <td>3.327549e-01</td>\n",
       "      <td>9.999898e-01</td>\n",
       "      <td>9.500751e-01</td>\n",
       "      <td>...</td>\n",
       "      <td>1.593061e-17</td>\n",
       "      <td>5.766101e-14</td>\n",
       "      <td>2.957989e-11</td>\n",
       "      <td>0.168378</td>\n",
       "      <td>0.16738</td>\n",
       "      <td>1.481515e-18</td>\n",
       "      <td>2.324150e-16</td>\n",
       "      <td>1.000000e+00</td>\n",
       "      <td>0.166633</td>\n",
       "      <td>0.004165</td>\n",
       "    </tr>\n",
       "  </tbody>\n",
       "</table>\n",
       "<p>7831 rows × 135 columns</p>\n",
       "</div>"
      ],
      "text/plain": [
       "           0         1             14            15            16        17   \\\n",
       "0     0.975099  0.013842  5.438167e-01  5.346966e-01  6.893569e-07  0.212674   \n",
       "1     0.996567  0.006574  9.228296e-01  2.175235e-08  6.893569e-07  0.100218   \n",
       "2     0.627583  0.010335  4.074888e-10  2.648697e-01  6.893569e-07  0.100218   \n",
       "3     0.975099  0.013568  5.438167e-01  5.346966e-01  6.893569e-07  0.212674   \n",
       "4     0.975099  0.013472  5.438167e-01  5.346966e-01  6.893569e-07  0.405153   \n",
       "...        ...       ...           ...           ...           ...       ...   \n",
       "7826  0.989697  0.054932  4.074888e-10  5.390041e-01  6.893569e-07  0.615115   \n",
       "7827  0.000020  0.089503  8.294955e-01  6.547047e-01  6.893569e-07  0.100218   \n",
       "7828  0.000020  0.042283  6.802820e-01  9.062810e-01  6.893569e-07  0.100218   \n",
       "7829  0.000020  0.027747  8.294955e-01  6.547047e-01  6.893569e-07  0.100218   \n",
       "7830  0.000020  0.461010  8.460056e-01  6.476650e-01  6.893569e-07  0.192410   \n",
       "\n",
       "           18            19            20            21   ...           180  \\\n",
       "0     0.117444  2.509948e-11  8.947108e-01  5.856109e-17  ...  1.593061e-17   \n",
       "1     0.019674  2.509948e-11  9.258417e-11  5.856109e-17  ...  1.593061e-17   \n",
       "2     0.323450  8.085811e-01  8.568377e-01  5.856109e-17  ...  1.593061e-17   \n",
       "3     0.135223  2.509948e-11  8.947108e-01  5.856109e-17  ...  1.593061e-17   \n",
       "4     0.019674  2.509948e-11  8.947108e-01  5.856109e-17  ...  1.593061e-17   \n",
       "...        ...           ...           ...           ...  ...           ...   \n",
       "7826  0.155749  4.810067e-01  9.999396e-01  5.856109e-17  ...  1.593061e-17   \n",
       "7827  0.019674  1.734398e-01  8.501810e-01  5.856109e-17  ...  1.593061e-17   \n",
       "7828  0.019674  1.734398e-01  8.501810e-01  5.856109e-17  ...  1.593061e-17   \n",
       "7829  0.019674  2.509948e-11  9.664136e-01  5.856109e-17  ...  1.593061e-17   \n",
       "7830  0.328551  3.327549e-01  9.999898e-01  9.500751e-01  ...  1.593061e-17   \n",
       "\n",
       "               181           182       183      184           185  \\\n",
       "0     5.766101e-14  2.957989e-11  0.168378  0.16738  1.481515e-18   \n",
       "1     5.766101e-14  2.957989e-11  0.168378  0.16738  1.481515e-18   \n",
       "2     5.766101e-14  2.957989e-11  0.168378  0.16738  1.481515e-18   \n",
       "3     5.766101e-14  2.957989e-11  0.168378  0.16738  1.481515e-18   \n",
       "4     5.766101e-14  2.957989e-11  0.168378  0.16738  1.481515e-18   \n",
       "...            ...           ...       ...      ...           ...   \n",
       "7826  5.766101e-14  2.957989e-11  0.168378  0.16738  1.481515e-18   \n",
       "7827  5.766101e-14  2.957989e-11  0.168378  0.16738  1.481515e-18   \n",
       "7828  5.766101e-14  2.957989e-11  0.168378  0.16738  1.481515e-18   \n",
       "7829  5.766101e-14  2.957989e-11  0.168378  0.16738  1.481515e-18   \n",
       "7830  5.766101e-14  2.957989e-11  0.168378  0.16738  1.481515e-18   \n",
       "\n",
       "               186           187       188       189  \n",
       "0     2.324150e-16  4.703598e-08  0.166633  0.307979  \n",
       "1     2.324150e-16  4.703598e-08  0.166633  0.673632  \n",
       "2     2.324150e-16  4.703598e-08  0.166633  0.591018  \n",
       "3     2.324150e-16  4.703598e-08  0.166633  0.187246  \n",
       "4     2.324150e-16  4.703598e-08  0.166633  0.317261  \n",
       "...            ...           ...       ...       ...  \n",
       "7826  2.324150e-16  1.000000e+00  0.166633  0.008322  \n",
       "7827  2.324150e-16  4.703598e-08  0.166633  0.340066  \n",
       "7828  2.324150e-16  4.703598e-08  0.166633  0.225839  \n",
       "7829  2.324150e-16  4.703598e-08  0.166633  0.275985  \n",
       "7830  2.324150e-16  1.000000e+00  0.166633  0.004165  \n",
       "\n",
       "[7831 rows x 135 columns]"
      ]
     },
     "execution_count": 33,
     "metadata": {},
     "output_type": "execute_result"
    }
   ],
   "source": [
    "final_toxcast_data"
   ]
  },
  {
   "cell_type": "code",
   "execution_count": 34,
   "id": "936434ac",
   "metadata": {
    "ExecuteTime": {
     "end_time": "2022-02-09T11:24:02.276630Z",
     "start_time": "2022-02-09T11:24:01.170371Z"
    }
   },
   "outputs": [],
   "source": [
    "final_toxcast_data['label'] = label\n",
    "final_toxcast_data.columns = list(\n",
    "    range(final_toxcast_data.shape[1] - 1)) + ['label']\n",
    "final_toxcast_data.to_csv('final_toxcast.csv', index=False)"
   ]
  },
  {
   "cell_type": "markdown",
   "id": "b0b1ede2",
   "metadata": {},
   "source": [
    "## Splitting Data"
   ]
  },
  {
   "cell_type": "code",
   "execution_count": 35,
   "id": "7ee7bc93",
   "metadata": {
    "ExecuteTime": {
     "end_time": "2022-02-09T11:24:02.426540Z",
     "start_time": "2022-02-09T11:24:02.277579Z"
    }
   },
   "outputs": [],
   "source": [
    "df = pd.read_csv('final_toxcast.csv')"
   ]
  },
  {
   "cell_type": "code",
   "execution_count": 36,
   "id": "f38cfa18",
   "metadata": {
    "ExecuteTime": {
     "end_time": "2022-02-09T11:24:02.431337Z",
     "start_time": "2022-02-09T11:24:02.427539Z"
    }
   },
   "outputs": [],
   "source": [
    "X = df.drop(['label'], axis=1)\n",
    "y = df['label']\n",
    "\n",
    "X_train, X_test, y_train, y_test = train_test_split(X,\n",
    "                                                    y,\n",
    "                                                    test_size=0.1,\n",
    "                                                    random_state=42)"
   ]
  },
  {
   "cell_type": "markdown",
   "id": "67d998bb",
   "metadata": {
    "ExecuteTime": {
     "end_time": "2022-02-09T11:13:20.589762Z",
     "start_time": "2022-02-09T11:13:20.586433Z"
    }
   },
   "source": [
    "## Modeling"
   ]
  },
  {
   "cell_type": "markdown",
   "id": "dc8e9d20",
   "metadata": {},
   "source": [
    "#### Metric Functions"
   ]
  },
  {
   "cell_type": "code",
   "execution_count": 64,
   "id": "dc439e14",
   "metadata": {
    "ExecuteTime": {
     "end_time": "2022-02-09T15:26:38.486297Z",
     "start_time": "2022-02-09T15:26:38.474727Z"
    }
   },
   "outputs": [],
   "source": [
    "def generate_model_report(y_actual, y_predicted):\n",
    "    print(\"Accuracy = \", accuracy_score(y_actual, y_predicted))\n",
    "    print(\"Precision = \", precision_score(y_actual, y_predicted))\n",
    "    print(\"Recall = \", recall_score(y_actual, y_predicted))\n",
    "    print(\"F1 Score = \", f1_score(y_actual, y_predicted))\n",
    "    display(\n",
    "        pd.crosstab(y_actual,\n",
    "                    y_predicted,\n",
    "                    rownames=[\"Actual\"],\n",
    "                    colnames=[\"Predicted\"]))\n",
    "\n",
    "\n",
    "def generate_auc_roc_curve(clf, X_test, y_test):\n",
    "    sns.set(style=\"darkgrid\")\n",
    "    y_pred_proba = clf.predict_proba(X_test)[:, 1]\n",
    "    fpr, tpr, thresholds = roc_curve(y_test, y_pred_proba)\n",
    "    auc = roc_auc_score(y_test, y_pred_proba)\n",
    "    plt.figure(dpi=100)\n",
    "    plt.plot(fpr,\n",
    "             tpr,\n",
    "             label=\"AUC ROC Curve with Area Under the curve =%.2f\" % auc)\n",
    "    plt.legend(loc=4)\n",
    "    plt.grid(True)\n",
    "    plt.show()"
   ]
  },
  {
   "cell_type": "markdown",
   "id": "c6b9de9c",
   "metadata": {},
   "source": [
    "### Adaboost"
   ]
  },
  {
   "cell_type": "code",
   "execution_count": 57,
   "id": "bbf87d60",
   "metadata": {
    "ExecuteTime": {
     "end_time": "2022-02-09T11:49:25.453334Z",
     "start_time": "2022-02-09T11:49:24.365326Z"
    },
    "scrolled": true
   },
   "outputs": [
    {
     "data": {
      "image/png": "[encoded data removed]",
      "text/plain": [
       "<Figure size 600x400 with 1 Axes>"
      ]
     },
     "metadata": {},
     "output_type": "display_data"
    },
    {
     "name": "stdout",
     "output_type": "stream",
     "text": [
      "Accuracy =  0.8252551020408163\n",
      "Precision =  0.6212121212121212\n",
      "Recall =  0.48520710059171596\n",
      "F1 Score =  0.5448504983388704\n"
     ]
    },
    {
     "data": {
      "text/html": [
       "<div>\n",
       "<style scoped>\n",
       "    .dataframe tbody tr th:only-of-type {\n",
       "        vertical-align: middle;\n",
       "    }\n",
       "\n",
       "    .dataframe tbody tr th {\n",
       "        vertical-align: top;\n",
       "    }\n",
       "\n",
       "    .dataframe thead th {\n",
       "        text-align: right;\n",
       "    }\n",
       "</style>\n",
       "<table border=\"1\" class=\"dataframe\">\n",
       "  <thead>\n",
       "    <tr style=\"text-align: right;\">\n",
       "      <th>Predicted</th>\n",
       "      <th>0.0</th>\n",
       "      <th>1.0</th>\n",
       "    </tr>\n",
       "    <tr>\n",
       "      <th>Actual</th>\n",
       "      <th></th>\n",
       "      <th></th>\n",
       "    </tr>\n",
       "  </thead>\n",
       "  <tbody>\n",
       "    <tr>\n",
       "      <th>0.0</th>\n",
       "      <td>565</td>\n",
       "      <td>50</td>\n",
       "    </tr>\n",
       "    <tr>\n",
       "      <th>1.0</th>\n",
       "      <td>87</td>\n",
       "      <td>82</td>\n",
       "    </tr>\n",
       "  </tbody>\n",
       "</table>\n",
       "</div>"
      ],
      "text/plain": [
       "Predicted  0.0  1.0\n",
       "Actual             \n",
       "0.0        565   50\n",
       "1.0         87   82"
      ]
     },
     "metadata": {},
     "output_type": "display_data"
    }
   ],
   "source": [
    "ada_clf = AdaBoostClassifier()\n",
    "ada_clf.fit(X_train, y_train)\n",
    "y_hat = ada_clf.predict(X_test)\n",
    "generate_auc_roc_curve(ada_clf, X_test, y_test)\n",
    "generate_model_report(y_test, y_hat)"
   ]
  },
  {
   "cell_type": "markdown",
   "id": "72620235",
   "metadata": {},
   "source": [
    "### Random Forrest"
   ]
  },
  {
   "cell_type": "code",
   "execution_count": 56,
   "id": "5df032ff",
   "metadata": {
    "ExecuteTime": {
     "end_time": "2022-02-09T11:49:18.047682Z",
     "start_time": "2022-02-09T11:49:16.566249Z"
    },
    "scrolled": false
   },
   "outputs": [
    {
     "data": {
      "image/png": "[encoded data removed]",
      "text/plain": [
       "<Figure size 600x400 with 1 Axes>"
      ]
     },
     "metadata": {},
     "output_type": "display_data"
    },
    {
     "name": "stdout",
     "output_type": "stream",
     "text": [
      "Accuracy =  0.8443877551020408\n",
      "Precision =  0.7373737373737373\n",
      "Recall =  0.4319526627218935\n",
      "F1 Score =  0.5447761194029851\n"
     ]
    },
    {
     "data": {
      "text/html": [
       "<div>\n",
       "<style scoped>\n",
       "    .dataframe tbody tr th:only-of-type {\n",
       "        vertical-align: middle;\n",
       "    }\n",
       "\n",
       "    .dataframe tbody tr th {\n",
       "        vertical-align: top;\n",
       "    }\n",
       "\n",
       "    .dataframe thead th {\n",
       "        text-align: right;\n",
       "    }\n",
       "</style>\n",
       "<table border=\"1\" class=\"dataframe\">\n",
       "  <thead>\n",
       "    <tr style=\"text-align: right;\">\n",
       "      <th>Predicted</th>\n",
       "      <th>0.0</th>\n",
       "      <th>1.0</th>\n",
       "    </tr>\n",
       "    <tr>\n",
       "      <th>Actual</th>\n",
       "      <th></th>\n",
       "      <th></th>\n",
       "    </tr>\n",
       "  </thead>\n",
       "  <tbody>\n",
       "    <tr>\n",
       "      <th>0.0</th>\n",
       "      <td>589</td>\n",
       "      <td>26</td>\n",
       "    </tr>\n",
       "    <tr>\n",
       "      <th>1.0</th>\n",
       "      <td>96</td>\n",
       "      <td>73</td>\n",
       "    </tr>\n",
       "  </tbody>\n",
       "</table>\n",
       "</div>"
      ],
      "text/plain": [
       "Predicted  0.0  1.0\n",
       "Actual             \n",
       "0.0        589   26\n",
       "1.0         96   73"
      ]
     },
     "metadata": {},
     "output_type": "display_data"
    }
   ],
   "source": [
    "rf_clf = RandomForestClassifier()\n",
    "rf_clf.fit(X_train, y_train)\n",
    "y_hat = rf_clf.predict(X_test)\n",
    "generate_auc_roc_curve(ada_clf, X_test, y_test)\n",
    "generate_model_report(y_test, y_hat)"
   ]
  },
  {
   "cell_type": "markdown",
   "id": "f6073641",
   "metadata": {},
   "source": [
    "# QM9"
   ]
  },
  {
   "cell_type": "code",
   "execution_count": 167,
   "id": "38b8e582",
   "metadata": {
    "ExecuteTime": {
     "end_time": "2022-02-09T13:29:23.332611Z",
     "start_time": "2022-02-09T13:29:20.541321Z"
    }
   },
   "outputs": [],
   "source": [
    "qm9 = pd.read_csv('qm9_features.csv')"
   ]
  },
  {
   "cell_type": "code",
   "execution_count": 160,
   "id": "d727564b",
   "metadata": {
    "ExecuteTime": {
     "end_time": "2022-02-09T13:24:26.280662Z",
     "start_time": "2022-02-09T13:24:26.104683Z"
    }
   },
   "outputs": [],
   "source": [
    "qm9_labels = pd.read_csv('qm9_labels.csv')"
   ]
  },
  {
   "cell_type": "code",
   "execution_count": 158,
   "id": "c7c2981d",
   "metadata": {
    "ExecuteTime": {
     "end_time": "2022-02-09T13:24:20.848158Z",
     "start_time": "2022-02-09T13:24:20.821234Z"
    }
   },
   "outputs": [
    {
     "data": {
      "text/html": [
       "<div>\n",
       "<style scoped>\n",
       "    .dataframe tbody tr th:only-of-type {\n",
       "        vertical-align: middle;\n",
       "    }\n",
       "\n",
       "    .dataframe tbody tr th {\n",
       "        vertical-align: top;\n",
       "    }\n",
       "\n",
       "    .dataframe thead th {\n",
       "        text-align: right;\n",
       "    }\n",
       "</style>\n",
       "<table border=\"1\" class=\"dataframe\">\n",
       "  <thead>\n",
       "    <tr style=\"text-align: right;\">\n",
       "      <th></th>\n",
       "      <th>label_mu</th>\n",
       "      <th>label_alpha</th>\n",
       "      <th>label_homo</th>\n",
       "      <th>label_lumo</th>\n",
       "      <th>label_gap</th>\n",
       "      <th>label_r2</th>\n",
       "      <th>label_zpve</th>\n",
       "      <th>label_cv</th>\n",
       "      <th>label_u0</th>\n",
       "    </tr>\n",
       "  </thead>\n",
       "  <tbody>\n",
       "    <tr>\n",
       "      <th>0</th>\n",
       "      <td>0.0000</td>\n",
       "      <td>13.21</td>\n",
       "      <td>-0.3877</td>\n",
       "      <td>0.1171</td>\n",
       "      <td>0.5048</td>\n",
       "      <td>35.3641</td>\n",
       "      <td>0.044749</td>\n",
       "      <td>6.469</td>\n",
       "      <td>-40.478930</td>\n",
       "    </tr>\n",
       "    <tr>\n",
       "      <th>1</th>\n",
       "      <td>1.6256</td>\n",
       "      <td>9.46</td>\n",
       "      <td>-0.2570</td>\n",
       "      <td>0.0829</td>\n",
       "      <td>0.3399</td>\n",
       "      <td>26.1563</td>\n",
       "      <td>0.034358</td>\n",
       "      <td>6.316</td>\n",
       "      <td>-56.525887</td>\n",
       "    </tr>\n",
       "    <tr>\n",
       "      <th>2</th>\n",
       "      <td>1.8511</td>\n",
       "      <td>6.31</td>\n",
       "      <td>-0.2928</td>\n",
       "      <td>0.0687</td>\n",
       "      <td>0.3615</td>\n",
       "      <td>19.0002</td>\n",
       "      <td>0.021375</td>\n",
       "      <td>6.002</td>\n",
       "      <td>-76.404702</td>\n",
       "    </tr>\n",
       "    <tr>\n",
       "      <th>3</th>\n",
       "      <td>0.0000</td>\n",
       "      <td>16.28</td>\n",
       "      <td>-0.2845</td>\n",
       "      <td>0.0506</td>\n",
       "      <td>0.3351</td>\n",
       "      <td>59.5248</td>\n",
       "      <td>0.026841</td>\n",
       "      <td>8.574</td>\n",
       "      <td>-77.308427</td>\n",
       "    </tr>\n",
       "    <tr>\n",
       "      <th>4</th>\n",
       "      <td>2.8937</td>\n",
       "      <td>12.99</td>\n",
       "      <td>-0.3604</td>\n",
       "      <td>0.0191</td>\n",
       "      <td>0.3796</td>\n",
       "      <td>48.7476</td>\n",
       "      <td>0.016601</td>\n",
       "      <td>6.278</td>\n",
       "      <td>-93.411888</td>\n",
       "    </tr>\n",
       "  </tbody>\n",
       "</table>\n",
       "</div>"
      ],
      "text/plain": [
       "   label_mu  label_alpha  label_homo  label_lumo  label_gap  label_r2  \\\n",
       "0    0.0000        13.21     -0.3877      0.1171     0.5048   35.3641   \n",
       "1    1.6256         9.46     -0.2570      0.0829     0.3399   26.1563   \n",
       "2    1.8511         6.31     -0.2928      0.0687     0.3615   19.0002   \n",
       "3    0.0000        16.28     -0.2845      0.0506     0.3351   59.5248   \n",
       "4    2.8937        12.99     -0.3604      0.0191     0.3796   48.7476   \n",
       "\n",
       "   label_zpve  label_cv   label_u0  \n",
       "0    0.044749     6.469 -40.478930  \n",
       "1    0.034358     6.316 -56.525887  \n",
       "2    0.021375     6.002 -76.404702  \n",
       "3    0.026841     8.574 -77.308427  \n",
       "4    0.016601     6.278 -93.411888  "
      ]
     },
     "execution_count": 158,
     "metadata": {},
     "output_type": "execute_result"
    }
   ],
   "source": [
    "qm9_labels.head()"
   ]
  },
  {
   "cell_type": "code",
   "execution_count": 121,
   "id": "5ecdc94d",
   "metadata": {
    "ExecuteTime": {
     "end_time": "2022-02-09T13:06:14.832835Z",
     "start_time": "2022-02-09T13:06:14.827311Z"
    }
   },
   "outputs": [],
   "source": [
    "qm9_labels.columns = 'label_' + qm9_labels.columns"
   ]
  },
  {
   "cell_type": "code",
   "execution_count": 165,
   "id": "72e07790",
   "metadata": {
    "ExecuteTime": {
     "end_time": "2022-02-09T13:29:03.878436Z",
     "start_time": "2022-02-09T13:29:03.795620Z"
    }
   },
   "outputs": [],
   "source": [
    "#This approach is fatsitc it looks at the previous column if the correlation is high it removes it\n",
    "\n",
    "# Create correlation matrix\n",
    "corr_matrix = qm9_labels.corr().abs()\n",
    "\n",
    "# Select upper triangle of correlation matrix\n",
    "upper = corr_matrix.where(\n",
    "    np.triu(np.ones(corr_matrix.shape), k=1).astype(bool))\n",
    "\n",
    "# Find features with correlation greater than 0.8\n",
    "to_drop = [column for column in upper.columns if any(upper[column] > 0.99)]\n",
    "\n",
    "# Drop features\n",
    "qm9_labels = qm9_labels.drop(to_drop, axis=1)"
   ]
  },
  {
   "cell_type": "code",
   "execution_count": 128,
   "id": "cd4d1165",
   "metadata": {
    "ExecuteTime": {
     "end_time": "2022-02-09T13:07:05.059176Z",
     "start_time": "2022-02-09T13:07:04.976153Z"
    }
   },
   "outputs": [
    {
     "name": "stdout",
     "output_type": "stream",
     "text": [
      "66\n"
     ]
    },
    {
     "data": {
      "text/plain": [
       "0.9999999999999923"
      ]
     },
     "execution_count": 128,
     "metadata": {},
     "output_type": "execute_result"
    }
   ],
   "source": [
    "get_top_abs_correlations(qm9_labels)[0][0]"
   ]
  },
  {
   "cell_type": "code",
   "execution_count": 162,
   "id": "df7370be",
   "metadata": {
    "ExecuteTime": {
     "end_time": "2022-02-09T13:24:41.457505Z",
     "start_time": "2022-02-09T13:24:41.377731Z"
    }
   },
   "outputs": [
    {
     "name": "stdout",
     "output_type": "stream",
     "text": [
      "66\n",
      "                   0\n",
      "u298  h298  1.000000\n",
      "u0    h298  1.000000\n",
      "      u298  1.000000\n",
      "      g298  1.000000\n",
      "h298  g298  1.000000\n",
      "u298  g298  1.000000\n",
      "lumo  gap   0.890274\n",
      "zpve  cv    0.740304\n",
      "alpha zpve  0.732357\n",
      "      cv    0.699340\n",
      "r2    cv    0.694286\n",
      "lumo  zpve  0.654120\n",
      "gap   zpve  0.585073\n",
      "alpha r2    0.556891\n",
      "mu    lumo  0.385425\n"
     ]
    }
   ],
   "source": [
    "print(get_top_abs_correlations(qm9_labels).head(15))"
   ]
  },
  {
   "cell_type": "code",
   "execution_count": 131,
   "id": "6bcc6bff",
   "metadata": {
    "ExecuteTime": {
     "end_time": "2022-02-09T13:07:27.971187Z",
     "start_time": "2022-02-09T13:07:27.966267Z"
    }
   },
   "outputs": [
    {
     "data": {
      "text/plain": [
       "['label_u298', 'label_h298', 'label_g298']"
      ]
     },
     "execution_count": 131,
     "metadata": {},
     "output_type": "execute_result"
    }
   ],
   "source": [
    "to_drop"
   ]
  },
  {
   "cell_type": "code",
   "execution_count": 132,
   "id": "5ec3ec19",
   "metadata": {
    "ExecuteTime": {
     "end_time": "2022-02-09T13:07:34.114684Z",
     "start_time": "2022-02-09T13:07:33.902832Z"
    },
    "scrolled": true
   },
   "outputs": [],
   "source": [
    "df = pd.concat([qm9, qm9_labels], axis=1)"
   ]
  },
  {
   "cell_type": "code",
   "execution_count": 134,
   "id": "e43611d8",
   "metadata": {
    "ExecuteTime": {
     "end_time": "2022-02-09T13:08:25.350710Z",
     "start_time": "2022-02-09T13:08:18.327427Z"
    }
   },
   "outputs": [
    {
     "name": "stdout",
     "output_type": "stream",
     "text": [
      "14706\n"
     ]
    }
   ],
   "source": [
    "crr = get_top_abs_correlations(df)"
   ]
  },
  {
   "cell_type": "code",
   "execution_count": 140,
   "id": "b247e753",
   "metadata": {
    "ExecuteTime": {
     "end_time": "2022-02-09T13:10:19.787460Z",
     "start_time": "2022-02-09T13:10:19.780867Z"
    }
   },
   "outputs": [
    {
     "data": {
      "text/plain": [
       "True"
      ]
     },
     "execution_count": 140,
     "metadata": {},
     "output_type": "execute_result"
    }
   ],
   "source": [
    "'label_mu' in qm9_labels.columns"
   ]
  },
  {
   "cell_type": "code",
   "execution_count": 146,
   "id": "532791b2",
   "metadata": {
    "ExecuteTime": {
     "end_time": "2022-02-09T13:12:06.466202Z",
     "start_time": "2022-02-09T13:12:06.444386Z"
    }
   },
   "outputs": [
    {
     "data": {
      "text/html": [
       "<div>\n",
       "<style scoped>\n",
       "    .dataframe tbody tr th:only-of-type {\n",
       "        vertical-align: middle;\n",
       "    }\n",
       "\n",
       "    .dataframe tbody tr th {\n",
       "        vertical-align: top;\n",
       "    }\n",
       "\n",
       "    .dataframe thead th {\n",
       "        text-align: right;\n",
       "    }\n",
       "</style>\n",
       "<table border=\"1\" class=\"dataframe\">\n",
       "  <thead>\n",
       "    <tr style=\"text-align: right;\">\n",
       "      <th></th>\n",
       "      <th></th>\n",
       "      <th>0</th>\n",
       "    </tr>\n",
       "  </thead>\n",
       "  <tbody>\n",
       "    <tr>\n",
       "      <th>('fr_COO', &lt;class 'numpy.float64'&gt;)</th>\n",
       "      <th>('fr_COO2', &lt;class 'numpy.float64'&gt;)</th>\n",
       "      <td>1.000000</td>\n",
       "    </tr>\n",
       "    <tr>\n",
       "      <th>('fr_nitro_arom', &lt;class 'numpy.float64'&gt;)</th>\n",
       "      <th>('fr_nitro_arom_nonortho', &lt;class 'numpy.float64'&gt;)</th>\n",
       "      <td>1.000000</td>\n",
       "    </tr>\n",
       "    <tr>\n",
       "      <th>('fr_Ar_NH', &lt;class 'numpy.float64'&gt;)</th>\n",
       "      <th>('fr_Nhpyrrole', &lt;class 'numpy.float64'&gt;)</th>\n",
       "      <td>1.000000</td>\n",
       "    </tr>\n",
       "    <tr>\n",
       "      <th>('MaxAbsEStateIndex', &lt;class 'numpy.float64'&gt;)</th>\n",
       "      <th>('MaxEStateIndex', &lt;class 'numpy.float64'&gt;)</th>\n",
       "      <td>1.000000</td>\n",
       "    </tr>\n",
       "    <tr>\n",
       "      <th>('ExactMolWt', &lt;class 'numpy.float64'&gt;)</th>\n",
       "      <th>('MolWt', &lt;class 'numpy.float64'&gt;)</th>\n",
       "      <td>0.999993</td>\n",
       "    </tr>\n",
       "    <tr>\n",
       "      <th>...</th>\n",
       "      <th>...</th>\n",
       "      <td>...</td>\n",
       "    </tr>\n",
       "    <tr>\n",
       "      <th>('EState_VSA7', &lt;class 'numpy.float64'&gt;)</th>\n",
       "      <th>('fr_dihydropyridine', &lt;class 'numpy.float64'&gt;)</th>\n",
       "      <td>0.000018</td>\n",
       "    </tr>\n",
       "    <tr>\n",
       "      <th rowspan=\"2\" valign=\"top\">('fr_dihydropyridine', &lt;class 'numpy.float64'&gt;)</th>\n",
       "      <th>('fr_nitro_arom', &lt;class 'numpy.float64'&gt;)</th>\n",
       "      <td>0.000013</td>\n",
       "    </tr>\n",
       "    <tr>\n",
       "      <th>('fr_nitro_arom_nonortho', &lt;class 'numpy.float64'&gt;)</th>\n",
       "      <td>0.000013</td>\n",
       "    </tr>\n",
       "    <tr>\n",
       "      <th>('SlogP_VSA6', &lt;class 'numpy.float64'&gt;)</th>\n",
       "      <th>('fr_Ar_COO', &lt;class 'numpy.float64'&gt;)</th>\n",
       "      <td>0.000009</td>\n",
       "    </tr>\n",
       "    <tr>\n",
       "      <th>('fr_HOCCN', &lt;class 'numpy.float64'&gt;)</th>\n",
       "      <th>('fr_aldehyde', &lt;class 'numpy.float64'&gt;)</th>\n",
       "      <td>0.000007</td>\n",
       "    </tr>\n",
       "  </tbody>\n",
       "</table>\n",
       "<p>14706 rows × 1 columns</p>\n",
       "</div>"
      ],
      "text/plain": [
       "                                                                                                           0\n",
       "('fr_COO', <class 'numpy.float64'>)             ('fr_COO2', <class 'numpy.float64'>)                1.000000\n",
       "('fr_nitro_arom', <class 'numpy.float64'>)      ('fr_nitro_arom_nonortho', <class 'numpy.float6...  1.000000\n",
       "('fr_Ar_NH', <class 'numpy.float64'>)           ('fr_Nhpyrrole', <class 'numpy.float64'>)           1.000000\n",
       "('MaxAbsEStateIndex', <class 'numpy.float64'>)  ('MaxEStateIndex', <class 'numpy.float64'>)         1.000000\n",
       "('ExactMolWt', <class 'numpy.float64'>)         ('MolWt', <class 'numpy.float64'>)                  0.999993\n",
       "...                                                                                                      ...\n",
       "('EState_VSA7', <class 'numpy.float64'>)        ('fr_dihydropyridine', <class 'numpy.float64'>)     0.000018\n",
       "('fr_dihydropyridine', <class 'numpy.float64'>) ('fr_nitro_arom', <class 'numpy.float64'>)          0.000013\n",
       "                                                ('fr_nitro_arom_nonortho', <class 'numpy.float6...  0.000013\n",
       "('SlogP_VSA6', <class 'numpy.float64'>)         ('fr_Ar_COO', <class 'numpy.float64'>)              0.000009\n",
       "('fr_HOCCN', <class 'numpy.float64'>)           ('fr_aldehyde', <class 'numpy.float64'>)            0.000007\n",
       "\n",
       "[14706 rows x 1 columns]"
      ]
     },
     "execution_count": 146,
     "metadata": {},
     "output_type": "execute_result"
    }
   ],
   "source": [
    "crr"
   ]
  },
  {
   "cell_type": "code",
   "execution_count": 150,
   "id": "7ef50e28",
   "metadata": {
    "ExecuteTime": {
     "end_time": "2022-02-09T13:12:43.508324Z",
     "start_time": "2022-02-09T13:12:43.502830Z"
    }
   },
   "outputs": [
    {
     "data": {
      "text/plain": [
       "True"
      ]
     },
     "execution_count": 150,
     "metadata": {},
     "output_type": "execute_result"
    }
   ],
   "source": [
    "\"('fr_COO', <class 'numpy.float64'>)\" in crr.index[0]"
   ]
  },
  {
   "cell_type": "code",
   "execution_count": 155,
   "id": "7e95de7f",
   "metadata": {
    "ExecuteTime": {
     "end_time": "2022-02-09T13:15:51.995622Z",
     "start_time": "2022-02-09T13:15:51.984071Z"
    }
   },
   "outputs": [
    {
     "name": "stdout",
     "output_type": "stream",
     "text": [
      "(\"('HeavyAtomMolWt', <class 'numpy.float64'>)\", 'label_u0')\n"
     ]
    }
   ],
   "source": [
    "for i in crr[crr[0] > 0.9].index:\n",
    "    if i[0] in qm9_labels.columns:\n",
    "        print(i)\n",
    "    if i[1] in qm9_labels.columns:\n",
    "        s = i\n",
    "        print(i)"
   ]
  },
  {
   "cell_type": "code",
   "execution_count": 166,
   "id": "60399e0c",
   "metadata": {
    "ExecuteTime": {
     "end_time": "2022-02-09T13:29:07.197721Z",
     "start_time": "2022-02-09T13:29:07.167451Z"
    }
   },
   "outputs": [
    {
     "data": {
      "text/html": [
       "<div>\n",
       "<style scoped>\n",
       "    .dataframe tbody tr th:only-of-type {\n",
       "        vertical-align: middle;\n",
       "    }\n",
       "\n",
       "    .dataframe tbody tr th {\n",
       "        vertical-align: top;\n",
       "    }\n",
       "\n",
       "    .dataframe thead th {\n",
       "        text-align: right;\n",
       "    }\n",
       "</style>\n",
       "<table border=\"1\" class=\"dataframe\">\n",
       "  <thead>\n",
       "    <tr style=\"text-align: right;\">\n",
       "      <th></th>\n",
       "      <th>mu</th>\n",
       "      <th>alpha</th>\n",
       "      <th>homo</th>\n",
       "      <th>lumo</th>\n",
       "      <th>gap</th>\n",
       "      <th>r2</th>\n",
       "      <th>zpve</th>\n",
       "      <th>cv</th>\n",
       "      <th>u0</th>\n",
       "    </tr>\n",
       "  </thead>\n",
       "  <tbody>\n",
       "    <tr>\n",
       "      <th>0</th>\n",
       "      <td>0.0000</td>\n",
       "      <td>13.21</td>\n",
       "      <td>-0.3877</td>\n",
       "      <td>0.1171</td>\n",
       "      <td>0.5048</td>\n",
       "      <td>35.3641</td>\n",
       "      <td>0.044749</td>\n",
       "      <td>6.469</td>\n",
       "      <td>-40.478930</td>\n",
       "    </tr>\n",
       "    <tr>\n",
       "      <th>1</th>\n",
       "      <td>1.6256</td>\n",
       "      <td>9.46</td>\n",
       "      <td>-0.2570</td>\n",
       "      <td>0.0829</td>\n",
       "      <td>0.3399</td>\n",
       "      <td>26.1563</td>\n",
       "      <td>0.034358</td>\n",
       "      <td>6.316</td>\n",
       "      <td>-56.525887</td>\n",
       "    </tr>\n",
       "    <tr>\n",
       "      <th>2</th>\n",
       "      <td>1.8511</td>\n",
       "      <td>6.31</td>\n",
       "      <td>-0.2928</td>\n",
       "      <td>0.0687</td>\n",
       "      <td>0.3615</td>\n",
       "      <td>19.0002</td>\n",
       "      <td>0.021375</td>\n",
       "      <td>6.002</td>\n",
       "      <td>-76.404702</td>\n",
       "    </tr>\n",
       "    <tr>\n",
       "      <th>3</th>\n",
       "      <td>0.0000</td>\n",
       "      <td>16.28</td>\n",
       "      <td>-0.2845</td>\n",
       "      <td>0.0506</td>\n",
       "      <td>0.3351</td>\n",
       "      <td>59.5248</td>\n",
       "      <td>0.026841</td>\n",
       "      <td>8.574</td>\n",
       "      <td>-77.308427</td>\n",
       "    </tr>\n",
       "    <tr>\n",
       "      <th>4</th>\n",
       "      <td>2.8937</td>\n",
       "      <td>12.99</td>\n",
       "      <td>-0.3604</td>\n",
       "      <td>0.0191</td>\n",
       "      <td>0.3796</td>\n",
       "      <td>48.7476</td>\n",
       "      <td>0.016601</td>\n",
       "      <td>6.278</td>\n",
       "      <td>-93.411888</td>\n",
       "    </tr>\n",
       "    <tr>\n",
       "      <th>...</th>\n",
       "      <td>...</td>\n",
       "      <td>...</td>\n",
       "      <td>...</td>\n",
       "      <td>...</td>\n",
       "      <td>...</td>\n",
       "      <td>...</td>\n",
       "      <td>...</td>\n",
       "      <td>...</td>\n",
       "      <td>...</td>\n",
       "    </tr>\n",
       "    <tr>\n",
       "      <th>133880</th>\n",
       "      <td>1.6637</td>\n",
       "      <td>69.37</td>\n",
       "      <td>-0.2254</td>\n",
       "      <td>0.0588</td>\n",
       "      <td>0.2842</td>\n",
       "      <td>760.7472</td>\n",
       "      <td>0.127406</td>\n",
       "      <td>23.658</td>\n",
       "      <td>-400.633868</td>\n",
       "    </tr>\n",
       "    <tr>\n",
       "      <th>133881</th>\n",
       "      <td>1.2976</td>\n",
       "      <td>69.52</td>\n",
       "      <td>-0.2393</td>\n",
       "      <td>0.0608</td>\n",
       "      <td>0.3002</td>\n",
       "      <td>762.6354</td>\n",
       "      <td>0.127495</td>\n",
       "      <td>23.697</td>\n",
       "      <td>-400.629713</td>\n",
       "    </tr>\n",
       "    <tr>\n",
       "      <th>133882</th>\n",
       "      <td>1.2480</td>\n",
       "      <td>73.60</td>\n",
       "      <td>-0.2233</td>\n",
       "      <td>0.0720</td>\n",
       "      <td>0.2953</td>\n",
       "      <td>780.3553</td>\n",
       "      <td>0.140458</td>\n",
       "      <td>23.972</td>\n",
       "      <td>-380.753918</td>\n",
       "    </tr>\n",
       "    <tr>\n",
       "      <th>133883</th>\n",
       "      <td>1.9576</td>\n",
       "      <td>77.40</td>\n",
       "      <td>-0.2122</td>\n",
       "      <td>0.0881</td>\n",
       "      <td>0.3003</td>\n",
       "      <td>803.1904</td>\n",
       "      <td>0.152222</td>\n",
       "      <td>24.796</td>\n",
       "      <td>-364.720374</td>\n",
       "    </tr>\n",
       "    <tr>\n",
       "      <th>133884</th>\n",
       "      <td>0.8626</td>\n",
       "      <td>69.48</td>\n",
       "      <td>-0.2316</td>\n",
       "      <td>0.0742</td>\n",
       "      <td>0.3058</td>\n",
       "      <td>756.3557</td>\n",
       "      <td>0.127862</td>\n",
       "      <td>23.434</td>\n",
       "      <td>-400.633052</td>\n",
       "    </tr>\n",
       "  </tbody>\n",
       "</table>\n",
       "<p>133885 rows × 9 columns</p>\n",
       "</div>"
      ],
      "text/plain": [
       "            mu  alpha    homo    lumo     gap        r2      zpve      cv  \\\n",
       "0       0.0000  13.21 -0.3877  0.1171  0.5048   35.3641  0.044749   6.469   \n",
       "1       1.6256   9.46 -0.2570  0.0829  0.3399   26.1563  0.034358   6.316   \n",
       "2       1.8511   6.31 -0.2928  0.0687  0.3615   19.0002  0.021375   6.002   \n",
       "3       0.0000  16.28 -0.2845  0.0506  0.3351   59.5248  0.026841   8.574   \n",
       "4       2.8937  12.99 -0.3604  0.0191  0.3796   48.7476  0.016601   6.278   \n",
       "...        ...    ...     ...     ...     ...       ...       ...     ...   \n",
       "133880  1.6637  69.37 -0.2254  0.0588  0.2842  760.7472  0.127406  23.658   \n",
       "133881  1.2976  69.52 -0.2393  0.0608  0.3002  762.6354  0.127495  23.697   \n",
       "133882  1.2480  73.60 -0.2233  0.0720  0.2953  780.3553  0.140458  23.972   \n",
       "133883  1.9576  77.40 -0.2122  0.0881  0.3003  803.1904  0.152222  24.796   \n",
       "133884  0.8626  69.48 -0.2316  0.0742  0.3058  756.3557  0.127862  23.434   \n",
       "\n",
       "                u0  \n",
       "0       -40.478930  \n",
       "1       -56.525887  \n",
       "2       -76.404702  \n",
       "3       -77.308427  \n",
       "4       -93.411888  \n",
       "...            ...  \n",
       "133880 -400.633868  \n",
       "133881 -400.629713  \n",
       "133882 -380.753918  \n",
       "133883 -364.720374  \n",
       "133884 -400.633052  \n",
       "\n",
       "[133885 rows x 9 columns]"
      ]
     },
     "execution_count": 166,
     "metadata": {},
     "output_type": "execute_result"
    }
   ],
   "source": [
    "qm9_labels"
   ]
  },
  {
   "cell_type": "code",
   "execution_count": 168,
   "id": "bcb834f3",
   "metadata": {
    "ExecuteTime": {
     "end_time": "2022-02-09T13:29:42.022391Z",
     "start_time": "2022-02-09T13:29:42.013301Z"
    }
   },
   "outputs": [],
   "source": [
    "qm9['lable'] = qm9_labels['u0']"
   ]
  },
  {
   "cell_type": "code",
   "execution_count": null,
   "id": "528aaffb",
   "metadata": {},
   "outputs": [],
   "source": []
  },
  {
   "cell_type": "code",
   "execution_count": 171,
   "id": "450a1e03",
   "metadata": {
    "ExecuteTime": {
     "end_time": "2022-02-09T13:31:55.829210Z",
     "start_time": "2022-02-09T13:31:32.153062Z"
    }
   },
   "outputs": [],
   "source": [
    "qm9.to_csv('final_qm9.csv', index=False)\n",
    "qm9_labels.to_csv('final_qm9_labels.csv', index=False)"
   ]
  },
  {
   "cell_type": "code",
   "execution_count": null,
   "id": "7e9316b1",
   "metadata": {},
   "outputs": [],
   "source": []
  },
  {
   "cell_type": "markdown",
   "id": "bff918d4",
   "metadata": {},
   "source": [
    "## Modeling"
   ]
  },
  {
   "cell_type": "code",
   "execution_count": 15,
   "id": "110bc60f",
   "metadata": {
    "ExecuteTime": {
     "end_time": "2022-02-09T14:26:31.221068Z",
     "start_time": "2022-02-09T14:26:27.859795Z"
    }
   },
   "outputs": [],
   "source": [
    "qm9 = pd.read_csv('final_qm9.csv')"
   ]
  },
  {
   "cell_type": "code",
   "execution_count": 20,
   "id": "e2628623",
   "metadata": {
    "ExecuteTime": {
     "end_time": "2022-02-09T14:27:13.255431Z",
     "start_time": "2022-02-09T14:27:13.217803Z"
    }
   },
   "outputs": [
    {
     "data": {
      "text/html": [
       "<div>\n",
       "<style scoped>\n",
       "    .dataframe tbody tr th:only-of-type {\n",
       "        vertical-align: middle;\n",
       "    }\n",
       "\n",
       "    .dataframe tbody tr th {\n",
       "        vertical-align: top;\n",
       "    }\n",
       "\n",
       "    .dataframe thead th {\n",
       "        text-align: right;\n",
       "    }\n",
       "</style>\n",
       "<table border=\"1\" class=\"dataframe\">\n",
       "  <thead>\n",
       "    <tr style=\"text-align: right;\">\n",
       "      <th></th>\n",
       "      <th>('BalabanJ', &lt;class 'numpy.float64'&gt;)</th>\n",
       "      <th>('BertzCT', &lt;class 'numpy.float64'&gt;)</th>\n",
       "      <th>('Chi0', &lt;class 'numpy.float64'&gt;)</th>\n",
       "      <th>('Chi0n', &lt;class 'numpy.float64'&gt;)</th>\n",
       "      <th>('Chi0v', &lt;class 'numpy.float64'&gt;)</th>\n",
       "      <th>('Chi1', &lt;class 'numpy.float64'&gt;)</th>\n",
       "      <th>('Chi1n', &lt;class 'numpy.float64'&gt;)</th>\n",
       "      <th>('Chi1v', &lt;class 'numpy.float64'&gt;)</th>\n",
       "      <th>('Chi2n', &lt;class 'numpy.float64'&gt;)</th>\n",
       "      <th>('Chi2v', &lt;class 'numpy.float64'&gt;)</th>\n",
       "      <th>...</th>\n",
       "      <th>('fr_piperzine', &lt;class 'numpy.float64'&gt;)</th>\n",
       "      <th>('fr_priamide', &lt;class 'numpy.float64'&gt;)</th>\n",
       "      <th>('fr_pyridine', &lt;class 'numpy.float64'&gt;)</th>\n",
       "      <th>('fr_quatN', &lt;class 'numpy.float64'&gt;)</th>\n",
       "      <th>('fr_term_acetylene', &lt;class 'numpy.float64'&gt;)</th>\n",
       "      <th>('fr_tetrazole', &lt;class 'numpy.float64'&gt;)</th>\n",
       "      <th>('fr_unbrch_alkane', &lt;class 'numpy.float64'&gt;)</th>\n",
       "      <th>('fr_urea', &lt;class 'numpy.float64'&gt;)</th>\n",
       "      <th>('qed', &lt;class 'numpy.float64'&gt;)</th>\n",
       "      <th>lable</th>\n",
       "    </tr>\n",
       "  </thead>\n",
       "  <tbody>\n",
       "    <tr>\n",
       "      <th>0</th>\n",
       "      <td>0.000020</td>\n",
       "      <td>0.000577</td>\n",
       "      <td>3.875255e-15</td>\n",
       "      <td>2.722966e-11</td>\n",
       "      <td>1.025154e-07</td>\n",
       "      <td>4.102548e-13</td>\n",
       "      <td>1.635214e-11</td>\n",
       "      <td>0.000019</td>\n",
       "      <td>0.000001</td>\n",
       "      <td>2.209078e-07</td>\n",
       "      <td>...</td>\n",
       "      <td>0.0</td>\n",
       "      <td>8.336725e-25</td>\n",
       "      <td>0.156951</td>\n",
       "      <td>4.034345e-08</td>\n",
       "      <td>2.957989e-11</td>\n",
       "      <td>0.168378</td>\n",
       "      <td>4.703598e-08</td>\n",
       "      <td>0.166633</td>\n",
       "      <td>0.187493</td>\n",
       "      <td>-40.478930</td>\n",
       "    </tr>\n",
       "    <tr>\n",
       "      <th>1</th>\n",
       "      <td>0.000020</td>\n",
       "      <td>0.000577</td>\n",
       "      <td>3.875255e-15</td>\n",
       "      <td>2.722966e-11</td>\n",
       "      <td>1.025154e-07</td>\n",
       "      <td>4.102548e-13</td>\n",
       "      <td>1.635214e-11</td>\n",
       "      <td>0.000019</td>\n",
       "      <td>0.000001</td>\n",
       "      <td>2.209078e-07</td>\n",
       "      <td>...</td>\n",
       "      <td>0.0</td>\n",
       "      <td>8.336725e-25</td>\n",
       "      <td>0.156951</td>\n",
       "      <td>4.034345e-08</td>\n",
       "      <td>2.957989e-11</td>\n",
       "      <td>0.168378</td>\n",
       "      <td>4.703598e-08</td>\n",
       "      <td>0.166633</td>\n",
       "      <td>0.228070</td>\n",
       "      <td>-56.525887</td>\n",
       "    </tr>\n",
       "    <tr>\n",
       "      <th>2</th>\n",
       "      <td>0.000020</td>\n",
       "      <td>0.000577</td>\n",
       "      <td>3.875255e-15</td>\n",
       "      <td>2.722966e-11</td>\n",
       "      <td>1.025154e-07</td>\n",
       "      <td>4.102548e-13</td>\n",
       "      <td>1.635214e-11</td>\n",
       "      <td>0.000019</td>\n",
       "      <td>0.000001</td>\n",
       "      <td>2.209078e-07</td>\n",
       "      <td>...</td>\n",
       "      <td>0.0</td>\n",
       "      <td>8.336725e-25</td>\n",
       "      <td>0.156951</td>\n",
       "      <td>4.034345e-08</td>\n",
       "      <td>2.957989e-11</td>\n",
       "      <td>0.168378</td>\n",
       "      <td>4.703598e-08</td>\n",
       "      <td>0.166633</td>\n",
       "      <td>0.156089</td>\n",
       "      <td>-76.404702</td>\n",
       "    </tr>\n",
       "    <tr>\n",
       "      <th>3</th>\n",
       "      <td>0.974937</td>\n",
       "      <td>0.000625</td>\n",
       "      <td>1.574798e-06</td>\n",
       "      <td>2.191668e-09</td>\n",
       "      <td>2.296717e-07</td>\n",
       "      <td>1.101184e-06</td>\n",
       "      <td>1.498512e-07</td>\n",
       "      <td>0.000038</td>\n",
       "      <td>0.000001</td>\n",
       "      <td>2.209078e-07</td>\n",
       "      <td>...</td>\n",
       "      <td>0.0</td>\n",
       "      <td>8.336725e-25</td>\n",
       "      <td>0.156951</td>\n",
       "      <td>4.034345e-08</td>\n",
       "      <td>1.000000e+00</td>\n",
       "      <td>0.168378</td>\n",
       "      <td>4.703598e-08</td>\n",
       "      <td>0.166633</td>\n",
       "      <td>0.160976</td>\n",
       "      <td>-77.308427</td>\n",
       "    </tr>\n",
       "    <tr>\n",
       "      <th>4</th>\n",
       "      <td>0.974937</td>\n",
       "      <td>0.000646</td>\n",
       "      <td>1.574798e-06</td>\n",
       "      <td>7.501717e-11</td>\n",
       "      <td>1.174156e-07</td>\n",
       "      <td>1.101184e-06</td>\n",
       "      <td>5.282567e-08</td>\n",
       "      <td>0.000033</td>\n",
       "      <td>0.000001</td>\n",
       "      <td>2.209078e-07</td>\n",
       "      <td>...</td>\n",
       "      <td>0.0</td>\n",
       "      <td>8.336725e-25</td>\n",
       "      <td>0.156951</td>\n",
       "      <td>4.034345e-08</td>\n",
       "      <td>2.957989e-11</td>\n",
       "      <td>0.168378</td>\n",
       "      <td>4.703598e-08</td>\n",
       "      <td>0.166633</td>\n",
       "      <td>0.197878</td>\n",
       "      <td>-93.411888</td>\n",
       "    </tr>\n",
       "  </tbody>\n",
       "</table>\n",
       "<p>5 rows × 164 columns</p>\n",
       "</div>"
      ],
      "text/plain": [
       "   ('BalabanJ', <class 'numpy.float64'>)  \\\n",
       "0                               0.000020   \n",
       "1                               0.000020   \n",
       "2                               0.000020   \n",
       "3                               0.974937   \n",
       "4                               0.974937   \n",
       "\n",
       "   ('BertzCT', <class 'numpy.float64'>)  ('Chi0', <class 'numpy.float64'>)  \\\n",
       "0                              0.000577                       3.875255e-15   \n",
       "1                              0.000577                       3.875255e-15   \n",
       "2                              0.000577                       3.875255e-15   \n",
       "3                              0.000625                       1.574798e-06   \n",
       "4                              0.000646                       1.574798e-06   \n",
       "\n",
       "   ('Chi0n', <class 'numpy.float64'>)  ('Chi0v', <class 'numpy.float64'>)  \\\n",
       "0                        2.722966e-11                        1.025154e-07   \n",
       "1                        2.722966e-11                        1.025154e-07   \n",
       "2                        2.722966e-11                        1.025154e-07   \n",
       "3                        2.191668e-09                        2.296717e-07   \n",
       "4                        7.501717e-11                        1.174156e-07   \n",
       "\n",
       "   ('Chi1', <class 'numpy.float64'>)  ('Chi1n', <class 'numpy.float64'>)  \\\n",
       "0                       4.102548e-13                        1.635214e-11   \n",
       "1                       4.102548e-13                        1.635214e-11   \n",
       "2                       4.102548e-13                        1.635214e-11   \n",
       "3                       1.101184e-06                        1.498512e-07   \n",
       "4                       1.101184e-06                        5.282567e-08   \n",
       "\n",
       "   ('Chi1v', <class 'numpy.float64'>)  ('Chi2n', <class 'numpy.float64'>)  \\\n",
       "0                            0.000019                            0.000001   \n",
       "1                            0.000019                            0.000001   \n",
       "2                            0.000019                            0.000001   \n",
       "3                            0.000038                            0.000001   \n",
       "4                            0.000033                            0.000001   \n",
       "\n",
       "   ('Chi2v', <class 'numpy.float64'>)  ...  \\\n",
       "0                        2.209078e-07  ...   \n",
       "1                        2.209078e-07  ...   \n",
       "2                        2.209078e-07  ...   \n",
       "3                        2.209078e-07  ...   \n",
       "4                        2.209078e-07  ...   \n",
       "\n",
       "   ('fr_piperzine', <class 'numpy.float64'>)  \\\n",
       "0                                        0.0   \n",
       "1                                        0.0   \n",
       "2                                        0.0   \n",
       "3                                        0.0   \n",
       "4                                        0.0   \n",
       "\n",
       "   ('fr_priamide', <class 'numpy.float64'>)  \\\n",
       "0                              8.336725e-25   \n",
       "1                              8.336725e-25   \n",
       "2                              8.336725e-25   \n",
       "3                              8.336725e-25   \n",
       "4                              8.336725e-25   \n",
       "\n",
       "   ('fr_pyridine', <class 'numpy.float64'>)  \\\n",
       "0                                  0.156951   \n",
       "1                                  0.156951   \n",
       "2                                  0.156951   \n",
       "3                                  0.156951   \n",
       "4                                  0.156951   \n",
       "\n",
       "   ('fr_quatN', <class 'numpy.float64'>)  \\\n",
       "0                           4.034345e-08   \n",
       "1                           4.034345e-08   \n",
       "2                           4.034345e-08   \n",
       "3                           4.034345e-08   \n",
       "4                           4.034345e-08   \n",
       "\n",
       "   ('fr_term_acetylene', <class 'numpy.float64'>)  \\\n",
       "0                                    2.957989e-11   \n",
       "1                                    2.957989e-11   \n",
       "2                                    2.957989e-11   \n",
       "3                                    1.000000e+00   \n",
       "4                                    2.957989e-11   \n",
       "\n",
       "   ('fr_tetrazole', <class 'numpy.float64'>)  \\\n",
       "0                                   0.168378   \n",
       "1                                   0.168378   \n",
       "2                                   0.168378   \n",
       "3                                   0.168378   \n",
       "4                                   0.168378   \n",
       "\n",
       "   ('fr_unbrch_alkane', <class 'numpy.float64'>)  \\\n",
       "0                                   4.703598e-08   \n",
       "1                                   4.703598e-08   \n",
       "2                                   4.703598e-08   \n",
       "3                                   4.703598e-08   \n",
       "4                                   4.703598e-08   \n",
       "\n",
       "   ('fr_urea', <class 'numpy.float64'>)  ('qed', <class 'numpy.float64'>)  \\\n",
       "0                              0.166633                          0.187493   \n",
       "1                              0.166633                          0.228070   \n",
       "2                              0.166633                          0.156089   \n",
       "3                              0.166633                          0.160976   \n",
       "4                              0.166633                          0.197878   \n",
       "\n",
       "       lable  \n",
       "0 -40.478930  \n",
       "1 -56.525887  \n",
       "2 -76.404702  \n",
       "3 -77.308427  \n",
       "4 -93.411888  \n",
       "\n",
       "[5 rows x 164 columns]"
      ]
     },
     "execution_count": 20,
     "metadata": {},
     "output_type": "execute_result"
    }
   ],
   "source": [
    "qm9.head()"
   ]
  },
  {
   "cell_type": "code",
   "execution_count": 19,
   "id": "09bc439d",
   "metadata": {
    "ExecuteTime": {
     "end_time": "2022-02-09T14:27:09.199634Z",
     "start_time": "2022-02-09T14:27:09.095455Z"
    }
   },
   "outputs": [],
   "source": [
    "X = qm9.drop(['lable'], axis=1)\n",
    "y = qm9['lable']"
   ]
  },
  {
   "cell_type": "code",
   "execution_count": 22,
   "id": "f9478740",
   "metadata": {
    "ExecuteTime": {
     "end_time": "2022-02-09T14:27:48.102130Z",
     "start_time": "2022-02-09T14:27:47.978662Z"
    }
   },
   "outputs": [],
   "source": [
    "X_train, X_test, y_train, y_test = train_test_split(X,\n",
    "                                                    y,\n",
    "                                                    test_size=0.1,\n",
    "                                                    random_state=42)"
   ]
  },
  {
   "cell_type": "markdown",
   "id": "fd715a42",
   "metadata": {},
   "source": [
    "### Adaboost"
   ]
  },
  {
   "cell_type": "code",
   "execution_count": 25,
   "id": "aa0ee00a",
   "metadata": {
    "ExecuteTime": {
     "end_time": "2022-02-09T14:37:56.786079Z",
     "start_time": "2022-02-09T14:37:56.783998Z"
    }
   },
   "outputs": [],
   "source": [
    "from sklearn.metrics import mean_squared_error, mean_absolute_error"
   ]
  },
  {
   "cell_type": "code",
   "execution_count": 23,
   "id": "bd1f97e0",
   "metadata": {
    "ExecuteTime": {
     "end_time": "2022-02-09T14:30:24.837024Z",
     "start_time": "2022-02-09T14:29:18.684260Z"
    }
   },
   "outputs": [],
   "source": [
    "ada_regressor = AdaBoostRegressor()\n",
    "ada_regressor.fit(X_train, y_train)\n",
    "y_hat = ada_regressor.predict(X_test)"
   ]
  },
  {
   "cell_type": "code",
   "execution_count": 29,
   "id": "8ffbe9d7",
   "metadata": {
    "ExecuteTime": {
     "end_time": "2022-02-09T14:58:42.564611Z",
     "start_time": "2022-02-09T14:58:42.551920Z"
    }
   },
   "outputs": [
    {
     "data": {
      "text/plain": [
       "(68.86508964490348, 8.298499240519545, 5.5647150172085995)"
      ]
     },
     "execution_count": 29,
     "metadata": {},
     "output_type": "execute_result"
    }
   ],
   "source": [
    "mse = mean_squared_error(y_test, y_hat)\n",
    "rmse = mean_squared_error(y_test, y_hat, squared=False)\n",
    "mae = mean_absolute_error(y_test, y_hat)\n",
    "\n",
    "mse, rmse, mae"
   ]
  },
  {
   "cell_type": "markdown",
   "id": "d4ae85db",
   "metadata": {},
   "source": [
    "### Random Forrest"
   ]
  },
  {
   "cell_type": "code",
   "execution_count": 24,
   "id": "3a81e22d",
   "metadata": {
    "ExecuteTime": {
     "end_time": "2022-02-09T14:37:55.933933Z",
     "start_time": "2022-02-09T14:30:31.133479Z"
    }
   },
   "outputs": [],
   "source": [
    "rf_regressor = RandomForestRegressor()\n",
    "rf_regressor.fit(X_train, y_train)\n",
    "y_hat2 = rf_regressor.predict(X_test)"
   ]
  },
  {
   "cell_type": "code",
   "execution_count": 28,
   "id": "b150974a",
   "metadata": {
    "ExecuteTime": {
     "end_time": "2022-02-09T14:58:39.617483Z",
     "start_time": "2022-02-09T14:58:39.602904Z"
    },
    "scrolled": true
   },
   "outputs": [
    {
     "data": {
      "text/plain": [
       "(0.9350828688311897, 0.966996829793764, 0.03876871458112032)"
      ]
     },
     "execution_count": 28,
     "metadata": {},
     "output_type": "execute_result"
    }
   ],
   "source": [
    "mse = mean_squared_error(y_test, y_hat2)\n",
    "rmse = mean_squared_error(y_test, y_hat2, squared=False)\n",
    "mae = mean_absolute_error(y_test, y_hat2)\n",
    "\n",
    "mse, rmse, mae"
   ]
  },
  {
   "cell_type": "markdown",
   "id": "9167b2d2",
   "metadata": {},
   "source": [
    "# Tox21"
   ]
  },
  {
   "cell_type": "code",
   "execution_count": 31,
   "id": "9a06f5d2",
   "metadata": {
    "ExecuteTime": {
     "end_time": "2022-02-09T15:12:00.156329Z",
     "start_time": "2022-02-09T15:11:59.840288Z"
    }
   },
   "outputs": [],
   "source": [
    "X = pd.read_csv('tox21_x.csv')\n",
    "y = pd.read_csv('tox21_y.csv')"
   ]
  },
  {
   "cell_type": "code",
   "execution_count": 36,
   "id": "ecea0712",
   "metadata": {
    "ExecuteTime": {
     "end_time": "2022-02-09T15:15:41.735084Z",
     "start_time": "2022-02-09T15:15:41.705133Z"
    }
   },
   "outputs": [],
   "source": [
    "yy = pd.read_csv('tox211.csv')\n",
    "yy = yy.drop(['smiles'], axis=1)"
   ]
  },
  {
   "cell_type": "code",
   "execution_count": 39,
   "id": "634656ad",
   "metadata": {
    "ExecuteTime": {
     "end_time": "2022-02-09T15:16:57.510987Z",
     "start_time": "2022-02-09T15:16:57.491144Z"
    }
   },
   "outputs": [],
   "source": [
    "portion = 0\n",
    "for i in yy.columns:\n",
    "    zero, one = yy[i].value_counts()\n",
    "    if one / zero > portion:\n",
    "        final_label = i\n",
    "        portion = one / zero"
   ]
  },
  {
   "cell_type": "code",
   "execution_count": 50,
   "id": "e4a8dc93",
   "metadata": {
    "ExecuteTime": {
     "end_time": "2022-02-09T15:20:09.746608Z",
     "start_time": "2022-02-09T15:20:09.736750Z"
    },
    "scrolled": true
   },
   "outputs": [
    {
     "data": {
      "text/plain": [
       "(942, 12)"
      ]
     },
     "execution_count": 50,
     "metadata": {},
     "output_type": "execute_result"
    }
   ],
   "source": [
    "yy[yy['SR-ARE'] == 1].shape"
   ]
  },
  {
   "cell_type": "code",
   "execution_count": 57,
   "id": "85d8be4f",
   "metadata": {
    "ExecuteTime": {
     "end_time": "2022-02-09T15:22:17.533116Z",
     "start_time": "2022-02-09T15:22:17.525744Z"
    }
   },
   "outputs": [
    {
     "data": {
      "text/plain": [
       "(309, 12)"
      ]
     },
     "execution_count": 57,
     "metadata": {},
     "output_type": "execute_result"
    }
   ],
   "source": [
    "yy[yy['NR-AR'] == 1].shape"
   ]
  },
  {
   "cell_type": "code",
   "execution_count": 61,
   "id": "4d402917",
   "metadata": {
    "ExecuteTime": {
     "end_time": "2022-02-09T15:26:04.674037Z",
     "start_time": "2022-02-09T15:26:04.653761Z"
    },
    "scrolled": true
   },
   "outputs": [],
   "source": [
    "X_train, X_test, y_train, y_test = train_test_split(X,\n",
    "                                                    y['NR-AR'],\n",
    "                                                    test_size=0.1,\n",
    "                                                    random_state=42)"
   ]
  },
  {
   "cell_type": "markdown",
   "id": "83506032",
   "metadata": {},
   "source": [
    "## Modeling"
   ]
  },
  {
   "cell_type": "markdown",
   "id": "721a4f3e",
   "metadata": {},
   "source": [
    "### Adaboost"
   ]
  },
  {
   "cell_type": "code",
   "execution_count": 65,
   "id": "618ba675",
   "metadata": {
    "ExecuteTime": {
     "end_time": "2022-02-09T15:26:54.142082Z",
     "start_time": "2022-02-09T15:26:52.302762Z"
    },
    "scrolled": false
   },
   "outputs": [
    {
     "data": {
      "image/png": "[encoded data removed]",
      "text/plain": [
       "<Figure size 600x400 with 1 Axes>"
      ]
     },
     "metadata": {},
     "output_type": "display_data"
    },
    {
     "name": "stdout",
     "output_type": "stream",
     "text": [
      "Accuracy =  0.9696132596685083\n",
      "Precision =  0.9\n",
      "Recall =  0.3\n",
      "F1 Score =  0.45000000000000007\n"
     ]
    },
    {
     "data": {
      "text/html": [
       "<div>\n",
       "<style scoped>\n",
       "    .dataframe tbody tr th:only-of-type {\n",
       "        vertical-align: middle;\n",
       "    }\n",
       "\n",
       "    .dataframe tbody tr th {\n",
       "        vertical-align: top;\n",
       "    }\n",
       "\n",
       "    .dataframe thead th {\n",
       "        text-align: right;\n",
       "    }\n",
       "</style>\n",
       "<table border=\"1\" class=\"dataframe\">\n",
       "  <thead>\n",
       "    <tr style=\"text-align: right;\">\n",
       "      <th>Predicted</th>\n",
       "      <th>0.0</th>\n",
       "      <th>1.0</th>\n",
       "    </tr>\n",
       "    <tr>\n",
       "      <th>Actual</th>\n",
       "      <th></th>\n",
       "      <th></th>\n",
       "    </tr>\n",
       "  </thead>\n",
       "  <tbody>\n",
       "    <tr>\n",
       "      <th>0.0</th>\n",
       "      <td>693</td>\n",
       "      <td>1</td>\n",
       "    </tr>\n",
       "    <tr>\n",
       "      <th>1.0</th>\n",
       "      <td>21</td>\n",
       "      <td>9</td>\n",
       "    </tr>\n",
       "  </tbody>\n",
       "</table>\n",
       "</div>"
      ],
      "text/plain": [
       "Predicted  0.0  1.0\n",
       "Actual             \n",
       "0.0        693    1\n",
       "1.0         21    9"
      ]
     },
     "metadata": {},
     "output_type": "display_data"
    }
   ],
   "source": [
    "ada_clf = AdaBoostClassifier()\n",
    "ada_clf.fit(X_train, y_train)\n",
    "y_hat = ada_clf.predict(X_test)\n",
    "generate_auc_roc_curve(ada_clf, X_test, y_test)\n",
    "generate_model_report(y_test, y_hat)"
   ]
  },
  {
   "cell_type": "markdown",
   "id": "08ab0603",
   "metadata": {},
   "source": [
    "### Random Forrest"
   ]
  },
  {
   "cell_type": "code",
   "execution_count": 67,
   "id": "d3969bd7",
   "metadata": {
    "ExecuteTime": {
     "end_time": "2022-02-09T15:27:01.290224Z",
     "start_time": "2022-02-09T15:26:59.428495Z"
    },
    "scrolled": false
   },
   "outputs": [
    {
     "data": {
      "image/png": "[encoded data removed]",
      "text/plain": [
       "<Figure size 600x400 with 1 Axes>"
      ]
     },
     "metadata": {},
     "output_type": "display_data"
    },
    {
     "name": "stdout",
     "output_type": "stream",
     "text": [
      "Accuracy =  0.9737569060773481\n",
      "Precision =  1.0\n",
      "Recall =  0.36666666666666664\n",
      "F1 Score =  0.5365853658536585\n"
     ]
    },
    {
     "data": {
      "text/html": [
       "<div>\n",
       "<style scoped>\n",
       "    .dataframe tbody tr th:only-of-type {\n",
       "        vertical-align: middle;\n",
       "    }\n",
       "\n",
       "    .dataframe tbody tr th {\n",
       "        vertical-align: top;\n",
       "    }\n",
       "\n",
       "    .dataframe thead th {\n",
       "        text-align: right;\n",
       "    }\n",
       "</style>\n",
       "<table border=\"1\" class=\"dataframe\">\n",
       "  <thead>\n",
       "    <tr style=\"text-align: right;\">\n",
       "      <th>Predicted</th>\n",
       "      <th>0.0</th>\n",
       "      <th>1.0</th>\n",
       "    </tr>\n",
       "    <tr>\n",
       "      <th>Actual</th>\n",
       "      <th></th>\n",
       "      <th></th>\n",
       "    </tr>\n",
       "  </thead>\n",
       "  <tbody>\n",
       "    <tr>\n",
       "      <th>0.0</th>\n",
       "      <td>694</td>\n",
       "      <td>0</td>\n",
       "    </tr>\n",
       "    <tr>\n",
       "      <th>1.0</th>\n",
       "      <td>19</td>\n",
       "      <td>11</td>\n",
       "    </tr>\n",
       "  </tbody>\n",
       "</table>\n",
       "</div>"
      ],
      "text/plain": [
       "Predicted  0.0  1.0\n",
       "Actual             \n",
       "0.0        694    0\n",
       "1.0         19   11"
      ]
     },
     "metadata": {},
     "output_type": "display_data"
    }
   ],
   "source": [
    "rf_clf = RandomForestClassifier()\n",
    "rf_clf.fit(X_train, y_train)\n",
    "y_hat = rf_clf.predict(X_test)\n",
    "generate_auc_roc_curve(ada_clf, X_test, y_test)\n",
    "generate_model_report(y_test, y_hat)"
   ]
  }
 ],
 "metadata": {
  "gist": {
   "data": {
    "description": "Untitled.ipynb",
    "public": true
   },
   "id": ""
  },
  "kernelspec": {
   "display_name": "Python 3",
   "language": "python",
   "name": "python3"
  },
  "language_info": {
   "codemirror_mode": {
    "name": "ipython",
    "version": 3
   },
   "file_extension": ".py",
   "mimetype": "text/x-python",
   "name": "python",
   "nbconvert_exporter": "python",
   "pygments_lexer": "ipython3",
   "version": "3.8.8"
  },
  "toc": {
   "base_numbering": 1,
   "nav_menu": {},
   "number_sections": true,
   "sideBar": true,
   "skip_h1_title": false,
   "title_cell": "Table of Contents",
   "title_sidebar": "Contents",
   "toc_cell": false,
   "toc_position": {
    "height": "641px",
    "left": "31px",
    "top": "111.125px",
    "width": "267px"
   },
   "toc_section_display": true,
   "toc_window_display": true
  },
  "varInspector": {
   "cols": {
    "lenName": 16,
    "lenType": 16,
    "lenVar": 40
   },
   "kernels_config": {
    "python": {
     "delete_cmd_postfix": "",
     "delete_cmd_prefix": "del ",
     "library": "var_list.py",
     "varRefreshCmd": "print(var_dic_list())"
    },
    "r": {
     "delete_cmd_postfix": ") ",
     "delete_cmd_prefix": "rm(",
     "library": "var_list.r",
     "varRefreshCmd": "cat(var_dic_list()) "
    }
   },
   "position": {
    "height": "438.844px",
    "left": "972px",
    "right": "20px",
    "top": "117px",
    "width": "410px"
   },
   "types_to_exclude": [
    "module",
    "function",
    "builtin_function_or_method",
    "instance",
    "_Feature"
   ],
   "window_display": false
  }
 },
 "nbformat": 4,
 "nbformat_minor": 5
}
