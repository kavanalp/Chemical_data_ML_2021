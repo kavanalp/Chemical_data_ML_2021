{
 "cells": [
  {
   "cell_type": "code",
   "execution_count": 1,
   "id": "94ead748-1058-4d8c-943b-c34a8764cc0c",
   "metadata": {},
   "outputs": [],
   "source": [
    "#!pip install numpy pandas matplotlib seaborn rich scikit-learn"
   ]
  },
  {
   "cell_type": "code",
   "execution_count": 2,
   "id": "b1050490-257b-4e2d-ae42-1fb31ac102c8",
   "metadata": {},
   "outputs": [],
   "source": [
    "import numpy as np\n",
    "import pandas as pd\n",
    "import matplotlib.pyplot as plt\n",
    "import seaborn as sns\n",
    "from rich import print as rprint\n",
    "%matplotlib inline\n",
    "sns.set()\n",
    "\n",
    "from sklearn.linear_model import Perceptron, LogisticRegression\n",
    "from sklearn.preprocessing import StandardScaler\n",
    "from sklearn.model_selection import train_test_split, StratifiedKFold\n",
    "from sklearn.metrics import (classification_report, roc_curve, roc_auc_score, \n",
    "                             recall_score, f1_score, precision_score, accuracy_score)"
   ]
  },
  {
   "cell_type": "markdown",
   "id": "69ccbe94-da4d-46c3-a845-2af0548da7ce",
   "metadata": {},
   "source": [
    "## toxcast"
   ]
  },
  {
   "cell_type": "markdown",
   "id": "c5341bee-552a-4cd2-bf23-a8182a34fe8f",
   "metadata": {},
   "source": [
    "#### Loading the data"
   ]
  },
  {
   "cell_type": "code",
   "execution_count": 3,
   "id": "803588ce-c4dd-4778-8e9b-2e311de666be",
   "metadata": {},
   "outputs": [],
   "source": [
    "#preprocessed dataset\n",
    "tox_cast = pd.read_csv('final_toxcast_3.csv')"
   ]
  },
  {
   "cell_type": "code",
   "execution_count": 4,
   "id": "ec0945f1-9f47-4b7d-a046-7cb99eb16f09",
   "metadata": {},
   "outputs": [
    {
     "data": {
      "text/html": [
       "<div>\n",
       "<style scoped>\n",
       "    .dataframe tbody tr th:only-of-type {\n",
       "        vertical-align: middle;\n",
       "    }\n",
       "\n",
       "    .dataframe tbody tr th {\n",
       "        vertical-align: top;\n",
       "    }\n",
       "\n",
       "    .dataframe thead th {\n",
       "        text-align: right;\n",
       "    }\n",
       "</style>\n",
       "<table border=\"1\" class=\"dataframe\">\n",
       "  <thead>\n",
       "    <tr style=\"text-align: right;\">\n",
       "      <th></th>\n",
       "      <th>0</th>\n",
       "      <th>1</th>\n",
       "      <th>2</th>\n",
       "      <th>3</th>\n",
       "      <th>4</th>\n",
       "      <th>5</th>\n",
       "      <th>6</th>\n",
       "      <th>7</th>\n",
       "      <th>8</th>\n",
       "      <th>9</th>\n",
       "      <th>...</th>\n",
       "      <th>126</th>\n",
       "      <th>127</th>\n",
       "      <th>128</th>\n",
       "      <th>129</th>\n",
       "      <th>130</th>\n",
       "      <th>131</th>\n",
       "      <th>132</th>\n",
       "      <th>133</th>\n",
       "      <th>134</th>\n",
       "      <th>label</th>\n",
       "    </tr>\n",
       "  </thead>\n",
       "  <tbody>\n",
       "    <tr>\n",
       "      <th>0</th>\n",
       "      <td>0.975099</td>\n",
       "      <td>0.013842</td>\n",
       "      <td>5.438167e-01</td>\n",
       "      <td>5.346966e-01</td>\n",
       "      <td>6.893569e-07</td>\n",
       "      <td>0.212674</td>\n",
       "      <td>0.117444</td>\n",
       "      <td>2.509948e-11</td>\n",
       "      <td>8.947108e-01</td>\n",
       "      <td>5.856109e-17</td>\n",
       "      <td>...</td>\n",
       "      <td>5.766101e-14</td>\n",
       "      <td>2.957989e-11</td>\n",
       "      <td>0.168378</td>\n",
       "      <td>0.16738</td>\n",
       "      <td>1.481515e-18</td>\n",
       "      <td>2.324150e-16</td>\n",
       "      <td>4.703598e-08</td>\n",
       "      <td>0.166633</td>\n",
       "      <td>0.307979</td>\n",
       "      <td>0.0</td>\n",
       "    </tr>\n",
       "    <tr>\n",
       "      <th>1</th>\n",
       "      <td>0.996567</td>\n",
       "      <td>0.006574</td>\n",
       "      <td>9.228296e-01</td>\n",
       "      <td>2.175235e-08</td>\n",
       "      <td>6.893569e-07</td>\n",
       "      <td>0.100218</td>\n",
       "      <td>0.019674</td>\n",
       "      <td>2.509948e-11</td>\n",
       "      <td>9.258417e-11</td>\n",
       "      <td>5.856109e-17</td>\n",
       "      <td>...</td>\n",
       "      <td>5.766101e-14</td>\n",
       "      <td>2.957989e-11</td>\n",
       "      <td>0.168378</td>\n",
       "      <td>0.16738</td>\n",
       "      <td>1.481515e-18</td>\n",
       "      <td>2.324150e-16</td>\n",
       "      <td>4.703598e-08</td>\n",
       "      <td>0.166633</td>\n",
       "      <td>0.673632</td>\n",
       "      <td>0.0</td>\n",
       "    </tr>\n",
       "    <tr>\n",
       "      <th>2</th>\n",
       "      <td>0.627583</td>\n",
       "      <td>0.010335</td>\n",
       "      <td>4.074888e-10</td>\n",
       "      <td>2.648697e-01</td>\n",
       "      <td>6.893569e-07</td>\n",
       "      <td>0.100218</td>\n",
       "      <td>0.323450</td>\n",
       "      <td>8.085811e-01</td>\n",
       "      <td>8.568377e-01</td>\n",
       "      <td>5.856109e-17</td>\n",
       "      <td>...</td>\n",
       "      <td>5.766101e-14</td>\n",
       "      <td>2.957989e-11</td>\n",
       "      <td>0.168378</td>\n",
       "      <td>0.16738</td>\n",
       "      <td>1.481515e-18</td>\n",
       "      <td>2.324150e-16</td>\n",
       "      <td>4.703598e-08</td>\n",
       "      <td>0.166633</td>\n",
       "      <td>0.591018</td>\n",
       "      <td>0.0</td>\n",
       "    </tr>\n",
       "    <tr>\n",
       "      <th>3</th>\n",
       "      <td>0.975099</td>\n",
       "      <td>0.013568</td>\n",
       "      <td>5.438167e-01</td>\n",
       "      <td>5.346966e-01</td>\n",
       "      <td>6.893569e-07</td>\n",
       "      <td>0.212674</td>\n",
       "      <td>0.135223</td>\n",
       "      <td>2.509948e-11</td>\n",
       "      <td>8.947108e-01</td>\n",
       "      <td>5.856109e-17</td>\n",
       "      <td>...</td>\n",
       "      <td>5.766101e-14</td>\n",
       "      <td>2.957989e-11</td>\n",
       "      <td>0.168378</td>\n",
       "      <td>0.16738</td>\n",
       "      <td>1.481515e-18</td>\n",
       "      <td>2.324150e-16</td>\n",
       "      <td>4.703598e-08</td>\n",
       "      <td>0.166633</td>\n",
       "      <td>0.187246</td>\n",
       "      <td>0.0</td>\n",
       "    </tr>\n",
       "    <tr>\n",
       "      <th>4</th>\n",
       "      <td>0.975099</td>\n",
       "      <td>0.013472</td>\n",
       "      <td>5.438167e-01</td>\n",
       "      <td>5.346966e-01</td>\n",
       "      <td>6.893569e-07</td>\n",
       "      <td>0.405153</td>\n",
       "      <td>0.019674</td>\n",
       "      <td>2.509948e-11</td>\n",
       "      <td>8.947108e-01</td>\n",
       "      <td>5.856109e-17</td>\n",
       "      <td>...</td>\n",
       "      <td>5.766101e-14</td>\n",
       "      <td>2.957989e-11</td>\n",
       "      <td>0.168378</td>\n",
       "      <td>0.16738</td>\n",
       "      <td>1.481515e-18</td>\n",
       "      <td>2.324150e-16</td>\n",
       "      <td>4.703598e-08</td>\n",
       "      <td>0.166633</td>\n",
       "      <td>0.317261</td>\n",
       "      <td>0.0</td>\n",
       "    </tr>\n",
       "  </tbody>\n",
       "</table>\n",
       "<p>5 rows × 136 columns</p>\n",
       "</div>"
      ],
      "text/plain": [
       "          0         1             2             3             4         5  \\\n",
       "0  0.975099  0.013842  5.438167e-01  5.346966e-01  6.893569e-07  0.212674   \n",
       "1  0.996567  0.006574  9.228296e-01  2.175235e-08  6.893569e-07  0.100218   \n",
       "2  0.627583  0.010335  4.074888e-10  2.648697e-01  6.893569e-07  0.100218   \n",
       "3  0.975099  0.013568  5.438167e-01  5.346966e-01  6.893569e-07  0.212674   \n",
       "4  0.975099  0.013472  5.438167e-01  5.346966e-01  6.893569e-07  0.405153   \n",
       "\n",
       "          6             7             8             9  ...           126  \\\n",
       "0  0.117444  2.509948e-11  8.947108e-01  5.856109e-17  ...  5.766101e-14   \n",
       "1  0.019674  2.509948e-11  9.258417e-11  5.856109e-17  ...  5.766101e-14   \n",
       "2  0.323450  8.085811e-01  8.568377e-01  5.856109e-17  ...  5.766101e-14   \n",
       "3  0.135223  2.509948e-11  8.947108e-01  5.856109e-17  ...  5.766101e-14   \n",
       "4  0.019674  2.509948e-11  8.947108e-01  5.856109e-17  ...  5.766101e-14   \n",
       "\n",
       "            127       128      129           130           131           132  \\\n",
       "0  2.957989e-11  0.168378  0.16738  1.481515e-18  2.324150e-16  4.703598e-08   \n",
       "1  2.957989e-11  0.168378  0.16738  1.481515e-18  2.324150e-16  4.703598e-08   \n",
       "2  2.957989e-11  0.168378  0.16738  1.481515e-18  2.324150e-16  4.703598e-08   \n",
       "3  2.957989e-11  0.168378  0.16738  1.481515e-18  2.324150e-16  4.703598e-08   \n",
       "4  2.957989e-11  0.168378  0.16738  1.481515e-18  2.324150e-16  4.703598e-08   \n",
       "\n",
       "        133       134  label  \n",
       "0  0.166633  0.307979    0.0  \n",
       "1  0.166633  0.673632    0.0  \n",
       "2  0.166633  0.591018    0.0  \n",
       "3  0.166633  0.187246    0.0  \n",
       "4  0.166633  0.317261    0.0  \n",
       "\n",
       "[5 rows x 136 columns]"
      ]
     },
     "execution_count": 4,
     "metadata": {},
     "output_type": "execute_result"
    }
   ],
   "source": [
    "tox_cast.head()"
   ]
  },
  {
   "cell_type": "code",
   "execution_count": 5,
   "id": "2d6c3958-bcb2-4552-a50d-925f1ce3886c",
   "metadata": {},
   "outputs": [
    {
     "data": {
      "text/html": [
       "<pre style=\"white-space:pre;overflow-x:auto;line-height:normal;font-family:Menlo,'DejaVu Sans Mono',consolas,'Courier New',monospace\"><span style=\"font-weight: bold\">(</span><span style=\"color: #008080; text-decoration-color: #008080; font-weight: bold\">7831</span>, <span style=\"color: #008080; text-decoration-color: #008080; font-weight: bold\">135</span><span style=\"font-weight: bold\">)</span>\n",
       "<span style=\"font-weight: bold\">(</span><span style=\"color: #008080; text-decoration-color: #008080; font-weight: bold\">7831</span>,<span style=\"font-weight: bold\">)</span>\n",
       "</pre>\n"
      ],
      "text/plain": [
       "\u001b[1m(\u001b[0m\u001b[1;36m7831\u001b[0m, \u001b[1;36m135\u001b[0m\u001b[1m)\u001b[0m\n",
       "\u001b[1m(\u001b[0m\u001b[1;36m7831\u001b[0m,\u001b[1m)\u001b[0m\n"
      ]
     },
     "metadata": {},
     "output_type": "display_data"
    }
   ],
   "source": [
    "y = tox_cast['label'].to_numpy().flatten()\n",
    "X = tox_cast.drop(columns=['label'], inplace=False).to_numpy()\n",
    "rprint(X.shape, y.shape)"
   ]
  },
  {
   "cell_type": "code",
   "execution_count": 6,
   "id": "85ab4f2b-6e27-4992-82df-c518ea45daf0",
   "metadata": {},
   "outputs": [
    {
     "data": {
      "text/plain": [
       "array([0., 1.])"
      ]
     },
     "execution_count": 6,
     "metadata": {},
     "output_type": "execute_result"
    }
   ],
   "source": [
    "np.unique(y)"
   ]
  },
  {
   "cell_type": "code",
   "execution_count": 7,
   "id": "15696fea-86c4-40e2-84b7-ce2164b0a188",
   "metadata": {},
   "outputs": [],
   "source": [
    "X_train, X_test, y_train, y_test = train_test_split(X, y, test_size=0.2, stratify=y)\n",
    "scaler = StandardScaler().fit(X_train)"
   ]
  },
  {
   "cell_type": "markdown",
   "id": "ebdd7239-5b3e-4f56-b05e-a06a84120396",
   "metadata": {},
   "source": [
    "#### Logistic Regression"
   ]
  },
  {
   "cell_type": "code",
   "execution_count": 8,
   "id": "ccb94fe3-4ccb-448a-81bf-e3aa54b904b0",
   "metadata": {},
   "outputs": [],
   "source": [
    "#building the model\n",
    "logistic_regression = LogisticRegression(max_iter=1000)"
   ]
  },
  {
   "cell_type": "code",
   "execution_count": 9,
   "id": "73047f87-b046-440b-b09c-845e5f45520b",
   "metadata": {},
   "outputs": [
    {
     "data": {
      "text/plain": [
       "LogisticRegression(max_iter=1000)"
      ]
     },
     "execution_count": 9,
     "metadata": {},
     "output_type": "execute_result"
    }
   ],
   "source": [
    "#train\n",
    "logistic_regression.fit(scaler.transform(X_train), y_train)"
   ]
  },
  {
   "cell_type": "code",
   "execution_count": 10,
   "id": "7b98771f-d34e-41b3-acbc-293f0e05202c",
   "metadata": {},
   "outputs": [],
   "source": [
    "#evaluation\n",
    "y_pred = logistic_regression.predict(scaler.transform(X_test))"
   ]
  },
  {
   "cell_type": "code",
   "execution_count": 11,
   "id": "caa29bc0-f958-4e68-8054-e648dea7cad6",
   "metadata": {},
   "outputs": [],
   "source": [
    "def generate_report(y_pred, y_test, title='model', target_names=['0', '1']):\n",
    "    \"\"\"\n",
    "        function to generate appropriate report based on predictions\n",
    "    \"\"\"\n",
    "    rprint('[red]' + title + f\" [black]recall score = {recall_score(y_test, y_pred):.4f}\")\n",
    "    rprint('[red]' + title + ' [black]classification report:')\n",
    "    rprint(classification_report(y_test, y_pred, target_names=target_names))\n",
    "    fpr, tpr, _ = roc_curve(y_test, y_pred)\n",
    "    auc = roc_auc_score(y_test, y_pred)\n",
    "    plt.figure(figsize=(8, 6))\n",
    "    plt.plot(fpr, tpr, 'b-')\n",
    "    plt.grid(True)\n",
    "    plt.title(title + f' Roc Curve auc_score = {auc:.2f}')\n",
    "    plt.show()"
   ]
  },
  {
   "cell_type": "code",
   "execution_count": 12,
   "id": "de42bf84-f6ec-4fd8-8f22-afcdd2f18562",
   "metadata": {},
   "outputs": [
    {
     "data": {
      "text/html": [
       "<pre style=\"white-space:pre;overflow-x:auto;line-height:normal;font-family:Menlo,'DejaVu Sans Mono',consolas,'Courier New',monospace\"><span style=\"color: #800000; text-decoration-color: #800000\">Logistic Regression </span><span style=\"color: #000000; text-decoration-color: #000000\">recall score = </span><span style=\"color: #000000; text-decoration-color: #000000; font-weight: bold\">0.4461</span>\n",
       "</pre>\n"
      ],
      "text/plain": [
       "\u001b[31mLogistic Regression \u001b[0m\u001b[30mrecall score = \u001b[0m\u001b[1;30m0.4461\u001b[0m\n"
      ]
     },
     "metadata": {},
     "output_type": "display_data"
    },
    {
     "data": {
      "text/html": [
       "<pre style=\"white-space:pre;overflow-x:auto;line-height:normal;font-family:Menlo,'DejaVu Sans Mono',consolas,'Courier New',monospace\"><span style=\"color: #800000; text-decoration-color: #800000\">Logistic Regression </span><span style=\"color: #000000; text-decoration-color: #000000\">classification report:</span>\n",
       "</pre>\n"
      ],
      "text/plain": [
       "\u001b[31mLogistic Regression \u001b[0m\u001b[30mclassification report:\u001b[0m\n"
      ]
     },
     "metadata": {},
     "output_type": "display_data"
    },
    {
     "data": {
      "text/html": [
       "<pre style=\"white-space:pre;overflow-x:auto;line-height:normal;font-family:Menlo,'DejaVu Sans Mono',consolas,'Courier New',monospace\">              precision    recall  f1-score   support\n",
       "\n",
       "           <span style=\"color: #008080; text-decoration-color: #008080; font-weight: bold\">0</span>       <span style=\"color: #008080; text-decoration-color: #008080; font-weight: bold\">0.86</span>      <span style=\"color: #008080; text-decoration-color: #008080; font-weight: bold\">0.94</span>      <span style=\"color: #008080; text-decoration-color: #008080; font-weight: bold\">0.89</span>      <span style=\"color: #008080; text-decoration-color: #008080; font-weight: bold\">1224</span>\n",
       "           <span style=\"color: #008080; text-decoration-color: #008080; font-weight: bold\">1</span>       <span style=\"color: #008080; text-decoration-color: #008080; font-weight: bold\">0.66</span>      <span style=\"color: #008080; text-decoration-color: #008080; font-weight: bold\">0.45</span>      <span style=\"color: #008080; text-decoration-color: #008080; font-weight: bold\">0.53</span>       <span style=\"color: #008080; text-decoration-color: #008080; font-weight: bold\">343</span>\n",
       "\n",
       "    accuracy                           <span style=\"color: #008080; text-decoration-color: #008080; font-weight: bold\">0.83</span>      <span style=\"color: #008080; text-decoration-color: #008080; font-weight: bold\">1567</span>\n",
       "   macro avg       <span style=\"color: #008080; text-decoration-color: #008080; font-weight: bold\">0.76</span>      <span style=\"color: #008080; text-decoration-color: #008080; font-weight: bold\">0.69</span>      <span style=\"color: #008080; text-decoration-color: #008080; font-weight: bold\">0.71</span>      <span style=\"color: #008080; text-decoration-color: #008080; font-weight: bold\">1567</span>\n",
       "weighted avg       <span style=\"color: #008080; text-decoration-color: #008080; font-weight: bold\">0.81</span>      <span style=\"color: #008080; text-decoration-color: #008080; font-weight: bold\">0.83</span>      <span style=\"color: #008080; text-decoration-color: #008080; font-weight: bold\">0.82</span>      <span style=\"color: #008080; text-decoration-color: #008080; font-weight: bold\">1567</span>\n",
       "\n",
       "</pre>\n"
      ],
      "text/plain": [
       "              precision    recall  f1-score   support\n",
       "\n",
       "           \u001b[1;36m0\u001b[0m       \u001b[1;36m0.86\u001b[0m      \u001b[1;36m0.94\u001b[0m      \u001b[1;36m0.89\u001b[0m      \u001b[1;36m1224\u001b[0m\n",
       "           \u001b[1;36m1\u001b[0m       \u001b[1;36m0.66\u001b[0m      \u001b[1;36m0.45\u001b[0m      \u001b[1;36m0.53\u001b[0m       \u001b[1;36m343\u001b[0m\n",
       "\n",
       "    accuracy                           \u001b[1;36m0.83\u001b[0m      \u001b[1;36m1567\u001b[0m\n",
       "   macro avg       \u001b[1;36m0.76\u001b[0m      \u001b[1;36m0.69\u001b[0m      \u001b[1;36m0.71\u001b[0m      \u001b[1;36m1567\u001b[0m\n",
       "weighted avg       \u001b[1;36m0.81\u001b[0m      \u001b[1;36m0.83\u001b[0m      \u001b[1;36m0.82\u001b[0m      \u001b[1;36m1567\u001b[0m\n",
       "\n"
      ]
     },
     "metadata": {},
     "output_type": "display_data"
    },
    {
     "data": {
      "image/png": "[encoded data removed]",
      "text/plain": [
       "<Figure size 576x432 with 1 Axes>"
      ]
     },
     "metadata": {},
     "output_type": "display_data"
    }
   ],
   "source": [
    "#report\n",
    "generate_report(y_pred, y_test, 'Logistic Regression')"
   ]
  },
  {
   "cell_type": "markdown",
   "id": "c720fe57-40a6-4401-af1a-fa2f611916cd",
   "metadata": {},
   "source": [
    "##### Cross-Validation "
   ]
  },
  {
   "cell_type": "code",
   "execution_count": 13,
   "id": "baa46457-f081-4fa4-9c71-3ed3d03192dc",
   "metadata": {},
   "outputs": [],
   "source": [
    "kfold = StratifiedKFold(n_splits=5, shuffle=True)\n",
    "fprs = []\n",
    "tprs = []\n",
    "accuracies = []\n",
    "recalls = []\n",
    "precisions = []\n",
    "f1_scores = []\n",
    "for train_indx, test_indx in kfold.split(X, y):\n",
    "    scaler = StandardScaler()\n",
    "    X_train, y_train = X[train_indx], y[train_indx]\n",
    "    X_test, y_test = X[test_indx], y[test_indx]\n",
    "    scaler.fit(X_train)\n",
    "    #building the model\n",
    "    logistic_regression = LogisticRegression(max_iter=1000)\n",
    "    #train\n",
    "    logistic_regression.fit(scaler.transform(X_train), y_train)\n",
    "    #evaluation\n",
    "    y_pred = logistic_regression.predict(scaler.transform(X_test))\n",
    "    f, t, _ = roc_curve(y_test, y_pred)\n",
    "    fprs.append(f)\n",
    "    tprs.append(t)\n",
    "    accuracies.append(accuracy_score(y_test, y_pred))\n",
    "    recalls.append(recall_score(y_test, y_pred))\n",
    "    precisions.append(precision_score(y_test, y_pred))\n",
    "    f1_scores.append(f1_score(y_test, y_pred))\n"
   ]
  },
  {
   "cell_type": "code",
   "execution_count": 14,
   "id": "30d53273-613c-4df3-b530-3626b107780d",
   "metadata": {},
   "outputs": [],
   "source": [
    "\n",
    "def generate_cv_results(fprs, tprs, accuracies, recalls, precisions, f1_scores, title):\n",
    "    df = pd.DataFrame.from_dict({\"k\":range(1, len(accuracies) + 1),\n",
    "                                'accuracy':accuracies,\n",
    "                                'recall':recalls,\n",
    "                                'precision':precisions,\n",
    "                                'f1':f1_scores})\n",
    "    plt.figure(figsize=(12, 10))\n",
    "    for k, (f, t) in enumerate(zip(fprs, tprs)):\n",
    "        plt.plot(f, t, label=f'k={k+1}')\n",
    "    plt.title(title + ' Roc Curve')\n",
    "    plt.legend(loc='best')\n",
    "    plt.show()\n",
    "    \n",
    "    return df\n",
    "    "
   ]
  },
  {
   "cell_type": "code",
   "execution_count": 15,
   "id": "33387abd-00c3-41ad-939a-40bc22bb7e7e",
   "metadata": {},
   "outputs": [
    {
     "data": {
      "image/png": "[encoded data removed]",
      "text/plain": [
       "<Figure size 864x720 with 1 Axes>"
      ]
     },
     "metadata": {},
     "output_type": "display_data"
    }
   ],
   "source": [
    "df_lgr = generate_cv_results(fprs, tprs, accuracies, recalls, precisions, f1_scores, 'Logistic Regression k-fold Cross Validation')"
   ]
  },
  {
   "cell_type": "code",
   "execution_count": 16,
   "id": "df5aca26-a45b-4b52-8335-e7b42f763cf3",
   "metadata": {},
   "outputs": [
    {
     "data": {
      "text/html": [
       "<pre style=\"white-space:pre;overflow-x:auto;line-height:normal;font-family:Menlo,'DejaVu Sans Mono',consolas,'Courier New',monospace\"><span style=\"color: #800000; text-decoration-color: #800000\">Logistic Regression's cross validation scores</span>\n",
       "</pre>\n"
      ],
      "text/plain": [
       "\u001b[31mLogistic Regression's cross validation scores\u001b[0m\n"
      ]
     },
     "metadata": {},
     "output_type": "display_data"
    },
    {
     "data": {
      "text/html": [
       "<div>\n",
       "<style scoped>\n",
       "    .dataframe tbody tr th:only-of-type {\n",
       "        vertical-align: middle;\n",
       "    }\n",
       "\n",
       "    .dataframe tbody tr th {\n",
       "        vertical-align: top;\n",
       "    }\n",
       "\n",
       "    .dataframe thead th {\n",
       "        text-align: right;\n",
       "    }\n",
       "</style>\n",
       "<table border=\"1\" class=\"dataframe\">\n",
       "  <thead>\n",
       "    <tr style=\"text-align: right;\">\n",
       "      <th></th>\n",
       "      <th>k</th>\n",
       "      <th>accuracy</th>\n",
       "      <th>recall</th>\n",
       "      <th>precision</th>\n",
       "      <th>f1</th>\n",
       "    </tr>\n",
       "  </thead>\n",
       "  <tbody>\n",
       "    <tr>\n",
       "      <th>0</th>\n",
       "      <td>1</td>\n",
       "      <td>0.827696</td>\n",
       "      <td>0.446064</td>\n",
       "      <td>0.656652</td>\n",
       "      <td>0.531250</td>\n",
       "    </tr>\n",
       "    <tr>\n",
       "      <th>1</th>\n",
       "      <td>2</td>\n",
       "      <td>0.826309</td>\n",
       "      <td>0.422741</td>\n",
       "      <td>0.662100</td>\n",
       "      <td>0.516014</td>\n",
       "    </tr>\n",
       "    <tr>\n",
       "      <th>2</th>\n",
       "      <td>3</td>\n",
       "      <td>0.837165</td>\n",
       "      <td>0.495627</td>\n",
       "      <td>0.674603</td>\n",
       "      <td>0.571429</td>\n",
       "    </tr>\n",
       "    <tr>\n",
       "      <th>3</th>\n",
       "      <td>4</td>\n",
       "      <td>0.826948</td>\n",
       "      <td>0.419825</td>\n",
       "      <td>0.666667</td>\n",
       "      <td>0.515206</td>\n",
       "    </tr>\n",
       "    <tr>\n",
       "      <th>4</th>\n",
       "      <td>5</td>\n",
       "      <td>0.818008</td>\n",
       "      <td>0.402332</td>\n",
       "      <td>0.633028</td>\n",
       "      <td>0.491979</td>\n",
       "    </tr>\n",
       "  </tbody>\n",
       "</table>\n",
       "</div>"
      ],
      "text/plain": [
       "   k  accuracy    recall  precision        f1\n",
       "0  1  0.827696  0.446064   0.656652  0.531250\n",
       "1  2  0.826309  0.422741   0.662100  0.516014\n",
       "2  3  0.837165  0.495627   0.674603  0.571429\n",
       "3  4  0.826948  0.419825   0.666667  0.515206\n",
       "4  5  0.818008  0.402332   0.633028  0.491979"
      ]
     },
     "execution_count": 16,
     "metadata": {},
     "output_type": "execute_result"
    }
   ],
   "source": [
    "rprint(\"[red]Logistic Regression's cross validation scores\")\n",
    "df_lgr"
   ]
  },
  {
   "cell_type": "markdown",
   "id": "12b2ba55-58f0-4107-829f-6c59f5d59205",
   "metadata": {},
   "source": [
    "#### Perceptron"
   ]
  },
  {
   "cell_type": "code",
   "execution_count": 17,
   "id": "a5c352b5-6b13-426c-a091-e7f2ff5749c0",
   "metadata": {},
   "outputs": [],
   "source": [
    "#building the model\n",
    "perceptron = Perceptron()"
   ]
  },
  {
   "cell_type": "code",
   "execution_count": 18,
   "id": "22d90162-7580-49d6-8e2f-0b7dac10968c",
   "metadata": {},
   "outputs": [],
   "source": [
    "X_train, X_test, y_train, y_test = train_test_split(X, y, test_size=0.2, stratify=y)\n",
    "scaler = StandardScaler().fit(X_train)"
   ]
  },
  {
   "cell_type": "code",
   "execution_count": 19,
   "id": "12f62f0c-92aa-4866-8b09-52f8ce84a045",
   "metadata": {},
   "outputs": [
    {
     "data": {
      "text/plain": [
       "Perceptron()"
      ]
     },
     "execution_count": 19,
     "metadata": {},
     "output_type": "execute_result"
    }
   ],
   "source": [
    "#train\n",
    "perceptron.fit(scaler.transform(X_train), y_train)"
   ]
  },
  {
   "cell_type": "code",
   "execution_count": 20,
   "id": "f7fc12b7-d553-4a5f-ac81-0c9392149770",
   "metadata": {},
   "outputs": [],
   "source": [
    "#evaluation\n",
    "y_pred = perceptron.predict(scaler.transform(X_test))"
   ]
  },
  {
   "cell_type": "code",
   "execution_count": 21,
   "id": "9a71f886-0e00-4ea7-bd50-c7111ff32fa9",
   "metadata": {},
   "outputs": [
    {
     "data": {
      "text/html": [
       "<pre style=\"white-space:pre;overflow-x:auto;line-height:normal;font-family:Menlo,'DejaVu Sans Mono',consolas,'Courier New',monospace\"><span style=\"color: #800000; text-decoration-color: #800000\">Perceptron </span><span style=\"color: #000000; text-decoration-color: #000000\">recall score = </span><span style=\"color: #000000; text-decoration-color: #000000; font-weight: bold\">0.4023</span>\n",
       "</pre>\n"
      ],
      "text/plain": [
       "\u001b[31mPerceptron \u001b[0m\u001b[30mrecall score = \u001b[0m\u001b[1;30m0.4023\u001b[0m\n"
      ]
     },
     "metadata": {},
     "output_type": "display_data"
    },
    {
     "data": {
      "text/html": [
       "<pre style=\"white-space:pre;overflow-x:auto;line-height:normal;font-family:Menlo,'DejaVu Sans Mono',consolas,'Courier New',monospace\"><span style=\"color: #800000; text-decoration-color: #800000\">Perceptron </span><span style=\"color: #000000; text-decoration-color: #000000\">classification report:</span>\n",
       "</pre>\n"
      ],
      "text/plain": [
       "\u001b[31mPerceptron \u001b[0m\u001b[30mclassification report:\u001b[0m\n"
      ]
     },
     "metadata": {},
     "output_type": "display_data"
    },
    {
     "data": {
      "text/html": [
       "<pre style=\"white-space:pre;overflow-x:auto;line-height:normal;font-family:Menlo,'DejaVu Sans Mono',consolas,'Courier New',monospace\">              precision    recall  f1-score   support\n",
       "\n",
       "           <span style=\"color: #008080; text-decoration-color: #008080; font-weight: bold\">0</span>       <span style=\"color: #008080; text-decoration-color: #008080; font-weight: bold\">0.84</span>      <span style=\"color: #008080; text-decoration-color: #008080; font-weight: bold\">0.86</span>      <span style=\"color: #008080; text-decoration-color: #008080; font-weight: bold\">0.85</span>      <span style=\"color: #008080; text-decoration-color: #008080; font-weight: bold\">1224</span>\n",
       "           <span style=\"color: #008080; text-decoration-color: #008080; font-weight: bold\">1</span>       <span style=\"color: #008080; text-decoration-color: #008080; font-weight: bold\">0.45</span>      <span style=\"color: #008080; text-decoration-color: #008080; font-weight: bold\">0.40</span>      <span style=\"color: #008080; text-decoration-color: #008080; font-weight: bold\">0.42</span>       <span style=\"color: #008080; text-decoration-color: #008080; font-weight: bold\">343</span>\n",
       "\n",
       "    accuracy                           <span style=\"color: #008080; text-decoration-color: #008080; font-weight: bold\">0.76</span>      <span style=\"color: #008080; text-decoration-color: #008080; font-weight: bold\">1567</span>\n",
       "   macro avg       <span style=\"color: #008080; text-decoration-color: #008080; font-weight: bold\">0.64</span>      <span style=\"color: #008080; text-decoration-color: #008080; font-weight: bold\">0.63</span>      <span style=\"color: #008080; text-decoration-color: #008080; font-weight: bold\">0.64</span>      <span style=\"color: #008080; text-decoration-color: #008080; font-weight: bold\">1567</span>\n",
       "weighted avg       <span style=\"color: #008080; text-decoration-color: #008080; font-weight: bold\">0.75</span>      <span style=\"color: #008080; text-decoration-color: #008080; font-weight: bold\">0.76</span>      <span style=\"color: #008080; text-decoration-color: #008080; font-weight: bold\">0.76</span>      <span style=\"color: #008080; text-decoration-color: #008080; font-weight: bold\">1567</span>\n",
       "\n",
       "</pre>\n"
      ],
      "text/plain": [
       "              precision    recall  f1-score   support\n",
       "\n",
       "           \u001b[1;36m0\u001b[0m       \u001b[1;36m0.84\u001b[0m      \u001b[1;36m0.86\u001b[0m      \u001b[1;36m0.85\u001b[0m      \u001b[1;36m1224\u001b[0m\n",
       "           \u001b[1;36m1\u001b[0m       \u001b[1;36m0.45\u001b[0m      \u001b[1;36m0.40\u001b[0m      \u001b[1;36m0.42\u001b[0m       \u001b[1;36m343\u001b[0m\n",
       "\n",
       "    accuracy                           \u001b[1;36m0.76\u001b[0m      \u001b[1;36m1567\u001b[0m\n",
       "   macro avg       \u001b[1;36m0.64\u001b[0m      \u001b[1;36m0.63\u001b[0m      \u001b[1;36m0.64\u001b[0m      \u001b[1;36m1567\u001b[0m\n",
       "weighted avg       \u001b[1;36m0.75\u001b[0m      \u001b[1;36m0.76\u001b[0m      \u001b[1;36m0.76\u001b[0m      \u001b[1;36m1567\u001b[0m\n",
       "\n"
      ]
     },
     "metadata": {},
     "output_type": "display_data"
    },
    {
     "data": {
      "image/png": "[encoded data removed]",
      "text/plain": [
       "<Figure size 576x432 with 1 Axes>"
      ]
     },
     "metadata": {},
     "output_type": "display_data"
    }
   ],
   "source": [
    "generate_report(y_pred, y_test, 'Perceptron')"
   ]
  },
  {
   "cell_type": "markdown",
   "id": "b5a93f09-642f-41ff-a4b1-05d50ee5e038",
   "metadata": {},
   "source": [
    "##### Cross Validation"
   ]
  },
  {
   "cell_type": "code",
   "execution_count": 22,
   "id": "5495973a-9b43-4af5-b718-154bb5047637",
   "metadata": {},
   "outputs": [],
   "source": [
    "kfold = StratifiedKFold(n_splits=5, shuffle=True)\n",
    "fprs = []\n",
    "tprs = []\n",
    "accuracies = []\n",
    "recalls = []\n",
    "precisions = []\n",
    "f1_scores = []\n",
    "for train_indx, test_indx in kfold.split(X, y):\n",
    "    scaler = StandardScaler()\n",
    "    X_train, y_train = X[train_indx], y[train_indx]\n",
    "    X_test, y_test = X[test_indx], y[test_indx]\n",
    "    scaler.fit(X_train)\n",
    "    #building the model\n",
    "    perceptron = Perceptron()\n",
    "    #train\n",
    "    perceptron.fit(scaler.transform(X_train), y_train)\n",
    "    #evaluation\n",
    "    y_pred = perceptron.predict(scaler.transform(X_test))\n",
    "    f, t, _ = roc_curve(y_test, y_pred)\n",
    "    fprs.append(f)\n",
    "    tprs.append(t)\n",
    "    accuracies.append(accuracy_score(y_test, y_pred))\n",
    "    recalls.append(recall_score(y_test, y_pred))\n",
    "    precisions.append(precision_score(y_test, y_pred))\n",
    "    f1_scores.append(f1_score(y_test, y_pred))\n"
   ]
  },
  {
   "cell_type": "code",
   "execution_count": 23,
   "id": "7e541525-b663-453d-96d7-0608a9331327",
   "metadata": {},
   "outputs": [
    {
     "data": {
      "image/png": "[encoded data removed]",
      "text/plain": [
       "<Figure size 864x720 with 1 Axes>"
      ]
     },
     "metadata": {},
     "output_type": "display_data"
    }
   ],
   "source": [
    "df_per = generate_cv_results(fprs, tprs, accuracies, recalls, precisions, f1_scores, 'Perceptron k-fold Cross Validation')"
   ]
  },
  {
   "cell_type": "code",
   "execution_count": 24,
   "id": "6a9c91f9-37eb-4055-aad0-18e60630fac7",
   "metadata": {},
   "outputs": [
    {
     "data": {
      "text/html": [
       "<pre style=\"white-space:pre;overflow-x:auto;line-height:normal;font-family:Menlo,'DejaVu Sans Mono',consolas,'Courier New',monospace\"><span style=\"color: #800000; text-decoration-color: #800000\">Perceptron's cross-validation results</span>\n",
       "</pre>\n"
      ],
      "text/plain": [
       "\u001b[31mPerceptron's cross-validation results\u001b[0m\n"
      ]
     },
     "metadata": {},
     "output_type": "display_data"
    },
    {
     "data": {
      "text/html": [
       "<div>\n",
       "<style scoped>\n",
       "    .dataframe tbody tr th:only-of-type {\n",
       "        vertical-align: middle;\n",
       "    }\n",
       "\n",
       "    .dataframe tbody tr th {\n",
       "        vertical-align: top;\n",
       "    }\n",
       "\n",
       "    .dataframe thead th {\n",
       "        text-align: right;\n",
       "    }\n",
       "</style>\n",
       "<table border=\"1\" class=\"dataframe\">\n",
       "  <thead>\n",
       "    <tr style=\"text-align: right;\">\n",
       "      <th></th>\n",
       "      <th>k</th>\n",
       "      <th>accuracy</th>\n",
       "      <th>recall</th>\n",
       "      <th>precision</th>\n",
       "      <th>f1</th>\n",
       "    </tr>\n",
       "  </thead>\n",
       "  <tbody>\n",
       "    <tr>\n",
       "      <th>0</th>\n",
       "      <td>1</td>\n",
       "      <td>0.767071</td>\n",
       "      <td>0.513120</td>\n",
       "      <td>0.470588</td>\n",
       "      <td>0.490934</td>\n",
       "    </tr>\n",
       "    <tr>\n",
       "      <th>1</th>\n",
       "      <td>2</td>\n",
       "      <td>0.759898</td>\n",
       "      <td>0.309038</td>\n",
       "      <td>0.432653</td>\n",
       "      <td>0.360544</td>\n",
       "    </tr>\n",
       "    <tr>\n",
       "      <th>2</th>\n",
       "      <td>3</td>\n",
       "      <td>0.766922</td>\n",
       "      <td>0.513120</td>\n",
       "      <td>0.470588</td>\n",
       "      <td>0.490934</td>\n",
       "    </tr>\n",
       "    <tr>\n",
       "      <th>3</th>\n",
       "      <td>4</td>\n",
       "      <td>0.791188</td>\n",
       "      <td>0.431487</td>\n",
       "      <td>0.528571</td>\n",
       "      <td>0.475120</td>\n",
       "    </tr>\n",
       "    <tr>\n",
       "      <th>4</th>\n",
       "      <td>5</td>\n",
       "      <td>0.742018</td>\n",
       "      <td>0.475219</td>\n",
       "      <td>0.421189</td>\n",
       "      <td>0.446575</td>\n",
       "    </tr>\n",
       "  </tbody>\n",
       "</table>\n",
       "</div>"
      ],
      "text/plain": [
       "   k  accuracy    recall  precision        f1\n",
       "0  1  0.767071  0.513120   0.470588  0.490934\n",
       "1  2  0.759898  0.309038   0.432653  0.360544\n",
       "2  3  0.766922  0.513120   0.470588  0.490934\n",
       "3  4  0.791188  0.431487   0.528571  0.475120\n",
       "4  5  0.742018  0.475219   0.421189  0.446575"
      ]
     },
     "execution_count": 24,
     "metadata": {},
     "output_type": "execute_result"
    }
   ],
   "source": [
    "rprint(\"[red]Perceptron's cross-validation results\")\n",
    "df_per"
   ]
  },
  {
   "cell_type": "code",
   "execution_count": null,
   "id": "f742fbaa-9a94-401b-9a27-9fc5896fa7a4",
   "metadata": {},
   "outputs": [],
   "source": []
  }
 ],
 "metadata": {
  "kernelspec": {
   "display_name": "Python 3 (ipykernel)",
   "language": "python",
   "name": "python3"
  },
  "language_info": {
   "codemirror_mode": {
    "name": "ipython",
    "version": 3
   },
   "file_extension": ".py",
   "mimetype": "text/x-python",
   "name": "python",
   "nbconvert_exporter": "python",
   "pygments_lexer": "ipython3",
   "version": "3.8.10"
  }
 },
 "nbformat": 4,
 "nbformat_minor": 5
}
