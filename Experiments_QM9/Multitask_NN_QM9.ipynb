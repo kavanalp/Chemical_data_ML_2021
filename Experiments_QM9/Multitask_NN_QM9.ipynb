{
  "nbformat": 4,
  "nbformat_minor": 0,
  "metadata": {
    "colab": {
      "name": "Multitask_NN QM9.ipynb",
      "provenance": [],
      "collapsed_sections": [],
      "mount_file_id": "1m12pcBIkt1jDwOdOnyClzcRaNoBDEKGy",
      "authorship_tag": "ABX9TyNfHh182h/v5y52r/RhpgCu",
      "include_colab_link": true
    },
    "kernelspec": {
      "name": "python3",
      "display_name": "Python 3"
    },
    "language_info": {
      "name": "python"
    },
    "accelerator": "GPU"
  },
  "cells": [
    {
      "cell_type": "markdown",
      "metadata": {
        "id": "view-in-github",
        "colab_type": "text"
      },
      "source": [
        "<a href=\"https://colab.research.google.com/github/panahiparham/mlclass_proj_f2021/blob/main/Experiments_QM9/Multitask_NN_QM9.ipynb\" target=\"_parent\"><img src=\"https://colab.research.google.com/assets/colab-badge.svg\" alt=\"Open In Colab\"/></a>"
      ]
    },
    {
      "cell_type": "code",
      "execution_count": 1,
      "metadata": {
        "id": "IzEh_P2DTg0U"
      },
      "outputs": [],
      "source": [
        "import numpy as np\n",
        "import tensorflow as tf\n",
        "from tensorflow import keras"
      ]
    },
    {
      "cell_type": "markdown",
      "source": [
        "Dataset load"
      ],
      "metadata": {
        "id": "NJ-P4i_gUVTv"
      }
    },
    {
      "cell_type": "code",
      "source": [
        "# path to QM9 features npy\n",
        "x_path = '/content/drive/MyDrive/Data Science @ SBU/Applied Machine Learning/project/qm9_preprocessed/qm9_features.npy'\n",
        "\n",
        "\n",
        "# path to QM9 labels npy\n",
        "y_path = '/content/drive/MyDrive/Data Science @ SBU/Applied Machine Learning/project/qm9_preprocessed/qm9_labels.npy'\n",
        "\n",
        "\n",
        "x = np.load(x_path)\n",
        "y = np.load(y_path) "
      ],
      "metadata": {
        "id": "ftbRM_n4TuvO"
      },
      "execution_count": 2,
      "outputs": []
    },
    {
      "cell_type": "code",
      "source": [
        "print('x shape:', x.shape, 'dtype:', x.dtype)\n",
        "print('y shape:', y.shape, 'dtype:', y.dtype)"
      ],
      "metadata": {
        "colab": {
          "base_uri": "https://localhost:8080/"
        },
        "id": "TEbHntSBT6A9",
        "outputId": "1dd7de83-b7a7-440f-dd83-e0d7169db3ab"
      },
      "execution_count": 3,
      "outputs": [
        {
          "output_type": "stream",
          "name": "stdout",
          "text": [
            "x shape: (133885, 163) dtype: float64\n",
            "y shape: (133885, 12) dtype: float64\n"
          ]
        }
      ]
    },
    {
      "cell_type": "markdown",
      "source": [
        "Single task neural network"
      ],
      "metadata": {
        "id": "p61gSrQfUXVN"
      }
    },
    {
      "cell_type": "code",
      "source": [
        "# task: gap (e_lumo - e_homo)\n",
        "y_raw = y[:,4]"
      ],
      "metadata": {
        "id": "svv5tB68US2e"
      },
      "execution_count": 4,
      "outputs": []
    },
    {
      "cell_type": "code",
      "source": [
        "print(y_raw.min())\n",
        "print(y_raw.max())"
      ],
      "metadata": {
        "colab": {
          "base_uri": "https://localhost:8080/"
        },
        "id": "6CYXt_ASUylm",
        "outputId": "9424f4f7-4485-4cba-84c4-8c08009b23f4"
      },
      "execution_count": 5,
      "outputs": [
        {
          "output_type": "stream",
          "name": "stdout",
          "text": [
            "0.0246\n",
            "0.6221\n"
          ]
        }
      ]
    },
    {
      "cell_type": "code",
      "source": [
        "x_raw = x.copy()"
      ],
      "metadata": {
        "id": "a3kTurezUzig"
      },
      "execution_count": 6,
      "outputs": []
    },
    {
      "cell_type": "code",
      "source": [
        "# train test split\n",
        "\n",
        "from sklearn.model_selection import train_test_split\n",
        "x_train, x_test, y_train, y_test = train_test_split(x_raw, y_raw, test_size=0.20, random_state=42)"
      ],
      "metadata": {
        "id": "eWYeJfH4Yil_"
      },
      "execution_count": 17,
      "outputs": []
    },
    {
      "cell_type": "code",
      "source": [
        "# model\n",
        "\n",
        "inputs = keras.Input(shape=(163,))\n",
        "d = keras.layers.Dense(32, activation='relu')(inputs)\n",
        "d = keras.layers.Dropout(0.25)(d)\n",
        "outputs = keras.layers.Dense(1, activation='relu')(d)\n",
        "\n",
        "\n",
        "model = keras.Model(inputs=inputs, outputs=outputs)\n",
        "\n",
        "model.summary()"
      ],
      "metadata": {
        "colab": {
          "base_uri": "https://localhost:8080/"
        },
        "id": "8TEdQmLpVGD2",
        "outputId": "5ff1a077-8a64-4b4f-d69a-84f006d97ab1"
      },
      "execution_count": 18,
      "outputs": [
        {
          "output_type": "stream",
          "name": "stdout",
          "text": [
            "Model: \"model_2\"\n",
            "_________________________________________________________________\n",
            " Layer (type)                Output Shape              Param #   \n",
            "=================================================================\n",
            " input_3 (InputLayer)        [(None, 163)]             0         \n",
            "                                                                 \n",
            " dense_4 (Dense)             (None, 32)                5248      \n",
            "                                                                 \n",
            " dropout_2 (Dropout)         (None, 32)                0         \n",
            "                                                                 \n",
            " dense_5 (Dense)             (None, 1)                 33        \n",
            "                                                                 \n",
            "=================================================================\n",
            "Total params: 5,281\n",
            "Trainable params: 5,281\n",
            "Non-trainable params: 0\n",
            "_________________________________________________________________\n"
          ]
        }
      ]
    },
    {
      "cell_type": "code",
      "source": [
        "model.compile(\n",
        "    loss=keras.losses.MSE,\n",
        "    optimizer=keras.optimizers.SGD(),\n",
        "    metrics=['mae']\n",
        ")"
      ],
      "metadata": {
        "id": "S0iGkRW_VYtp"
      },
      "execution_count": 19,
      "outputs": []
    },
    {
      "cell_type": "code",
      "source": [
        "# model performance before training\n",
        "model.evaluate(x_test,y_test)"
      ],
      "metadata": {
        "colab": {
          "base_uri": "https://localhost:8080/"
        },
        "id": "9iquUU4SZVtg",
        "outputId": "20d0bd98-409a-490a-a7cc-9942f96b393d"
      },
      "execution_count": 20,
      "outputs": [
        {
          "output_type": "stream",
          "name": "stdout",
          "text": [
            "837/837 [==============================] - 2s 2ms/step - loss: 0.0332 - mae: 0.1575\n"
          ]
        },
        {
          "output_type": "execute_result",
          "data": {
            "text/plain": [
              "[0.03323846310377121, 0.15752136707305908]"
            ]
          },
          "metadata": {},
          "execution_count": 20
        }
      ]
    },
    {
      "cell_type": "code",
      "source": [
        "history = model.fit(x_train, y_train, batch_size=16, epochs=10, validation_split=0.2)"
      ],
      "metadata": {
        "colab": {
          "base_uri": "https://localhost:8080/"
        },
        "id": "2boeIHBFW3uv",
        "outputId": "a61566cd-ce3b-4a0f-8b32-1cfa35a2a021"
      },
      "execution_count": 23,
      "outputs": [
        {
          "output_type": "stream",
          "name": "stdout",
          "text": [
            "Epoch 1/10\n",
            "5356/5356 [==============================] - 17s 3ms/step - loss: 0.0048 - mae: 0.0498 - val_loss: 0.0017 - val_mae: 0.0339\n",
            "Epoch 2/10\n",
            "5356/5356 [==============================] - 20s 4ms/step - loss: 0.0018 - mae: 0.0340 - val_loss: 0.0015 - val_mae: 0.0311\n",
            "Epoch 3/10\n",
            "5356/5356 [==============================] - 16s 3ms/step - loss: 0.0016 - mae: 0.0318 - val_loss: 0.0013 - val_mae: 0.0293\n",
            "Epoch 4/10\n",
            "5356/5356 [==============================] - 15s 3ms/step - loss: 0.0014 - mae: 0.0305 - val_loss: 0.0012 - val_mae: 0.0280\n",
            "Epoch 5/10\n",
            "5356/5356 [==============================] - 15s 3ms/step - loss: 0.0014 - mae: 0.0295 - val_loss: 0.0011 - val_mae: 0.0269\n",
            "Epoch 6/10\n",
            "5356/5356 [==============================] - 16s 3ms/step - loss: 0.0013 - mae: 0.0286 - val_loss: 0.0010 - val_mae: 0.0259\n",
            "Epoch 7/10\n",
            "5356/5356 [==============================] - 15s 3ms/step - loss: 0.0012 - mae: 0.0278 - val_loss: 9.8807e-04 - val_mae: 0.0251\n",
            "Epoch 8/10\n",
            "5356/5356 [==============================] - 16s 3ms/step - loss: 0.0012 - mae: 0.0271 - val_loss: 9.3759e-04 - val_mae: 0.0244\n",
            "Epoch 9/10\n",
            "5356/5356 [==============================] - 20s 4ms/step - loss: 0.0011 - mae: 0.0266 - val_loss: 9.0517e-04 - val_mae: 0.0239\n",
            "Epoch 10/10\n",
            "5356/5356 [==============================] - 17s 3ms/step - loss: 0.0011 - mae: 0.0262 - val_loss: 8.6708e-04 - val_mae: 0.0233\n"
          ]
        }
      ]
    },
    {
      "cell_type": "code",
      "source": [
        "# model performance after training\n",
        "model.evaluate(x_test,y_test)"
      ],
      "metadata": {
        "colab": {
          "base_uri": "https://localhost:8080/"
        },
        "id": "Fo5akAUobPmX",
        "outputId": "6447783f-62e5-4784-8eeb-d5e4c14ca3e4"
      },
      "execution_count": 24,
      "outputs": [
        {
          "output_type": "stream",
          "name": "stdout",
          "text": [
            "837/837 [==============================] - 3s 3ms/step - loss: 8.7404e-04 - mae: 0.0233\n"
          ]
        },
        {
          "output_type": "execute_result",
          "data": {
            "text/plain": [
              "[0.0008740443736314774, 0.0232991985976696]"
            ]
          },
          "metadata": {},
          "execution_count": 24
        }
      ]
    },
    {
      "cell_type": "markdown",
      "source": [
        "Multi Task Neural Network"
      ],
      "metadata": {
        "id": "lOaBNR6cbzb3"
      }
    },
    {
      "cell_type": "code",
      "source": [
        "y_raw = y.copy()\n",
        "\n",
        "for i in range(y_raw.shape[1]):\n",
        "  print(f'task {i}:   min:{y_raw[:,i].min()}, max{y_raw[:,i].max()}')"
      ],
      "metadata": {
        "colab": {
          "base_uri": "https://localhost:8080/"
        },
        "id": "l5KVPkIdb0vn",
        "outputId": "2bcde3a7-0a0e-418f-b2a9-404da06ee85a"
      },
      "execution_count": 27,
      "outputs": [
        {
          "output_type": "stream",
          "name": "stdout",
          "text": [
            "task 0:   min:0.0, max29.5564\n",
            "task 1:   min:6.31, max196.62\n",
            "task 2:   min:-0.4286, max-0.1017\n",
            "task 3:   min:-0.175, max0.1935\n",
            "task 4:   min:0.0246, max0.6221\n",
            "task 5:   min:19.0002, max3374.7532\n",
            "task 6:   min:0.015951, max0.273944\n",
            "task 7:   min:6.002, max46.969\n",
            "task 8:   min:-714.568061, max-40.47893\n",
            "task 9:   min:-714.560153, max-40.476062\n",
            "task 10:   min:-714.559209, max-40.475117\n",
            "task 11:   min:-714.602138, max-40.498597\n"
          ]
        }
      ]
    },
    {
      "cell_type": "markdown",
      "source": [
        "some values are negative, final activation must be linear"
      ],
      "metadata": {
        "id": "bP32u_7Hco-A"
      }
    },
    {
      "cell_type": "markdown",
      "source": [
        "experiment 1: multitask without label scaling"
      ],
      "metadata": {
        "id": "bwFFZx5EcuKj"
      }
    },
    {
      "cell_type": "code",
      "source": [
        "np.random.seed(42)\n",
        "tf.random.set_seed(42)"
      ],
      "metadata": {
        "id": "x-gpWInrjTjD"
      },
      "execution_count": 78,
      "outputs": []
    },
    {
      "cell_type": "code",
      "source": [
        "x_raw = x.copy()\n",
        "# train test split\n",
        "x_train, x_test, y_train, y_test = train_test_split(x_raw, y_raw, test_size=0.20, random_state=42)"
      ],
      "metadata": {
        "id": "WYHTSUgWcelN"
      },
      "execution_count": 79,
      "outputs": []
    },
    {
      "cell_type": "code",
      "source": [
        "x_train.shape"
      ],
      "metadata": {
        "colab": {
          "base_uri": "https://localhost:8080/"
        },
        "id": "_PlmHvZMc5gV",
        "outputId": "a02b2b3a-0fcc-4258-dca3-df5d4a16ed87"
      },
      "execution_count": 80,
      "outputs": [
        {
          "output_type": "execute_result",
          "data": {
            "text/plain": [
              "(107108, 163)"
            ]
          },
          "metadata": {},
          "execution_count": 80
        }
      ]
    },
    {
      "cell_type": "code",
      "source": [
        "y_train.shape"
      ],
      "metadata": {
        "colab": {
          "base_uri": "https://localhost:8080/"
        },
        "id": "Qrjmj7sWc7jj",
        "outputId": "701e4de8-c99f-45f2-a037-2d3a6828c053"
      },
      "execution_count": 81,
      "outputs": [
        {
          "output_type": "execute_result",
          "data": {
            "text/plain": [
              "(107108, 12)"
            ]
          },
          "metadata": {},
          "execution_count": 81
        }
      ]
    },
    {
      "cell_type": "code",
      "source": [
        "# model\n",
        "\n",
        "inputs = keras.Input(shape=(163,))\n",
        "d = keras.layers.Dense(32, activation='relu')(inputs)\n",
        "d = keras.layers.Dropout(0.25)(d)\n",
        "outputs = keras.layers.Dense(12, activation='linear')(d)\n",
        "\n",
        "\n",
        "model = keras.Model(inputs=inputs, outputs=outputs)\n",
        "\n",
        "model.summary()"
      ],
      "metadata": {
        "colab": {
          "base_uri": "https://localhost:8080/"
        },
        "id": "mlyOIaP4c8nD",
        "outputId": "4879819e-cbd7-463f-9e53-bef0697c5091"
      },
      "execution_count": 82,
      "outputs": [
        {
          "output_type": "stream",
          "name": "stdout",
          "text": [
            "Model: \"model_5\"\n",
            "_________________________________________________________________\n",
            " Layer (type)                Output Shape              Param #   \n",
            "=================================================================\n",
            " input_6 (InputLayer)        [(None, 163)]             0         \n",
            "                                                                 \n",
            " dense_10 (Dense)            (None, 32)                5248      \n",
            "                                                                 \n",
            " dropout_5 (Dropout)         (None, 32)                0         \n",
            "                                                                 \n",
            " dense_11 (Dense)            (None, 12)                396       \n",
            "                                                                 \n",
            "=================================================================\n",
            "Total params: 5,644\n",
            "Trainable params: 5,644\n",
            "Non-trainable params: 0\n",
            "_________________________________________________________________\n"
          ]
        }
      ]
    },
    {
      "cell_type": "code",
      "source": [
        "model.compile(\n",
        "    loss=keras.losses.MSE,\n",
        "    optimizer=keras.optimizers.SGD(),\n",
        "    metrics=['mae']\n",
        ")"
      ],
      "metadata": {
        "id": "4BsZ2efDdFg-"
      },
      "execution_count": 83,
      "outputs": []
    },
    {
      "cell_type": "code",
      "source": [
        "# model performance before training\n",
        "_, pre_mae = model.evaluate(x_test,y_test)"
      ],
      "metadata": {
        "colab": {
          "base_uri": "https://localhost:8080/"
        },
        "id": "LY2WDMBkdLTR",
        "outputId": "839515b9-7252-41b0-c47b-d87366f79c93"
      },
      "execution_count": 85,
      "outputs": [
        {
          "output_type": "stream",
          "name": "stdout",
          "text": [
            "837/837 [==============================] - 2s 2ms/step - loss: 182050.7500 - mae: 245.4659\n"
          ]
        }
      ]
    },
    {
      "cell_type": "code",
      "source": [
        "history = model.fit(x_train, y_train, batch_size=16, epochs=10, validation_split=0.2)"
      ],
      "metadata": {
        "colab": {
          "base_uri": "https://localhost:8080/"
        },
        "id": "xyUIfCm5dQPE",
        "outputId": "d26c3acc-019f-45f6-a7be-797a991a3920"
      },
      "execution_count": 87,
      "outputs": [
        {
          "output_type": "stream",
          "name": "stdout",
          "text": [
            "Epoch 1/10\n",
            "5356/5356 [==============================] - 18s 3ms/step - loss: 18322.3398 - mae: 47.1497 - val_loss: 6980.4438 - val_mae: 27.9728\n",
            "Epoch 2/10\n",
            "5356/5356 [==============================] - 16s 3ms/step - loss: 7059.2583 - mae: 28.0816 - val_loss: 6980.0532 - val_mae: 27.9870\n",
            "Epoch 3/10\n",
            "5356/5356 [==============================] - 16s 3ms/step - loss: 7059.0308 - mae: 28.0845 - val_loss: 6980.0991 - val_mae: 27.9815\n",
            "Epoch 4/10\n",
            "5356/5356 [==============================] - 17s 3ms/step - loss: 7059.1904 - mae: 28.0779 - val_loss: 6979.8594 - val_mae: 28.0180\n",
            "Epoch 5/10\n",
            "5356/5356 [==============================] - 18s 3ms/step - loss: 7058.7520 - mae: 28.0888 - val_loss: 6980.1714 - val_mae: 27.9777\n",
            "Epoch 6/10\n",
            "5356/5356 [==============================] - 15s 3ms/step - loss: 7059.2188 - mae: 28.0784 - val_loss: 6979.8818 - val_mae: 28.0138\n",
            "Epoch 7/10\n",
            "5356/5356 [==============================] - 14s 3ms/step - loss: 7058.9751 - mae: 28.0860 - val_loss: 6980.0615 - val_mae: 27.9831\n",
            "Epoch 8/10\n",
            "5356/5356 [==============================] - 14s 3ms/step - loss: 7059.1309 - mae: 28.0811 - val_loss: 6979.8530 - val_mae: 27.9994\n",
            "Epoch 9/10\n",
            "5356/5356 [==============================] - 14s 3ms/step - loss: 7059.1890 - mae: 28.0824 - val_loss: 6979.8511 - val_mae: 28.0058\n",
            "Epoch 10/10\n",
            "5356/5356 [==============================] - 14s 3ms/step - loss: 7058.9263 - mae: 28.0855 - val_loss: 6980.0054 - val_mae: 27.9855\n"
          ]
        }
      ]
    },
    {
      "cell_type": "code",
      "source": [
        "# model performance after training\n",
        "_, post_mae = model.evaluate(x_test,y_test)"
      ],
      "metadata": {
        "colab": {
          "base_uri": "https://localhost:8080/"
        },
        "id": "RlXTNMwgdUvv",
        "outputId": "85cdf817-232f-4c23-eadf-b4f00ec98c4b"
      },
      "execution_count": 92,
      "outputs": [
        {
          "output_type": "stream",
          "name": "stdout",
          "text": [
            "837/837 [==============================] - 2s 2ms/step - loss: 7149.0059 - mae: 28.1898\n"
          ]
        }
      ]
    },
    {
      "cell_type": "code",
      "source": [
        "(pre_mae - post_mae) / pre_mae"
      ],
      "metadata": {
        "colab": {
          "base_uri": "https://localhost:8080/"
        },
        "id": "NKMxwL7bhxir",
        "outputId": "16ac2f4e-419e-4f6d-8a30-352d3ef099db"
      },
      "execution_count": 93,
      "outputs": [
        {
          "output_type": "execute_result",
          "data": {
            "text/plain": [
              "0.8851581098749531"
            ]
          },
          "metadata": {},
          "execution_count": 93
        }
      ]
    },
    {
      "cell_type": "markdown",
      "source": [
        "experiment 2: multitask with label scaling"
      ],
      "metadata": {
        "id": "gFEC2Hp6ddZ-"
      }
    },
    {
      "cell_type": "code",
      "source": [
        "np.random.seed(42)\n",
        "tf.random.set_seed(42)"
      ],
      "metadata": {
        "id": "aarW0kszj5w8"
      },
      "execution_count": 94,
      "outputs": []
    },
    {
      "cell_type": "code",
      "source": [
        "y_raw = y.copy()\n",
        "x_raw = x.copy()\n",
        "# train test split\n",
        "x_train, x_test, y_train, y_test = train_test_split(x_raw, y_raw, test_size=0.20, random_state=42)"
      ],
      "metadata": {
        "id": "inZ2ETJveIxa"
      },
      "execution_count": 95,
      "outputs": []
    },
    {
      "cell_type": "code",
      "source": [
        "scale_factor = y_train.max(axis=0) - y_train.min(axis=0)\n",
        "scale_shift = y_train.min(axis=0)"
      ],
      "metadata": {
        "id": "2aWmbHl8ef87"
      },
      "execution_count": 96,
      "outputs": []
    },
    {
      "cell_type": "code",
      "source": [
        "y_train_scaled =  ((y_train - scale_shift) / scale_factor)"
      ],
      "metadata": {
        "id": "91h9QzCrelGK"
      },
      "execution_count": 97,
      "outputs": []
    },
    {
      "cell_type": "code",
      "source": [
        "print(y_train_scaled.min())\n",
        "print(y_train_scaled.max())"
      ],
      "metadata": {
        "colab": {
          "base_uri": "https://localhost:8080/"
        },
        "id": "lzy3hpcofGfQ",
        "outputId": "2aad6571-34d4-4c0e-c5c5-46b9cfd64f9c"
      },
      "execution_count": 98,
      "outputs": [
        {
          "output_type": "stream",
          "name": "stdout",
          "text": [
            "0.0\n",
            "1.0\n"
          ]
        }
      ]
    },
    {
      "cell_type": "code",
      "source": [
        "# scale test set with train scaling values\n",
        "y_test_scaled =  ((y_test - scale_shift) / scale_factor)"
      ],
      "metadata": {
        "id": "DqRZxC3Mftc0"
      },
      "execution_count": 99,
      "outputs": []
    },
    {
      "cell_type": "code",
      "source": [
        "print(y_test_scaled.min())\n",
        "print(y_test_scaled.max())"
      ],
      "metadata": {
        "colab": {
          "base_uri": "https://localhost:8080/"
        },
        "id": "dvioYD1efnTG",
        "outputId": "aea2f571-7866-4a50-a360-07fb8c82e19a"
      },
      "execution_count": 100,
      "outputs": [
        {
          "output_type": "stream",
          "name": "stdout",
          "text": [
            "-0.16486912953997138\n",
            "1.028406625377702\n"
          ]
        }
      ]
    },
    {
      "cell_type": "code",
      "source": [
        "# model\n",
        "\n",
        "inputs = keras.Input(shape=(163,))\n",
        "d = keras.layers.Dense(32, activation='relu')(inputs)\n",
        "d = keras.layers.Dropout(0.25)(d)\n",
        "outputs = keras.layers.Dense(12, activation='linear')(d)\n",
        "\n",
        "\n",
        "model = keras.Model(inputs=inputs, outputs=outputs)\n",
        "\n",
        "model.summary()"
      ],
      "metadata": {
        "colab": {
          "base_uri": "https://localhost:8080/"
        },
        "id": "JyS2lOGDfwVi",
        "outputId": "51590629-0225-4210-a6ce-1b40983c2e06"
      },
      "execution_count": 101,
      "outputs": [
        {
          "output_type": "stream",
          "name": "stdout",
          "text": [
            "Model: \"model_6\"\n",
            "_________________________________________________________________\n",
            " Layer (type)                Output Shape              Param #   \n",
            "=================================================================\n",
            " input_7 (InputLayer)        [(None, 163)]             0         \n",
            "                                                                 \n",
            " dense_12 (Dense)            (None, 32)                5248      \n",
            "                                                                 \n",
            " dropout_6 (Dropout)         (None, 32)                0         \n",
            "                                                                 \n",
            " dense_13 (Dense)            (None, 12)                396       \n",
            "                                                                 \n",
            "=================================================================\n",
            "Total params: 5,644\n",
            "Trainable params: 5,644\n",
            "Non-trainable params: 0\n",
            "_________________________________________________________________\n"
          ]
        }
      ]
    },
    {
      "cell_type": "code",
      "source": [
        "model.compile(\n",
        "    loss=keras.losses.MSE,\n",
        "    optimizer=keras.optimizers.SGD(),\n",
        "    metrics=['mae']\n",
        ")"
      ],
      "metadata": {
        "id": "5WhKogk1gFtF"
      },
      "execution_count": 102,
      "outputs": []
    },
    {
      "cell_type": "code",
      "source": [
        "# model performance before training\n",
        "_, pre_mae = model.evaluate(x_test,y_test_scaled)"
      ],
      "metadata": {
        "colab": {
          "base_uri": "https://localhost:8080/"
        },
        "id": "6YvC4AafgIZH",
        "outputId": "04b04738-eb31-4018-da3b-d924b00acfbd"
      },
      "execution_count": 103,
      "outputs": [
        {
          "output_type": "stream",
          "name": "stdout",
          "text": [
            "837/837 [==============================] - 2s 2ms/step - loss: 0.3271 - mae: 0.4665\n"
          ]
        }
      ]
    },
    {
      "cell_type": "code",
      "source": [
        "history = model.fit(x_train, y_train_scaled, batch_size=16, epochs=10, validation_split=0.2)"
      ],
      "metadata": {
        "colab": {
          "base_uri": "https://localhost:8080/"
        },
        "id": "8f2LnFBcgNaj",
        "outputId": "ea668600-e0d3-4509-d7d8-e0db600ee266"
      },
      "execution_count": 104,
      "outputs": [
        {
          "output_type": "stream",
          "name": "stdout",
          "text": [
            "Epoch 1/10\n",
            "5356/5356 [==============================] - 16s 3ms/step - loss: 0.0220 - mae: 0.1082 - val_loss: 0.0062 - val_mae: 0.0599\n",
            "Epoch 2/10\n",
            "5356/5356 [==============================] - 14s 3ms/step - loss: 0.0069 - mae: 0.0630 - val_loss: 0.0052 - val_mae: 0.0538\n",
            "Epoch 3/10\n",
            "5356/5356 [==============================] - 15s 3ms/step - loss: 0.0057 - mae: 0.0566 - val_loss: 0.0050 - val_mae: 0.0524\n",
            "Epoch 4/10\n",
            "5356/5356 [==============================] - 15s 3ms/step - loss: 0.0054 - mae: 0.0550 - val_loss: 0.0048 - val_mae: 0.0515\n",
            "Epoch 5/10\n",
            "5356/5356 [==============================] - 14s 3ms/step - loss: 0.0053 - mae: 0.0541 - val_loss: 0.0047 - val_mae: 0.0507\n",
            "Epoch 6/10\n",
            "5356/5356 [==============================] - 14s 3ms/step - loss: 0.0052 - mae: 0.0535 - val_loss: 0.0046 - val_mae: 0.0500\n",
            "Epoch 7/10\n",
            "5356/5356 [==============================] - 14s 3ms/step - loss: 0.0051 - mae: 0.0529 - val_loss: 0.0045 - val_mae: 0.0494\n",
            "Epoch 8/10\n",
            "5356/5356 [==============================] - 14s 3ms/step - loss: 0.0050 - mae: 0.0524 - val_loss: 0.0044 - val_mae: 0.0489\n",
            "Epoch 9/10\n",
            "5356/5356 [==============================] - 15s 3ms/step - loss: 0.0049 - mae: 0.0520 - val_loss: 0.0043 - val_mae: 0.0485\n",
            "Epoch 10/10\n",
            "5356/5356 [==============================] - 15s 3ms/step - loss: 0.0048 - mae: 0.0516 - val_loss: 0.0042 - val_mae: 0.0480\n"
          ]
        }
      ]
    },
    {
      "cell_type": "code",
      "source": [
        "# model performance after training\n",
        "_, post_mae = model.evaluate(x_test,y_test_scaled)"
      ],
      "metadata": {
        "colab": {
          "base_uri": "https://localhost:8080/"
        },
        "id": "xWYlpaXmgUu8",
        "outputId": "79fdd5d2-d596-4922-eadb-5f1080693288"
      },
      "execution_count": 105,
      "outputs": [
        {
          "output_type": "stream",
          "name": "stdout",
          "text": [
            "837/837 [==============================] - 2s 2ms/step - loss: 0.0042 - mae: 0.0481\n"
          ]
        }
      ]
    },
    {
      "cell_type": "code",
      "source": [
        "(pre_mae - post_mae) / pre_mae"
      ],
      "metadata": {
        "colab": {
          "base_uri": "https://localhost:8080/"
        },
        "id": "2C-IKxBPg7gZ",
        "outputId": "7f8342ba-51cc-4149-cde7-e967d7e5cf50"
      },
      "execution_count": 106,
      "outputs": [
        {
          "output_type": "execute_result",
          "data": {
            "text/plain": [
              "0.8969096530981241"
            ]
          },
          "metadata": {},
          "execution_count": 106
        }
      ]
    },
    {
      "cell_type": "markdown",
      "source": [
        "Scaling labels in this configuration had a very minor positive effect"
      ],
      "metadata": {
        "id": "cfnEZhmUl4QS"
      }
    },
    {
      "cell_type": "code",
      "source": [
        ""
      ],
      "metadata": {
        "id": "EC7zb9Vlk8A0"
      },
      "execution_count": null,
      "outputs": []
    }
  ]
}